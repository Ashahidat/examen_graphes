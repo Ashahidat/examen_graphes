{
 "cells": [
  {
   "cell_type": "markdown",
   "id": "ee2bb0d5",
   "metadata": {},
   "source": [
    " Introduction\n",
    "Cette analyse explore le réseau d'intermédiaires offshore des Paradise Papers via une approche de graphe. Nous identifions les acteurs clés, leurs typologies et les dynamiques transnationales à travers des métriques de centralité et la détection de communautés."
   ]
  },
  {
   "cell_type": "markdown",
   "id": "16e3b996",
   "metadata": {},
   "source": [
    " A. Imports et Configuration Neo4j "
   ]
  },
  {
   "cell_type": "markdown",
   "id": "a7f7e48e",
   "metadata": {},
   "source": [
    " A.1 Imports des bibliothèques"
   ]
  },
  {
   "cell_type": "code",
   "execution_count": 73,
   "id": "79a22fb2",
   "metadata": {},
   "outputs": [],
   "source": [
    "import pandas as pd\n",
    "import networkx as nx # Still needed for local graph manipulation and algorithms\n",
    "import plotly.graph_objects as go\n",
    "import igraph as ig\n",
    "import leidenalg\n",
    "import numpy as np\n",
    "from collections import Counter\n",
    "from neo4j import GraphDatabase, basic_auth # 👈 NEW: Neo4j Driver"
   ]
  },
  {
   "cell_type": "markdown",
   "id": "bd94447f",
   "metadata": {},
   "source": [
    " Configuration des chemins de données "
   ]
  },
  {
   "cell_type": "code",
   "execution_count": 74,
   "id": "cc8c104f",
   "metadata": {},
   "outputs": [],
   "source": [
    "nodes_path = r\"C:\\Users\\Ashahi\\Desktop\\Graph\\examen\\subgraphs_narratives\\subgraph_1_intermediaries_nodes.csv\"\n",
    "edges_path = r\"C:\\Users\\Ashahi\\Desktop\\Graph\\examen\\subgraphs_narratives\\subgraph_1_intermediaries_edges.csv\""
   ]
  },
  {
   "cell_type": "markdown",
   "id": "ed51c715",
   "metadata": {},
   "source": [
    " Connexion à la base Neo4j"
   ]
  },
  {
   "cell_type": "code",
   "execution_count": 75,
   "id": "9490c7fd",
   "metadata": {},
   "outputs": [
    {
     "name": "stdout",
     "output_type": "stream",
     "text": [
      "Connexion à Neo4j établie.\n"
     ]
    }
   ],
   "source": [
    "URI = \"bolt://localhost:7687\"\n",
    "USER = \"neo4j\"\n",
    "PASSWORD = \"555555555\" \n",
    "\n",
    "driver = GraphDatabase.driver(URI, auth=basic_auth(USER, PASSWORD))\n",
    "print(\"Connexion à Neo4j établie.\")"
   ]
  },
  {
   "cell_type": "markdown",
   "id": "ed148d53",
   "metadata": {},
   "source": [
    "  B. Ingestion et préparations des données"
   ]
  },
  {
   "cell_type": "markdown",
   "id": "b020723d",
   "metadata": {},
   "source": [
    " Nettoyage et initialisation de la base"
   ]
  },
  {
   "cell_type": "markdown",
   "id": "80af9e10",
   "metadata": {},
   "source": [
    " Wrapper générique pour exécuter une requête Cypher"
   ]
  },
  {
   "cell_type": "code",
   "execution_count": 76,
   "id": "515fedb7",
   "metadata": {},
   "outputs": [],
   "source": [
    "def execute_cypher(tx, query, params=None):\n",
    "    if params is None:\n",
    "        result = tx.run(query)\n",
    "    else:\n",
    "        result = tx.run(query, params)\n",
    "    return [record for record in result]"
   ]
  },
  {
   "cell_type": "markdown",
   "id": "d14539b6",
   "metadata": {},
   "source": [
    " Nettoyage - optimisation - importation des nœuds et arrêtes"
   ]
  },
  {
   "cell_type": "code",
   "execution_count": 77,
   "id": "f606b487",
   "metadata": {},
   "outputs": [
    {
     "name": "stdout",
     "output_type": "stream",
     "text": [
      "🧹 Base Neo4j nettoyée.\n",
      "⚙️ Index créé sur :Node(node_id).\n",
      "✅ 800 nœuds importés ou mis à jour.\n",
      "✅ 5348 arêtes importées ou mises à jour.\n",
      "Ingestion terminée avec succès.\n"
     ]
    }
   ],
   "source": [
    "def setup_neo4j(driver, nodes_path, edges_path):\n",
    "    with driver.session() as session:\n",
    "        # 1️⃣ Nettoyage complet \n",
    "        session.execute_write(execute_cypher, \"MATCH (n) DETACH DELETE n\")\n",
    "        print(\"🧹 Base Neo4j nettoyée.\")\n",
    "\n",
    "        # 2️⃣ Création d’un index sur node_id (optimisation)\n",
    "        session.execute_write(execute_cypher, \"CREATE INDEX node_id_index IF NOT EXISTS FOR (n:Node) ON (n.node_id)\")\n",
    "        print(\"⚙️ Index créé sur :Node(node_id).\")\n",
    "\n",
    "        # 3️⃣ Importation des Nœuds\n",
    "        nodes_df = pd.read_csv(nodes_path, low_memory=False).fillna('')\n",
    "        node_id_col = next((c for c in nodes_df.columns if c.lower() in (\"id\", \"node_id\", \"node\")), nodes_df.columns[0])\n",
    "        node_params = nodes_df.rename(columns={node_id_col: 'node_id'}).to_dict('records')\n",
    "\n",
    "        create_nodes_query = \"\"\"\n",
    "        UNWIND $props_list AS props\n",
    "        MERGE (n:Node {node_id: toString(props.node_id)})\n",
    "        SET n += apoc.map.clean(props, ['node_id'], [\"\"])\n",
    "        \"\"\"\n",
    "\n",
    "        session.execute_write(execute_cypher, create_nodes_query, {\"props_list\": node_params})\n",
    "        print(f\"✅ {len(nodes_df)} nœuds importés ou mis à jour.\")\n",
    "\n",
    "        # 4️⃣ Importation des Arêtes\n",
    "        edges_df = pd.read_csv(edges_path, low_memory=False).fillna('')\n",
    "        src_col = next((c for c in edges_df.columns if c.lower() in (\"source\", \"from\", \"node_id_start\")), edges_df.columns[0])\n",
    "        tgt_col = next((c for c in edges_df.columns if c.lower() in (\"target\", \"to\", \"node_id_end\")), edges_df.columns[1])\n",
    "        edge_params = edges_df.rename(columns={src_col: 'source_id', tgt_col: 'target_id'}).to_dict('records')\n",
    "\n",
    "        create_edges_query = \"\"\"\n",
    "        UNWIND $props_list AS props\n",
    "        MATCH (a:Node {node_id: toString(props.source_id)})\n",
    "        MATCH (b:Node {node_id: toString(props.target_id)})\n",
    "        MERGE (a)-[r:RELATED]->(b)\n",
    "        SET r += apoc.map.clean(props, ['source_id', 'target_id'], [\"\"])\n",
    "        \"\"\"\n",
    "\n",
    "        session.execute_write(execute_cypher, create_edges_query, {\"props_list\": edge_params})\n",
    "        print(f\"✅ {len(edges_df)} arêtes importées ou mises à jour.\")\n",
    "\n",
    "    print(\"Ingestion terminée avec succès.\")\n",
    "    \n",
    "setup_neo4j(driver, nodes_path, edges_path)"
   ]
  },
  {
   "cell_type": "markdown",
   "id": "841e9b51",
   "metadata": {},
   "source": [
    " C. Analyse des centralités avec Neo4j GDS"
   ]
  },
  {
   "cell_type": "code",
   "execution_count": 78,
   "id": "7efcd0f5",
   "metadata": {},
   "outputs": [
    {
     "name": "stdout",
     "output_type": "stream",
     "text": [
      "Ancien graphe 'myGraph' supprimé.\n",
      "✅ Graphe projeté 'myGraph' créé.\n",
      "✅ Degree Centrality calculée et écrite.\n"
     ]
    },
    {
     "name": "stderr",
     "output_type": "stream",
     "text": [
      "Received notification from DBMS server: {severity: WARNING} {code: Neo.ClientNotification.Statement.FeatureDeprecationWarning} {category: DEPRECATION} {title: This feature is deprecated and will be removed in future versions.} {description: The query used a deprecated field from a procedure. ('schema' returned by 'gds.graph.drop' is deprecated.)} {position: line: 1, column: 1, offset: 0} for query: \"CALL gds.graph.drop('myGraph')\"\n"
     ]
    },
    {
     "name": "stdout",
     "output_type": "stream",
     "text": [
      "✅ Betweenness Centrality calculée et écrite.\n",
      "✅ Graphe projeté supprimé après calculs.\n"
     ]
    }
   ],
   "source": [
    "# --------------------------------------------------\n",
    "# 5️⃣ Mesures de centralité (via Neo4j GDS) – Version robuste\n",
    "# --------------------------------------------------\n",
    "def calculate_centrality_gds(driver):\n",
    "    with driver.session() as session:\n",
    "        # 0️⃣ Supprimer le graphe projeté s’il existe déjà\n",
    "        try:\n",
    "            drop_query = \"CALL gds.graph.drop('myGraph', false) YIELD graphName\"\n",
    "            session.execute_write(execute_cypher, drop_query)\n",
    "            print(\"Ancien graphe 'myGraph' supprimé.\")\n",
    "        except Exception:\n",
    "            print(\"Aucun graphe existant à supprimer (OK).\")\n",
    "\n",
    "        # 1️⃣ Création du graphe projeté\n",
    "        create_projection_query = \"\"\"\n",
    "        CALL gds.graph.project(\n",
    "            'myGraph',\n",
    "            'Node',\n",
    "            'RELATED'\n",
    "        )\n",
    "        \"\"\"\n",
    "        session.execute_write(execute_cypher, create_projection_query)\n",
    "        print(\"✅ Graphe projeté 'myGraph' créé.\")\n",
    "\n",
    "        # 2️⃣ Degree Centrality\n",
    "        degree_query = \"\"\"\n",
    "        CALL gds.degree.write(\n",
    "            'myGraph',\n",
    "            {\n",
    "                writeProperty: 'degree'\n",
    "            }\n",
    "        )\n",
    "        YIELD nodePropertiesWritten\n",
    "        \"\"\"\n",
    "        session.execute_write(execute_cypher, degree_query)\n",
    "        print(\"✅ Degree Centrality calculée et écrite.\")\n",
    "        \n",
    "        # 3️⃣ Betweenness Centrality (sans normalized)\n",
    "        betw_query = \"\"\"\n",
    "        CALL gds.betweenness.write(\n",
    "            'myGraph',\n",
    "            {\n",
    "                writeProperty: 'betweenness',\n",
    "                concurrency: 4\n",
    "            }\n",
    "        )\n",
    "        YIELD nodePropertiesWritten\n",
    "        \"\"\"\n",
    "        session.execute_write(execute_cypher, betw_query)\n",
    "        print(\"✅ Betweenness Centrality calculée et écrite.\")\n",
    "\n",
    "        # 4️⃣ Suppression finale du graphe projeté\n",
    "        session.execute_write(execute_cypher, \"CALL gds.graph.drop('myGraph')\")\n",
    "        print(\"✅ Graphe projeté supprimé après calculs.\")\n",
    "\n",
    "# Lancer la fonction\n",
    "calculate_centrality_gds(driver)"
   ]
  },
  {
   "cell_type": "markdown",
   "id": "55639d42",
   "metadata": {},
   "source": [
    " D. Extraction COMPLÈTE du graphe depuis Neo4j\n"
   ]
  },
  {
   "cell_type": "code",
   "execution_count": 79,
   "id": "52991812",
   "metadata": {},
   "outputs": [
    {
     "name": "stdout",
     "output_type": "stream",
     "text": [
      "✅ Données extraites de Neo4j: 800 nœuds, 5348 arêtes\n"
     ]
    }
   ],
   "source": [
    "# --------------------------------------------------\n",
    "# 6) Extraction de TOUTE la structure du graphe depuis Neo4j\n",
    "# --------------------------------------------------\n",
    "def extract_complete_graph_from_neo4j(driver):\n",
    "    \"\"\"Extrait la structure complète du graphe + attributs depuis Neo4j\"\"\"\n",
    "    \n",
    "    # Query pour obtenir tous les nœuds avec leurs attributs\n",
    "    nodes_query = \"\"\"\n",
    "    MATCH (n:Node)\n",
    "    RETURN \n",
    "        toString(n.node_id) AS id,\n",
    "        n.name AS name,\n",
    "        n.node_type AS node_type,\n",
    "        n.jurisdiction_description AS jurisdiction_description,\n",
    "        n.countries AS countries,\n",
    "        n.degree AS degree,\n",
    "        n.betweenness AS betweenness\n",
    "    \"\"\"\n",
    "    \n",
    "    # Query pour obtenir toutes les arêtes\n",
    "    edges_query = \"\"\"\n",
    "    MATCH (a:Node)-[r:RELATED]->(b:Node)\n",
    "    RETURN \n",
    "        toString(a.node_id) AS source,\n",
    "        toString(b.node_id) AS target\n",
    "    \"\"\"\n",
    "    \n",
    "    with driver.session() as session:\n",
    "        # Extraire les nœuds\n",
    "        nodes_result = session.run(nodes_query)\n",
    "        nodes_df = pd.DataFrame([dict(record) for record in nodes_result])\n",
    "        \n",
    "        # Extraire les arêtes\n",
    "        edges_result = session.run(edges_query)\n",
    "        edges_df = pd.DataFrame([dict(record) for record in edges_result])\n",
    "    \n",
    "    return nodes_df, edges_df\n",
    "\n",
    "# Extraire les données depuis Neo4j\n",
    "nodes_df, edges_df = extract_complete_graph_from_neo4j(driver)\n",
    "print(f\"✅ Données extraites de Neo4j: {len(nodes_df)} nœuds, {len(edges_df)} arêtes\")"
   ]
  },
  {
   "cell_type": "markdown",
   "id": "282c9e8c",
   "metadata": {},
   "source": [
    " E. Reconstruction et enrichissement NetworkX"
   ]
  },
  {
   "cell_type": "code",
   "execution_count": 80,
   "id": "6a6eb129",
   "metadata": {},
   "outputs": [
    {
     "name": "stdout",
     "output_type": "stream",
     "text": [
      "Graphe NetworkX depuis Neo4j: n=778, m=5348\n",
      "🔄 Ajout des attributs depuis Neo4j...\n",
      "✅ Graphe NetworkX enrichi: 778 nœuds avec attributs\n"
     ]
    }
   ],
   "source": [
    "# --------------------------------------------------\n",
    "# 7) Construction du graphe NetworkX DEPUIS NEO4J\n",
    "# --------------------------------------------------\n",
    "\n",
    "# Construire le graphe NetworkX à partir des données Neo4j\n",
    "G = nx.from_pandas_edgelist(edges_df, source='source', target='target')\n",
    "\n",
    "print(f\"Graphe NetworkX depuis Neo4j: n={G.number_of_nodes()}, m={G.number_of_edges()}\")\n",
    "\n",
    "# Ajouter tous les attributs des nœuds\n",
    "print(\"🔄 Ajout des attributs depuis Neo4j...\")\n",
    "nodes_dict = nodes_df.set_index('id').to_dict('index')\n",
    "\n",
    "for node_id, attrs in nodes_dict.items():\n",
    "    if node_id in G.nodes():\n",
    "        for attr_name, attr_value in attrs.items():\n",
    "            G.nodes[node_id][attr_name] = attr_value\n",
    "\n",
    "print(f\"✅ Graphe NetworkX enrichi: {len(G.nodes())} nœuds avec attributs\")\n",
    "\n"
   ]
  },
  {
   "cell_type": "code",
   "execution_count": 81,
   "id": "d78be0d8",
   "metadata": {},
   "outputs": [
    {
     "name": "stdout",
     "output_type": "stream",
     "text": [
      "📋 Exemple de nœud 81027087:\n",
      "   - Type: Address\n",
      "   - Degré: 2.0\n",
      "   - Betweenness: 0.0\n"
     ]
    }
   ],
   "source": [
    "# Vérification\n",
    "sample_node = list(G.nodes())[0]\n",
    "print(f\"📋 Exemple de nœud {sample_node}:\")\n",
    "print(f\"   - Type: {G.nodes[sample_node].get('node_type', 'N/A')}\")\n",
    "print(f\"   - Degré: {G.nodes[sample_node].get('degree', 'N/A')}\")\n",
    "print(f\"   - Betweenness: {G.nodes[sample_node].get('betweenness', 'N/A')}\")"
   ]
  },
  {
   "cell_type": "markdown",
   "id": "997e52f5",
   "metadata": {},
   "source": [
    " F. Détection de communautés (Leiden)"
   ]
  },
  {
   "cell_type": "code",
   "execution_count": 82,
   "id": "89d56c72",
   "metadata": {},
   "outputs": [
    {
     "name": "stdout",
     "output_type": "stream",
     "text": [
      "🔍 Calcul des communautés Leiden sur le graphe Neo4j...\n",
      "✅ Communautés Leiden calculées: 8 communautés\n",
      "🎯 Graphe NetworkX PRÊT pour l'analyse avancée!\n"
     ]
    }
   ],
   "source": [
    "# --------------------------------------------------\n",
    "# 8) Calcul Leiden sur le graphe Neo4j\n",
    "# --------------------------------------------------\n",
    "print(\"🔍 Calcul des communautés Leiden sur le graphe Neo4j...\")\n",
    "\n",
    "# Filtrer les nœuds avec des connexions\n",
    "nodes_with_edges = [n for n in G.nodes() if G.degree(n) > 0]\n",
    "G_connected = G.subgraph(nodes_with_edges)\n",
    "\n",
    "if len(G_connected.nodes()) > 0:\n",
    "    # Mapping pour igraph\n",
    "    mapping = {n: i for i, n in enumerate(G_connected.nodes())}\n",
    "    inv_mapping = {i: n for n, i in mapping.items()}\n",
    "\n",
    "    # Création du graphe igraph depuis les données Neo4j\n",
    "    IG = ig.Graph(edges=[(mapping[u], mapping[v]) for u, v in G_connected.edges()])\n",
    "    \n",
    "    # Calcul Leiden\n",
    "    partition = leidenalg.find_partition(IG, leidenalg.ModularityVertexPartition)\n",
    "    leiden_labels = {inv_mapping[i]: part for i, part in enumerate(partition.membership)}\n",
    "    \n",
    "    # Appliquer les labels Leiden\n",
    "    for node_id, leiden_id in leiden_labels.items():\n",
    "        if node_id in G.nodes():\n",
    "            G.nodes[node_id]['leiden'] = leiden_id\n",
    "    \n",
    "    print(f\"✅ Communautés Leiden calculées: {len(set(leiden_labels.values()))} communautés\")\n",
    "else:\n",
    "    print(\"❌ Aucun nœud avec des connexions!\")\n",
    "\n",
    "# Marquer les nœuds sans communauté\n",
    "for node_id in G.nodes():\n",
    "    if 'leiden' not in G.nodes[node_id]:\n",
    "        G.nodes[node_id]['leiden'] = -1\n",
    "\n",
    "print(\"🎯 Graphe NetworkX PRÊT pour l'analyse avancée!\")"
   ]
  },
  {
   "cell_type": "markdown",
   "id": "11b5b254",
   "metadata": {},
   "source": [
    " Diagnostic des données "
   ]
  },
  {
   "cell_type": "code",
   "execution_count": 83,
   "id": "3515209a",
   "metadata": {},
   "outputs": [
    {
     "name": "stdout",
     "output_type": "stream",
     "text": [
      "\n",
      "📊 STATISTIQUES DE BASE:\n",
      "-------------------------\n",
      "• Nœuds chargés: 800\n",
      "• Relations chargées: 5,348\n",
      "• Graphe NetworkX: 778 nœuds, 5,348 arêtes\n",
      "\n",
      "✅ VÉRIFICATIONS:\n",
      "• Nœuds avec attributs: 778\n",
      "• Nœuds sans attributs: 0\n"
     ]
    }
   ],
   "source": [
    "# =====================================================\n",
    "# 1️⃣ VÉRIFICATION DE BASE\n",
    "# =====================================================\n",
    "print(\"\\n📊 STATISTIQUES DE BASE:\")\n",
    "print(\"-\" * 25)\n",
    "\n",
    "print(f\"• Nœuds chargés: {len(nodes_df):,}\")\n",
    "print(f\"• Relations chargées: {len(edges_df):,}\")\n",
    "print(f\"• Graphe NetworkX: {G.number_of_nodes():,} nœuds, {G.number_of_edges():,} arêtes\")\n",
    "\n",
    "# Vérification de la cohérence\n",
    "print(f\"\\n✅ VÉRIFICATIONS:\")\n",
    "print(f\"• Nœuds avec attributs: {sum(1 for n in G.nodes() if len(G.nodes[n]) > 0):,}\")\n",
    "print(f\"• Nœuds sans attributs: {sum(1 for n in G.nodes() if len(G.nodes[n]) == 0):,}\")"
   ]
  },
  {
   "cell_type": "code",
   "execution_count": 84,
   "id": "649324eb",
   "metadata": {},
   "outputs": [
    {
     "name": "stdout",
     "output_type": "stream",
     "text": [
      "\n",
      "📋 APERÇU DES PREMIERS NŒUDS:\n",
      "------------------------------\n",
      "\n",
      "1. 81027087\n",
      "   name: Jayla Place; Wickhams Cay 1; Road Town; Tortola; B...\n",
      "   node_type: Address\n",
      "   jurisdiction_description: None\n",
      "   countries: British Virgin Islands\n",
      "\n",
      "2. 80042906\n",
      "   name: Burns - Michael J\n",
      "   node_type: Officer\n",
      "   jurisdiction_description: None\n",
      "   countries: Bermuda;British Virgin Islands;Canada\n",
      "\n",
      "3. 80000392\n",
      "   name: Appleby Corporate Services (BVI) Limited\n",
      "   node_type: Intermediary\n",
      "   jurisdiction_description: None\n",
      "   countries: British Virgin Islands\n"
     ]
    }
   ],
   "source": [
    "# =====================================================\n",
    "# 2️⃣ APERÇU DES DONNÉES\n",
    "# =====================================================\n",
    "print(\"\\n📋 APERÇU DES PREMIERS NŒUDS:\")\n",
    "print(\"-\" * 30)\n",
    "\n",
    "# Aperçu des premiers nœuds avec leurs attributs\n",
    "sample_nodes = list(G.nodes())[:3]\n",
    "for i, node_id in enumerate(sample_nodes):\n",
    "    node_data = G.nodes[node_id]\n",
    "    print(f\"\\n{i+1}. {node_id}\")\n",
    "    for key, value in list(node_data.items())[:4]:  # Premier 4 attributs\n",
    "        print(f\"   {key}: {str(value)[:50]}{'...' if len(str(value)) > 50 else ''}\")"
   ]
  },
  {
   "cell_type": "code",
   "execution_count": 85,
   "id": "0e694ec8",
   "metadata": {},
   "outputs": [
    {
     "name": "stdout",
     "output_type": "stream",
     "text": [
      "\n",
      "🏷️ TYPES DE NŒUDS:\n",
      "--------------------\n",
      "• Entity: 738\n",
      "• Officer: 31\n",
      "• Address: 5\n",
      "• Intermediary: 4\n"
     ]
    }
   ],
   "source": [
    "# =====================================================\n",
    "# 3️⃣ DISTRIBUTION DES TYPES DE NŒUDS\n",
    "# =====================================================\n",
    "print(\"\\n🏷️ TYPES DE NŒUDS:\")\n",
    "print(\"-\" * 20)\n",
    "\n",
    "node_types = []\n",
    "for n in G.nodes():\n",
    "    node_type = G.nodes[n].get('node_type', 'Non spécifié')\n",
    "    node_types.append(node_type)\n",
    "\n",
    "type_counts = pd.Series(node_types).value_counts()\n",
    "for typ, count in type_counts.head(10).items():\n",
    "    print(f\"• {typ}: {count}\")"
   ]
  },
  {
   "cell_type": "code",
   "execution_count": 86,
   "id": "eea2fa46",
   "metadata": {},
   "outputs": [
    {
     "data": {
      "application/vnd.plotly.v1+json": {
       "config": {
        "plotlyServerURL": "https://plot.ly"
       },
       "data": [
        {
         "hovertemplate": "Type=%{x}<br>Nombre=%{y}<extra></extra>",
         "legendgroup": "",
         "marker": {
          "color": "#636efa",
          "pattern": {
           "shape": ""
          }
         },
         "name": "",
         "orientation": "v",
         "showlegend": false,
         "textposition": "auto",
         "type": "bar",
         "x": [
          "Entity",
          "Officer",
          "Address",
          "Intermediary"
         ],
         "xaxis": "x",
         "y": {
          "bdata": "4gIfAAUABAA=",
          "dtype": "i2"
         },
         "yaxis": "y"
        }
       ],
       "layout": {
        "barmode": "relative",
        "legend": {
         "tracegroupgap": 0
        },
        "template": {
         "data": {
          "bar": [
           {
            "error_x": {
             "color": "#2a3f5f"
            },
            "error_y": {
             "color": "#2a3f5f"
            },
            "marker": {
             "line": {
              "color": "#E5ECF6",
              "width": 0.5
             },
             "pattern": {
              "fillmode": "overlay",
              "size": 10,
              "solidity": 0.2
             }
            },
            "type": "bar"
           }
          ],
          "barpolar": [
           {
            "marker": {
             "line": {
              "color": "#E5ECF6",
              "width": 0.5
             },
             "pattern": {
              "fillmode": "overlay",
              "size": 10,
              "solidity": 0.2
             }
            },
            "type": "barpolar"
           }
          ],
          "carpet": [
           {
            "aaxis": {
             "endlinecolor": "#2a3f5f",
             "gridcolor": "white",
             "linecolor": "white",
             "minorgridcolor": "white",
             "startlinecolor": "#2a3f5f"
            },
            "baxis": {
             "endlinecolor": "#2a3f5f",
             "gridcolor": "white",
             "linecolor": "white",
             "minorgridcolor": "white",
             "startlinecolor": "#2a3f5f"
            },
            "type": "carpet"
           }
          ],
          "choropleth": [
           {
            "colorbar": {
             "outlinewidth": 0,
             "ticks": ""
            },
            "type": "choropleth"
           }
          ],
          "contour": [
           {
            "colorbar": {
             "outlinewidth": 0,
             "ticks": ""
            },
            "colorscale": [
             [
              0,
              "#0d0887"
             ],
             [
              0.1111111111111111,
              "#46039f"
             ],
             [
              0.2222222222222222,
              "#7201a8"
             ],
             [
              0.3333333333333333,
              "#9c179e"
             ],
             [
              0.4444444444444444,
              "#bd3786"
             ],
             [
              0.5555555555555556,
              "#d8576b"
             ],
             [
              0.6666666666666666,
              "#ed7953"
             ],
             [
              0.7777777777777778,
              "#fb9f3a"
             ],
             [
              0.8888888888888888,
              "#fdca26"
             ],
             [
              1,
              "#f0f921"
             ]
            ],
            "type": "contour"
           }
          ],
          "contourcarpet": [
           {
            "colorbar": {
             "outlinewidth": 0,
             "ticks": ""
            },
            "type": "contourcarpet"
           }
          ],
          "heatmap": [
           {
            "colorbar": {
             "outlinewidth": 0,
             "ticks": ""
            },
            "colorscale": [
             [
              0,
              "#0d0887"
             ],
             [
              0.1111111111111111,
              "#46039f"
             ],
             [
              0.2222222222222222,
              "#7201a8"
             ],
             [
              0.3333333333333333,
              "#9c179e"
             ],
             [
              0.4444444444444444,
              "#bd3786"
             ],
             [
              0.5555555555555556,
              "#d8576b"
             ],
             [
              0.6666666666666666,
              "#ed7953"
             ],
             [
              0.7777777777777778,
              "#fb9f3a"
             ],
             [
              0.8888888888888888,
              "#fdca26"
             ],
             [
              1,
              "#f0f921"
             ]
            ],
            "type": "heatmap"
           }
          ],
          "histogram": [
           {
            "marker": {
             "pattern": {
              "fillmode": "overlay",
              "size": 10,
              "solidity": 0.2
             }
            },
            "type": "histogram"
           }
          ],
          "histogram2d": [
           {
            "colorbar": {
             "outlinewidth": 0,
             "ticks": ""
            },
            "colorscale": [
             [
              0,
              "#0d0887"
             ],
             [
              0.1111111111111111,
              "#46039f"
             ],
             [
              0.2222222222222222,
              "#7201a8"
             ],
             [
              0.3333333333333333,
              "#9c179e"
             ],
             [
              0.4444444444444444,
              "#bd3786"
             ],
             [
              0.5555555555555556,
              "#d8576b"
             ],
             [
              0.6666666666666666,
              "#ed7953"
             ],
             [
              0.7777777777777778,
              "#fb9f3a"
             ],
             [
              0.8888888888888888,
              "#fdca26"
             ],
             [
              1,
              "#f0f921"
             ]
            ],
            "type": "histogram2d"
           }
          ],
          "histogram2dcontour": [
           {
            "colorbar": {
             "outlinewidth": 0,
             "ticks": ""
            },
            "colorscale": [
             [
              0,
              "#0d0887"
             ],
             [
              0.1111111111111111,
              "#46039f"
             ],
             [
              0.2222222222222222,
              "#7201a8"
             ],
             [
              0.3333333333333333,
              "#9c179e"
             ],
             [
              0.4444444444444444,
              "#bd3786"
             ],
             [
              0.5555555555555556,
              "#d8576b"
             ],
             [
              0.6666666666666666,
              "#ed7953"
             ],
             [
              0.7777777777777778,
              "#fb9f3a"
             ],
             [
              0.8888888888888888,
              "#fdca26"
             ],
             [
              1,
              "#f0f921"
             ]
            ],
            "type": "histogram2dcontour"
           }
          ],
          "mesh3d": [
           {
            "colorbar": {
             "outlinewidth": 0,
             "ticks": ""
            },
            "type": "mesh3d"
           }
          ],
          "parcoords": [
           {
            "line": {
             "colorbar": {
              "outlinewidth": 0,
              "ticks": ""
             }
            },
            "type": "parcoords"
           }
          ],
          "pie": [
           {
            "automargin": true,
            "type": "pie"
           }
          ],
          "scatter": [
           {
            "fillpattern": {
             "fillmode": "overlay",
             "size": 10,
             "solidity": 0.2
            },
            "type": "scatter"
           }
          ],
          "scatter3d": [
           {
            "line": {
             "colorbar": {
              "outlinewidth": 0,
              "ticks": ""
             }
            },
            "marker": {
             "colorbar": {
              "outlinewidth": 0,
              "ticks": ""
             }
            },
            "type": "scatter3d"
           }
          ],
          "scattercarpet": [
           {
            "marker": {
             "colorbar": {
              "outlinewidth": 0,
              "ticks": ""
             }
            },
            "type": "scattercarpet"
           }
          ],
          "scattergeo": [
           {
            "marker": {
             "colorbar": {
              "outlinewidth": 0,
              "ticks": ""
             }
            },
            "type": "scattergeo"
           }
          ],
          "scattergl": [
           {
            "marker": {
             "colorbar": {
              "outlinewidth": 0,
              "ticks": ""
             }
            },
            "type": "scattergl"
           }
          ],
          "scattermap": [
           {
            "marker": {
             "colorbar": {
              "outlinewidth": 0,
              "ticks": ""
             }
            },
            "type": "scattermap"
           }
          ],
          "scattermapbox": [
           {
            "marker": {
             "colorbar": {
              "outlinewidth": 0,
              "ticks": ""
             }
            },
            "type": "scattermapbox"
           }
          ],
          "scatterpolar": [
           {
            "marker": {
             "colorbar": {
              "outlinewidth": 0,
              "ticks": ""
             }
            },
            "type": "scatterpolar"
           }
          ],
          "scatterpolargl": [
           {
            "marker": {
             "colorbar": {
              "outlinewidth": 0,
              "ticks": ""
             }
            },
            "type": "scatterpolargl"
           }
          ],
          "scatterternary": [
           {
            "marker": {
             "colorbar": {
              "outlinewidth": 0,
              "ticks": ""
             }
            },
            "type": "scatterternary"
           }
          ],
          "surface": [
           {
            "colorbar": {
             "outlinewidth": 0,
             "ticks": ""
            },
            "colorscale": [
             [
              0,
              "#0d0887"
             ],
             [
              0.1111111111111111,
              "#46039f"
             ],
             [
              0.2222222222222222,
              "#7201a8"
             ],
             [
              0.3333333333333333,
              "#9c179e"
             ],
             [
              0.4444444444444444,
              "#bd3786"
             ],
             [
              0.5555555555555556,
              "#d8576b"
             ],
             [
              0.6666666666666666,
              "#ed7953"
             ],
             [
              0.7777777777777778,
              "#fb9f3a"
             ],
             [
              0.8888888888888888,
              "#fdca26"
             ],
             [
              1,
              "#f0f921"
             ]
            ],
            "type": "surface"
           }
          ],
          "table": [
           {
            "cells": {
             "fill": {
              "color": "#EBF0F8"
             },
             "line": {
              "color": "white"
             }
            },
            "header": {
             "fill": {
              "color": "#C8D4E3"
             },
             "line": {
              "color": "white"
             }
            },
            "type": "table"
           }
          ]
         },
         "layout": {
          "annotationdefaults": {
           "arrowcolor": "#2a3f5f",
           "arrowhead": 0,
           "arrowwidth": 1
          },
          "autotypenumbers": "strict",
          "coloraxis": {
           "colorbar": {
            "outlinewidth": 0,
            "ticks": ""
           }
          },
          "colorscale": {
           "diverging": [
            [
             0,
             "#8e0152"
            ],
            [
             0.1,
             "#c51b7d"
            ],
            [
             0.2,
             "#de77ae"
            ],
            [
             0.3,
             "#f1b6da"
            ],
            [
             0.4,
             "#fde0ef"
            ],
            [
             0.5,
             "#f7f7f7"
            ],
            [
             0.6,
             "#e6f5d0"
            ],
            [
             0.7,
             "#b8e186"
            ],
            [
             0.8,
             "#7fbc41"
            ],
            [
             0.9,
             "#4d9221"
            ],
            [
             1,
             "#276419"
            ]
           ],
           "sequential": [
            [
             0,
             "#0d0887"
            ],
            [
             0.1111111111111111,
             "#46039f"
            ],
            [
             0.2222222222222222,
             "#7201a8"
            ],
            [
             0.3333333333333333,
             "#9c179e"
            ],
            [
             0.4444444444444444,
             "#bd3786"
            ],
            [
             0.5555555555555556,
             "#d8576b"
            ],
            [
             0.6666666666666666,
             "#ed7953"
            ],
            [
             0.7777777777777778,
             "#fb9f3a"
            ],
            [
             0.8888888888888888,
             "#fdca26"
            ],
            [
             1,
             "#f0f921"
            ]
           ],
           "sequentialminus": [
            [
             0,
             "#0d0887"
            ],
            [
             0.1111111111111111,
             "#46039f"
            ],
            [
             0.2222222222222222,
             "#7201a8"
            ],
            [
             0.3333333333333333,
             "#9c179e"
            ],
            [
             0.4444444444444444,
             "#bd3786"
            ],
            [
             0.5555555555555556,
             "#d8576b"
            ],
            [
             0.6666666666666666,
             "#ed7953"
            ],
            [
             0.7777777777777778,
             "#fb9f3a"
            ],
            [
             0.8888888888888888,
             "#fdca26"
            ],
            [
             1,
             "#f0f921"
            ]
           ]
          },
          "colorway": [
           "#636efa",
           "#EF553B",
           "#00cc96",
           "#ab63fa",
           "#FFA15A",
           "#19d3f3",
           "#FF6692",
           "#B6E880",
           "#FF97FF",
           "#FECB52"
          ],
          "font": {
           "color": "#2a3f5f"
          },
          "geo": {
           "bgcolor": "white",
           "lakecolor": "white",
           "landcolor": "#E5ECF6",
           "showlakes": true,
           "showland": true,
           "subunitcolor": "white"
          },
          "hoverlabel": {
           "align": "left"
          },
          "hovermode": "closest",
          "mapbox": {
           "style": "light"
          },
          "paper_bgcolor": "white",
          "plot_bgcolor": "#E5ECF6",
          "polar": {
           "angularaxis": {
            "gridcolor": "white",
            "linecolor": "white",
            "ticks": ""
           },
           "bgcolor": "#E5ECF6",
           "radialaxis": {
            "gridcolor": "white",
            "linecolor": "white",
            "ticks": ""
           }
          },
          "scene": {
           "xaxis": {
            "backgroundcolor": "#E5ECF6",
            "gridcolor": "white",
            "gridwidth": 2,
            "linecolor": "white",
            "showbackground": true,
            "ticks": "",
            "zerolinecolor": "white"
           },
           "yaxis": {
            "backgroundcolor": "#E5ECF6",
            "gridcolor": "white",
            "gridwidth": 2,
            "linecolor": "white",
            "showbackground": true,
            "ticks": "",
            "zerolinecolor": "white"
           },
           "zaxis": {
            "backgroundcolor": "#E5ECF6",
            "gridcolor": "white",
            "gridwidth": 2,
            "linecolor": "white",
            "showbackground": true,
            "ticks": "",
            "zerolinecolor": "white"
           }
          },
          "shapedefaults": {
           "line": {
            "color": "#2a3f5f"
           }
          },
          "ternary": {
           "aaxis": {
            "gridcolor": "white",
            "linecolor": "white",
            "ticks": ""
           },
           "baxis": {
            "gridcolor": "white",
            "linecolor": "white",
            "ticks": ""
           },
           "bgcolor": "#E5ECF6",
           "caxis": {
            "gridcolor": "white",
            "linecolor": "white",
            "ticks": ""
           }
          },
          "title": {
           "x": 0.05
          },
          "xaxis": {
           "automargin": true,
           "gridcolor": "white",
           "linecolor": "white",
           "ticks": "",
           "title": {
            "standoff": 15
           },
           "zerolinecolor": "white",
           "zerolinewidth": 2
          },
          "yaxis": {
           "automargin": true,
           "gridcolor": "white",
           "linecolor": "white",
           "ticks": "",
           "title": {
            "standoff": 15
           },
           "zerolinecolor": "white",
           "zerolinewidth": 2
          }
         }
        },
        "title": {
         "text": "Types de Nœuds dans le Graphe"
        },
        "xaxis": {
         "anchor": "y",
         "domain": [
          0,
          1
         ],
         "title": {
          "text": "Type"
         }
        },
        "yaxis": {
         "anchor": "x",
         "domain": [
          0,
          1
         ],
         "title": {
          "text": "Nombre"
         }
        }
       }
      }
     },
     "metadata": {},
     "output_type": "display_data"
    }
   ],
   "source": [
    "# Visualisation simple\n",
    "import plotly.express as px\n",
    "\n",
    "if len(type_counts) > 0:\n",
    "    fig = px.bar(x=type_counts.index[:8], y=type_counts.values[:8],\n",
    "                 title=\"Types de Nœuds dans le Graphe\",\n",
    "                 labels={'x': 'Type', 'y': 'Nombre'})\n",
    "    fig.show()"
   ]
  },
  {
   "cell_type": "code",
   "execution_count": 87,
   "id": "424274c1",
   "metadata": {},
   "outputs": [
    {
     "name": "stdout",
     "output_type": "stream",
     "text": [
      "\n",
      "🌍 RÉPARTITION GÉOGRAPHIQUE:\n",
      "------------------------------\n",
      "• Bermuda: 734\n",
      "• Jersey: 2\n",
      "• Cayman Islands: 1\n",
      "• Turks and Caicos Islands: 1\n"
     ]
    },
    {
     "data": {
      "application/vnd.plotly.v1+json": {
       "config": {
        "plotlyServerURL": "https://plot.ly"
       },
       "data": [
        {
         "domain": {
          "x": [
           0,
           1
          ],
          "y": [
           0,
           1
          ]
         },
         "hovertemplate": "label=%{label}<br>value=%{value}<extra></extra>",
         "labels": [
          "Bermuda",
          "Jersey",
          "Cayman Islands",
          "Turks and Caicos Islands"
         ],
         "legendgroup": "",
         "name": "",
         "showlegend": true,
         "type": "pie",
         "values": {
          "bdata": "3gICAAEAAQA=",
          "dtype": "i2"
         }
        }
       ],
       "layout": {
        "legend": {
         "tracegroupgap": 0
        },
        "template": {
         "data": {
          "bar": [
           {
            "error_x": {
             "color": "#2a3f5f"
            },
            "error_y": {
             "color": "#2a3f5f"
            },
            "marker": {
             "line": {
              "color": "#E5ECF6",
              "width": 0.5
             },
             "pattern": {
              "fillmode": "overlay",
              "size": 10,
              "solidity": 0.2
             }
            },
            "type": "bar"
           }
          ],
          "barpolar": [
           {
            "marker": {
             "line": {
              "color": "#E5ECF6",
              "width": 0.5
             },
             "pattern": {
              "fillmode": "overlay",
              "size": 10,
              "solidity": 0.2
             }
            },
            "type": "barpolar"
           }
          ],
          "carpet": [
           {
            "aaxis": {
             "endlinecolor": "#2a3f5f",
             "gridcolor": "white",
             "linecolor": "white",
             "minorgridcolor": "white",
             "startlinecolor": "#2a3f5f"
            },
            "baxis": {
             "endlinecolor": "#2a3f5f",
             "gridcolor": "white",
             "linecolor": "white",
             "minorgridcolor": "white",
             "startlinecolor": "#2a3f5f"
            },
            "type": "carpet"
           }
          ],
          "choropleth": [
           {
            "colorbar": {
             "outlinewidth": 0,
             "ticks": ""
            },
            "type": "choropleth"
           }
          ],
          "contour": [
           {
            "colorbar": {
             "outlinewidth": 0,
             "ticks": ""
            },
            "colorscale": [
             [
              0,
              "#0d0887"
             ],
             [
              0.1111111111111111,
              "#46039f"
             ],
             [
              0.2222222222222222,
              "#7201a8"
             ],
             [
              0.3333333333333333,
              "#9c179e"
             ],
             [
              0.4444444444444444,
              "#bd3786"
             ],
             [
              0.5555555555555556,
              "#d8576b"
             ],
             [
              0.6666666666666666,
              "#ed7953"
             ],
             [
              0.7777777777777778,
              "#fb9f3a"
             ],
             [
              0.8888888888888888,
              "#fdca26"
             ],
             [
              1,
              "#f0f921"
             ]
            ],
            "type": "contour"
           }
          ],
          "contourcarpet": [
           {
            "colorbar": {
             "outlinewidth": 0,
             "ticks": ""
            },
            "type": "contourcarpet"
           }
          ],
          "heatmap": [
           {
            "colorbar": {
             "outlinewidth": 0,
             "ticks": ""
            },
            "colorscale": [
             [
              0,
              "#0d0887"
             ],
             [
              0.1111111111111111,
              "#46039f"
             ],
             [
              0.2222222222222222,
              "#7201a8"
             ],
             [
              0.3333333333333333,
              "#9c179e"
             ],
             [
              0.4444444444444444,
              "#bd3786"
             ],
             [
              0.5555555555555556,
              "#d8576b"
             ],
             [
              0.6666666666666666,
              "#ed7953"
             ],
             [
              0.7777777777777778,
              "#fb9f3a"
             ],
             [
              0.8888888888888888,
              "#fdca26"
             ],
             [
              1,
              "#f0f921"
             ]
            ],
            "type": "heatmap"
           }
          ],
          "histogram": [
           {
            "marker": {
             "pattern": {
              "fillmode": "overlay",
              "size": 10,
              "solidity": 0.2
             }
            },
            "type": "histogram"
           }
          ],
          "histogram2d": [
           {
            "colorbar": {
             "outlinewidth": 0,
             "ticks": ""
            },
            "colorscale": [
             [
              0,
              "#0d0887"
             ],
             [
              0.1111111111111111,
              "#46039f"
             ],
             [
              0.2222222222222222,
              "#7201a8"
             ],
             [
              0.3333333333333333,
              "#9c179e"
             ],
             [
              0.4444444444444444,
              "#bd3786"
             ],
             [
              0.5555555555555556,
              "#d8576b"
             ],
             [
              0.6666666666666666,
              "#ed7953"
             ],
             [
              0.7777777777777778,
              "#fb9f3a"
             ],
             [
              0.8888888888888888,
              "#fdca26"
             ],
             [
              1,
              "#f0f921"
             ]
            ],
            "type": "histogram2d"
           }
          ],
          "histogram2dcontour": [
           {
            "colorbar": {
             "outlinewidth": 0,
             "ticks": ""
            },
            "colorscale": [
             [
              0,
              "#0d0887"
             ],
             [
              0.1111111111111111,
              "#46039f"
             ],
             [
              0.2222222222222222,
              "#7201a8"
             ],
             [
              0.3333333333333333,
              "#9c179e"
             ],
             [
              0.4444444444444444,
              "#bd3786"
             ],
             [
              0.5555555555555556,
              "#d8576b"
             ],
             [
              0.6666666666666666,
              "#ed7953"
             ],
             [
              0.7777777777777778,
              "#fb9f3a"
             ],
             [
              0.8888888888888888,
              "#fdca26"
             ],
             [
              1,
              "#f0f921"
             ]
            ],
            "type": "histogram2dcontour"
           }
          ],
          "mesh3d": [
           {
            "colorbar": {
             "outlinewidth": 0,
             "ticks": ""
            },
            "type": "mesh3d"
           }
          ],
          "parcoords": [
           {
            "line": {
             "colorbar": {
              "outlinewidth": 0,
              "ticks": ""
             }
            },
            "type": "parcoords"
           }
          ],
          "pie": [
           {
            "automargin": true,
            "type": "pie"
           }
          ],
          "scatter": [
           {
            "fillpattern": {
             "fillmode": "overlay",
             "size": 10,
             "solidity": 0.2
            },
            "type": "scatter"
           }
          ],
          "scatter3d": [
           {
            "line": {
             "colorbar": {
              "outlinewidth": 0,
              "ticks": ""
             }
            },
            "marker": {
             "colorbar": {
              "outlinewidth": 0,
              "ticks": ""
             }
            },
            "type": "scatter3d"
           }
          ],
          "scattercarpet": [
           {
            "marker": {
             "colorbar": {
              "outlinewidth": 0,
              "ticks": ""
             }
            },
            "type": "scattercarpet"
           }
          ],
          "scattergeo": [
           {
            "marker": {
             "colorbar": {
              "outlinewidth": 0,
              "ticks": ""
             }
            },
            "type": "scattergeo"
           }
          ],
          "scattergl": [
           {
            "marker": {
             "colorbar": {
              "outlinewidth": 0,
              "ticks": ""
             }
            },
            "type": "scattergl"
           }
          ],
          "scattermap": [
           {
            "marker": {
             "colorbar": {
              "outlinewidth": 0,
              "ticks": ""
             }
            },
            "type": "scattermap"
           }
          ],
          "scattermapbox": [
           {
            "marker": {
             "colorbar": {
              "outlinewidth": 0,
              "ticks": ""
             }
            },
            "type": "scattermapbox"
           }
          ],
          "scatterpolar": [
           {
            "marker": {
             "colorbar": {
              "outlinewidth": 0,
              "ticks": ""
             }
            },
            "type": "scatterpolar"
           }
          ],
          "scatterpolargl": [
           {
            "marker": {
             "colorbar": {
              "outlinewidth": 0,
              "ticks": ""
             }
            },
            "type": "scatterpolargl"
           }
          ],
          "scatterternary": [
           {
            "marker": {
             "colorbar": {
              "outlinewidth": 0,
              "ticks": ""
             }
            },
            "type": "scatterternary"
           }
          ],
          "surface": [
           {
            "colorbar": {
             "outlinewidth": 0,
             "ticks": ""
            },
            "colorscale": [
             [
              0,
              "#0d0887"
             ],
             [
              0.1111111111111111,
              "#46039f"
             ],
             [
              0.2222222222222222,
              "#7201a8"
             ],
             [
              0.3333333333333333,
              "#9c179e"
             ],
             [
              0.4444444444444444,
              "#bd3786"
             ],
             [
              0.5555555555555556,
              "#d8576b"
             ],
             [
              0.6666666666666666,
              "#ed7953"
             ],
             [
              0.7777777777777778,
              "#fb9f3a"
             ],
             [
              0.8888888888888888,
              "#fdca26"
             ],
             [
              1,
              "#f0f921"
             ]
            ],
            "type": "surface"
           }
          ],
          "table": [
           {
            "cells": {
             "fill": {
              "color": "#EBF0F8"
             },
             "line": {
              "color": "white"
             }
            },
            "header": {
             "fill": {
              "color": "#C8D4E3"
             },
             "line": {
              "color": "white"
             }
            },
            "type": "table"
           }
          ]
         },
         "layout": {
          "annotationdefaults": {
           "arrowcolor": "#2a3f5f",
           "arrowhead": 0,
           "arrowwidth": 1
          },
          "autotypenumbers": "strict",
          "coloraxis": {
           "colorbar": {
            "outlinewidth": 0,
            "ticks": ""
           }
          },
          "colorscale": {
           "diverging": [
            [
             0,
             "#8e0152"
            ],
            [
             0.1,
             "#c51b7d"
            ],
            [
             0.2,
             "#de77ae"
            ],
            [
             0.3,
             "#f1b6da"
            ],
            [
             0.4,
             "#fde0ef"
            ],
            [
             0.5,
             "#f7f7f7"
            ],
            [
             0.6,
             "#e6f5d0"
            ],
            [
             0.7,
             "#b8e186"
            ],
            [
             0.8,
             "#7fbc41"
            ],
            [
             0.9,
             "#4d9221"
            ],
            [
             1,
             "#276419"
            ]
           ],
           "sequential": [
            [
             0,
             "#0d0887"
            ],
            [
             0.1111111111111111,
             "#46039f"
            ],
            [
             0.2222222222222222,
             "#7201a8"
            ],
            [
             0.3333333333333333,
             "#9c179e"
            ],
            [
             0.4444444444444444,
             "#bd3786"
            ],
            [
             0.5555555555555556,
             "#d8576b"
            ],
            [
             0.6666666666666666,
             "#ed7953"
            ],
            [
             0.7777777777777778,
             "#fb9f3a"
            ],
            [
             0.8888888888888888,
             "#fdca26"
            ],
            [
             1,
             "#f0f921"
            ]
           ],
           "sequentialminus": [
            [
             0,
             "#0d0887"
            ],
            [
             0.1111111111111111,
             "#46039f"
            ],
            [
             0.2222222222222222,
             "#7201a8"
            ],
            [
             0.3333333333333333,
             "#9c179e"
            ],
            [
             0.4444444444444444,
             "#bd3786"
            ],
            [
             0.5555555555555556,
             "#d8576b"
            ],
            [
             0.6666666666666666,
             "#ed7953"
            ],
            [
             0.7777777777777778,
             "#fb9f3a"
            ],
            [
             0.8888888888888888,
             "#fdca26"
            ],
            [
             1,
             "#f0f921"
            ]
           ]
          },
          "colorway": [
           "#636efa",
           "#EF553B",
           "#00cc96",
           "#ab63fa",
           "#FFA15A",
           "#19d3f3",
           "#FF6692",
           "#B6E880",
           "#FF97FF",
           "#FECB52"
          ],
          "font": {
           "color": "#2a3f5f"
          },
          "geo": {
           "bgcolor": "white",
           "lakecolor": "white",
           "landcolor": "#E5ECF6",
           "showlakes": true,
           "showland": true,
           "subunitcolor": "white"
          },
          "hoverlabel": {
           "align": "left"
          },
          "hovermode": "closest",
          "mapbox": {
           "style": "light"
          },
          "paper_bgcolor": "white",
          "plot_bgcolor": "#E5ECF6",
          "polar": {
           "angularaxis": {
            "gridcolor": "white",
            "linecolor": "white",
            "ticks": ""
           },
           "bgcolor": "#E5ECF6",
           "radialaxis": {
            "gridcolor": "white",
            "linecolor": "white",
            "ticks": ""
           }
          },
          "scene": {
           "xaxis": {
            "backgroundcolor": "#E5ECF6",
            "gridcolor": "white",
            "gridwidth": 2,
            "linecolor": "white",
            "showbackground": true,
            "ticks": "",
            "zerolinecolor": "white"
           },
           "yaxis": {
            "backgroundcolor": "#E5ECF6",
            "gridcolor": "white",
            "gridwidth": 2,
            "linecolor": "white",
            "showbackground": true,
            "ticks": "",
            "zerolinecolor": "white"
           },
           "zaxis": {
            "backgroundcolor": "#E5ECF6",
            "gridcolor": "white",
            "gridwidth": 2,
            "linecolor": "white",
            "showbackground": true,
            "ticks": "",
            "zerolinecolor": "white"
           }
          },
          "shapedefaults": {
           "line": {
            "color": "#2a3f5f"
           }
          },
          "ternary": {
           "aaxis": {
            "gridcolor": "white",
            "linecolor": "white",
            "ticks": ""
           },
           "baxis": {
            "gridcolor": "white",
            "linecolor": "white",
            "ticks": ""
           },
           "bgcolor": "#E5ECF6",
           "caxis": {
            "gridcolor": "white",
            "linecolor": "white",
            "ticks": ""
           }
          },
          "title": {
           "x": 0.05
          },
          "xaxis": {
           "automargin": true,
           "gridcolor": "white",
           "linecolor": "white",
           "ticks": "",
           "title": {
            "standoff": 15
           },
           "zerolinecolor": "white",
           "zerolinewidth": 2
          },
          "yaxis": {
           "automargin": true,
           "gridcolor": "white",
           "linecolor": "white",
           "ticks": "",
           "title": {
            "standoff": 15
           },
           "zerolinecolor": "white",
           "zerolinewidth": 2
          }
         }
        },
        "title": {
         "text": "Top 10 Juridictions"
        }
       }
      }
     },
     "metadata": {},
     "output_type": "display_data"
    }
   ],
   "source": [
    "# =====================================================\n",
    "# 4️⃣ DISTRIBUTION GÉOGRAPHIQUE\n",
    "# =====================================================\n",
    "print(\"\\n🌍 RÉPARTITION GÉOGRAPHIQUE:\")\n",
    "print(\"-\" * 30)\n",
    "\n",
    "jurisdictions = []\n",
    "for n in G.nodes():\n",
    "    jurisdiction = G.nodes[n].get('jurisdiction_description', 'Non spécifié')\n",
    "    if jurisdiction and jurisdiction != 'Non spécifié':\n",
    "        jurisdictions.append(jurisdiction)\n",
    "\n",
    "jurisdiction_counts = pd.Series(jurisdictions).value_counts().head(10)\n",
    "\n",
    "for jur, count in jurisdiction_counts.items():\n",
    "    print(f\"• {jur}: {count}\")\n",
    "\n",
    "if len(jurisdiction_counts) > 0:\n",
    "    fig = px.pie(values=jurisdiction_counts.values, names=jurisdiction_counts.index,\n",
    "                 title=\"Top 10 Juridictions\")\n",
    "    fig.show()"
   ]
  },
  {
   "cell_type": "code",
   "execution_count": 88,
   "id": "c4255cbb",
   "metadata": {},
   "outputs": [
    {
     "name": "stdout",
     "output_type": "stream",
     "text": [
      "\n",
      "📈 CONNECTIVITÉ DU RÉSEAU:\n",
      "-------------------------\n",
      "• Degré moyen: 13.7\n",
      "• Degré max: 744\n",
      "• Densité du réseau: 0.0177\n"
     ]
    },
    {
     "data": {
      "application/vnd.plotly.v1+json": {
       "config": {
        "plotlyServerURL": "https://plot.ly"
       },
       "data": [
        {
         "bingroup": "x",
         "hovertemplate": "Nombre de connexions=%{x}<br>count=%{y}<extra></extra>",
         "legendgroup": "",
         "marker": {
          "color": "#636efa",
          "pattern": {
           "shape": ""
          }
         },
         "name": "",
         "nbinsx": 50,
         "orientation": "v",
         "showlegend": false,
         "type": "histogram",
         "x": {
          "bdata": "AgC0AAMA0gIIAAcABgAMAAcABwAJAAoACQAHAAgABgAHAAcACgAGAAcABgAHAAcABwAGAAYABwAHAAYABwAHAAcACQAIAAcABwAGAAcACAAGAAYABwAIAAYACAAHAAcABgAGAAcACQAGAAcACAAGAAgABwAGAAcACAAHAAcABgAHAAYABgAJAAgABgAGAAcACAAGAAYABwAIAAcABgAGAAgABwAHAAYABgAIAAcABgAIAAoACAAHAAcABwAHAAYABgAKAAYABgAGABIACAAGAAgAEwAGABAABgAGAAYABgAGAAYACgAHAAkABwAHAAYABgAIAAgACAAIAAcABwAGAAYABgAGAAcABwAJAAgABwAJAAkABwAHAAYABgAHAAcABgAHAAYACAAGAAYABgAGAAYABgAGAAcABwAJAAcAEQAGAAgACAAGAAYABwAHAAYABgAHAAgABgAIAAYACAAHAAYACQAGAAYABgAIABEABwAKAAgABwAGAAYABwAGAAYABwAHAAYACgAGAAcABwAHAAcABwAKAAcAcAAJAAcABgAIAAoABgAHAAYABwAGAAcABwAHAAYABgCMAAgAhwAIAFcABgAGAAoABgAGAAcABwAGAAYACgAHAAYABwAHAAcABgAGANMABgAIAAcABgAGAAcABwAJAAgACQAHAAYACAAGAAYACQAGAAYABwAIAAcABgAHAAYACQAGAAYABwAGAAcABgAIAAYABgAHAAYABgAHAAgABwAHAAYABgAHAAYABgAIAAcACAAHAAcACAAIAAcACAALAAYABwANAAYACAAGAAYABwAHAAgABwAHAAgABgAHAAcABwAJAAgABwAGAAYABwAHAAcABwAIAAcABwAGAAYACAAGAAcABwAHAAYABwAGAAcACAAIAAcABgAGAAYABgAGAAcABgAHAAoABgAIAAcABwAGAAoABgAJAAYABgAHAAYABwAIAAYACAAHAAkABwAGAAcABgAHAAgABwAGAAYABwAHAAcABgAHAAcABgAHAAYABwAGAAYABgAJAAYABwAHAAYACQAJAAgABgAGAAYABgAHAAcACAALAAcABgAGAAcABgAHAAkACgAJAAcABgAGAAcABwAHAAcABwAIAAYABgAGAAoABgAGAAYABgAGAAoABwAHAAgACgAIAAYACgAHAAYABgAJAAkACwAHAAYACAAGAAgABgAHAAYABwAGAAYABwAJAAgABgAIAAcABgAGAAYABgAGAAcABwAGAAcABwAGAAcABgAJAAYABwAHAAcABwAGAAYABwDaAAcACAAGAAkABwAJAAYACQAGAAcABgAGAAgABwAGAAYACAAHAAcACAAHAAoACAAGAAoABwCrAAcABwAGAAcACQAIAAkACwAGAAYAjwCpAQcABgAGAAcABgAGAAcABwAHAAYABwAJAAgABwAIAAoACgAHAAYABwAIAAYACQAHAAYABwAGAAcABwAIAAgAdAATAAkACQAIAAcABgAHAAcABgAGAAgACAAHAAYABgAGAAgABwAHAAcABwAHAAgACACCAAYABgAGAAYABgAGAAcABwAHAAcABwAHAAYACAAHAAgABwAHAAYACAAIAAYABgAGAAYACAAIAAYABwAIAAkABwAIAAgACAAHAAcACAAHAAcABwAKAAcABwAJAAcACAAHAAgACAAJAH0ABwAJAAcACAAHAAgACQAIAAcACAAHAAcACAAIAAcABwAIAAkABwAHAAcABwAIAAgABwAHAAcABwAHAAcACwAJAAcABwDDAAcABwAHAAcABwAHAAcABwAHAAgACwAHAAcACAAJAAcABwAHAAcABwAHAAcABwAIAAcACAAHAAcACQAHAAcABwAHAAgABwAHAAgACAAIAAcACAAHAAgABwAIAAcAaAAHAAcABwAHAAcABwAHAF0A6AKfAJQAtgAGAAIABQDmAK8AAgABAAEAAQB9AIEABQCcAAYACAAGAAYABgAGAA0ABgAGAAcABwAGAAcABgAGAAcABgAHAAcABwAGAAYABgAGAAYABwAGAAYABgAJAAcAAwABAAEAAQA=",
          "dtype": "i2"
         },
         "xaxis": "x",
         "yaxis": "y"
        }
       ],
       "layout": {
        "barmode": "relative",
        "legend": {
         "tracegroupgap": 0
        },
        "template": {
         "data": {
          "bar": [
           {
            "error_x": {
             "color": "#2a3f5f"
            },
            "error_y": {
             "color": "#2a3f5f"
            },
            "marker": {
             "line": {
              "color": "#E5ECF6",
              "width": 0.5
             },
             "pattern": {
              "fillmode": "overlay",
              "size": 10,
              "solidity": 0.2
             }
            },
            "type": "bar"
           }
          ],
          "barpolar": [
           {
            "marker": {
             "line": {
              "color": "#E5ECF6",
              "width": 0.5
             },
             "pattern": {
              "fillmode": "overlay",
              "size": 10,
              "solidity": 0.2
             }
            },
            "type": "barpolar"
           }
          ],
          "carpet": [
           {
            "aaxis": {
             "endlinecolor": "#2a3f5f",
             "gridcolor": "white",
             "linecolor": "white",
             "minorgridcolor": "white",
             "startlinecolor": "#2a3f5f"
            },
            "baxis": {
             "endlinecolor": "#2a3f5f",
             "gridcolor": "white",
             "linecolor": "white",
             "minorgridcolor": "white",
             "startlinecolor": "#2a3f5f"
            },
            "type": "carpet"
           }
          ],
          "choropleth": [
           {
            "colorbar": {
             "outlinewidth": 0,
             "ticks": ""
            },
            "type": "choropleth"
           }
          ],
          "contour": [
           {
            "colorbar": {
             "outlinewidth": 0,
             "ticks": ""
            },
            "colorscale": [
             [
              0,
              "#0d0887"
             ],
             [
              0.1111111111111111,
              "#46039f"
             ],
             [
              0.2222222222222222,
              "#7201a8"
             ],
             [
              0.3333333333333333,
              "#9c179e"
             ],
             [
              0.4444444444444444,
              "#bd3786"
             ],
             [
              0.5555555555555556,
              "#d8576b"
             ],
             [
              0.6666666666666666,
              "#ed7953"
             ],
             [
              0.7777777777777778,
              "#fb9f3a"
             ],
             [
              0.8888888888888888,
              "#fdca26"
             ],
             [
              1,
              "#f0f921"
             ]
            ],
            "type": "contour"
           }
          ],
          "contourcarpet": [
           {
            "colorbar": {
             "outlinewidth": 0,
             "ticks": ""
            },
            "type": "contourcarpet"
           }
          ],
          "heatmap": [
           {
            "colorbar": {
             "outlinewidth": 0,
             "ticks": ""
            },
            "colorscale": [
             [
              0,
              "#0d0887"
             ],
             [
              0.1111111111111111,
              "#46039f"
             ],
             [
              0.2222222222222222,
              "#7201a8"
             ],
             [
              0.3333333333333333,
              "#9c179e"
             ],
             [
              0.4444444444444444,
              "#bd3786"
             ],
             [
              0.5555555555555556,
              "#d8576b"
             ],
             [
              0.6666666666666666,
              "#ed7953"
             ],
             [
              0.7777777777777778,
              "#fb9f3a"
             ],
             [
              0.8888888888888888,
              "#fdca26"
             ],
             [
              1,
              "#f0f921"
             ]
            ],
            "type": "heatmap"
           }
          ],
          "histogram": [
           {
            "marker": {
             "pattern": {
              "fillmode": "overlay",
              "size": 10,
              "solidity": 0.2
             }
            },
            "type": "histogram"
           }
          ],
          "histogram2d": [
           {
            "colorbar": {
             "outlinewidth": 0,
             "ticks": ""
            },
            "colorscale": [
             [
              0,
              "#0d0887"
             ],
             [
              0.1111111111111111,
              "#46039f"
             ],
             [
              0.2222222222222222,
              "#7201a8"
             ],
             [
              0.3333333333333333,
              "#9c179e"
             ],
             [
              0.4444444444444444,
              "#bd3786"
             ],
             [
              0.5555555555555556,
              "#d8576b"
             ],
             [
              0.6666666666666666,
              "#ed7953"
             ],
             [
              0.7777777777777778,
              "#fb9f3a"
             ],
             [
              0.8888888888888888,
              "#fdca26"
             ],
             [
              1,
              "#f0f921"
             ]
            ],
            "type": "histogram2d"
           }
          ],
          "histogram2dcontour": [
           {
            "colorbar": {
             "outlinewidth": 0,
             "ticks": ""
            },
            "colorscale": [
             [
              0,
              "#0d0887"
             ],
             [
              0.1111111111111111,
              "#46039f"
             ],
             [
              0.2222222222222222,
              "#7201a8"
             ],
             [
              0.3333333333333333,
              "#9c179e"
             ],
             [
              0.4444444444444444,
              "#bd3786"
             ],
             [
              0.5555555555555556,
              "#d8576b"
             ],
             [
              0.6666666666666666,
              "#ed7953"
             ],
             [
              0.7777777777777778,
              "#fb9f3a"
             ],
             [
              0.8888888888888888,
              "#fdca26"
             ],
             [
              1,
              "#f0f921"
             ]
            ],
            "type": "histogram2dcontour"
           }
          ],
          "mesh3d": [
           {
            "colorbar": {
             "outlinewidth": 0,
             "ticks": ""
            },
            "type": "mesh3d"
           }
          ],
          "parcoords": [
           {
            "line": {
             "colorbar": {
              "outlinewidth": 0,
              "ticks": ""
             }
            },
            "type": "parcoords"
           }
          ],
          "pie": [
           {
            "automargin": true,
            "type": "pie"
           }
          ],
          "scatter": [
           {
            "fillpattern": {
             "fillmode": "overlay",
             "size": 10,
             "solidity": 0.2
            },
            "type": "scatter"
           }
          ],
          "scatter3d": [
           {
            "line": {
             "colorbar": {
              "outlinewidth": 0,
              "ticks": ""
             }
            },
            "marker": {
             "colorbar": {
              "outlinewidth": 0,
              "ticks": ""
             }
            },
            "type": "scatter3d"
           }
          ],
          "scattercarpet": [
           {
            "marker": {
             "colorbar": {
              "outlinewidth": 0,
              "ticks": ""
             }
            },
            "type": "scattercarpet"
           }
          ],
          "scattergeo": [
           {
            "marker": {
             "colorbar": {
              "outlinewidth": 0,
              "ticks": ""
             }
            },
            "type": "scattergeo"
           }
          ],
          "scattergl": [
           {
            "marker": {
             "colorbar": {
              "outlinewidth": 0,
              "ticks": ""
             }
            },
            "type": "scattergl"
           }
          ],
          "scattermap": [
           {
            "marker": {
             "colorbar": {
              "outlinewidth": 0,
              "ticks": ""
             }
            },
            "type": "scattermap"
           }
          ],
          "scattermapbox": [
           {
            "marker": {
             "colorbar": {
              "outlinewidth": 0,
              "ticks": ""
             }
            },
            "type": "scattermapbox"
           }
          ],
          "scatterpolar": [
           {
            "marker": {
             "colorbar": {
              "outlinewidth": 0,
              "ticks": ""
             }
            },
            "type": "scatterpolar"
           }
          ],
          "scatterpolargl": [
           {
            "marker": {
             "colorbar": {
              "outlinewidth": 0,
              "ticks": ""
             }
            },
            "type": "scatterpolargl"
           }
          ],
          "scatterternary": [
           {
            "marker": {
             "colorbar": {
              "outlinewidth": 0,
              "ticks": ""
             }
            },
            "type": "scatterternary"
           }
          ],
          "surface": [
           {
            "colorbar": {
             "outlinewidth": 0,
             "ticks": ""
            },
            "colorscale": [
             [
              0,
              "#0d0887"
             ],
             [
              0.1111111111111111,
              "#46039f"
             ],
             [
              0.2222222222222222,
              "#7201a8"
             ],
             [
              0.3333333333333333,
              "#9c179e"
             ],
             [
              0.4444444444444444,
              "#bd3786"
             ],
             [
              0.5555555555555556,
              "#d8576b"
             ],
             [
              0.6666666666666666,
              "#ed7953"
             ],
             [
              0.7777777777777778,
              "#fb9f3a"
             ],
             [
              0.8888888888888888,
              "#fdca26"
             ],
             [
              1,
              "#f0f921"
             ]
            ],
            "type": "surface"
           }
          ],
          "table": [
           {
            "cells": {
             "fill": {
              "color": "#EBF0F8"
             },
             "line": {
              "color": "white"
             }
            },
            "header": {
             "fill": {
              "color": "#C8D4E3"
             },
             "line": {
              "color": "white"
             }
            },
            "type": "table"
           }
          ]
         },
         "layout": {
          "annotationdefaults": {
           "arrowcolor": "#2a3f5f",
           "arrowhead": 0,
           "arrowwidth": 1
          },
          "autotypenumbers": "strict",
          "coloraxis": {
           "colorbar": {
            "outlinewidth": 0,
            "ticks": ""
           }
          },
          "colorscale": {
           "diverging": [
            [
             0,
             "#8e0152"
            ],
            [
             0.1,
             "#c51b7d"
            ],
            [
             0.2,
             "#de77ae"
            ],
            [
             0.3,
             "#f1b6da"
            ],
            [
             0.4,
             "#fde0ef"
            ],
            [
             0.5,
             "#f7f7f7"
            ],
            [
             0.6,
             "#e6f5d0"
            ],
            [
             0.7,
             "#b8e186"
            ],
            [
             0.8,
             "#7fbc41"
            ],
            [
             0.9,
             "#4d9221"
            ],
            [
             1,
             "#276419"
            ]
           ],
           "sequential": [
            [
             0,
             "#0d0887"
            ],
            [
             0.1111111111111111,
             "#46039f"
            ],
            [
             0.2222222222222222,
             "#7201a8"
            ],
            [
             0.3333333333333333,
             "#9c179e"
            ],
            [
             0.4444444444444444,
             "#bd3786"
            ],
            [
             0.5555555555555556,
             "#d8576b"
            ],
            [
             0.6666666666666666,
             "#ed7953"
            ],
            [
             0.7777777777777778,
             "#fb9f3a"
            ],
            [
             0.8888888888888888,
             "#fdca26"
            ],
            [
             1,
             "#f0f921"
            ]
           ],
           "sequentialminus": [
            [
             0,
             "#0d0887"
            ],
            [
             0.1111111111111111,
             "#46039f"
            ],
            [
             0.2222222222222222,
             "#7201a8"
            ],
            [
             0.3333333333333333,
             "#9c179e"
            ],
            [
             0.4444444444444444,
             "#bd3786"
            ],
            [
             0.5555555555555556,
             "#d8576b"
            ],
            [
             0.6666666666666666,
             "#ed7953"
            ],
            [
             0.7777777777777778,
             "#fb9f3a"
            ],
            [
             0.8888888888888888,
             "#fdca26"
            ],
            [
             1,
             "#f0f921"
            ]
           ]
          },
          "colorway": [
           "#636efa",
           "#EF553B",
           "#00cc96",
           "#ab63fa",
           "#FFA15A",
           "#19d3f3",
           "#FF6692",
           "#B6E880",
           "#FF97FF",
           "#FECB52"
          ],
          "font": {
           "color": "#2a3f5f"
          },
          "geo": {
           "bgcolor": "white",
           "lakecolor": "white",
           "landcolor": "#E5ECF6",
           "showlakes": true,
           "showland": true,
           "subunitcolor": "white"
          },
          "hoverlabel": {
           "align": "left"
          },
          "hovermode": "closest",
          "mapbox": {
           "style": "light"
          },
          "paper_bgcolor": "white",
          "plot_bgcolor": "#E5ECF6",
          "polar": {
           "angularaxis": {
            "gridcolor": "white",
            "linecolor": "white",
            "ticks": ""
           },
           "bgcolor": "#E5ECF6",
           "radialaxis": {
            "gridcolor": "white",
            "linecolor": "white",
            "ticks": ""
           }
          },
          "scene": {
           "xaxis": {
            "backgroundcolor": "#E5ECF6",
            "gridcolor": "white",
            "gridwidth": 2,
            "linecolor": "white",
            "showbackground": true,
            "ticks": "",
            "zerolinecolor": "white"
           },
           "yaxis": {
            "backgroundcolor": "#E5ECF6",
            "gridcolor": "white",
            "gridwidth": 2,
            "linecolor": "white",
            "showbackground": true,
            "ticks": "",
            "zerolinecolor": "white"
           },
           "zaxis": {
            "backgroundcolor": "#E5ECF6",
            "gridcolor": "white",
            "gridwidth": 2,
            "linecolor": "white",
            "showbackground": true,
            "ticks": "",
            "zerolinecolor": "white"
           }
          },
          "shapedefaults": {
           "line": {
            "color": "#2a3f5f"
           }
          },
          "ternary": {
           "aaxis": {
            "gridcolor": "white",
            "linecolor": "white",
            "ticks": ""
           },
           "baxis": {
            "gridcolor": "white",
            "linecolor": "white",
            "ticks": ""
           },
           "bgcolor": "#E5ECF6",
           "caxis": {
            "gridcolor": "white",
            "linecolor": "white",
            "ticks": ""
           }
          },
          "title": {
           "x": 0.05
          },
          "xaxis": {
           "automargin": true,
           "gridcolor": "white",
           "linecolor": "white",
           "ticks": "",
           "title": {
            "standoff": 15
           },
           "zerolinecolor": "white",
           "zerolinewidth": 2
          },
          "yaxis": {
           "automargin": true,
           "gridcolor": "white",
           "linecolor": "white",
           "ticks": "",
           "title": {
            "standoff": 15
           },
           "zerolinecolor": "white",
           "zerolinewidth": 2
          }
         }
        },
        "title": {
         "text": "Distribution du Nombre de Connexions"
        },
        "xaxis": {
         "anchor": "y",
         "domain": [
          0,
          1
         ],
         "title": {
          "text": "Nombre de connexions"
         }
        },
        "yaxis": {
         "anchor": "x",
         "domain": [
          0,
          1
         ],
         "title": {
          "text": "count"
         }
        }
       }
      }
     },
     "metadata": {},
     "output_type": "display_data"
    }
   ],
   "source": [
    "# =====================================================\n",
    "# 5️⃣ ANALYSE DE LA CONNECTIVITÉ\n",
    "# =====================================================\n",
    "print(\"\\n📈 CONNECTIVITÉ DU RÉSEAU:\")\n",
    "print(\"-\" * 25)\n",
    "\n",
    "degrees = [d for n, d in G.degree()]\n",
    "if degrees:\n",
    "    print(f\"• Degré moyen: {np.mean(degrees):.1f}\")\n",
    "    print(f\"• Degré max: {max(degrees)}\")\n",
    "    print(f\"• Densité du réseau: {nx.density(G):.4f}\")\n",
    "\n",
    "    # Histogramme des degrés\n",
    "    fig = px.histogram(x=degrees, nbins=50, \n",
    "                      title=\"Distribution du Nombre de Connexions\",\n",
    "                      labels={'x': 'Nombre de connexions', 'y': 'Nombre de nœuds'})\n",
    "    fig.show()"
   ]
  },
  {
   "cell_type": "code",
   "execution_count": 89,
   "id": "bdcdf8fe",
   "metadata": {},
   "outputs": [],
   "source": [
    "# %% --------------------------------------------------\n",
    "# 📊 CALCULS ET SIGNIFICATIONS DES TYPOLOGIES\n",
    "# --------------------------------------------------\n",
    "\n"
   ]
  },
  {
   "cell_type": "markdown",
   "id": "726a9ff0",
   "metadata": {},
   "source": [
    "Avant la visualisation et les calculs, on va voir certaines notions et définitions pour pouvoir construire, comprendre, et interpréter nos futures visualisations"
   ]
  },
  {
   "cell_type": "markdown",
   "id": "cb86b263",
   "metadata": {},
   "source": [
    " Typologies d’acteurs dans les réseaux offshores\n",
    "\n",
    "Les réseaux issus des Panama Papers révèlent différents rôles selon la position et l’influence des acteurs dans le graphe.  \n",
    "Ces rôles sont déduits automatiquement à partir de la centralité (betweenness) et du degré de connexion.\n",
    "\n",
    "\n",
    " ARCHITECTE  \n",
    "→ Le cerveau du système  \n",
    "Cabinets d’avocats ou sociétés fiduciaires qui créent et contrôlent les structures offshores.  \n",
    "- Très haute centralité et degré  \n",
    "- Position stratégique : tout passe par eux  \n",
    "\n",
    "\n",
    " PASSERELLE  \n",
    "→ Le pont entre les groupes  \n",
    "Relie les architectes, les clients et les sociétés-écrans dans plusieurs juridictions.  \n",
    "- Centralité moyenne à élevée  \n",
    "- Peu de liens, mais très stratégiques  \n",
    "\n",
    "\n",
    " SATELLITE  \n",
    "→ L’actif sans pouvoir  \n",
    "Souvent un dirigeant nominal ou officier administratif présent sur plusieurs entités.  \n",
    "- Beaucoup de connexions (haut degré)  \n",
    "- Faible centralité, peu d’influence  \n",
    "\n",
    "\n",
    " INTERMÉDIAIRE SECONDAIRE  \n",
    "→ Le suiveur du système  \n",
    "Petits acteurs locaux (comptables, agents) qui exécutent les instructions.  \n",
    "- Centralité et degré moyens  \n",
    "- Rôle d’appui, sans impact stratégique  \n",
    "\n",
    "\n",
    " ISOLÉ  \n",
    "→ Le solitaire  \n",
    "Entités marginales ou sociétés inactives, peu connectées au reste du réseau.  \n",
    "- Très faible degré  \n",
    "- Centralité quasi nulle  \n",
    "\n",
    "\n",
    " En résumé\n",
    "- Architecte = le cerveau  \n",
    "- Passerelle = le lien  \n",
    "- Satellite = le visage visible  \n",
    "- Intermédiaire = le soutien  \n",
    "- Isolé = l’écarté  \n",
    "\n",
    "Ces catégories permettent de lire la structure cachée du pouvoir financier dans les réseaux offshores.\n"
   ]
  },
  {
   "cell_type": "code",
   "execution_count": 90,
   "id": "159ca26f",
   "metadata": {},
   "outputs": [],
   "source": [
    "# %% --------------------------------------------------\n",
    "# 🌐 UNIVERS 1 – INTERMÉDIAIRES CENTRAUX : ANALYSE AVANCÉE (Top 35)\n",
    "# Version optimisée - Hover lisible et légende simplifiée\n",
    "# --------------------------------------------------\n",
    "import pandas as pd\n",
    "import networkx as nx\n",
    "import plotly.graph_objects as go\n",
    "from collections import Counter\n",
    "import numpy as np\n",
    "\n",
    "# =====================================================\n",
    "# 1️⃣ CONFIGURATION ET PARAMÈTRES VISUELS\n",
    "# =====================================================\n",
    "COLOR_PALETTE = {\n",
    "    'background': '#f8f9fa',\n",
    "    'paper': '#ffffff',\n",
    "    'grid': '#e9ecef',\n",
    "    'text': '#2c3e50',\n",
    "    'accent': '#3498db'\n",
    "}\n",
    "\n",
    "TYPO_COLORS = {\n",
    "    \"Architecte\": \"#e74c3c\",\n",
    "    \"Passerelle\": \"#f39c12\",\n",
    "    \"Satellite\": \"#27ae60\",\n",
    "    \"Intermédiaire secondaire\": \"#95a5a6\",\n",
    "    \"Isolé\": \"#bdc3c7\",\n",
    "    \"Inconnu\": \"#7f8c8d\"\n",
    "}\n",
    "\n",
    "SYMBOL_MAP = {\n",
    "    \"Company\": \"circle\",\n",
    "    \"Officer\": \"square\",\n",
    "    \"Address\": \"triangle-up\",\n",
    "    \"Entity\": \"diamond\",\n",
    "    \"N/A\": \"cross\"\n",
    "}"
   ]
  },
  {
   "cell_type": "code",
   "execution_count": 91,
   "id": "260be8c5",
   "metadata": {},
   "outputs": [
    {
     "name": "stdout",
     "output_type": "stream",
     "text": [
      "🔍 Extraction des données en cours...\n"
     ]
    }
   ],
   "source": [
    "# =====================================================\n",
    "# 2️⃣ EXTRACTION ET ANALYSE DES DONNÉES\n",
    "# =====================================================\n",
    "attrs = [\"name\", \"node_type\", \"jurisdiction_description\", \"countries\", \"degree\", \"betweenness\", \"leiden\"]\n",
    "\n",
    "print(\"🔍 Extraction des données en cours...\")\n",
    "data = []\n",
    "for n, d in G.nodes(data=True):\n",
    "    row = {\"id\": n}\n",
    "    for a in attrs:\n",
    "        row[a] = d.get(a)\n",
    "    data.append(row)\n",
    "\n",
    "df = pd.DataFrame(data).sort_values(\"betweenness\", ascending=False).reset_index(drop=True)\n",
    "\n",
    "# Nettoyage et enrichissement des données\n",
    "df[\"jurisdiction_description\"] = df.apply(\n",
    "    lambda row: row[\"jurisdiction_description\"]\n",
    "                if pd.notna(row[\"jurisdiction_description\"]) and row[\"jurisdiction_description\"] != \"\"\n",
    "                else row[\"countries\"],\n",
    "    axis=1\n",
    ")\n",
    "\n",
    "# Classification avancée\n",
    "def classify_advanced(row):\n",
    "    deg, bet = row[\"degree\"], row[\"betweenness\"]\n",
    "    if pd.isna(deg) or pd.isna(bet):\n",
    "        return \"Inconnu\"\n",
    "\n",
    "    bet_threshold_high = df[\"betweenness\"].quantile(0.95)\n",
    "    bet_threshold_medium = df[\"betweenness\"].quantile(0.85)\n",
    "    deg_threshold_high = df[\"degree\"].quantile(0.90)\n",
    "\n",
    "    if bet > bet_threshold_high and deg > deg_threshold_high:\n",
    "        return \"Architecte\"\n",
    "    elif bet > bet_threshold_medium:\n",
    "        return \"Passerelle\"\n",
    "    elif deg > deg_threshold_high:\n",
    "        return \"Satellite\"\n",
    "    elif deg < df[\"degree\"].quantile(0.25):\n",
    "        return \"Isolé\"\n",
    "    else:\n",
    "        return \"Intermédiaire secondaire\"\n",
    "\n",
    "df[\"typologie\"] = df.apply(classify_advanced, axis=1)\n",
    "\n",
    "# Communautés\n",
    "leiden_countries = (\n",
    "    df.groupby(\"leiden\")[\"jurisdiction_description\"]\n",
    "    .apply(lambda x: Counter([v for v in x if pd.notna(v)]).most_common(1)[0][0]\n",
    "           if any(pd.notna(x)) else \"Non spécifié\")\n",
    "    .to_dict()\n",
    ")\n",
    "df[\"pays_dominant_communauté\"] = df[\"leiden\"].map(leiden_countries)"
   ]
  },
  {
   "cell_type": "code",
   "execution_count": 92,
   "id": "573e5415",
   "metadata": {},
   "outputs": [],
   "source": [
    "# Top 35\n",
    "top35 = df.head(35).copy()"
   ]
  },
  {
   "cell_type": "code",
   "execution_count": 93,
   "id": "779489f2",
   "metadata": {},
   "outputs": [
    {
     "name": "stdout",
     "output_type": "stream",
     "text": [
      "🔄 Calcul du layout...\n"
     ]
    }
   ],
   "source": [
    "# =====================================================\n",
    "# 3️⃣ PRÉPARATION DU GRAPHE\n",
    "# =====================================================\n",
    "top_ids = set(top35[\"id\"])\n",
    "G_focus = G.subgraph(top_ids).copy()\n",
    "\n",
    "print(\"🔄 Calcul du layout...\")\n",
    "pos = nx.spring_layout(G_focus, k=2, iterations=50, seed=42)"
   ]
  },
  {
   "cell_type": "code",
   "execution_count": 94,
   "id": "dc99ad09",
   "metadata": {},
   "outputs": [],
   "source": [
    "# =====================================================\n",
    "# 4️⃣ CRÉATION DE LA VISUALISATION AVANCÉE\n",
    "# =====================================================\n",
    "\n",
    "\n",
    "# Arêtes\n",
    "edge_x, edge_y = [], []\n",
    "for edge in G_focus.edges():\n",
    "    x0, y0 = pos[edge[0]]\n",
    "    x1, y1 = pos[edge[1]]\n",
    "    edge_x.extend([x0, x1, None])\n",
    "    edge_y.extend([y0, y1, None])\n",
    "\n",
    "edge_trace = go.Scatter(\n",
    "    x=edge_x, y=edge_y,\n",
    "    line=dict(width=0.8, color='rgba(169, 169, 169, 0.4)'),\n",
    "    hoverinfo='none',\n",
    "    mode='lines',\n",
    "    showlegend=False\n",
    ")"
   ]
  },
  {
   "cell_type": "code",
   "execution_count": 95,
   "id": "a9b69ff6",
   "metadata": {},
   "outputs": [],
   "source": [
    "# Nœuds par type\n",
    "node_traces = []\n",
    "node_types = sorted(top35[\"node_type\"].dropna().unique())\n",
    "\n",
    "for node_type in node_types:\n",
    "    subset = top35[top35[\"node_type\"] == node_type]\n",
    "\n",
    "    node_x, node_y, sizes, colors, borders, hover_texts = [], [], [], [], [], []\n",
    "\n",
    "    for _, row in subset.iterrows():\n",
    "        node_id = row[\"id\"]\n",
    "        if node_id not in pos:\n",
    "            continue\n",
    "\n",
    "        x, y = pos[node_id]\n",
    "        node_x.append(x)\n",
    "        node_y.append(y)\n",
    "\n",
    "        size = 15 + np.log1p(row[\"degree\"]) * 8\n",
    "        sizes.append(size)\n",
    "\n",
    "        colors.append(row[\"leiden\"])\n",
    "        borders.append(TYPO_COLORS.get(row[\"typologie\"], \"#7f8c8d\"))\n",
    "\n",
    "        hover_text = (\n",
    "            f\"<span style='color:white;'>\"\n",
    "            f\"<b>{row['name']}</b><br>\"\n",
    "            f\"<b>Type:</b> {row['node_type']} | <b>Typologie:</b> {row['typologie']}<br>\"\n",
    "            f\"<b>Pays:</b> {row['jurisdiction_description']}<br>\"\n",
    "            f\"<b>Degré:</b> {row['degree']} | <b>Betweenness:</b> {row['betweenness']:.4f}<br>\"\n",
    "            f\"<b>Communauté Leiden:</b> {row['leiden']}<br>\"\n",
    "            f\"<b>Pays dominant:</b> {row['pays_dominant_communauté']}\"\n",
    "            f\"</span>\"\n",
    "        )\n",
    "        hover_texts.append(hover_text)\n",
    "\n",
    "    node_trace = go.Scatter(\n",
    "        x=node_x, y=node_y,\n",
    "        mode='markers',\n",
    "        marker=dict(\n",
    "            symbol=SYMBOL_MAP.get(node_type, \"circle\"),\n",
    "            size=sizes,\n",
    "            color=colors,\n",
    "            colorscale='Viridis',\n",
    "            showscale=False,\n",
    "            opacity=0.9,\n",
    "            line=dict(width=3, color=borders)\n",
    "        ),\n",
    "        text=hover_texts,\n",
    "        hoverinfo='text',\n",
    "        name=node_type,\n",
    "        hovertemplate='%{text}<extra></extra>'\n",
    "    )\n",
    "    node_traces.append(node_trace)"
   ]
  },
  {
   "cell_type": "code",
   "execution_count": 96,
   "id": "690d0d4b",
   "metadata": {},
   "outputs": [
    {
     "name": "stdout",
     "output_type": "stream",
     "text": [
      "🚀 Affichage du graphique avec labels visibles...\n",
      "📌 Les 10 nœuds les plus centraux sont annotés directement\n"
     ]
    },
    {
     "data": {
      "application/vnd.plotly.v1+json": {
       "config": {
        "plotlyServerURL": "https://plot.ly"
       },
       "data": [
        {
         "hoverinfo": "none",
         "line": {
          "color": "rgba(169, 169, 169, 0.4)",
          "width": 0.8
         },
         "mode": "lines",
         "showlegend": false,
         "type": "scatter",
         "x": [
          0.152142074178196,
          -0.01861480320555479,
          null,
          0.152142074178196,
          0.8267047621901841,
          null,
          0.152142074178196,
          0.08188493462230977,
          null,
          0.152142074178196,
          0.48869715309996603,
          null,
          0.152142074178196,
          -0.19389215641404586,
          null,
          0.152142074178196,
          0.051830183634077175,
          null,
          0.8308640456036365,
          -0.01861480320555479,
          null,
          0.8308640456036365,
          -0.20597425957997412,
          null,
          0.8308640456036365,
          -0.7972771106684096,
          null,
          0.8308640456036365,
          0.5332056933217638,
          null,
          0.8308640456036365,
          0.47193956125595155,
          null,
          -0.28154643224296844,
          -0.01861480320555479,
          null,
          -0.28154643224296844,
          0.47193956125595155,
          null,
          -0.28154643224296844,
          0.5252418605189051,
          null,
          -0.28154643224296844,
          0.8642370086592814,
          null,
          -0.28154643224296844,
          -0.5004115690509435,
          null,
          -0.28154643224296844,
          1,
          null,
          -0.7972771106684096,
          -0.01861480320555479,
          null,
          -0.7972771106684096,
          -0.8226127524012361,
          null,
          -0.7972771106684096,
          0.8267047621901841,
          null,
          -0.7972771106684096,
          -0.8580596859145568,
          null,
          -0.7972771106684096,
          0.051830183634077175,
          null,
          0.48869715309996603,
          -0.01861480320555479,
          null,
          0.48869715309996603,
          0.1033286262497503,
          null,
          0.48869715309996603,
          0.47193956125595155,
          null,
          0.48869715309996603,
          -0.6024225719400732,
          null,
          -0.6024225719400732,
          -0.01861480320555479,
          null,
          -0.6024225719400732,
          0.7699676190641626,
          null,
          -0.6024225719400732,
          0.4525659255047383,
          null,
          -0.6024225719400732,
          0.5598296449515924,
          null,
          0.8642370086592814,
          -0.01861480320555479,
          null,
          0.8642370086592814,
          -0.19389215641404586,
          null,
          0.8642370086592814,
          0.051830183634077175,
          null,
          -0.38532505287096397,
          -0.19389215641404586,
          null,
          -0.38532505287096397,
          0.051830183634077175,
          null,
          0.1033286262497503,
          -0.01861480320555479,
          null,
          0.1033286262497503,
          0.7699676190641626,
          null,
          0.1033286262497503,
          -0.19389215641404586,
          null,
          0.1033286262497503,
          0.5598296449515924,
          null,
          0.1033286262497503,
          0.051830183634077175,
          null,
          0.5598296449515924,
          -0.01861480320555479,
          null,
          0.5598296449515924,
          0.47193956125595155,
          null,
          0.5598296449515924,
          0.5252418605189051,
          null,
          0.5332056933217638,
          0.08188493462230977,
          null,
          -0.6303463572835576,
          -0.01861480320555479,
          null,
          -0.6303463572835576,
          0.7699676190641626,
          null,
          -0.6303463572835576,
          -0.19389215641404586,
          null,
          0.051830183634077175,
          -0.01861480320555479,
          null,
          0.051830183634077175,
          -0.9414791532626996,
          null,
          0.051830183634077175,
          0.3594202113427804,
          null,
          0.051830183634077175,
          -0.9189803387528991,
          null,
          0.051830183634077175,
          -0.20597425957997412,
          null,
          0.051830183634077175,
          -0.1225323878562558,
          null,
          0.051830183634077175,
          0.33743534708559536,
          null,
          0.051830183634077175,
          0.5252418605189051,
          null,
          0.051830183634077175,
          0.32864580146328926,
          null,
          0.051830183634077175,
          -0.5004115690509435,
          null,
          0.051830183634077175,
          1,
          null,
          -0.9189803387528991,
          -0.01861480320555479,
          null,
          -0.9189803387528991,
          0.4525659255047383,
          null,
          -0.9189803387528991,
          0.08188493462230977,
          null,
          0.3594202113427804,
          -0.01861480320555479,
          null,
          0.3594202113427804,
          0.4525659255047383,
          null,
          0.3594202113427804,
          0.8267047621901841,
          null,
          0.3594202113427804,
          -0.40387295109243626,
          null,
          0.5252418605189051,
          -0.01861480320555479,
          null,
          0.5252418605189051,
          0.7699676190641626,
          null,
          0.5252418605189051,
          -0.8226127524012361,
          null,
          0.5252418605189051,
          0.08188493462230977,
          null,
          0.5252418605189051,
          -0.40387295109243626,
          null,
          -0.01861480320555479,
          0.7699676190641626,
          null,
          -0.01861480320555479,
          -0.20597425957997412,
          null,
          -0.01861480320555479,
          -0.8226127524012361,
          null,
          -0.01861480320555479,
          0.4525659255047383,
          null,
          -0.01861480320555479,
          0.8267047621901841,
          null,
          -0.01861480320555479,
          0.08188493462230977,
          null,
          -0.01861480320555479,
          -0.19389215641404586,
          null,
          -0.01861480320555479,
          0.33743534708559536,
          null,
          -0.01861480320555479,
          0.47193956125595155,
          null,
          -0.01861480320555479,
          -0.8580596859145568,
          null,
          -0.01861480320555479,
          -0.40387295109243626,
          null,
          -0.01861480320555479,
          0.32864580146328926,
          null,
          -0.01861480320555479,
          1,
          null,
          0.8267047621901841,
          0.33743534708559536,
          null,
          -0.1225323878562558,
          0.4525659255047383,
          null,
          0.4525659255047383,
          0.33743534708559536,
          null,
          0.4525659255047383,
          0.47193956125595155,
          null,
          0.4525659255047383,
          0.32864580146328926,
          null,
          0.4525659255047383,
          1,
          null,
          -0.9478873063564317,
          -0.19389215641404586,
          null,
          -0.8226127524012361,
          -0.20597425957997412,
          null,
          -0.8226127524012361,
          0.33743534708559536,
          null,
          -0.8226127524012361,
          -0.5004115690509435,
          null,
          -0.10670556385317359,
          0.08188493462230977,
          null,
          0.32864580146328926,
          -0.8580596859145568,
          null,
          0.32864580146328926,
          -0.40387295109243626,
          null,
          0.08188493462230977,
          0.47193956125595155,
          null,
          0.47193956125595155,
          0.7699676190641626,
          null,
          0.47193956125595155,
          -0.19389215641404586,
          null,
          0.47193956125595155,
          -0.8580596859145568,
          null,
          0.33743534708559536,
          -0.40387295109243626,
          null,
          -0.19389215641404586,
          -0.5004115690509435,
          null,
          0.7699676190641626,
          -0.20597425957997412,
          null,
          -0.40387295109243626,
          -0.5004115690509435,
          null
         ],
         "y": [
          0.9420496953610549,
          0.1917216663010318,
          null,
          0.9420496953610549,
          0.5727591202783061,
          null,
          0.9420496953610549,
          -0.5505901462457538,
          null,
          0.9420496953610549,
          0.7418196540500501,
          null,
          0.9420496953610549,
          -0.33333118664141387,
          null,
          0.9420496953610549,
          0.06868500032578645,
          null,
          0.3778223955093364,
          0.1917216663010318,
          null,
          0.3778223955093364,
          0.9752490432913544,
          null,
          0.3778223955093364,
          0.37961608099959643,
          null,
          0.3778223955093364,
          -0.8264943073410054,
          null,
          0.3778223955093364,
          0.32489823723597716,
          null,
          -0.6231536698616522,
          0.1917216663010318,
          null,
          -0.6231536698616522,
          0.32489823723597716,
          null,
          -0.6231536698616522,
          -0.61678602336427,
          null,
          -0.6231536698616522,
          -0.5044599287482104,
          null,
          -0.6231536698616522,
          0.8017151108456984,
          null,
          -0.6231536698616522,
          0.10083559377447598,
          null,
          0.37961608099959643,
          0.1917216663010318,
          null,
          0.37961608099959643,
          0.5691415196764926,
          null,
          0.37961608099959643,
          0.5727591202783061,
          null,
          0.37961608099959643,
          -0.5422277982472072,
          null,
          0.37961608099959643,
          0.06868500032578645,
          null,
          0.7418196540500501,
          0.1917216663010318,
          null,
          0.7418196540500501,
          -0.23706092367384654,
          null,
          0.7418196540500501,
          0.32489823723597716,
          null,
          0.7418196540500501,
          0.8031489384133911,
          null,
          0.8031489384133911,
          0.1917216663010318,
          null,
          0.8031489384133911,
          -0.036024210976405,
          null,
          0.8031489384133911,
          0.07938628915856924,
          null,
          0.8031489384133911,
          -0.3742478875710405,
          null,
          -0.5044599287482104,
          0.1917216663010318,
          null,
          -0.5044599287482104,
          -0.33333118664141387,
          null,
          -0.5044599287482104,
          0.06868500032578645,
          null,
          -0.9160401429277383,
          -0.33333118664141387,
          null,
          -0.9160401429277383,
          0.06868500032578645,
          null,
          -0.23706092367384654,
          0.1917216663010318,
          null,
          -0.23706092367384654,
          -0.036024210976405,
          null,
          -0.23706092367384654,
          -0.33333118664141387,
          null,
          -0.23706092367384654,
          -0.3742478875710405,
          null,
          -0.23706092367384654,
          0.06868500032578645,
          null,
          -0.3742478875710405,
          0.1917216663010318,
          null,
          -0.3742478875710405,
          0.32489823723597716,
          null,
          -0.3742478875710405,
          -0.61678602336427,
          null,
          -0.8264943073410054,
          -0.5505901462457538,
          null,
          -0.6766013530956971,
          0.1917216663010318,
          null,
          -0.6766013530956971,
          -0.036024210976405,
          null,
          -0.6766013530956971,
          -0.33333118664141387,
          null,
          0.06868500032578645,
          0.1917216663010318,
          null,
          0.06868500032578645,
          -0.3458292486709046,
          null,
          0.06868500032578645,
          -0.9486933899088753,
          null,
          0.06868500032578645,
          0.07877675981771369,
          null,
          0.06868500032578645,
          0.9752490432913544,
          null,
          0.06868500032578645,
          -0.989510358729796,
          null,
          0.06868500032578645,
          0.8984739423783726,
          null,
          0.06868500032578645,
          -0.61678602336427,
          null,
          0.06868500032578645,
          -0.20454069893112592,
          null,
          0.06868500032578645,
          0.8017151108456984,
          null,
          0.06868500032578645,
          0.10083559377447598,
          null,
          0.07877675981771369,
          0.1917216663010318,
          null,
          0.07877675981771369,
          0.07938628915856924,
          null,
          0.07877675981771369,
          -0.5505901462457538,
          null,
          -0.9486933899088753,
          0.1917216663010318,
          null,
          -0.9486933899088753,
          0.07938628915856924,
          null,
          -0.9486933899088753,
          0.5727591202783061,
          null,
          -0.9486933899088753,
          0.10306190525147467,
          null,
          -0.61678602336427,
          0.1917216663010318,
          null,
          -0.61678602336427,
          -0.036024210976405,
          null,
          -0.61678602336427,
          0.5691415196764926,
          null,
          -0.61678602336427,
          -0.5505901462457538,
          null,
          -0.61678602336427,
          0.10306190525147467,
          null,
          0.1917216663010318,
          -0.036024210976405,
          null,
          0.1917216663010318,
          0.9752490432913544,
          null,
          0.1917216663010318,
          0.5691415196764926,
          null,
          0.1917216663010318,
          0.07938628915856924,
          null,
          0.1917216663010318,
          0.5727591202783061,
          null,
          0.1917216663010318,
          -0.5505901462457538,
          null,
          0.1917216663010318,
          -0.33333118664141387,
          null,
          0.1917216663010318,
          0.8984739423783726,
          null,
          0.1917216663010318,
          0.32489823723597716,
          null,
          0.1917216663010318,
          -0.5422277982472072,
          null,
          0.1917216663010318,
          0.10306190525147467,
          null,
          0.1917216663010318,
          -0.20454069893112592,
          null,
          0.1917216663010318,
          0.10083559377447598,
          null,
          0.5727591202783061,
          0.8984739423783726,
          null,
          -0.989510358729796,
          0.07938628915856924,
          null,
          0.07938628915856924,
          0.8984739423783726,
          null,
          0.07938628915856924,
          0.32489823723597716,
          null,
          0.07938628915856924,
          -0.20454069893112592,
          null,
          0.07938628915856924,
          0.10083559377447598,
          null,
          -0.14946173085757827,
          -0.33333118664141387,
          null,
          0.5691415196764926,
          0.9752490432913544,
          null,
          0.5691415196764926,
          0.8984739423783726,
          null,
          0.5691415196764926,
          0.8017151108456984,
          null,
          0.8658920531238364,
          -0.5505901462457538,
          null,
          -0.20454069893112592,
          -0.5422277982472072,
          null,
          -0.20454069893112592,
          0.10306190525147467,
          null,
          -0.5505901462457538,
          0.32489823723597716,
          null,
          0.32489823723597716,
          -0.036024210976405,
          null,
          0.32489823723597716,
          -0.33333118664141387,
          null,
          0.32489823723597716,
          -0.5422277982472072,
          null,
          0.8984739423783726,
          0.10306190525147467,
          null,
          -0.33333118664141387,
          0.8017151108456984,
          null,
          -0.036024210976405,
          0.9752490432913544,
          null,
          0.10306190525147467,
          0.8017151108456984,
          null
         ]
        },
        {
         "hoverinfo": "text",
         "hovertemplate": "%{text}<extra></extra>",
         "marker": {
          "color": [
           3
          ],
          "colorscale": [
           [
            0,
            "#440154"
           ],
           [
            0.1111111111111111,
            "#482878"
           ],
           [
            0.2222222222222222,
            "#3e4989"
           ],
           [
            0.3333333333333333,
            "#31688e"
           ],
           [
            0.4444444444444444,
            "#26828e"
           ],
           [
            0.5555555555555556,
            "#1f9e89"
           ],
           [
            0.6666666666666666,
            "#35b779"
           ],
           [
            0.7777777777777778,
            "#6ece58"
           ],
           [
            0.8888888888888888,
            "#b5de2b"
           ],
           [
            1,
            "#fde725"
           ]
          ],
          "line": {
           "color": [
            "#e74c3c"
           ],
           "width": 3
          },
          "opacity": 0.9,
          "showscale": false,
          "size": [
           67.09396263715783
          ],
          "symbol": "triangle-up"
         },
         "mode": "markers",
         "name": "Address",
         "text": [
          "<span style='color:white;'><b>Argyle House; 41a Cedar Avenue; Hamilton HM 12; Bermuda</b><br><b>Type:</b> Address | <b>Typologie:</b> Architecte<br><b>Pays:</b> Bermuda<br><b>Degré:</b> 672.0 | <b>Betweenness:</b> 41287.1221<br><b>Communauté Leiden:</b> 3<br><b>Pays dominant:</b> Bermuda</span>"
         ],
         "type": "scatter",
         "x": [
          -0.01861480320555479
         ],
         "y": [
          0.1917216663010318
         ]
        },
        {
         "hoverinfo": "text",
         "hovertemplate": "%{text}<extra></extra>",
         "marker": {
          "color": [
           1,
           2,
           0,
           1,
           3,
           6,
           2,
           3,
           3,
           2,
           1,
           1,
           0
          ],
          "colorscale": [
           [
            0,
            "#440154"
           ],
           [
            0.1111111111111111,
            "#482878"
           ],
           [
            0.2222222222222222,
            "#3e4989"
           ],
           [
            0.3333333333333333,
            "#31688e"
           ],
           [
            0.4444444444444444,
            "#26828e"
           ],
           [
            0.5555555555555556,
            "#1f9e89"
           ],
           [
            0.6666666666666666,
            "#35b779"
           ],
           [
            0.7777777777777778,
            "#6ece58"
           ],
           [
            0.8888888888888888,
            "#b5de2b"
           ],
           [
            1,
            "#fde725"
           ]
          ],
          "line": {
           "color": [
            "#f39c12",
            "#f39c12",
            "#f39c12",
            "#f39c12",
            "#f39c12",
            "#f39c12",
            "#f39c12",
            "#f39c12",
            "#f39c12",
            "#f39c12",
            "#f39c12",
            "#f39c12",
            "#f39c12"
           ],
           "width": 3
          },
          "opacity": 0.9,
          "showscale": false,
          "size": [
           30.567281192442508,
           23.78889830934488,
           29.33407575382444,
           29.33407575382444,
           26.090354888959126,
           23.78889830934488,
           26.090354888959126,
           26.090354888959126,
           30.567281192442508,
           20.545177444479563,
           26.090354888959126,
           29.33407575382444,
           26.090354888959126
          ],
          "symbol": "diamond"
         },
         "mode": "markers",
         "name": "Entity",
         "text": [
          "<span style='color:white;'><b>CORONA LTD.</b><br><b>Type:</b> Entity | <b>Typologie:</b> Passerelle<br><b>Pays:</b> Bermuda<br><b>Degré:</b> 6.0 | <b>Betweenness:</b> 1875.5201<br><b>Communauté Leiden:</b> 1<br><b>Pays dominant:</b> Bermuda</span>",
          "<span style='color:white;'><b>Kowo Limited</b><br><b>Type:</b> Entity | <b>Typologie:</b> Passerelle<br><b>Pays:</b> Bermuda<br><b>Degré:</b> 2.0 | <b>Betweenness:</b> 1674.1062<br><b>Communauté Leiden:</b> 2<br><b>Pays dominant:</b> Bermuda</span>",
          "<span style='color:white;'><b>LION CORPORATION LIMITED</b><br><b>Type:</b> Entity | <b>Typologie:</b> Passerelle<br><b>Pays:</b> Bermuda<br><b>Degré:</b> 5.0 | <b>Betweenness:</b> 1542.3517<br><b>Communauté Leiden:</b> 0<br><b>Pays dominant:</b> Bermuda</span>",
          "<span style='color:white;'><b>Olivewood Limited</b><br><b>Type:</b> Entity | <b>Typologie:</b> Passerelle<br><b>Pays:</b> Bermuda<br><b>Degré:</b> 5.0 | <b>Betweenness:</b> 1445.4651<br><b>Communauté Leiden:</b> 1<br><b>Pays dominant:</b> Bermuda</span>",
          "<span style='color:white;'><b>SOLVEST, LTD.</b><br><b>Type:</b> Entity | <b>Typologie:</b> Passerelle<br><b>Pays:</b> Bermuda<br><b>Degré:</b> 3.0 | <b>Betweenness:</b> 1428.2721<br><b>Communauté Leiden:</b> 3<br><b>Pays dominant:</b> Bermuda</span>",
          "<span style='color:white;'><b>Aberystwyth Limited</b><br><b>Type:</b> Entity | <b>Typologie:</b> Passerelle<br><b>Pays:</b> Cayman Islands<br><b>Degré:</b> 2.0 | <b>Betweenness:</b> 1356.7657<br><b>Communauté Leiden:</b> 6<br><b>Pays dominant:</b> Cayman Islands</span>",
          "<span style='color:white;'><b>WOODBRIDGE COMPANY LIMITED</b><br><b>Type:</b> Entity | <b>Typologie:</b> Passerelle<br><b>Pays:</b> Bermuda<br><b>Degré:</b> 3.0 | <b>Betweenness:</b> 827.2414<br><b>Communauté Leiden:</b> 2<br><b>Pays dominant:</b> Bermuda</span>",
          "<span style='color:white;'><b>KINGSTON ASSOCIATES, LTD.</b><br><b>Type:</b> Entity | <b>Typologie:</b> Passerelle<br><b>Pays:</b> Bermuda<br><b>Degré:</b> 3.0 | <b>Betweenness:</b> 802.8221<br><b>Communauté Leiden:</b> 3<br><b>Pays dominant:</b> Bermuda</span>",
          "<span style='color:white;'><b>Tholu Limited</b><br><b>Type:</b> Entity | <b>Typologie:</b> Passerelle<br><b>Pays:</b> Bermuda<br><b>Degré:</b> 6.0 | <b>Betweenness:</b> 710.7070<br><b>Communauté Leiden:</b> 3<br><b>Pays dominant:</b> Bermuda</span>",
          "<span style='color:white;'><b>A.A. LTD.</b><br><b>Type:</b> Entity | <b>Typologie:</b> Passerelle<br><b>Pays:</b> Bermuda<br><b>Degré:</b> 1.0 | <b>Betweenness:</b> 672.1040<br><b>Communauté Leiden:</b> 2<br><b>Pays dominant:</b> Bermuda</span>",
          "<span style='color:white;'><b>THL Ltd.</b><br><b>Type:</b> Entity | <b>Typologie:</b> Passerelle<br><b>Pays:</b> Bermuda<br><b>Degré:</b> 3.0 | <b>Betweenness:</b> 665.7568<br><b>Communauté Leiden:</b> 1<br><b>Pays dominant:</b> Bermuda</span>",
          "<span style='color:white;'><b>Pure Products Limited</b><br><b>Type:</b> Entity | <b>Typologie:</b> Passerelle<br><b>Pays:</b> Bermuda<br><b>Degré:</b> 5.0 | <b>Betweenness:</b> 647.7961<br><b>Communauté Leiden:</b> 1<br><b>Pays dominant:</b> Bermuda</span>",
          "<span style='color:white;'><b>Children's Hospital Integrated Risk Protective Limited</b><br><b>Type:</b> Entity | <b>Typologie:</b> Passerelle<br><b>Pays:</b> Bermuda<br><b>Degré:</b> 3.0 | <b>Betweenness:</b> 637.8345<br><b>Communauté Leiden:</b> 0<br><b>Pays dominant:</b> Bermuda</span>"
         ],
         "type": "scatter",
         "x": [
          0.7699676190641626,
          -0.8580596859145568,
          -0.19389215641404586,
          0.051830183634077175,
          0.48869715309996603,
          0.8267047621901841,
          -0.40387295109243626,
          0.5598296449515924,
          0.4525659255047383,
          -0.28154643224296844,
          0.8308640456036365,
          -0.8226127524012361,
          0.08188493462230977
         ],
         "y": [
          -0.036024210976405,
          -0.5422277982472072,
          -0.33333118664141387,
          0.06868500032578645,
          0.7418196540500501,
          0.5727591202783061,
          0.10306190525147467,
          -0.3742478875710405,
          0.07938628915856924,
          -0.6231536698616522,
          0.3778223955093364,
          0.5691415196764926,
          -0.5505901462457538
         ]
        },
        {
         "hoverinfo": "text",
         "hovertemplate": "%{text}<extra></extra>",
         "marker": {
          "color": [
           2
          ],
          "colorscale": [
           [
            0,
            "#440154"
           ],
           [
            0.1111111111111111,
            "#482878"
           ],
           [
            0.2222222222222222,
            "#3e4989"
           ],
           [
            0.3333333333333333,
            "#31688e"
           ],
           [
            0.4444444444444444,
            "#26828e"
           ],
           [
            0.5555555555555556,
            "#1f9e89"
           ],
           [
            0.6666666666666666,
            "#35b779"
           ],
           [
            0.7777777777777778,
            "#6ece58"
           ],
           [
            0.8888888888888888,
            "#b5de2b"
           ],
           [
            1,
            "#fde725"
           ]
          ],
          "line": {
           "color": [
            "#e74c3c"
           ],
           "width": 3
          },
          "opacity": 0.9,
          "showscale": false,
          "size": [
           53.75349669166873
          ],
          "symbol": "circle"
         },
         "mode": "markers",
         "name": "Intermediary",
         "text": [
          "<span style='color:white;'><b>Appleby Services (Bermuda) Ltd.</b><br><b>Type:</b> Intermediary | <b>Typologie:</b> Architecte<br><b>Pays:</b> Bermuda<br><b>Degré:</b> 126.0 | <b>Betweenness:</b> 41032.3032<br><b>Communauté Leiden:</b> 2<br><b>Pays dominant:</b> Bermuda</span>"
         ],
         "type": "scatter",
         "x": [
          0.47193956125595155
         ],
         "y": [
          0.32489823723597716
         ]
        },
        {
         "hoverinfo": "text",
         "hovertemplate": "%{text}<extra></extra>",
         "marker": {
          "color": [
           0,
           0,
           1,
           1,
           1,
           2,
           3,
           2,
           1,
           0,
           0,
           0,
           0,
           2,
           3,
           0,
           0,
           1,
           0,
           4
          ],
          "colorscale": [
           [
            0,
            "#440154"
           ],
           [
            0.1111111111111111,
            "#482878"
           ],
           [
            0.2222222222222222,
            "#3e4989"
           ],
           [
            0.3333333333333333,
            "#31688e"
           ],
           [
            0.4444444444444444,
            "#26828e"
           ],
           [
            0.5555555555555556,
            "#1f9e89"
           ],
           [
            0.6666666666666666,
            "#35b779"
           ],
           [
            0.7777777777777778,
            "#6ece58"
           ],
           [
            0.8888888888888888,
            "#b5de2b"
           ],
           [
            1,
            "#fde725"
           ]
          ],
          "line": {
           "color": [
            "#e74c3c",
            "#e74c3c",
            "#e74c3c",
            "#e74c3c",
            "#e74c3c",
            "#e74c3c",
            "#e74c3c",
            "#e74c3c",
            "#e74c3c",
            "#e74c3c",
            "#e74c3c",
            "#e74c3c",
            "#e74c3c",
            "#e74c3c",
            "#e74c3c",
            "#e74c3c",
            "#e74c3c",
            "#e74c3c",
            "#e74c3c",
            "#e74c3c"
           ],
           "width": 3
          },
          "opacity": 0.9,
          "showscale": false,
          "size": [
           49.64586672229065,
           48.756061641408856,
           55.085082352770044,
           45.27351707134609,
           44.901356946266944,
           45.62913117191276,
           51.26079594522605,
           43.442784491915305,
           47.3444101426764,
           51.34635825816003,
           49.64586672229065,
           41.9383666398918,
           45.45329991816256,
           34.879253198304,
           38.55551183333152,
           36.11245863692207,
           37.18070977791825,
           32.57779661868976,
           34.183162182386965,
           53.16547699572532
          ],
          "symbol": "square"
         },
         "mode": "markers",
         "name": "Officer",
         "text": [
          "<span style='color:white;'><b>Burns - Michael J</b><br><b>Type:</b> Officer | <b>Typologie:</b> Architecte<br><b>Pays:</b> Bermuda;British Virgin Islands;Canada<br><b>Degré:</b> 75.0 | <b>Betweenness:</b> 12041.2640<br><b>Communauté Leiden:</b> 0<br><b>Pays dominant:</b> Bermuda</span>",
          "<span style='color:white;'><b>Faries - Timothy Carrick</b><br><b>Type:</b> Officer | <b>Typologie:</b> Architecte<br><b>Pays:</b> Bermuda;United Kingdom<br><b>Degré:</b> 67.0 | <b>Betweenness:</b> 11718.0105<br><b>Communauté Leiden:</b> 0<br><b>Pays dominant:</b> Bermuda</span>",
          "<span style='color:white;'><b>Counsell - Timothy J</b><br><b>Type:</b> Officer | <b>Typologie:</b> Architecte<br><b>Pays:</b> Bermuda;United Kingdom;United States<br><b>Degré:</b> 149.0 | <b>Betweenness:</b> 11427.1052<br><b>Communauté Leiden:</b> 1<br><b>Pays dominant:</b> Bermuda</span>",
          "<span style='color:white;'><b>White - F Chesley</b><br><b>Type:</b> Officer | <b>Typologie:</b> Architecte<br><b>Pays:</b> Bermuda;United Kingdom<br><b>Degré:</b> 43.0 | <b>Betweenness:</b> 9010.6996<br><b>Communauté Leiden:</b> 1<br><b>Pays dominant:</b> Bermuda</span>",
          "<span style='color:white;'><b>Robinson - Kenneth E T</b><br><b>Type:</b> Officer | <b>Typologie:</b> Architecte<br><b>Pays:</b> Bermuda;Cayman Islands;United Kingdom;United States<br><b>Degré:</b> 41.0 | <b>Betweenness:</b> 7701.7083<br><b>Communauté Leiden:</b> 1<br><b>Pays dominant:</b> Bermuda</span>",
          "<span style='color:white;'><b>Collis - Judith</b><br><b>Type:</b> Officer | <b>Typologie:</b> Architecte<br><b>Pays:</b> Bermuda;United Kingdom<br><b>Degré:</b> 45.0 | <b>Betweenness:</b> 7242.3661<br><b>Communauté Leiden:</b> 2<br><b>Pays dominant:</b> Bermuda</span>",
          "<span style='color:white;'><b>Morris - A Shaun</b><br><b>Type:</b> Officer | <b>Typologie:</b> Architecte<br><b>Pays:</b> Bermuda;United Kingdom;United States<br><b>Degré:</b> 92.0 | <b>Betweenness:</b> 5671.0577<br><b>Communauté Leiden:</b> 3<br><b>Pays dominant:</b> Bermuda</span>",
          "<span style='color:white;'><b>Keyes - James Michael</b><br><b>Type:</b> Officer | <b>Typologie:</b> Architecte<br><b>Pays:</b> Bermuda;United Kingdom<br><b>Degré:</b> 34.0 | <b>Betweenness:</b> 5038.2278<br><b>Communauté Leiden:</b> 2<br><b>Pays dominant:</b> Bermuda</span>",
          "<span style='color:white;'><b>Jones - Michael</b><br><b>Type:</b> Officer | <b>Typologie:</b> Architecte<br><b>Pays:</b> Bermuda;United Kingdom;United States<br><b>Degré:</b> 56.0 | <b>Betweenness:</b> 4991.1263<br><b>Communauté Leiden:</b> 1<br><b>Pays dominant:</b> Bermuda</span>",
          "<span style='color:white;'><b>Lines - David R</b><br><b>Type:</b> Officer | <b>Typologie:</b> Architecte<br><b>Pays:</b> Australia;Bermuda;United States<br><b>Degré:</b> 93.0 | <b>Betweenness:</b> 4730.3378<br><b>Communauté Leiden:</b> 0<br><b>Pays dominant:</b> Bermuda</span>",
          "<span style='color:white;'><b>Bossin - Alan Irving</b><br><b>Type:</b> Officer | <b>Typologie:</b> Architecte<br><b>Pays:</b> Bermuda;Canada<br><b>Degré:</b> 75.0 | <b>Betweenness:</b> 4425.2341<br><b>Communauté Leiden:</b> 0<br><b>Pays dominant:</b> Bermuda</span>",
          "<span style='color:white;'><b>Adderley - Donald Bradfield</b><br><b>Type:</b> Officer | <b>Typologie:</b> Architecte<br><b>Pays:</b> Bermuda;United Kingdom<br><b>Degré:</b> 28.0 | <b>Betweenness:</b> 3483.0851<br><b>Communauté Leiden:</b> 0<br><b>Pays dominant:</b> Bermuda</span>",
          "<span style='color:white;'><b>KPMG - Bermuda</b><br><b>Type:</b> Officer | <b>Typologie:</b> Architecte<br><b>Pays:</b> Bermuda<br><b>Degré:</b> 44.0 | <b>Betweenness:</b> 3172.1373<br><b>Communauté Leiden:</b> 0<br><b>Pays dominant:</b> Bermuda</span>",
          "<span style='color:white;'><b>Bubenzer - Peter - Bermuda</b><br><b>Type:</b> Officer | <b>Typologie:</b> Architecte<br><b>Pays:</b> Bermuda;United Kingdom<br><b>Degré:</b> 11.0 | <b>Betweenness:</b> 3169.6760<br><b>Communauté Leiden:</b> 2<br><b>Pays dominant:</b> Bermuda</span>",
          "<span style='color:white;'><b>Richardson-Augustus - Tammy L</b><br><b>Type:</b> Officer | <b>Typologie:</b> Architecte<br><b>Pays:</b> Bermuda;United Kingdom;United States<br><b>Degré:</b> 18.0 | <b>Betweenness:</b> 2803.9541<br><b>Communauté Leiden:</b> 3<br><b>Pays dominant:</b> Bermuda</span>",
          "<span style='color:white;'><b>Deloitte & Touche Ltd. - Bermuda</b><br><b>Type:</b> Officer | <b>Typologie:</b> Architecte<br><b>Pays:</b> Bermuda<br><b>Degré:</b> 13.0 | <b>Betweenness:</b> 2737.4716<br><b>Communauté Leiden:</b> 0<br><b>Pays dominant:</b> Bermuda</span>",
          "<span style='color:white;'><b>Cabral - Warren Wilton</b><br><b>Type:</b> Officer | <b>Typologie:</b> Architecte<br><b>Pays:</b> Bermuda;Switzerland;United Kingdom<br><b>Degré:</b> 15.0 | <b>Betweenness:</b> 2665.5272<br><b>Communauté Leiden:</b> 0<br><b>Pays dominant:</b> Bermuda</span>",
          "<span style='color:white;'><b>Spurling - Richard D</b><br><b>Type:</b> Officer | <b>Typologie:</b> Architecte<br><b>Pays:</b> Bermuda<br><b>Degré:</b> 8.0 | <b>Betweenness:</b> 2610.2712<br><b>Communauté Leiden:</b> 1<br><b>Pays dominant:</b> Bermuda</span>",
          "<span style='color:white;'><b>PricewaterhouseCoopers - Bermuda</b><br><b>Type:</b> Officer | <b>Typologie:</b> Architecte<br><b>Pays:</b> Bermuda<br><b>Degré:</b> 10.0 | <b>Betweenness:</b> 2389.6500<br><b>Communauté Leiden:</b> 0<br><b>Pays dominant:</b> Bermuda</span>",
          "<span style='color:white;'><b>Ernst & Young Ltd.</b><br><b>Type:</b> Officer | <b>Typologie:</b> Architecte<br><b>Pays:</b> Bermuda<br><b>Degré:</b> 117.0 | <b>Betweenness:</b> 1378.8315<br><b>Communauté Leiden:</b> 4<br><b>Pays dominant:</b> Bermuda</span>"
         ],
         "type": "scatter",
         "x": [
          -0.1225323878562558,
          0.152142074178196,
          -0.7972771106684096,
          0.5252418605189051,
          0.1033286262497503,
          0.33743534708559536,
          0.3594202113427804,
          0.32864580146328926,
          -0.20597425957997412,
          -0.9189803387528991,
          -0.6303463572835576,
          0.8642370086592814,
          0.5332056933217638,
          -0.5004115690509435,
          -0.6024225719400732,
          -0.10670556385317359,
          -0.38532505287096397,
          1,
          -0.9478873063564317,
          -0.9414791532626996
         ],
         "y": [
          -0.989510358729796,
          0.9420496953610549,
          0.37961608099959643,
          -0.61678602336427,
          -0.23706092367384654,
          0.8984739423783726,
          -0.9486933899088753,
          -0.20454069893112592,
          0.9752490432913544,
          0.07877675981771369,
          -0.6766013530956971,
          -0.5044599287482104,
          -0.8264943073410054,
          0.8017151108456984,
          0.8031489384133911,
          0.8658920531238364,
          -0.9160401429277383,
          0.10083559377447598,
          -0.14946173085757827,
          -0.3458292486709046
         ]
        },
        {
         "hoverinfo": "none",
         "marker": {
          "cmax": 6,
          "cmin": 0,
          "colorbar": {
           "len": 0.4,
           "thickness": 20,
           "tickfont": {
            "size": 10
           },
           "title": {
            "font": {
             "size": 12
            },
            "text": "<b>Communauté Leiden</b>"
           },
           "x": 1.02,
           "xanchor": "left",
           "y": 0.8,
           "yanchor": "top"
          },
          "colorscale": [
           [
            0,
            "#440154"
           ],
           [
            0.1111111111111111,
            "#482878"
           ],
           [
            0.2222222222222222,
            "#3e4989"
           ],
           [
            0.3333333333333333,
            "#31688e"
           ],
           [
            0.4444444444444444,
            "#26828e"
           ],
           [
            0.5555555555555556,
            "#1f9e89"
           ],
           [
            0.6666666666666666,
            "#35b779"
           ],
           [
            0.7777777777777778,
            "#6ece58"
           ],
           [
            0.8888888888888888,
            "#b5de2b"
           ],
           [
            1,
            "#fde725"
           ]
          ],
          "showscale": true
         },
         "mode": "markers",
         "showlegend": false,
         "type": "scatter",
         "x": [
          null
         ],
         "y": [
          null
         ]
        }
       ],
       "layout": {
        "annotations": [
         {
          "arrowcolor": "#2c3e50",
          "arrowhead": 2,
          "arrowsize": 1,
          "arrowwidth": 2,
          "ax": 20,
          "ay": 30,
          "bgcolor": "rgba(255, 255, 255, 0.95)",
          "bordercolor": "rgba(0, 0, 0, 0.3)",
          "borderpad": 4,
          "borderwidth": 1,
          "font": {
           "color": "#2c3e50",
           "size": 9
          },
          "showarrow": true,
          "text": "<b>Argyle House</b><br>Pays dominant : Bermuda<br>Betweenness: 41287<br>Degré: 672.0",
          "x": -0.01861480320555479,
          "xref": "x",
          "y": 0.1917216663010318,
          "yref": "y"
         },
         {
          "arrowcolor": "#2c3e50",
          "arrowhead": 2,
          "arrowsize": 1,
          "arrowwidth": 2,
          "ax": -20,
          "ay": 30,
          "bgcolor": "rgba(255, 255, 255, 0.95)",
          "bordercolor": "rgba(0, 0, 0, 0.3)",
          "borderpad": 4,
          "borderwidth": 1,
          "font": {
           "color": "#2c3e50",
           "size": 9
          },
          "showarrow": true,
          "text": "<b>Appleby Services (Bermuda...</b><br>Pays dominant : Bermuda<br>Betweenness: 41032<br>Degré: 126.0",
          "x": 0.47193956125595155,
          "xref": "x",
          "y": 0.32489823723597716,
          "yref": "y"
         },
         {
          "arrowcolor": "#2c3e50",
          "arrowhead": 2,
          "arrowsize": 1,
          "arrowwidth": 2,
          "ax": 20,
          "ay": -30,
          "bgcolor": "rgba(255, 255, 255, 0.95)",
          "bordercolor": "rgba(0, 0, 0, 0.3)",
          "borderpad": 4,
          "borderwidth": 1,
          "font": {
           "color": "#2c3e50",
           "size": 9
          },
          "showarrow": true,
          "text": "<b>Burns - Michael J</b><br>Pays dominant : Bermuda<br>Betweenness: 12041<br>Degré: 75.0",
          "x": -0.1225323878562558,
          "xref": "x",
          "y": -0.989510358729796,
          "yref": "y"
         },
         {
          "arrowcolor": "#2c3e50",
          "arrowhead": 2,
          "arrowsize": 1,
          "arrowwidth": 2,
          "ax": -20,
          "ay": 30,
          "bgcolor": "rgba(255, 255, 255, 0.95)",
          "bordercolor": "rgba(0, 0, 0, 0.3)",
          "borderpad": 4,
          "borderwidth": 1,
          "font": {
           "color": "#2c3e50",
           "size": 9
          },
          "showarrow": true,
          "text": "<b>Faries - Timothy Carrick</b><br>Pays dominant : Bermuda<br>Betweenness: 11718<br>Degré: 67.0",
          "x": 0.152142074178196,
          "xref": "x",
          "y": 0.9420496953610549,
          "yref": "y"
         },
         {
          "arrowcolor": "#2c3e50",
          "arrowhead": 2,
          "arrowsize": 1,
          "arrowwidth": 2,
          "ax": 20,
          "ay": 30,
          "bgcolor": "rgba(255, 255, 255, 0.95)",
          "bordercolor": "rgba(0, 0, 0, 0.3)",
          "borderpad": 4,
          "borderwidth": 1,
          "font": {
           "color": "#2c3e50",
           "size": 9
          },
          "showarrow": true,
          "text": "<b>Counsell - Timothy J</b><br>Pays dominant : Bermuda<br>Betweenness: 11427<br>Degré: 149.0",
          "x": -0.7972771106684096,
          "xref": "x",
          "y": 0.37961608099959643,
          "yref": "y"
         },
         {
          "arrowcolor": "#2c3e50",
          "arrowhead": 2,
          "arrowsize": 1,
          "arrowwidth": 2,
          "ax": -20,
          "ay": -30,
          "bgcolor": "rgba(255, 255, 255, 0.95)",
          "bordercolor": "rgba(0, 0, 0, 0.3)",
          "borderpad": 4,
          "borderwidth": 1,
          "font": {
           "color": "#2c3e50",
           "size": 9
          },
          "showarrow": true,
          "text": "<b>White - F Chesley</b><br>Pays dominant : Bermuda<br>Betweenness: 9011<br>Degré: 43.0",
          "x": 0.5252418605189051,
          "xref": "x",
          "y": -0.61678602336427,
          "yref": "y"
         },
         {
          "arrowcolor": "#2c3e50",
          "arrowhead": 2,
          "arrowsize": 1,
          "arrowwidth": 2,
          "ax": -20,
          "ay": -30,
          "bgcolor": "rgba(255, 255, 255, 0.95)",
          "bordercolor": "rgba(0, 0, 0, 0.3)",
          "borderpad": 4,
          "borderwidth": 1,
          "font": {
           "color": "#2c3e50",
           "size": 9
          },
          "showarrow": true,
          "text": "<b>Robinson - Kenneth E T</b><br>Pays dominant : Bermuda<br>Betweenness: 7702<br>Degré: 41.0",
          "x": 0.1033286262497503,
          "xref": "x",
          "y": -0.23706092367384654,
          "yref": "y"
         },
         {
          "arrowcolor": "#2c3e50",
          "arrowhead": 2,
          "arrowsize": 1,
          "arrowwidth": 2,
          "ax": -20,
          "ay": 30,
          "bgcolor": "rgba(255, 255, 255, 0.95)",
          "bordercolor": "rgba(0, 0, 0, 0.3)",
          "borderpad": 4,
          "borderwidth": 1,
          "font": {
           "color": "#2c3e50",
           "size": 9
          },
          "showarrow": true,
          "text": "<b>Collis - Judith</b><br>Pays dominant : Bermuda<br>Betweenness: 7242<br>Degré: 45.0",
          "x": 0.33743534708559536,
          "xref": "x",
          "y": 0.8984739423783726,
          "yref": "y"
         },
         {
          "arrowcolor": "#2c3e50",
          "arrowhead": 2,
          "arrowsize": 1,
          "arrowwidth": 2,
          "ax": -20,
          "ay": -30,
          "bgcolor": "rgba(255, 255, 255, 0.95)",
          "bordercolor": "rgba(0, 0, 0, 0.3)",
          "borderpad": 4,
          "borderwidth": 1,
          "font": {
           "color": "#2c3e50",
           "size": 9
          },
          "showarrow": true,
          "text": "<b>Morris - A Shaun</b><br>Pays dominant : Bermuda<br>Betweenness: 5671<br>Degré: 92.0",
          "x": 0.3594202113427804,
          "xref": "x",
          "y": -0.9486933899088753,
          "yref": "y"
         },
         {
          "arrowcolor": "#2c3e50",
          "arrowhead": 2,
          "arrowsize": 1,
          "arrowwidth": 2,
          "ax": -20,
          "ay": -30,
          "bgcolor": "rgba(255, 255, 255, 0.95)",
          "bordercolor": "rgba(0, 0, 0, 0.3)",
          "borderpad": 4,
          "borderwidth": 1,
          "font": {
           "color": "#2c3e50",
           "size": 9
          },
          "showarrow": true,
          "text": "<b>Keyes - James Michael</b><br>Pays dominant : Bermuda<br>Betweenness: 5038<br>Degré: 34.0",
          "x": 0.32864580146328926,
          "xref": "x",
          "y": -0.20454069893112592,
          "yref": "y"
         },
         {
          "bgcolor": "rgba(255,255,255,0.9)",
          "bordercolor": "rgba(0,0,0,0.2)",
          "borderpad": 8,
          "borderwidth": 1,
          "font": {
           "color": "#2c3e50",
           "family": "Arial Black",
           "size": 14
          },
          "showarrow": false,
          "text": "<b>LÉGENDE</b>",
          "x": 0.02,
          "xanchor": "left",
          "xref": "paper",
          "y": 0.98,
          "yanchor": "top",
          "yref": "paper"
         },
         {
          "font": {
           "color": "#2c3e50",
           "size": 12
          },
          "showarrow": false,
          "text": "<b>Typologies:</b>",
          "x": 0.02,
          "xanchor": "left",
          "xref": "paper",
          "y": 0.93,
          "yanchor": "top",
          "yref": "paper"
         },
         {
          "font": {
           "color": "#2c3e50",
           "size": 10
          },
          "showarrow": false,
          "text": "<span style='color:#e74c3c'>■</span> Architecte",
          "x": 0.02,
          "xanchor": "left",
          "xref": "paper",
          "y": 0.88,
          "yanchor": "top",
          "yref": "paper"
         },
         {
          "font": {
           "color": "#2c3e50",
           "size": 10
          },
          "showarrow": false,
          "text": "<span style='color:#f39c12'>■</span> Passerelle",
          "x": 0.02,
          "xanchor": "left",
          "xref": "paper",
          "y": 0.84,
          "yanchor": "top",
          "yref": "paper"
         },
         {
          "font": {
           "color": "#2c3e50",
           "size": 10
          },
          "showarrow": false,
          "text": "<span style='color:#27ae60'>■</span> Satellite",
          "x": 0.02,
          "xanchor": "left",
          "xref": "paper",
          "y": 0.7999999999999999,
          "yanchor": "top",
          "yref": "paper"
         },
         {
          "font": {
           "color": "#2c3e50",
           "size": 10
          },
          "showarrow": false,
          "text": "<span style='color:#95a5a6'>■</span> Intermédiaire secondaire",
          "x": 0.02,
          "xanchor": "left",
          "xref": "paper",
          "y": 0.7599999999999999,
          "yanchor": "top",
          "yref": "paper"
         },
         {
          "font": {
           "color": "#2c3e50",
           "size": 10
          },
          "showarrow": false,
          "text": "<span style='color:#bdc3c7'>■</span> Isolé",
          "x": 0.02,
          "xanchor": "left",
          "xref": "paper",
          "y": 0.7199999999999999,
          "yanchor": "top",
          "yref": "paper"
         },
         {
          "font": {
           "color": "#2c3e50",
           "size": 10
          },
          "showarrow": false,
          "text": "<span style='color:#7f8c8d'>■</span> Inconnu",
          "x": 0.02,
          "xanchor": "left",
          "xref": "paper",
          "y": 0.6799999999999998,
          "yanchor": "top",
          "yref": "paper"
         },
         {
          "font": {
           "color": "#2c3e50",
           "size": 9
          },
          "showarrow": false,
          "text": "<span style='font-size:10px; color:#666'>Les positions représentent la structure topologique du réseau<br>📌 Labels visibles: Top 10 nœuds par Betweenness</span>",
          "x": 0.02,
          "xanchor": "left",
          "xref": "paper",
          "y": 0.02,
          "yanchor": "bottom",
          "yref": "paper"
         }
        ],
        "height": 950,
        "hoverlabel": {
         "bgcolor": "rgba(30,30,30,0.9)",
         "bordercolor": "rgba(255,255,255,0.2)",
         "font": {
          "color": "white",
          "family": "Arial",
          "size": 12
         }
        },
        "legend": {
         "bgcolor": "rgba(255,255,255,0.95)",
         "bordercolor": "rgba(0,0,0,0.1)",
         "borderwidth": 1,
         "font": {
          "size": 11
         },
         "itemsizing": "constant",
         "title": {
          "font": {
           "size": 13
          },
          "text": "<b>Types de nœuds</b>"
         },
         "traceorder": "normal",
         "x": 1.02,
         "xanchor": "left",
         "y": 0.15,
         "yanchor": "bottom"
        },
        "margin": {
         "b": 80,
         "l": 80,
         "r": 200,
         "t": 120
        },
        "paper_bgcolor": "#ffffff",
        "plot_bgcolor": "#f8f9fa",
        "showlegend": true,
        "template": {
         "data": {
          "bar": [
           {
            "error_x": {
             "color": "#2a3f5f"
            },
            "error_y": {
             "color": "#2a3f5f"
            },
            "marker": {
             "line": {
              "color": "#E5ECF6",
              "width": 0.5
             },
             "pattern": {
              "fillmode": "overlay",
              "size": 10,
              "solidity": 0.2
             }
            },
            "type": "bar"
           }
          ],
          "barpolar": [
           {
            "marker": {
             "line": {
              "color": "#E5ECF6",
              "width": 0.5
             },
             "pattern": {
              "fillmode": "overlay",
              "size": 10,
              "solidity": 0.2
             }
            },
            "type": "barpolar"
           }
          ],
          "carpet": [
           {
            "aaxis": {
             "endlinecolor": "#2a3f5f",
             "gridcolor": "white",
             "linecolor": "white",
             "minorgridcolor": "white",
             "startlinecolor": "#2a3f5f"
            },
            "baxis": {
             "endlinecolor": "#2a3f5f",
             "gridcolor": "white",
             "linecolor": "white",
             "minorgridcolor": "white",
             "startlinecolor": "#2a3f5f"
            },
            "type": "carpet"
           }
          ],
          "choropleth": [
           {
            "colorbar": {
             "outlinewidth": 0,
             "ticks": ""
            },
            "type": "choropleth"
           }
          ],
          "contour": [
           {
            "colorbar": {
             "outlinewidth": 0,
             "ticks": ""
            },
            "colorscale": [
             [
              0,
              "#0d0887"
             ],
             [
              0.1111111111111111,
              "#46039f"
             ],
             [
              0.2222222222222222,
              "#7201a8"
             ],
             [
              0.3333333333333333,
              "#9c179e"
             ],
             [
              0.4444444444444444,
              "#bd3786"
             ],
             [
              0.5555555555555556,
              "#d8576b"
             ],
             [
              0.6666666666666666,
              "#ed7953"
             ],
             [
              0.7777777777777778,
              "#fb9f3a"
             ],
             [
              0.8888888888888888,
              "#fdca26"
             ],
             [
              1,
              "#f0f921"
             ]
            ],
            "type": "contour"
           }
          ],
          "contourcarpet": [
           {
            "colorbar": {
             "outlinewidth": 0,
             "ticks": ""
            },
            "type": "contourcarpet"
           }
          ],
          "heatmap": [
           {
            "colorbar": {
             "outlinewidth": 0,
             "ticks": ""
            },
            "colorscale": [
             [
              0,
              "#0d0887"
             ],
             [
              0.1111111111111111,
              "#46039f"
             ],
             [
              0.2222222222222222,
              "#7201a8"
             ],
             [
              0.3333333333333333,
              "#9c179e"
             ],
             [
              0.4444444444444444,
              "#bd3786"
             ],
             [
              0.5555555555555556,
              "#d8576b"
             ],
             [
              0.6666666666666666,
              "#ed7953"
             ],
             [
              0.7777777777777778,
              "#fb9f3a"
             ],
             [
              0.8888888888888888,
              "#fdca26"
             ],
             [
              1,
              "#f0f921"
             ]
            ],
            "type": "heatmap"
           }
          ],
          "histogram": [
           {
            "marker": {
             "pattern": {
              "fillmode": "overlay",
              "size": 10,
              "solidity": 0.2
             }
            },
            "type": "histogram"
           }
          ],
          "histogram2d": [
           {
            "colorbar": {
             "outlinewidth": 0,
             "ticks": ""
            },
            "colorscale": [
             [
              0,
              "#0d0887"
             ],
             [
              0.1111111111111111,
              "#46039f"
             ],
             [
              0.2222222222222222,
              "#7201a8"
             ],
             [
              0.3333333333333333,
              "#9c179e"
             ],
             [
              0.4444444444444444,
              "#bd3786"
             ],
             [
              0.5555555555555556,
              "#d8576b"
             ],
             [
              0.6666666666666666,
              "#ed7953"
             ],
             [
              0.7777777777777778,
              "#fb9f3a"
             ],
             [
              0.8888888888888888,
              "#fdca26"
             ],
             [
              1,
              "#f0f921"
             ]
            ],
            "type": "histogram2d"
           }
          ],
          "histogram2dcontour": [
           {
            "colorbar": {
             "outlinewidth": 0,
             "ticks": ""
            },
            "colorscale": [
             [
              0,
              "#0d0887"
             ],
             [
              0.1111111111111111,
              "#46039f"
             ],
             [
              0.2222222222222222,
              "#7201a8"
             ],
             [
              0.3333333333333333,
              "#9c179e"
             ],
             [
              0.4444444444444444,
              "#bd3786"
             ],
             [
              0.5555555555555556,
              "#d8576b"
             ],
             [
              0.6666666666666666,
              "#ed7953"
             ],
             [
              0.7777777777777778,
              "#fb9f3a"
             ],
             [
              0.8888888888888888,
              "#fdca26"
             ],
             [
              1,
              "#f0f921"
             ]
            ],
            "type": "histogram2dcontour"
           }
          ],
          "mesh3d": [
           {
            "colorbar": {
             "outlinewidth": 0,
             "ticks": ""
            },
            "type": "mesh3d"
           }
          ],
          "parcoords": [
           {
            "line": {
             "colorbar": {
              "outlinewidth": 0,
              "ticks": ""
             }
            },
            "type": "parcoords"
           }
          ],
          "pie": [
           {
            "automargin": true,
            "type": "pie"
           }
          ],
          "scatter": [
           {
            "fillpattern": {
             "fillmode": "overlay",
             "size": 10,
             "solidity": 0.2
            },
            "type": "scatter"
           }
          ],
          "scatter3d": [
           {
            "line": {
             "colorbar": {
              "outlinewidth": 0,
              "ticks": ""
             }
            },
            "marker": {
             "colorbar": {
              "outlinewidth": 0,
              "ticks": ""
             }
            },
            "type": "scatter3d"
           }
          ],
          "scattercarpet": [
           {
            "marker": {
             "colorbar": {
              "outlinewidth": 0,
              "ticks": ""
             }
            },
            "type": "scattercarpet"
           }
          ],
          "scattergeo": [
           {
            "marker": {
             "colorbar": {
              "outlinewidth": 0,
              "ticks": ""
             }
            },
            "type": "scattergeo"
           }
          ],
          "scattergl": [
           {
            "marker": {
             "colorbar": {
              "outlinewidth": 0,
              "ticks": ""
             }
            },
            "type": "scattergl"
           }
          ],
          "scattermap": [
           {
            "marker": {
             "colorbar": {
              "outlinewidth": 0,
              "ticks": ""
             }
            },
            "type": "scattermap"
           }
          ],
          "scattermapbox": [
           {
            "marker": {
             "colorbar": {
              "outlinewidth": 0,
              "ticks": ""
             }
            },
            "type": "scattermapbox"
           }
          ],
          "scatterpolar": [
           {
            "marker": {
             "colorbar": {
              "outlinewidth": 0,
              "ticks": ""
             }
            },
            "type": "scatterpolar"
           }
          ],
          "scatterpolargl": [
           {
            "marker": {
             "colorbar": {
              "outlinewidth": 0,
              "ticks": ""
             }
            },
            "type": "scatterpolargl"
           }
          ],
          "scatterternary": [
           {
            "marker": {
             "colorbar": {
              "outlinewidth": 0,
              "ticks": ""
             }
            },
            "type": "scatterternary"
           }
          ],
          "surface": [
           {
            "colorbar": {
             "outlinewidth": 0,
             "ticks": ""
            },
            "colorscale": [
             [
              0,
              "#0d0887"
             ],
             [
              0.1111111111111111,
              "#46039f"
             ],
             [
              0.2222222222222222,
              "#7201a8"
             ],
             [
              0.3333333333333333,
              "#9c179e"
             ],
             [
              0.4444444444444444,
              "#bd3786"
             ],
             [
              0.5555555555555556,
              "#d8576b"
             ],
             [
              0.6666666666666666,
              "#ed7953"
             ],
             [
              0.7777777777777778,
              "#fb9f3a"
             ],
             [
              0.8888888888888888,
              "#fdca26"
             ],
             [
              1,
              "#f0f921"
             ]
            ],
            "type": "surface"
           }
          ],
          "table": [
           {
            "cells": {
             "fill": {
              "color": "#EBF0F8"
             },
             "line": {
              "color": "white"
             }
            },
            "header": {
             "fill": {
              "color": "#C8D4E3"
             },
             "line": {
              "color": "white"
             }
            },
            "type": "table"
           }
          ]
         },
         "layout": {
          "annotationdefaults": {
           "arrowcolor": "#2a3f5f",
           "arrowhead": 0,
           "arrowwidth": 1
          },
          "autotypenumbers": "strict",
          "coloraxis": {
           "colorbar": {
            "outlinewidth": 0,
            "ticks": ""
           }
          },
          "colorscale": {
           "diverging": [
            [
             0,
             "#8e0152"
            ],
            [
             0.1,
             "#c51b7d"
            ],
            [
             0.2,
             "#de77ae"
            ],
            [
             0.3,
             "#f1b6da"
            ],
            [
             0.4,
             "#fde0ef"
            ],
            [
             0.5,
             "#f7f7f7"
            ],
            [
             0.6,
             "#e6f5d0"
            ],
            [
             0.7,
             "#b8e186"
            ],
            [
             0.8,
             "#7fbc41"
            ],
            [
             0.9,
             "#4d9221"
            ],
            [
             1,
             "#276419"
            ]
           ],
           "sequential": [
            [
             0,
             "#0d0887"
            ],
            [
             0.1111111111111111,
             "#46039f"
            ],
            [
             0.2222222222222222,
             "#7201a8"
            ],
            [
             0.3333333333333333,
             "#9c179e"
            ],
            [
             0.4444444444444444,
             "#bd3786"
            ],
            [
             0.5555555555555556,
             "#d8576b"
            ],
            [
             0.6666666666666666,
             "#ed7953"
            ],
            [
             0.7777777777777778,
             "#fb9f3a"
            ],
            [
             0.8888888888888888,
             "#fdca26"
            ],
            [
             1,
             "#f0f921"
            ]
           ],
           "sequentialminus": [
            [
             0,
             "#0d0887"
            ],
            [
             0.1111111111111111,
             "#46039f"
            ],
            [
             0.2222222222222222,
             "#7201a8"
            ],
            [
             0.3333333333333333,
             "#9c179e"
            ],
            [
             0.4444444444444444,
             "#bd3786"
            ],
            [
             0.5555555555555556,
             "#d8576b"
            ],
            [
             0.6666666666666666,
             "#ed7953"
            ],
            [
             0.7777777777777778,
             "#fb9f3a"
            ],
            [
             0.8888888888888888,
             "#fdca26"
            ],
            [
             1,
             "#f0f921"
            ]
           ]
          },
          "colorway": [
           "#636efa",
           "#EF553B",
           "#00cc96",
           "#ab63fa",
           "#FFA15A",
           "#19d3f3",
           "#FF6692",
           "#B6E880",
           "#FF97FF",
           "#FECB52"
          ],
          "font": {
           "color": "#2a3f5f"
          },
          "geo": {
           "bgcolor": "white",
           "lakecolor": "white",
           "landcolor": "#E5ECF6",
           "showlakes": true,
           "showland": true,
           "subunitcolor": "white"
          },
          "hoverlabel": {
           "align": "left"
          },
          "hovermode": "closest",
          "mapbox": {
           "style": "light"
          },
          "paper_bgcolor": "white",
          "plot_bgcolor": "#E5ECF6",
          "polar": {
           "angularaxis": {
            "gridcolor": "white",
            "linecolor": "white",
            "ticks": ""
           },
           "bgcolor": "#E5ECF6",
           "radialaxis": {
            "gridcolor": "white",
            "linecolor": "white",
            "ticks": ""
           }
          },
          "scene": {
           "xaxis": {
            "backgroundcolor": "#E5ECF6",
            "gridcolor": "white",
            "gridwidth": 2,
            "linecolor": "white",
            "showbackground": true,
            "ticks": "",
            "zerolinecolor": "white"
           },
           "yaxis": {
            "backgroundcolor": "#E5ECF6",
            "gridcolor": "white",
            "gridwidth": 2,
            "linecolor": "white",
            "showbackground": true,
            "ticks": "",
            "zerolinecolor": "white"
           },
           "zaxis": {
            "backgroundcolor": "#E5ECF6",
            "gridcolor": "white",
            "gridwidth": 2,
            "linecolor": "white",
            "showbackground": true,
            "ticks": "",
            "zerolinecolor": "white"
           }
          },
          "shapedefaults": {
           "line": {
            "color": "#2a3f5f"
           }
          },
          "ternary": {
           "aaxis": {
            "gridcolor": "white",
            "linecolor": "white",
            "ticks": ""
           },
           "baxis": {
            "gridcolor": "white",
            "linecolor": "white",
            "ticks": ""
           },
           "bgcolor": "#E5ECF6",
           "caxis": {
            "gridcolor": "white",
            "linecolor": "white",
            "ticks": ""
           }
          },
          "title": {
           "x": 0.05
          },
          "xaxis": {
           "automargin": true,
           "gridcolor": "white",
           "linecolor": "white",
           "ticks": "",
           "title": {
            "standoff": 15
           },
           "zerolinecolor": "white",
           "zerolinewidth": 2
          },
          "yaxis": {
           "automargin": true,
           "gridcolor": "white",
           "linecolor": "white",
           "ticks": "",
           "title": {
            "standoff": 15
           },
           "zerolinecolor": "white",
           "zerolinewidth": 2
          }
         }
        },
        "title": {
         "font": {
          "color": "#2c3e50",
          "size": 18
         },
         "text": "🌍 UNIVERS 1 – TOP 35 INTERMÉDIAIRES CENTRAUX<br><span style='font-size:13px; color:#666'>Couleur = Communauté • Bordure = Typologie • Taille = Degré<br>📌 Labels: Top 10 par Betweenness</span>",
         "x": 0.5,
         "xanchor": "center",
         "y": 0.97
        },
        "width": 1400,
        "xaxis": {
         "gridcolor": "#e9ecef",
         "showgrid": true,
         "showticklabels": false,
         "zeroline": false
        },
        "yaxis": {
         "gridcolor": "#e9ecef",
         "showgrid": true,
         "showticklabels": false,
         "zeroline": false
        }
       }
      }
     },
     "metadata": {},
     "output_type": "display_data"
    }
   ],
   "source": [
    "# =====================================================\n",
    "# 5️⃣ MISE EN PAGE OPTIMISÉE AVEC LABELS VISIBLES\n",
    "# =====================================================\n",
    "fig = go.Figure(data=[edge_trace] + node_traces)\n",
    "\n",
    "# AJOUT DES ANNOTATIONS POUR LES NŒUDS PRINCIPAUX\n",
    "top_10_nodes = top35.nlargest(10, 'betweenness')\n",
    "\n",
    "annotations = []\n",
    "for _, row in top_10_nodes.iterrows():\n",
    "    node_id = row['id']\n",
    "    if node_id in pos:\n",
    "        x, y = pos[node_id]\n",
    "        \n",
    "        # Créer le texte de l'annotation\n",
    "        name = row['name']\n",
    "        short_name = name.split(';')[0] if ';' in name else name\n",
    "        short_name = short_name[:25] + \"...\" if len(short_name) > 25 else short_name\n",
    "        \n",
    "        annotation_text = (\n",
    "            f\"<b>{short_name}</b><br>\"\n",
    "            f\"Pays dominant : {row['pays_dominant_communauté']}<br>\"\n",
    "            f\"Betweenness: {row['betweenness']:.0f}<br>\"\n",
    "            f\"Degré: {row['degree']}\"\n",
    "        )\n",
    "        \n",
    "        annotations.append(\n",
    "            dict(\n",
    "                x=x,\n",
    "                y=y,\n",
    "                xref=\"x\",\n",
    "                yref=\"y\",\n",
    "                text=annotation_text,\n",
    "                showarrow=True,\n",
    "                arrowhead=2,\n",
    "                arrowsize=1,\n",
    "                arrowwidth=2,\n",
    "                arrowcolor=\"#2c3e50\",\n",
    "                bgcolor=\"rgba(255, 255, 255, 0.95)\",\n",
    "                bordercolor=\"rgba(0, 0, 0, 0.3)\",\n",
    "                borderwidth=1,\n",
    "                borderpad=4,\n",
    "                font=dict(size=9, color=\"#2c3e50\"),\n",
    "                # Position intelligente de l'annotation\n",
    "                ax=20 if x < 0 else -20,\n",
    "                ay=-30 if y < 0 else 30\n",
    "            )\n",
    "        )\n",
    "\n",
    "leiden_values = top35[\"leiden\"].dropna()\n",
    "if not leiden_values.empty:\n",
    "    fig.add_trace(go.Scatter(\n",
    "        x=[None], y=[None],\n",
    "        mode='markers',\n",
    "        marker=dict(\n",
    "            colorscale='Viridis',\n",
    "            cmin=leiden_values.min(),\n",
    "            cmax=leiden_values.max(),\n",
    "            colorbar=dict(\n",
    "                title=dict(text=\"<b>Communauté Leiden</b>\", font=dict(size=12)),\n",
    "                thickness=20,\n",
    "                len=0.4,\n",
    "                y=0.8,\n",
    "                yanchor='top',\n",
    "                x=1.02,\n",
    "                xanchor='left',\n",
    "                tickfont=dict(size=10)\n",
    "            ),\n",
    "            showscale=True\n",
    "        ),\n",
    "        hoverinfo='none',\n",
    "        showlegend=False\n",
    "    ))\n",
    "\n",
    "fig.update_layout(\n",
    "    title=dict(\n",
    "        text=\"🌍 UNIVERS 1 – TOP 35 INTERMÉDIAIRES CENTRAUX<br>\"\n",
    "             \"<span style='font-size:13px; color:#666'>\"\n",
    "             \"Couleur = Communauté • Bordure = Typologie • Taille = Degré<br>\"\n",
    "             \"📌 Labels: Top 10 par Betweenness\"\n",
    "             \"</span>\",\n",
    "        x=0.5,\n",
    "        xanchor=\"center\",\n",
    "        y=0.97,\n",
    "        font=dict(size=18, color=COLOR_PALETTE['text'])\n",
    "    ),\n",
    "    width=1400,\n",
    "    height=950,\n",
    "    showlegend=True,\n",
    "    hoverlabel=dict(\n",
    "        bgcolor=\"rgba(30,30,30,0.9)\",\n",
    "        font_size=12,\n",
    "        font_family=\"Arial\",\n",
    "        font_color=\"white\",\n",
    "        bordercolor=\"rgba(255,255,255,0.2)\"\n",
    "    ),\n",
    "    plot_bgcolor=COLOR_PALETTE['background'],\n",
    "    paper_bgcolor=COLOR_PALETTE['paper'],\n",
    "    legend=dict(\n",
    "        title=dict(text=\"<b>Types de nœuds</b>\", font=dict(size=13)),\n",
    "        bgcolor=\"rgba(255,255,255,0.95)\",\n",
    "        bordercolor=\"rgba(0,0,0,0.1)\",\n",
    "        borderwidth=1,\n",
    "        font=dict(size=11),\n",
    "        x=1.02,\n",
    "        y=0.15,\n",
    "        xanchor='left',\n",
    "        yanchor='bottom',\n",
    "        traceorder=\"normal\",\n",
    "        itemsizing=\"constant\"\n",
    "    ),\n",
    "    margin=dict(l=80, r=200, t=120, b=80),\n",
    "    xaxis=dict(showgrid=True, gridcolor=COLOR_PALETTE['grid'], zeroline=False, showticklabels=False),\n",
    "    yaxis=dict(showgrid=True, gridcolor=COLOR_PALETTE['grid'], zeroline=False, showticklabels=False),\n",
    "    # AJOUT DES ANNOTATIONS\n",
    "    annotations=annotations + [\n",
    "        dict(\n",
    "            x=0.02, y=0.98,\n",
    "            xref=\"paper\", yref=\"paper\",\n",
    "            text=\"<b>LÉGENDE</b>\",\n",
    "            showarrow=False,\n",
    "            font=dict(size=14, color=COLOR_PALETTE['text'], family=\"Arial Black\"),\n",
    "            xanchor=\"left\", yanchor=\"top\",\n",
    "            bgcolor=\"rgba(255,255,255,0.9)\",\n",
    "            bordercolor=\"rgba(0,0,0,0.2)\",\n",
    "            borderwidth=1, borderpad=8\n",
    "        ),\n",
    "        dict(\n",
    "            x=0.02, y=0.93,\n",
    "            xref=\"paper\", yref=\"paper\",\n",
    "            text=\"<b>Typologies:</b>\",\n",
    "            showarrow=False,\n",
    "            font=dict(size=12, color=COLOR_PALETTE['text']),\n",
    "            xanchor=\"left\", yanchor=\"top\"\n",
    "        )\n",
    "    ]\n",
    ")\n",
    "\n",
    "# Ajouter les typologies à la légende\n",
    "y_pos = 0.88\n",
    "for typo, color in TYPO_COLORS.items():\n",
    "    fig.add_annotation(\n",
    "        x=0.02, y=y_pos,\n",
    "        xref=\"paper\", yref=\"paper\",\n",
    "        text=f\"<span style='color:{color}'>■</span> {typo}\",\n",
    "        showarrow=False,\n",
    "        font=dict(size=10, color=COLOR_PALETTE['text']),\n",
    "        xanchor=\"left\", yanchor=\"top\"\n",
    "    )\n",
    "    y_pos -= 0.04\n",
    "\n",
    "# Note sur les labels\n",
    "fig.add_annotation(\n",
    "    x=0.02, y=0.02,\n",
    "    xref=\"paper\", yref=\"paper\",\n",
    "    text=\"<span style='font-size:10px; color:#666'>Les positions représentent la structure topologique du réseau<br>📌 Labels visibles: Top 10 nœuds par Betweenness</span>\",\n",
    "    showarrow=False,\n",
    "    font=dict(size=9, color=COLOR_PALETTE['text']),\n",
    "    xanchor=\"left\", yanchor=\"bottom\"\n",
    ")\n",
    "\n",
    "print(\"🚀 Affichage du graphique avec labels visibles...\")\n",
    "print(\"📌 Les 10 nœuds les plus centraux sont annotés directement\")\n",
    "fig.show()"
   ]
  },
  {
   "cell_type": "code",
   "execution_count": 97,
   "id": "461f6c60",
   "metadata": {},
   "outputs": [],
   "source": [
    "fig.write_html(\n",
    "    r\"C:\\Users\\Ashahi\\Desktop\\Graph\\examen\\notebooks\\graphes_notebook1\\graphe_1.html\",\n",
    "    include_plotlyjs='cdn',\n",
    "    full_html=True\n",
    ")\n"
   ]
  },
  {
   "cell_type": "code",
   "execution_count": 98,
   "id": "86388c36",
   "metadata": {},
   "outputs": [
    {
     "name": "stdout",
     "output_type": "stream",
     "text": [
      "\n",
      "📊 STATISTIQUES DU RÉSEAU ANALYSÉ:\n",
      "   • Nœuds totaux: 35\n",
      "   • Arêtes totales: 104\n",
      "   • Densité du réseau: 0.1748\n",
      "   • Typologies: {'Architecte': 22, 'Passerelle': 13}\n",
      "   • Communautés Leiden uniques: 6\n"
     ]
    }
   ],
   "source": [
    "# =====================================================\n",
    "# 6️⃣ STATISTIQUES RÉCAPITULATIVES\n",
    "# =====================================================\n",
    "print(\"\\n📊 STATISTIQUES DU RÉSEAU ANALYSÉ:\")\n",
    "print(f\"   • Nœuds totaux: {len(G_focus)}\")\n",
    "print(f\"   • Arêtes totales: {len(G_focus.edges())}\")\n",
    "print(f\"   • Densité du réseau: {nx.density(G_focus):.4f}\")\n",
    "print(f\"   • Typologies: {dict(Counter(top35['typologie']))}\")\n",
    "print(f\"   • Communautés Leiden uniques: {top35['leiden'].nunique()}\")"
   ]
  },
  {
   "cell_type": "code",
   "execution_count": 99,
   "id": "914bce01",
   "metadata": {},
   "outputs": [
    {
     "name": "stdout",
     "output_type": "stream",
     "text": [
      "\n",
      "📈 TOP 35 - RÉPARTITION:\n",
      "  • Architecte: 22 nœuds (62.9%)\n",
      "  • Passerelle: 13 nœuds (37.1%)\n"
     ]
    }
   ],
   "source": [
    "print(f\"\\n📈 TOP 35 - RÉPARTITION:\")\n",
    "top35_typo_counts = top35[\"typologie\"].value_counts()\n",
    "for typo, count in top35_typo_counts.items():\n",
    "    percentage = (count / len(top35)) * 100\n",
    "    print(f\"  • {typo}: {count} nœuds ({percentage:.1f}%)\")"
   ]
  },
  {
   "cell_type": "markdown",
   "id": "0afe7ec0",
   "metadata": {},
   "source": [
    "### Interprétation"
   ]
  },
  {
   "cell_type": "markdown",
   "id": "ecd3e741",
   "metadata": {},
   "source": [
    "Le réseau étudié compte 35 nœuds et 104 liens, avec une densité moyenne (0.17). Cela montre des connexions sélectives, concentrées autour d’un petit nombre d’acteurs-clés."
   ]
  },
  {
   "cell_type": "markdown",
   "id": "22f97e6e",
   "metadata": {},
   "source": [
    "Dans le Top 35, cette tendance s’inverse : 62,9 % sont des architectes et 37,1 % des passerelles, preuve que le pouvoir structurel est concentré dans ce noyau restreint.\n",
    "Les architectes, comme Appleby Services ou Argyle House, conçoivent et hébergent les structures offshore, tandis que les passerelles assurent les connexions entre communautés.\n"
   ]
  },
  {
   "cell_type": "markdown",
   "id": "92dce2de",
   "metadata": {},
   "source": [
    "Le réseau est très centralisé autour des Bermudes, où ces entités agissent comme de véritables hubs reliant des dizaines de sociétés.\n",
    "Des individus tels que Michael J. Burns ou Timothy J. Counsell jouent le rôle d’intermédiaires humains entre entreprises et adresses offshore.\n"
   ]
  },
  {
   "cell_type": "markdown",
   "id": "5e5c0536",
   "metadata": {},
   "source": [
    "Les communautés détectées par l’algorithme de Leiden montrent une organisation par juridiction :\n",
    "- les Bermudes forment le cœur du réseau,\n",
    "- les Îles Caïmans jouent un rôle périphérique\n"
   ]
  },
  {
   "cell_type": "markdown",
   "id": "33dfa7e5",
   "metadata": {},
   "source": [
    "En somme, le graphe illustre un système offshore organisé et inégalitaire, où quelques architectes façonnent et contrôlent la circulation mondiale des capitaux, renforçant la fracture économique mondiale."
   ]
  },
  {
   "cell_type": "markdown",
   "id": "06841afc",
   "metadata": {},
   "source": [
    " Architectes + Passerelles"
   ]
  },
  {
   "cell_type": "code",
   "execution_count": 100,
   "id": "f857f2dd",
   "metadata": {},
   "outputs": [
    {
     "name": "stdout",
     "output_type": "stream",
     "text": [
      "Sous-graphe cœur : 35 nœuds, 104 connexions internes\n",
      "🚀 Graphique épuré - Seulement 6 labels principaux\n"
     ]
    },
    {
     "data": {
      "application/vnd.plotly.v1+json": {
       "config": {
        "plotlyServerURL": "https://plot.ly"
       },
       "data": [
        {
         "hoverinfo": "none",
         "line": {
          "color": "rgba(120,120,120,0.3)",
          "width": 0.8
         },
         "mode": "lines",
         "showlegend": false,
         "type": "scatter",
         "x": [
          0.14446508985046128,
          0.05022531558331781,
          null,
          0.14446508985046128,
          0.7108069986908667,
          null,
          0.14446508985046128,
          0.009166845856144214,
          null,
          0.14446508985046128,
          0.5131390355625212,
          null,
          0.14446508985046128,
          -0.27391642310177683,
          null,
          0.14446508985046128,
          -0.12738052234187522,
          null,
          0.8056522226108819,
          0.05022531558331781,
          null,
          0.8056522226108819,
          -0.2040461500387812,
          null,
          0.8056522226108819,
          -0.5323788238769063,
          null,
          0.8056522226108819,
          0.5255405910427986,
          null,
          0.8056522226108819,
          0.4355356897736884,
          null,
          -0.06907524403410321,
          0.05022531558331781,
          null,
          -0.06907524403410321,
          0.4355356897736884,
          null,
          -0.06907524403410321,
          0.3161416855972952,
          null,
          -0.06907524403410321,
          0.8569003107299425,
          null,
          -0.06907524403410321,
          -0.5908111939769264,
          null,
          -0.06907524403410321,
          0.9653020372949102,
          null,
          -0.5323788238769063,
          0.05022531558331781,
          null,
          -0.5323788238769063,
          -0.7409396075218622,
          null,
          -0.5323788238769063,
          0.7108069986908667,
          null,
          -0.5323788238769063,
          -0.7251640910416848,
          null,
          -0.5323788238769063,
          -0.12738052234187522,
          null,
          0.5131390355625212,
          0.05022531558331781,
          null,
          0.5131390355625212,
          0.20609618728592213,
          null,
          0.5131390355625212,
          0.4355356897736884,
          null,
          0.5131390355625212,
          -0.272083997215273,
          null,
          -0.272083997215273,
          0.05022531558331781,
          null,
          -0.272083997215273,
          0.596690742950506,
          null,
          -0.272083997215273,
          0.3573122120316561,
          null,
          -0.272083997215273,
          0.6680263583176942,
          null,
          0.8569003107299425,
          0.05022531558331781,
          null,
          0.8569003107299425,
          -0.27391642310177683,
          null,
          0.8569003107299425,
          -0.12738052234187522,
          null,
          -0.4022092035401822,
          -0.27391642310177683,
          null,
          -0.4022092035401822,
          -0.12738052234187522,
          null,
          0.20609618728592213,
          0.05022531558331781,
          null,
          0.20609618728592213,
          0.596690742950506,
          null,
          0.20609618728592213,
          -0.27391642310177683,
          null,
          0.20609618728592213,
          0.6680263583176942,
          null,
          0.20609618728592213,
          -0.12738052234187522,
          null,
          0.6680263583176942,
          0.05022531558331781,
          null,
          0.6680263583176942,
          0.4355356897736884,
          null,
          0.6680263583176942,
          0.3161416855972952,
          null,
          0.5255405910427986,
          0.009166845856144214,
          null,
          -0.5906535485619827,
          0.05022531558331781,
          null,
          -0.5906535485619827,
          0.596690742950506,
          null,
          -0.5906535485619827,
          -0.27391642310177683,
          null,
          -0.12738052234187522,
          0.05022531558331781,
          null,
          -0.12738052234187522,
          -0.9427005593542565,
          null,
          -0.12738052234187522,
          0.29076441479601434,
          null,
          -0.12738052234187522,
          -0.908294409495204,
          null,
          -0.12738052234187522,
          -0.2040461500387812,
          null,
          -0.12738052234187522,
          -0.10213037216168719,
          null,
          -0.12738052234187522,
          0.29882787619592766,
          null,
          -0.12738052234187522,
          0.3161416855972952,
          null,
          -0.12738052234187522,
          0.18064847277433024,
          null,
          -0.12738052234187522,
          -0.5908111939769264,
          null,
          -0.12738052234187522,
          0.9653020372949102,
          null,
          -0.908294409495204,
          0.05022531558331781,
          null,
          -0.908294409495204,
          0.3573122120316561,
          null,
          -0.908294409495204,
          0.009166845856144214,
          null,
          0.29076441479601434,
          0.05022531558331781,
          null,
          0.29076441479601434,
          0.3573122120316561,
          null,
          0.29076441479601434,
          0.7108069986908667,
          null,
          0.29076441479601434,
          -0.41894394834283494,
          null,
          0.3161416855972952,
          0.05022531558331781,
          null,
          0.3161416855972952,
          0.596690742950506,
          null,
          0.3161416855972952,
          -0.7409396075218622,
          null,
          0.3161416855972952,
          0.009166845856144214,
          null,
          0.3161416855972952,
          -0.41894394834283494,
          null,
          0.05022531558331781,
          0.596690742950506,
          null,
          0.05022531558331781,
          -0.2040461500387812,
          null,
          0.05022531558331781,
          -0.7409396075218622,
          null,
          0.05022531558331781,
          0.3573122120316561,
          null,
          0.05022531558331781,
          0.7108069986908667,
          null,
          0.05022531558331781,
          0.009166845856144214,
          null,
          0.05022531558331781,
          -0.27391642310177683,
          null,
          0.05022531558331781,
          0.29882787619592766,
          null,
          0.05022531558331781,
          0.4355356897736884,
          null,
          0.05022531558331781,
          -0.7251640910416848,
          null,
          0.05022531558331781,
          -0.41894394834283494,
          null,
          0.05022531558331781,
          0.18064847277433024,
          null,
          0.05022531558331781,
          0.9653020372949102,
          null,
          0.7108069986908667,
          0.29882787619592766,
          null,
          -0.10213037216168719,
          0.3573122120316561,
          null,
          0.3573122120316561,
          0.29882787619592766,
          null,
          0.3573122120316561,
          0.4355356897736884,
          null,
          0.3573122120316561,
          0.18064847277433024,
          null,
          0.3573122120316561,
          0.9653020372949102,
          null,
          -0.9675180834982994,
          -0.27391642310177683,
          null,
          -0.7409396075218622,
          -0.2040461500387812,
          null,
          -0.7409396075218622,
          0.29882787619592766,
          null,
          -0.7409396075218622,
          -0.5908111939769264,
          null,
          -0.06299590884124429,
          0.009166845856144214,
          null,
          0.18064847277433024,
          -0.7251640910416848,
          null,
          0.18064847277433024,
          -0.41894394834283494,
          null,
          0.009166845856144214,
          0.4355356897736884,
          null,
          0.4355356897736884,
          0.596690742950506,
          null,
          0.4355356897736884,
          -0.27391642310177683,
          null,
          0.4355356897736884,
          -0.7251640910416848,
          null,
          0.29882787619592766,
          -0.41894394834283494,
          null,
          -0.27391642310177683,
          -0.5908111939769264,
          null,
          0.596690742950506,
          -0.2040461500387812,
          null,
          -0.41894394834283494,
          -0.5908111939769264,
          null
         ],
         "y": [
          0.8223391352615335,
          0.135134923118266,
          null,
          0.8223391352615335,
          0.6008993164998407,
          null,
          0.8223391352615335,
          -0.32690294451717317,
          null,
          0.8223391352615335,
          0.7356208508006503,
          null,
          0.8223391352615335,
          -0.24863196745497596,
          null,
          0.8223391352615335,
          0.06324528357809012,
          null,
          0.4002669498261839,
          0.135134923118266,
          null,
          0.4002669498261839,
          0.9389973744201091,
          null,
          0.4002669498261839,
          0.38355835833009927,
          null,
          0.4002669498261839,
          -0.8381647156342251,
          null,
          0.4002669498261839,
          0.03984107390283954,
          null,
          -0.5422463703279872,
          0.135134923118266,
          null,
          -0.5422463703279872,
          0.03984107390283954,
          null,
          -0.5422463703279872,
          -0.40388476774374144,
          null,
          -0.5422463703279872,
          -0.48687792848298267,
          null,
          -0.5422463703279872,
          0.7164695400522391,
          null,
          -0.5422463703279872,
          -0.005666160055605375,
          null,
          0.38355835833009927,
          0.135134923118266,
          null,
          0.38355835833009927,
          0.5889313394166177,
          null,
          0.38355835833009927,
          0.6008993164998407,
          null,
          0.38355835833009927,
          -0.4716616344062114,
          null,
          0.38355835833009927,
          0.06324528357809012,
          null,
          0.7356208508006503,
          0.135134923118266,
          null,
          0.7356208508006503,
          -0.24264407095494375,
          null,
          0.7356208508006503,
          0.03984107390283954,
          null,
          0.7356208508006503,
          0.48673088936127307,
          null,
          0.48673088936127307,
          0.135134923118266,
          null,
          0.48673088936127307,
          0.10512253941226761,
          null,
          0.48673088936127307,
          -0.1150290463217443,
          null,
          0.48673088936127307,
          -0.5936937306226182,
          null,
          -0.48687792848298267,
          0.135134923118266,
          null,
          -0.48687792848298267,
          -0.24863196745497596,
          null,
          -0.48687792848298267,
          0.06324528357809012,
          null,
          -0.9267353192449996,
          -0.24863196745497596,
          null,
          -0.9267353192449996,
          0.06324528357809012,
          null,
          -0.24264407095494375,
          0.135134923118266,
          null,
          -0.24264407095494375,
          0.10512253941226761,
          null,
          -0.24264407095494375,
          -0.24863196745497596,
          null,
          -0.24264407095494375,
          -0.5936937306226182,
          null,
          -0.24264407095494375,
          0.06324528357809012,
          null,
          -0.5936937306226182,
          0.135134923118266,
          null,
          -0.5936937306226182,
          0.03984107390283954,
          null,
          -0.5936937306226182,
          -0.40388476774374144,
          null,
          -0.8381647156342251,
          -0.32690294451717317,
          null,
          -0.7560591806420625,
          0.135134923118266,
          null,
          -0.7560591806420625,
          0.10512253941226761,
          null,
          -0.7560591806420625,
          -0.24863196745497596,
          null,
          0.06324528357809012,
          0.135134923118266,
          null,
          0.06324528357809012,
          -0.3589807608012666,
          null,
          0.06324528357809012,
          -0.70585847488285,
          null,
          0.06324528357809012,
          0.14006458771090358,
          null,
          0.06324528357809012,
          0.9389973744201091,
          null,
          0.06324528357809012,
          -1,
          null,
          0.06324528357809012,
          0.8805691077316651,
          null,
          0.06324528357809012,
          -0.40388476774374144,
          null,
          0.06324528357809012,
          0.12380949821010584,
          null,
          0.06324528357809012,
          0.7164695400522391,
          null,
          0.06324528357809012,
          -0.005666160055605375,
          null,
          0.14006458771090358,
          0.135134923118266,
          null,
          0.14006458771090358,
          -0.1150290463217443,
          null,
          0.14006458771090358,
          -0.32690294451717317,
          null,
          -0.70585847488285,
          0.135134923118266,
          null,
          -0.70585847488285,
          -0.1150290463217443,
          null,
          -0.70585847488285,
          0.6008993164998407,
          null,
          -0.70585847488285,
          0.13086037286581362,
          null,
          -0.40388476774374144,
          0.135134923118266,
          null,
          -0.40388476774374144,
          0.10512253941226761,
          null,
          -0.40388476774374144,
          0.5889313394166177,
          null,
          -0.40388476774374144,
          -0.32690294451717317,
          null,
          -0.40388476774374144,
          0.13086037286581362,
          null,
          0.135134923118266,
          0.10512253941226761,
          null,
          0.135134923118266,
          0.9389973744201091,
          null,
          0.135134923118266,
          0.5889313394166177,
          null,
          0.135134923118266,
          -0.1150290463217443,
          null,
          0.135134923118266,
          0.6008993164998407,
          null,
          0.135134923118266,
          -0.32690294451717317,
          null,
          0.135134923118266,
          -0.24863196745497596,
          null,
          0.135134923118266,
          0.8805691077316651,
          null,
          0.135134923118266,
          0.03984107390283954,
          null,
          0.135134923118266,
          -0.4716616344062114,
          null,
          0.135134923118266,
          0.13086037286581362,
          null,
          0.135134923118266,
          0.12380949821010584,
          null,
          0.135134923118266,
          -0.005666160055605375,
          null,
          0.6008993164998407,
          0.8805691077316651,
          null,
          -1,
          -0.1150290463217443,
          null,
          -0.1150290463217443,
          0.8805691077316651,
          null,
          -0.1150290463217443,
          0.03984107390283954,
          null,
          -0.1150290463217443,
          0.12380949821010584,
          null,
          -0.1150290463217443,
          -0.005666160055605375,
          null,
          -0.15608591344878134,
          -0.24863196745497596,
          null,
          0.5889313394166177,
          0.9389973744201091,
          null,
          0.5889313394166177,
          0.8805691077316651,
          null,
          0.5889313394166177,
          0.7164695400522391,
          null,
          0.88666184504367,
          -0.32690294451717317,
          null,
          0.12380949821010584,
          -0.4716616344062114,
          null,
          0.12380949821010584,
          0.13086037286581362,
          null,
          -0.32690294451717317,
          0.03984107390283954,
          null,
          0.03984107390283954,
          0.10512253941226761,
          null,
          0.03984107390283954,
          -0.24863196745497596,
          null,
          0.03984107390283954,
          -0.4716616344062114,
          null,
          0.8805691077316651,
          0.13086037286581362,
          null,
          -0.24863196745497596,
          0.7164695400522391,
          null,
          0.10512253941226761,
          0.9389973744201091,
          null,
          0.13086037286581362,
          0.7164695400522391,
          null
         ]
        },
        {
         "hoverinfo": "text",
         "marker": {
          "color": [
           "#e74c3c",
           "#e74c3c",
           "#e74c3c",
           "#e74c3c",
           "#e74c3c",
           "#e74c3c",
           "#e74c3c",
           "#e74c3c",
           "#e74c3c",
           "#e74c3c",
           "#e74c3c",
           "#e74c3c",
           "#e74c3c",
           "#e74c3c",
           "#e74c3c",
           "#e74c3c",
           "#e74c3c",
           "#e74c3c",
           "#e74c3c",
           "#e74c3c",
           "#e74c3c",
           "#e74c3c"
          ],
          "line": {
           "color": "#000000",
           "width": 2
          },
          "size": [
           60,
           59.75312511202459,
           31.665878800249917,
           31.35270265177717,
           31.070866336973623,
           28.729791863496935,
           27.461608270541486,
           27.016586072600337,
           25.494263059761295,
           24.881161548726688,
           24.835528448543663,
           24.582870020584856,
           24.287277850882738,
           23.374500259300216,
           23.073246252709843,
           23.07086170030397,
           22.716541083964614,
           22.6521311742803,
           22.582429623437378,
           22.52889619842626,
           22.315152923819433,
           21.335846519140585
          ],
          "symbol": "circle"
         },
         "mode": "markers",
         "name": "Architecte",
         "text": [
          "Argyle House; 41a Cedar Avenue; Hamilton HM 12; Bermuda | Architecte",
          "Appleby Services (Bermuda) Ltd. | Architecte",
          "Burns - Michael J | Architecte",
          "Faries - Timothy Carrick | Architecte",
          "Counsell - Timothy J | Architecte",
          "White - F Chesley | Architecte",
          "Robinson - Kenneth E T | Architecte",
          "Collis - Judith | Architecte",
          "Morris - A Shaun | Architecte",
          "Keyes - James Michael | Architecte",
          "Jones - Michael | Architecte",
          "Lines - David R | Architecte",
          "Bossin - Alan Irving | Architecte",
          "Adderley - Donald Bradfield | Architecte",
          "KPMG - Bermuda | Architecte",
          "Bubenzer - Peter - Bermuda | Architecte",
          "Richardson-Augustus - Tammy L | Architecte",
          "Deloitte & Touche Ltd. - Bermuda | Architecte",
          "Cabral - Warren Wilton | Architecte",
          "Spurling - Richard D | Architecte",
          "PricewaterhouseCoopers - Bermuda | Architecte",
          "Ernst & Young Ltd. | Architecte"
         ],
         "type": "scatter",
         "x": [
          0.05022531558331781,
          0.4355356897736884,
          -0.10213037216168719,
          0.14446508985046128,
          -0.5323788238769063,
          0.3161416855972952,
          0.20609618728592213,
          0.29882787619592766,
          0.29076441479601434,
          0.18064847277433024,
          -0.2040461500387812,
          -0.908294409495204,
          -0.5906535485619827,
          0.8569003107299425,
          0.5255405910427986,
          -0.5908111939769264,
          -0.272083997215273,
          -0.06299590884124429,
          -0.4022092035401822,
          0.9653020372949102,
          -0.9675180834982994,
          -0.9427005593542565
         ],
         "y": [
          0.135134923118266,
          0.03984107390283954,
          -1,
          0.8223391352615335,
          0.38355835833009927,
          -0.40388476774374144,
          -0.24264407095494375,
          0.8805691077316651,
          -0.70585847488285,
          0.12380949821010584,
          0.9389973744201091,
          0.14006458771090358,
          -0.7560591806420625,
          -0.48687792848298267,
          -0.8381647156342251,
          0.7164695400522391,
          0.48673088936127307,
          0.88666184504367,
          -0.9267353192449996,
          -0.005666160055605375,
          -0.15608591344878134,
          -0.3589807608012666
         ]
        },
        {
         "hoverinfo": "text",
         "marker": {
          "color": [
           "#f39c12",
           "#f39c12",
           "#f39c12",
           "#f39c12",
           "#f39c12",
           "#f39c12",
           "#f39c12",
           "#f39c12",
           "#f39c12",
           "#f39c12",
           "#f39c12",
           "#f39c12",
           "#f39c12"
          ],
          "line": {
           "color": "#000000",
           "width": 2
          },
          "size": [
           21.817050916894786,
           21.621916096653063,
           21.49426901650535,
           21.40040283975927,
           21.3837458131379,
           21.314468625063157,
           20.801452251882964,
           20.777794164568913,
           20.688550809064253,
           20.65115118188832,
           20.645001862605703,
           20.62760112683576,
           20.617950086738713
          ],
          "symbol": "circle"
         },
         "mode": "markers",
         "name": "Passerelle",
         "text": [
          "CORONA LTD. | Passerelle",
          "Kowo Limited | Passerelle",
          "LION CORPORATION LIMITED | Passerelle",
          "Olivewood Limited | Passerelle",
          "SOLVEST, LTD. | Passerelle",
          "Aberystwyth Limited | Passerelle",
          "WOODBRIDGE COMPANY LIMITED | Passerelle",
          "KINGSTON ASSOCIATES, LTD. | Passerelle",
          "Tholu Limited | Passerelle",
          "A.A. LTD. | Passerelle",
          "THL Ltd. | Passerelle",
          "Pure Products Limited | Passerelle",
          "Children's Hospital Integrated Risk Protective Limited | Passerelle"
         ],
         "type": "scatter",
         "x": [
          0.596690742950506,
          -0.7251640910416848,
          -0.27391642310177683,
          -0.12738052234187522,
          0.5131390355625212,
          0.7108069986908667,
          -0.41894394834283494,
          0.6680263583176942,
          0.3573122120316561,
          -0.06907524403410321,
          0.8056522226108819,
          -0.7409396075218622,
          0.009166845856144214
         ],
         "y": [
          0.10512253941226761,
          -0.4716616344062114,
          -0.24863196745497596,
          0.06324528357809012,
          0.7356208508006503,
          0.6008993164998407,
          0.13086037286581362,
          -0.5936937306226182,
          -0.1150290463217443,
          -0.5422463703279872,
          0.4002669498261839,
          0.5889313394166177,
          -0.32690294451717317
         ]
        }
       ],
       "layout": {
        "annotations": [
         {
          "arrowcolor": "#666666",
          "arrowhead": 1,
          "arrowwidth": 1,
          "ax": 0,
          "ay": -40,
          "bgcolor": "rgba(255, 255, 255, 0.95)",
          "bordercolor": "rgba(0, 0, 0, 0.3)",
          "borderpad": 4,
          "borderwidth": 1,
          "font": {
           "color": "#2c3e50",
           "size": 10
          },
          "showarrow": true,
          "text": "<b>Argyle House</b><br>41287",
          "x": 0.05022531558331781,
          "xref": "x",
          "y": 0.135134923118266,
          "yref": "y"
         },
         {
          "arrowcolor": "#666666",
          "arrowhead": 1,
          "arrowwidth": 1,
          "ax": 0,
          "ay": -40,
          "bgcolor": "rgba(255, 255, 255, 0.95)",
          "bordercolor": "rgba(0, 0, 0, 0.3)",
          "borderpad": 4,
          "borderwidth": 1,
          "font": {
           "color": "#2c3e50",
           "size": 10
          },
          "showarrow": true,
          "text": "<b>Appleby Serv...</b><br>41032",
          "x": 0.4355356897736884,
          "xref": "x",
          "y": 0.03984107390283954,
          "yref": "y"
         },
         {
          "arrowcolor": "#666666",
          "arrowhead": 1,
          "arrowwidth": 1,
          "ax": 0,
          "ay": 40,
          "bgcolor": "rgba(255, 255, 255, 0.95)",
          "bordercolor": "rgba(0, 0, 0, 0.3)",
          "borderpad": 4,
          "borderwidth": 1,
          "font": {
           "color": "#2c3e50",
           "size": 10
          },
          "showarrow": true,
          "text": "<b>Burns - Mich...</b><br>12041",
          "x": -0.10213037216168719,
          "xref": "x",
          "y": -1,
          "yref": "y"
         },
         {
          "arrowcolor": "#666666",
          "arrowhead": 1,
          "arrowwidth": 1,
          "ax": 0,
          "ay": -40,
          "bgcolor": "rgba(255, 255, 255, 0.95)",
          "bordercolor": "rgba(0, 0, 0, 0.3)",
          "borderpad": 4,
          "borderwidth": 1,
          "font": {
           "color": "#2c3e50",
           "size": 10
          },
          "showarrow": true,
          "text": "<b>Faries - Tim...</b><br>11718",
          "x": 0.14446508985046128,
          "xref": "x",
          "y": 0.8223391352615335,
          "yref": "y"
         },
         {
          "arrowcolor": "#666666",
          "arrowhead": 1,
          "arrowwidth": 1,
          "ax": 0,
          "ay": -40,
          "bgcolor": "rgba(255, 255, 255, 0.95)",
          "bordercolor": "rgba(0, 0, 0, 0.3)",
          "borderpad": 4,
          "borderwidth": 1,
          "font": {
           "color": "#2c3e50",
           "size": 10
          },
          "showarrow": true,
          "text": "<b>Counsell - T...</b><br>11427",
          "x": -0.5323788238769063,
          "xref": "x",
          "y": 0.38355835833009927,
          "yref": "y"
         },
         {
          "arrowcolor": "#666666",
          "arrowhead": 1,
          "arrowwidth": 1,
          "ax": 0,
          "ay": 40,
          "bgcolor": "rgba(255, 255, 255, 0.95)",
          "bordercolor": "rgba(0, 0, 0, 0.3)",
          "borderpad": 4,
          "borderwidth": 1,
          "font": {
           "color": "#2c3e50",
           "size": 10
          },
          "showarrow": true,
          "text": "<b>White - F Ch...</b><br>9011",
          "x": 0.3161416855972952,
          "xref": "x",
          "y": -0.40388476774374144,
          "yref": "y"
         }
        ],
        "height": 700,
        "hoverlabel": {
         "bgcolor": "rgba(0,0,0,0.8)",
         "font": {
          "color": "white",
          "size": 10
         }
        },
        "legend": {
         "bgcolor": "rgba(255,255,255,0.9)",
         "bordercolor": "rgba(0,0,0,0.2)",
         "font": {
          "size": 10
         },
         "title": {
          "text": "<b>Rôles</b>"
         },
         "x": 1.02,
         "y": 0.5
        },
        "margin": {
         "b": 20,
         "l": 20,
         "r": 120,
         "t": 80
        },
        "paper_bgcolor": "white",
        "plot_bgcolor": "white",
        "showlegend": true,
        "template": {
         "data": {
          "bar": [
           {
            "error_x": {
             "color": "#2a3f5f"
            },
            "error_y": {
             "color": "#2a3f5f"
            },
            "marker": {
             "line": {
              "color": "#E5ECF6",
              "width": 0.5
             },
             "pattern": {
              "fillmode": "overlay",
              "size": 10,
              "solidity": 0.2
             }
            },
            "type": "bar"
           }
          ],
          "barpolar": [
           {
            "marker": {
             "line": {
              "color": "#E5ECF6",
              "width": 0.5
             },
             "pattern": {
              "fillmode": "overlay",
              "size": 10,
              "solidity": 0.2
             }
            },
            "type": "barpolar"
           }
          ],
          "carpet": [
           {
            "aaxis": {
             "endlinecolor": "#2a3f5f",
             "gridcolor": "white",
             "linecolor": "white",
             "minorgridcolor": "white",
             "startlinecolor": "#2a3f5f"
            },
            "baxis": {
             "endlinecolor": "#2a3f5f",
             "gridcolor": "white",
             "linecolor": "white",
             "minorgridcolor": "white",
             "startlinecolor": "#2a3f5f"
            },
            "type": "carpet"
           }
          ],
          "choropleth": [
           {
            "colorbar": {
             "outlinewidth": 0,
             "ticks": ""
            },
            "type": "choropleth"
           }
          ],
          "contour": [
           {
            "colorbar": {
             "outlinewidth": 0,
             "ticks": ""
            },
            "colorscale": [
             [
              0,
              "#0d0887"
             ],
             [
              0.1111111111111111,
              "#46039f"
             ],
             [
              0.2222222222222222,
              "#7201a8"
             ],
             [
              0.3333333333333333,
              "#9c179e"
             ],
             [
              0.4444444444444444,
              "#bd3786"
             ],
             [
              0.5555555555555556,
              "#d8576b"
             ],
             [
              0.6666666666666666,
              "#ed7953"
             ],
             [
              0.7777777777777778,
              "#fb9f3a"
             ],
             [
              0.8888888888888888,
              "#fdca26"
             ],
             [
              1,
              "#f0f921"
             ]
            ],
            "type": "contour"
           }
          ],
          "contourcarpet": [
           {
            "colorbar": {
             "outlinewidth": 0,
             "ticks": ""
            },
            "type": "contourcarpet"
           }
          ],
          "heatmap": [
           {
            "colorbar": {
             "outlinewidth": 0,
             "ticks": ""
            },
            "colorscale": [
             [
              0,
              "#0d0887"
             ],
             [
              0.1111111111111111,
              "#46039f"
             ],
             [
              0.2222222222222222,
              "#7201a8"
             ],
             [
              0.3333333333333333,
              "#9c179e"
             ],
             [
              0.4444444444444444,
              "#bd3786"
             ],
             [
              0.5555555555555556,
              "#d8576b"
             ],
             [
              0.6666666666666666,
              "#ed7953"
             ],
             [
              0.7777777777777778,
              "#fb9f3a"
             ],
             [
              0.8888888888888888,
              "#fdca26"
             ],
             [
              1,
              "#f0f921"
             ]
            ],
            "type": "heatmap"
           }
          ],
          "histogram": [
           {
            "marker": {
             "pattern": {
              "fillmode": "overlay",
              "size": 10,
              "solidity": 0.2
             }
            },
            "type": "histogram"
           }
          ],
          "histogram2d": [
           {
            "colorbar": {
             "outlinewidth": 0,
             "ticks": ""
            },
            "colorscale": [
             [
              0,
              "#0d0887"
             ],
             [
              0.1111111111111111,
              "#46039f"
             ],
             [
              0.2222222222222222,
              "#7201a8"
             ],
             [
              0.3333333333333333,
              "#9c179e"
             ],
             [
              0.4444444444444444,
              "#bd3786"
             ],
             [
              0.5555555555555556,
              "#d8576b"
             ],
             [
              0.6666666666666666,
              "#ed7953"
             ],
             [
              0.7777777777777778,
              "#fb9f3a"
             ],
             [
              0.8888888888888888,
              "#fdca26"
             ],
             [
              1,
              "#f0f921"
             ]
            ],
            "type": "histogram2d"
           }
          ],
          "histogram2dcontour": [
           {
            "colorbar": {
             "outlinewidth": 0,
             "ticks": ""
            },
            "colorscale": [
             [
              0,
              "#0d0887"
             ],
             [
              0.1111111111111111,
              "#46039f"
             ],
             [
              0.2222222222222222,
              "#7201a8"
             ],
             [
              0.3333333333333333,
              "#9c179e"
             ],
             [
              0.4444444444444444,
              "#bd3786"
             ],
             [
              0.5555555555555556,
              "#d8576b"
             ],
             [
              0.6666666666666666,
              "#ed7953"
             ],
             [
              0.7777777777777778,
              "#fb9f3a"
             ],
             [
              0.8888888888888888,
              "#fdca26"
             ],
             [
              1,
              "#f0f921"
             ]
            ],
            "type": "histogram2dcontour"
           }
          ],
          "mesh3d": [
           {
            "colorbar": {
             "outlinewidth": 0,
             "ticks": ""
            },
            "type": "mesh3d"
           }
          ],
          "parcoords": [
           {
            "line": {
             "colorbar": {
              "outlinewidth": 0,
              "ticks": ""
             }
            },
            "type": "parcoords"
           }
          ],
          "pie": [
           {
            "automargin": true,
            "type": "pie"
           }
          ],
          "scatter": [
           {
            "fillpattern": {
             "fillmode": "overlay",
             "size": 10,
             "solidity": 0.2
            },
            "type": "scatter"
           }
          ],
          "scatter3d": [
           {
            "line": {
             "colorbar": {
              "outlinewidth": 0,
              "ticks": ""
             }
            },
            "marker": {
             "colorbar": {
              "outlinewidth": 0,
              "ticks": ""
             }
            },
            "type": "scatter3d"
           }
          ],
          "scattercarpet": [
           {
            "marker": {
             "colorbar": {
              "outlinewidth": 0,
              "ticks": ""
             }
            },
            "type": "scattercarpet"
           }
          ],
          "scattergeo": [
           {
            "marker": {
             "colorbar": {
              "outlinewidth": 0,
              "ticks": ""
             }
            },
            "type": "scattergeo"
           }
          ],
          "scattergl": [
           {
            "marker": {
             "colorbar": {
              "outlinewidth": 0,
              "ticks": ""
             }
            },
            "type": "scattergl"
           }
          ],
          "scattermap": [
           {
            "marker": {
             "colorbar": {
              "outlinewidth": 0,
              "ticks": ""
             }
            },
            "type": "scattermap"
           }
          ],
          "scattermapbox": [
           {
            "marker": {
             "colorbar": {
              "outlinewidth": 0,
              "ticks": ""
             }
            },
            "type": "scattermapbox"
           }
          ],
          "scatterpolar": [
           {
            "marker": {
             "colorbar": {
              "outlinewidth": 0,
              "ticks": ""
             }
            },
            "type": "scatterpolar"
           }
          ],
          "scatterpolargl": [
           {
            "marker": {
             "colorbar": {
              "outlinewidth": 0,
              "ticks": ""
             }
            },
            "type": "scatterpolargl"
           }
          ],
          "scatterternary": [
           {
            "marker": {
             "colorbar": {
              "outlinewidth": 0,
              "ticks": ""
             }
            },
            "type": "scatterternary"
           }
          ],
          "surface": [
           {
            "colorbar": {
             "outlinewidth": 0,
             "ticks": ""
            },
            "colorscale": [
             [
              0,
              "#0d0887"
             ],
             [
              0.1111111111111111,
              "#46039f"
             ],
             [
              0.2222222222222222,
              "#7201a8"
             ],
             [
              0.3333333333333333,
              "#9c179e"
             ],
             [
              0.4444444444444444,
              "#bd3786"
             ],
             [
              0.5555555555555556,
              "#d8576b"
             ],
             [
              0.6666666666666666,
              "#ed7953"
             ],
             [
              0.7777777777777778,
              "#fb9f3a"
             ],
             [
              0.8888888888888888,
              "#fdca26"
             ],
             [
              1,
              "#f0f921"
             ]
            ],
            "type": "surface"
           }
          ],
          "table": [
           {
            "cells": {
             "fill": {
              "color": "#EBF0F8"
             },
             "line": {
              "color": "white"
             }
            },
            "header": {
             "fill": {
              "color": "#C8D4E3"
             },
             "line": {
              "color": "white"
             }
            },
            "type": "table"
           }
          ]
         },
         "layout": {
          "annotationdefaults": {
           "arrowcolor": "#2a3f5f",
           "arrowhead": 0,
           "arrowwidth": 1
          },
          "autotypenumbers": "strict",
          "coloraxis": {
           "colorbar": {
            "outlinewidth": 0,
            "ticks": ""
           }
          },
          "colorscale": {
           "diverging": [
            [
             0,
             "#8e0152"
            ],
            [
             0.1,
             "#c51b7d"
            ],
            [
             0.2,
             "#de77ae"
            ],
            [
             0.3,
             "#f1b6da"
            ],
            [
             0.4,
             "#fde0ef"
            ],
            [
             0.5,
             "#f7f7f7"
            ],
            [
             0.6,
             "#e6f5d0"
            ],
            [
             0.7,
             "#b8e186"
            ],
            [
             0.8,
             "#7fbc41"
            ],
            [
             0.9,
             "#4d9221"
            ],
            [
             1,
             "#276419"
            ]
           ],
           "sequential": [
            [
             0,
             "#0d0887"
            ],
            [
             0.1111111111111111,
             "#46039f"
            ],
            [
             0.2222222222222222,
             "#7201a8"
            ],
            [
             0.3333333333333333,
             "#9c179e"
            ],
            [
             0.4444444444444444,
             "#bd3786"
            ],
            [
             0.5555555555555556,
             "#d8576b"
            ],
            [
             0.6666666666666666,
             "#ed7953"
            ],
            [
             0.7777777777777778,
             "#fb9f3a"
            ],
            [
             0.8888888888888888,
             "#fdca26"
            ],
            [
             1,
             "#f0f921"
            ]
           ],
           "sequentialminus": [
            [
             0,
             "#0d0887"
            ],
            [
             0.1111111111111111,
             "#46039f"
            ],
            [
             0.2222222222222222,
             "#7201a8"
            ],
            [
             0.3333333333333333,
             "#9c179e"
            ],
            [
             0.4444444444444444,
             "#bd3786"
            ],
            [
             0.5555555555555556,
             "#d8576b"
            ],
            [
             0.6666666666666666,
             "#ed7953"
            ],
            [
             0.7777777777777778,
             "#fb9f3a"
            ],
            [
             0.8888888888888888,
             "#fdca26"
            ],
            [
             1,
             "#f0f921"
            ]
           ]
          },
          "colorway": [
           "#636efa",
           "#EF553B",
           "#00cc96",
           "#ab63fa",
           "#FFA15A",
           "#19d3f3",
           "#FF6692",
           "#B6E880",
           "#FF97FF",
           "#FECB52"
          ],
          "font": {
           "color": "#2a3f5f"
          },
          "geo": {
           "bgcolor": "white",
           "lakecolor": "white",
           "landcolor": "#E5ECF6",
           "showlakes": true,
           "showland": true,
           "subunitcolor": "white"
          },
          "hoverlabel": {
           "align": "left"
          },
          "hovermode": "closest",
          "mapbox": {
           "style": "light"
          },
          "paper_bgcolor": "white",
          "plot_bgcolor": "#E5ECF6",
          "polar": {
           "angularaxis": {
            "gridcolor": "white",
            "linecolor": "white",
            "ticks": ""
           },
           "bgcolor": "#E5ECF6",
           "radialaxis": {
            "gridcolor": "white",
            "linecolor": "white",
            "ticks": ""
           }
          },
          "scene": {
           "xaxis": {
            "backgroundcolor": "#E5ECF6",
            "gridcolor": "white",
            "gridwidth": 2,
            "linecolor": "white",
            "showbackground": true,
            "ticks": "",
            "zerolinecolor": "white"
           },
           "yaxis": {
            "backgroundcolor": "#E5ECF6",
            "gridcolor": "white",
            "gridwidth": 2,
            "linecolor": "white",
            "showbackground": true,
            "ticks": "",
            "zerolinecolor": "white"
           },
           "zaxis": {
            "backgroundcolor": "#E5ECF6",
            "gridcolor": "white",
            "gridwidth": 2,
            "linecolor": "white",
            "showbackground": true,
            "ticks": "",
            "zerolinecolor": "white"
           }
          },
          "shapedefaults": {
           "line": {
            "color": "#2a3f5f"
           }
          },
          "ternary": {
           "aaxis": {
            "gridcolor": "white",
            "linecolor": "white",
            "ticks": ""
           },
           "baxis": {
            "gridcolor": "white",
            "linecolor": "white",
            "ticks": ""
           },
           "bgcolor": "#E5ECF6",
           "caxis": {
            "gridcolor": "white",
            "linecolor": "white",
            "ticks": ""
           }
          },
          "title": {
           "x": 0.05
          },
          "xaxis": {
           "automargin": true,
           "gridcolor": "white",
           "linecolor": "white",
           "ticks": "",
           "title": {
            "standoff": 15
           },
           "zerolinecolor": "white",
           "zerolinewidth": 2
          },
          "yaxis": {
           "automargin": true,
           "gridcolor": "white",
           "linecolor": "white",
           "ticks": "",
           "title": {
            "standoff": 15
           },
           "zerolinecolor": "white",
           "zerolinewidth": 2
          }
         }
        },
        "title": {
         "font": {
          "color": "#2c3e50",
          "size": 14
         },
         "text": "🏛️ ARCHITECTES & PASSERELLES<br><span style='font-size:11px; color:#666'>Labels: Top 6 par centralité | Survolez pour les détails</span>",
         "x": 0.5,
         "xanchor": "center",
         "y": 0.95
        },
        "width": 900,
        "xaxis": {
         "showgrid": false,
         "showticklabels": false,
         "zeroline": false
        },
        "yaxis": {
         "showgrid": false,
         "showticklabels": false,
         "zeroline": false
        }
       }
      }
     },
     "metadata": {},
     "output_type": "display_data"
    }
   ],
   "source": [
    "# 1️⃣ Filtrer Architectes et Passerelles (Top 35)\n",
    "mini_df = top35[top35['typologie'].isin(['Architecte','Passerelle'])].copy()\n",
    "mini_ids = set(mini_df['id'])\n",
    "G_mini = G.subgraph(mini_ids).copy()\n",
    "\n",
    "print(f\"Sous-graphe cœur : {len(G_mini.nodes())} nœuds, {len(G_mini.edges())} connexions internes\")\n",
    "\n",
    "# 2️⃣ Layout plus espacé\n",
    "pos_mini = nx.spring_layout(G_mini, k=3, iterations=100, seed=42)  # k augmenté pour plus d'espace\n",
    "\n",
    "# 3️⃣ Arêtes discrètes\n",
    "edge_x, edge_y = [], []\n",
    "for u,v in G_mini.edges():\n",
    "    x0, y0 = pos_mini[u]\n",
    "    x1, y1 = pos_mini[v]\n",
    "    edge_x.extend([x0, x1, None])\n",
    "    edge_y.extend([y0, y1, None])\n",
    "\n",
    "edge_trace = go.Scatter(\n",
    "    x=edge_x, y=edge_y,\n",
    "    line=dict(width=0.8, color='rgba(120,120,120,0.3)'),\n",
    "    hoverinfo='none',\n",
    "    mode='lines',\n",
    "    showlegend=False\n",
    ")\n",
    "\n",
    "# 4️⃣ Nœuds avec annotations MINIMALISTES\n",
    "node_traces = []\n",
    "annotations = []\n",
    "\n",
    "# Sélectionner seulement les 5-6 nœuds les plus importants pour les annotations\n",
    "top_annotations = mini_df.nlargest(6, 'betweenness')\n",
    "\n",
    "for typ in ['Architecte','Passerelle']:\n",
    "    subset = mini_df[mini_df['typologie']==typ]\n",
    "    node_x, node_y, sizes, borders, hover_texts = [], [], [], [], []\n",
    "    \n",
    "    for _, row in subset.iterrows():\n",
    "        nid = row['id']\n",
    "        if nid not in pos_mini:\n",
    "            continue\n",
    "        x, y = pos_mini[nid]\n",
    "        node_x.append(x)\n",
    "        node_y.append(y)\n",
    "        \n",
    "        # Taille basée sur la centralité (plus significative)\n",
    "        size = 20 + (row['betweenness'] / mini_df['betweenness'].max()) * 40\n",
    "        sizes.append(size)\n",
    "        \n",
    "        borders.append(TYPO_COLORS.get(row['typologie'], \"#7f8c8d\"))\n",
    "        hover_texts.append(f\"{row['name']} | {row['typologie']}\")\n",
    "    \n",
    "    node_traces.append(go.Scatter(\n",
    "        x=node_x, y=node_y,\n",
    "        mode='markers',\n",
    "        marker=dict(\n",
    "            symbol='circle', \n",
    "            size=sizes, \n",
    "            color=borders, \n",
    "            line=dict(width=2, color='#000000')\n",
    "        ),\n",
    "        text=hover_texts,\n",
    "        hoverinfo='text',\n",
    "        name=typ\n",
    "    ))\n",
    "\n",
    "# 5️⃣ Annotations seulement pour les TOP 6\n",
    "for _, row in top_annotations.iterrows():\n",
    "    nid = row['id']\n",
    "    if nid in pos_mini:\n",
    "        x, y = pos_mini[nid]\n",
    "        \n",
    "        name = row['name']\n",
    "        short_name = name.split(';')[0] if ';' in name else name\n",
    "        short_name = short_name[:12] + \"...\" if len(short_name) > 12 else short_name\n",
    "        \n",
    "        # TEXTE MINIMAL\n",
    "        annotation_text = f\"<b>{short_name}</b><br>{row['betweenness']:.0f}\"\n",
    "        \n",
    "        annotations.append(\n",
    "            dict(\n",
    "                x=x,\n",
    "                y=y,\n",
    "                xref=\"x\",\n",
    "                yref=\"y\",\n",
    "                text=annotation_text,\n",
    "                showarrow=True,\n",
    "                arrowhead=1,\n",
    "                arrowwidth=1,\n",
    "                arrowcolor=\"#666666\",\n",
    "                bgcolor=\"rgba(255, 255, 255, 0.95)\",\n",
    "                bordercolor=\"rgba(0, 0, 0, 0.3)\",\n",
    "                borderwidth=1,\n",
    "                borderpad=4,\n",
    "                font=dict(size=10, color=\"#2c3e50\"),\n",
    "                # Positions stratégiques pour éviter les chevauchements\n",
    "                ax=0,  # Pas de décalage horizontal\n",
    "                ay=-40 if y > 0 else 40  # Toujours vers le bas ou le haut\n",
    "            )\n",
    "        )\n",
    "\n",
    "# 6️⃣ Figure épurée\n",
    "fig_mini = go.Figure(data=[edge_trace] + node_traces)\n",
    "\n",
    "fig_mini.update_layout(\n",
    "    title=dict(\n",
    "        text=\"🏛️ ARCHITECTES & PASSERELLES<br>\"\n",
    "             \"<span style='font-size:11px; color:#666'>\"\n",
    "             \"Labels: Top 6 par centralité | Survolez pour les détails\"\n",
    "             \"</span>\",\n",
    "        x=0.5,\n",
    "        xanchor=\"center\",\n",
    "        y=0.95,\n",
    "        font=dict(size=14, color=COLOR_PALETTE['text'])\n",
    "    ),\n",
    "    width=900,\n",
    "    height=700,\n",
    "    showlegend=True,\n",
    "    hoverlabel=dict(\n",
    "        bgcolor=\"rgba(0,0,0,0.8)\",\n",
    "        font_size=10,\n",
    "        font_color=\"white\"\n",
    "    ),\n",
    "    plot_bgcolor='white',\n",
    "    paper_bgcolor='white',\n",
    "    legend=dict(\n",
    "        title=\"<b>Rôles</b>\",\n",
    "        bgcolor=\"rgba(255,255,255,0.9)\",\n",
    "        bordercolor=\"rgba(0,0,0,0.2)\",\n",
    "        font=dict(size=10),\n",
    "        x=1.02,\n",
    "        y=0.5\n",
    "    ),\n",
    "    margin=dict(l=20, r=120, t=80, b=20),\n",
    "    xaxis=dict(showgrid=False, zeroline=False, showticklabels=False),\n",
    "    yaxis=dict(showgrid=False, zeroline=False, showticklabels=False),\n",
    "    annotations=annotations\n",
    ")\n",
    "\n",
    "print(\"🚀 Graphique épuré - Seulement 6 labels principaux\")\n",
    "fig_mini.show()"
   ]
  },
  {
   "cell_type": "code",
   "execution_count": 101,
   "id": "40199b06",
   "metadata": {},
   "outputs": [],
   "source": [
    "fig.write_html(\n",
    "    r\"C:\\Users\\Ashahi\\Desktop\\Graph\\examen\\notebooks\\graphes_notebook1\\graphe_2.html\",\n",
    "    include_plotlyjs='cdn',\n",
    "    full_html=True\n",
    ")\n"
   ]
  },
  {
   "cell_type": "markdown",
   "id": "10f46ca3",
   "metadata": {},
   "source": [
    "### Interpretation"
   ]
  },
  {
   "cell_type": "markdown",
   "id": "57e935d1",
   "metadata": {},
   "source": [
    "Le réseau montre une coordination claire : les architectes se connectent surtout aux passerelles, qui organisent les flux vers Argyle House. La hiérarchie est : Argyle House (hub central) → passerelles → architectes. Les flux sont redondants, donc les architectes restent connectés au hub même si une passerelle disparaît. Cela montre que le pouvoir est à la fois centralisé autour d’Argyle House et réparti via les passerelles."
   ]
  },
  {
   "cell_type": "markdown",
   "id": "f83d0e2d",
   "metadata": {},
   "source": [
    " ENTITÉS CAYMAN vs HUB BERMUDA"
   ]
  },
  {
   "cell_type": "code",
   "execution_count": 102,
   "id": "69050da1",
   "metadata": {},
   "outputs": [
    {
     "name": "stdout",
     "output_type": "stream",
     "text": [
      "Graphe Cayman ↔ Bermuda : 40 nœuds, 110 arêtes\n"
     ]
    },
    {
     "data": {
      "application/vnd.plotly.v1+json": {
       "config": {
        "plotlyServerURL": "https://plot.ly"
       },
       "data": [
        {
         "hoverinfo": "none",
         "line": {
          "color": "rgba(180,180,180,0.4)",
          "width": 0.8
         },
         "mode": "lines",
         "showlegend": false,
         "type": "scatter",
         "x": [
          -0.08857035639049786,
          -0.12449472783135179,
          null,
          -0.08857035639049786,
          -0.8341265484568823,
          null,
          -0.08857035639049786,
          -0.5697277661975857,
          null,
          -0.08857035639049786,
          -0.6226743642787278,
          null,
          -0.08857035639049786,
          0.5788504534929091,
          null,
          -0.08857035639049786,
          0.053259176169394795,
          null,
          0.861167525835808,
          -0.12449472783135179,
          null,
          0.861167525835808,
          -0.022525487964207648,
          null,
          0.861167525835808,
          -0.8920181193652627,
          null,
          0.861167525835808,
          0.13437372597435224,
          null,
          0.861167525835808,
          0.3607828457160205,
          null,
          -0.6058103244308563,
          -0.12449472783135179,
          null,
          -0.6058103244308563,
          0.3607828457160205,
          null,
          -0.6058103244308563,
          0.5598957346349609,
          null,
          -0.6058103244308563,
          -0.44381503862804017,
          null,
          -0.6058103244308563,
          0.6467304506054536,
          null,
          -0.6058103244308563,
          -0.23374706958550692,
          null,
          -0.8920181193652627,
          -0.12449472783135179,
          null,
          -0.8920181193652627,
          0.7161007562675114,
          null,
          -0.8920181193652627,
          -0.8341265484568823,
          null,
          -0.8920181193652627,
          -0.6022380445573675,
          null,
          -0.8920181193652627,
          0.053259176169394795,
          null,
          0.4742708155013131,
          -0.9352237162911988,
          null,
          0.4742708155013131,
          0.9102755965882381,
          null,
          0.4742708155013131,
          0.7742216468833145,
          null,
          0.4742708155013131,
          0.5740525640552392,
          null,
          -0.6226743642787278,
          -0.12449472783135179,
          null,
          -0.6226743642787278,
          0.25445889007926553,
          null,
          -0.6226743642787278,
          0.3607828457160205,
          null,
          -0.6226743642787278,
          0.8500838565205481,
          null,
          0.8500838565205481,
          -0.12449472783135179,
          null,
          0.8500838565205481,
          -0.7521878613788421,
          null,
          0.8500838565205481,
          0.0784938114420924,
          null,
          0.8500838565205481,
          -0.17736735864735442,
          null,
          -0.44381503862804017,
          -0.12449472783135179,
          null,
          -0.44381503862804017,
          0.5788504534929091,
          null,
          -0.44381503862804017,
          0.053259176169394795,
          null,
          -0.6455351533600491,
          0.5788504534929091,
          null,
          -0.6455351533600491,
          0.053259176169394795,
          null,
          0.25445889007926553,
          -0.12449472783135179,
          null,
          0.25445889007926553,
          -0.7521878613788421,
          null,
          0.25445889007926553,
          0.5788504534929091,
          null,
          0.25445889007926553,
          -0.17736735864735442,
          null,
          0.25445889007926553,
          0.053259176169394795,
          null,
          -0.17736735864735442,
          -0.12449472783135179,
          null,
          -0.17736735864735442,
          0.3607828457160205,
          null,
          -0.17736735864735442,
          0.5598957346349609,
          null,
          0.13437372597435224,
          -0.5697277661975857,
          null,
          -0.9094142299732381,
          -0.12449472783135179,
          null,
          -0.9094142299732381,
          -0.7521878613788421,
          null,
          -0.9094142299732381,
          0.5788504534929091,
          null,
          0.053259176169394795,
          -0.12449472783135179,
          null,
          0.053259176169394795,
          -0.23886151884023663,
          null,
          0.053259176169394795,
          -0.43960002777385715,
          null,
          0.053259176169394795,
          0.46002797226071357,
          null,
          0.053259176169394795,
          -0.022525487964207648,
          null,
          0.053259176169394795,
          -0.31904404063655817,
          null,
          0.053259176169394795,
          -0.04729849219652077,
          null,
          0.053259176169394795,
          0.5598957346349609,
          null,
          0.053259176169394795,
          -0.849707362847196,
          null,
          0.053259176169394795,
          0.6467304506054536,
          null,
          0.053259176169394795,
          -0.23374706958550692,
          null,
          0.46002797226071357,
          -0.12449472783135179,
          null,
          0.46002797226071357,
          0.0784938114420924,
          null,
          0.46002797226071357,
          -0.5697277661975857,
          null,
          -0.43960002777385715,
          -0.12449472783135179,
          null,
          -0.43960002777385715,
          0.0784938114420924,
          null,
          -0.43960002777385715,
          -0.8341265484568823,
          null,
          -0.43960002777385715,
          0.7520091305916745,
          null,
          0.5598957346349609,
          -0.12449472783135179,
          null,
          0.5598957346349609,
          -0.7521878613788421,
          null,
          0.5598957346349609,
          0.7161007562675114,
          null,
          0.5598957346349609,
          -0.5697277661975857,
          null,
          0.5598957346349609,
          0.7520091305916745,
          null,
          -0.12449472783135179,
          -0.7521878613788421,
          null,
          -0.12449472783135179,
          -0.022525487964207648,
          null,
          -0.12449472783135179,
          0.7161007562675114,
          null,
          -0.12449472783135179,
          0.0784938114420924,
          null,
          -0.12449472783135179,
          -0.8341265484568823,
          null,
          -0.12449472783135179,
          -0.5697277661975857,
          null,
          -0.12449472783135179,
          0.5788504534929091,
          null,
          -0.12449472783135179,
          -0.04729849219652077,
          null,
          -0.12449472783135179,
          0.3607828457160205,
          null,
          -0.12449472783135179,
          -0.6022380445573675,
          null,
          -0.12449472783135179,
          0.7520091305916745,
          null,
          -0.12449472783135179,
          -0.849707362847196,
          null,
          -0.12449472783135179,
          -0.23374706958550692,
          null,
          0.9102755965882381,
          -0.8341265484568823,
          null,
          -0.9352237162911988,
          -0.8341265484568823,
          null,
          -0.8341265484568823,
          -0.04729849219652077,
          null,
          -0.31904404063655817,
          0.0784938114420924,
          null,
          0.0784938114420924,
          -0.04729849219652077,
          null,
          0.0784938114420924,
          0.3607828457160205,
          null,
          0.0784938114420924,
          -0.849707362847196,
          null,
          0.0784938114420924,
          -0.23374706958550692,
          null,
          1,
          0.5788504534929091,
          null,
          0.7161007562675114,
          -0.022525487964207648,
          null,
          0.7161007562675114,
          -0.04729849219652077,
          null,
          0.7161007562675114,
          0.6467304506054536,
          null,
          0.31493265701252876,
          -0.5697277661975857,
          null,
          -0.849707362847196,
          -0.6022380445573675,
          null,
          -0.849707362847196,
          0.7520091305916745,
          null,
          -0.5697277661975857,
          0.3607828457160205,
          null,
          0.3607828457160205,
          -0.7521878613788421,
          null,
          0.3607828457160205,
          0.5788504534929091,
          null,
          0.3607828457160205,
          -0.6022380445573675,
          null,
          -0.04729849219652077,
          0.7520091305916745,
          null,
          0.5788504534929091,
          0.6467304506054536,
          null,
          -0.7521878613788421,
          -0.022525487964207648,
          null,
          0.7520091305916745,
          0.6467304506054536,
          null
         ],
         "y": [
          0.8346613966812054,
          -0.16450190877695656,
          null,
          0.8346613966812054,
          0.5838690650709257,
          null,
          0.8346613966812054,
          -0.11831039438090149,
          null,
          0.8346613966812054,
          0.5774388785730181,
          null,
          0.8346613966812054,
          -0.5581866869049343,
          null,
          0.8346613966812054,
          -0.4187548389804942,
          null,
          0.2951237672977851,
          -0.16450190877695656,
          null,
          0.2951237672977851,
          -0.9648682275394834,
          null,
          0.2951237672977851,
          0.4291217878556093,
          null,
          0.2951237672977851,
          0.9060684970096184,
          null,
          0.2951237672977851,
          -0.13427611451685076,
          null,
          -0.7791726692068902,
          -0.16450190877695656,
          null,
          -0.7791726692068902,
          -0.13427611451685076,
          null,
          -0.7791726692068902,
          0.22569829015405615,
          null,
          -0.7791726692068902,
          -0.8683514113871467,
          null,
          -0.7791726692068902,
          -0.7800045956923501,
          null,
          -0.7791726692068902,
          -0.8888729602462037,
          null,
          0.4291217878556093,
          -0.16450190877695656,
          null,
          0.4291217878556093,
          0.7056769294762933,
          null,
          0.4291217878556093,
          0.5838690650709257,
          null,
          0.4291217878556093,
          0.7523825649194084,
          null,
          0.4291217878556093,
          -0.4187548389804942,
          null,
          0.7768773183722587,
          -0.12543921007255918,
          null,
          0.7768773183722587,
          -0.018340117241418673,
          null,
          0.7768773183722587,
          -0.3249499836575306,
          null,
          0.7768773183722587,
          0.49431285154882054,
          null,
          0.5774388785730181,
          -0.16450190877695656,
          null,
          0.5774388785730181,
          -0.917439887558929,
          null,
          0.5774388785730181,
          -0.13427611451685076,
          null,
          0.5774388785730181,
          -0.4694495021126286,
          null,
          -0.4694495021126286,
          -0.16450190877695656,
          null,
          -0.4694495021126286,
          0.08862732129937845,
          null,
          -0.4694495021126286,
          -0.7908470660815878,
          null,
          -0.4694495021126286,
          -0.6760084890351666,
          null,
          -0.8683514113871467,
          -0.16450190877695656,
          null,
          -0.8683514113871467,
          -0.5581866869049343,
          null,
          -0.8683514113871467,
          -0.4187548389804942,
          null,
          -0.48275266476711115,
          -0.5581866869049343,
          null,
          -0.48275266476711115,
          -0.4187548389804942,
          null,
          -0.917439887558929,
          -0.16450190877695656,
          null,
          -0.917439887558929,
          0.08862732129937845,
          null,
          -0.917439887558929,
          -0.5581866869049343,
          null,
          -0.917439887558929,
          -0.6760084890351666,
          null,
          -0.917439887558929,
          -0.4187548389804942,
          null,
          -0.6760084890351666,
          -0.16450190877695656,
          null,
          -0.6760084890351666,
          -0.13427611451685076,
          null,
          -0.6760084890351666,
          0.22569829015405615,
          null,
          0.9060684970096184,
          -0.11831039438090149,
          null,
          -0.0015108016461517942,
          -0.16450190877695656,
          null,
          -0.0015108016461517942,
          0.08862732129937845,
          null,
          -0.0015108016461517942,
          -0.5581866869049343,
          null,
          -0.4187548389804942,
          -0.16450190877695656,
          null,
          -0.4187548389804942,
          0.9756914664783529,
          null,
          -0.4187548389804942,
          0.9112354304199723,
          null,
          -0.4187548389804942,
          -0.7905105839429765,
          null,
          -0.4187548389804942,
          -0.9648682275394834,
          null,
          -0.4187548389804942,
          0.4282206884251941,
          null,
          -0.4187548389804942,
          0.21065194069754214,
          null,
          -0.4187548389804942,
          0.22569829015405615,
          null,
          -0.4187548389804942,
          -0.51339178106508,
          null,
          -0.4187548389804942,
          -0.7800045956923501,
          null,
          -0.4187548389804942,
          -0.8888729602462037,
          null,
          -0.7905105839429765,
          -0.16450190877695656,
          null,
          -0.7905105839429765,
          -0.7908470660815878,
          null,
          -0.7905105839429765,
          -0.11831039438090149,
          null,
          0.9112354304199723,
          -0.16450190877695656,
          null,
          0.9112354304199723,
          -0.7908470660815878,
          null,
          0.9112354304199723,
          0.5838690650709257,
          null,
          0.9112354304199723,
          0.5221521703426723,
          null,
          0.22569829015405615,
          -0.16450190877695656,
          null,
          0.22569829015405615,
          0.08862732129937845,
          null,
          0.22569829015405615,
          0.7056769294762933,
          null,
          0.22569829015405615,
          -0.11831039438090149,
          null,
          0.22569829015405615,
          0.5221521703426723,
          null,
          -0.16450190877695656,
          0.08862732129937845,
          null,
          -0.16450190877695656,
          -0.9648682275394834,
          null,
          -0.16450190877695656,
          0.7056769294762933,
          null,
          -0.16450190877695656,
          -0.7908470660815878,
          null,
          -0.16450190877695656,
          0.5838690650709257,
          null,
          -0.16450190877695656,
          -0.11831039438090149,
          null,
          -0.16450190877695656,
          -0.5581866869049343,
          null,
          -0.16450190877695656,
          0.21065194069754214,
          null,
          -0.16450190877695656,
          -0.13427611451685076,
          null,
          -0.16450190877695656,
          0.7523825649194084,
          null,
          -0.16450190877695656,
          0.5221521703426723,
          null,
          -0.16450190877695656,
          -0.51339178106508,
          null,
          -0.16450190877695656,
          -0.8888729602462037,
          null,
          -0.018340117241418673,
          0.5838690650709257,
          null,
          -0.12543921007255918,
          0.5838690650709257,
          null,
          0.5838690650709257,
          0.21065194069754214,
          null,
          0.4282206884251941,
          -0.7908470660815878,
          null,
          -0.7908470660815878,
          0.21065194069754214,
          null,
          -0.7908470660815878,
          -0.13427611451685076,
          null,
          -0.7908470660815878,
          -0.51339178106508,
          null,
          -0.7908470660815878,
          -0.8888729602462037,
          null,
          0.1487682838035914,
          -0.5581866869049343,
          null,
          0.7056769294762933,
          -0.9648682275394834,
          null,
          0.7056769294762933,
          0.21065194069754214,
          null,
          0.7056769294762933,
          -0.7800045956923501,
          null,
          0.9193612463876504,
          -0.11831039438090149,
          null,
          -0.51339178106508,
          0.7523825649194084,
          null,
          -0.51339178106508,
          0.5221521703426723,
          null,
          -0.11831039438090149,
          -0.13427611451685076,
          null,
          -0.13427611451685076,
          0.08862732129937845,
          null,
          -0.13427611451685076,
          -0.5581866869049343,
          null,
          -0.13427611451685076,
          0.7523825649194084,
          null,
          0.21065194069754214,
          0.5221521703426723,
          null,
          -0.5581866869049343,
          -0.7800045956923501,
          null,
          0.08862732129937845,
          -0.9648682275394834,
          null,
          0.5221521703426723,
          -0.7800045956923501,
          null
         ]
        },
        {
         "hoverinfo": "text",
         "marker": {
          "color": [
           "#e74c3c",
           "#e74c3c",
           "#e74c3c",
           "#e74c3c",
           "#e74c3c",
           "#e74c3c",
           "#e74c3c",
           "#e74c3c",
           "#e74c3c",
           "#e74c3c",
           "#e74c3c",
           "#e74c3c",
           "#e74c3c",
           "#e74c3c",
           "#e74c3c",
           "#e74c3c",
           "#e74c3c",
           "#e74c3c",
           "#e74c3c",
           "#e74c3c",
           "#e74c3c",
           "#e74c3c"
          ],
          "line": {
           "color": "#000",
           "width": 2
          },
          "size": [
           51.070471977868365,
           41.06512251875155,
           37.98440004171799,
           37.31704623105664,
           42.06381176457754,
           34.705137803509565,
           34.42601770970021,
           34.97184837893457,
           39.19559695891954,
           33.33208836893648,
           36.2583076070073,
           39.259768693620025,
           37.98440004171799,
           32.20377497991885,
           34.83997493862192,
           26.909439898728003,
           29.66663387499864,
           27.83434397769155,
           28.635532333438686,
           25.183347464017316,
           26.387371636790224,
           40.62410774679399
          ],
          "symbol": [
           "circle",
           "circle",
           "circle",
           "circle",
           "circle",
           "circle",
           "square",
           "circle",
           "circle",
           "circle",
           "circle",
           "circle",
           "circle",
           "circle",
           "circle",
           "circle",
           "circle",
           "circle",
           "circle",
           "circle",
           "circle",
           "circle"
          ]
         },
         "mode": "markers",
         "name": "Architecte",
         "text": [
          "<b>Argyle House; 41a Cedar Avenue; Hamilton HM 12; Bermuda</b><br>Type: Address<br>Typologie: Architecte<br>Pays: Bermuda<br>Degré: 672.0 | Betweenness: 41287.1221",
          "<b>Appleby Services (Bermuda) Ltd.</b><br>Type: Intermediary<br>Typologie: Architecte<br>Pays: Bermuda<br>Degré: 126.0 | Betweenness: 41032.3032",
          "<b>Burns - Michael J</b><br>Type: Officer<br>Typologie: Architecte<br>Pays: Bermuda;British Virgin Islands;Canada<br>Degré: 75.0 | Betweenness: 12041.2640",
          "<b>Faries - Timothy Carrick</b><br>Type: Officer<br>Typologie: Architecte<br>Pays: Bermuda;United Kingdom<br>Degré: 67.0 | Betweenness: 11718.0105",
          "<b>Counsell - Timothy J</b><br>Type: Officer<br>Typologie: Architecte<br>Pays: Bermuda;United Kingdom;United States<br>Degré: 149.0 | Betweenness: 11427.1052",
          "<b>White - F Chesley</b><br>Type: Officer<br>Typologie: Architecte<br>Pays: Bermuda;United Kingdom<br>Degré: 43.0 | Betweenness: 9010.6996",
          "<b>Robinson - Kenneth E T</b><br>Type: Officer<br>Typologie: Architecte<br>Pays: Bermuda;Cayman Islands;United Kingdom;United States<br>Degré: 41.0 | Betweenness: 7701.7083",
          "<b>Collis - Judith</b><br>Type: Officer<br>Typologie: Architecte<br>Pays: Bermuda;United Kingdom<br>Degré: 45.0 | Betweenness: 7242.3661",
          "<b>Morris - A Shaun</b><br>Type: Officer<br>Typologie: Architecte<br>Pays: Bermuda;United Kingdom;United States<br>Degré: 92.0 | Betweenness: 5671.0577",
          "<b>Keyes - James Michael</b><br>Type: Officer<br>Typologie: Architecte<br>Pays: Bermuda;United Kingdom<br>Degré: 34.0 | Betweenness: 5038.2278",
          "<b>Jones - Michael</b><br>Type: Officer<br>Typologie: Architecte<br>Pays: Bermuda;United Kingdom;United States<br>Degré: 56.0 | Betweenness: 4991.1263",
          "<b>Lines - David R</b><br>Type: Officer<br>Typologie: Architecte<br>Pays: Australia;Bermuda;United States<br>Degré: 93.0 | Betweenness: 4730.3378",
          "<b>Bossin - Alan Irving</b><br>Type: Officer<br>Typologie: Architecte<br>Pays: Bermuda;Canada<br>Degré: 75.0 | Betweenness: 4425.2341",
          "<b>Adderley - Donald Bradfield</b><br>Type: Officer<br>Typologie: Architecte<br>Pays: Bermuda;United Kingdom<br>Degré: 28.0 | Betweenness: 3483.0851",
          "<b>KPMG - Bermuda</b><br>Type: Officer<br>Typologie: Architecte<br>Pays: Bermuda<br>Degré: 44.0 | Betweenness: 3172.1373",
          "<b>Bubenzer - Peter - Bermuda</b><br>Type: Officer<br>Typologie: Architecte<br>Pays: Bermuda;United Kingdom<br>Degré: 11.0 | Betweenness: 3169.6760",
          "<b>Richardson-Augustus - Tammy L</b><br>Type: Officer<br>Typologie: Architecte<br>Pays: Bermuda;United Kingdom;United States<br>Degré: 18.0 | Betweenness: 2803.9541",
          "<b>Deloitte & Touche Ltd. - Bermuda</b><br>Type: Officer<br>Typologie: Architecte<br>Pays: Bermuda<br>Degré: 13.0 | Betweenness: 2737.4716",
          "<b>Cabral - Warren Wilton</b><br>Type: Officer<br>Typologie: Architecte<br>Pays: Bermuda;Switzerland;United Kingdom<br>Degré: 15.0 | Betweenness: 2665.5272",
          "<b>Spurling - Richard D</b><br>Type: Officer<br>Typologie: Architecte<br>Pays: Bermuda<br>Degré: 8.0 | Betweenness: 2610.2712",
          "<b>PricewaterhouseCoopers - Bermuda</b><br>Type: Officer<br>Typologie: Architecte<br>Pays: Bermuda<br>Degré: 10.0 | Betweenness: 2389.6500",
          "<b>Ernst & Young Ltd.</b><br>Type: Officer<br>Typologie: Architecte<br>Pays: Bermuda<br>Degré: 117.0 | Betweenness: 1378.8315"
         ],
         "type": "scatter",
         "x": [
          -0.12449472783135179,
          0.3607828457160205,
          -0.31904404063655817,
          -0.08857035639049786,
          -0.8920181193652627,
          0.5598957346349609,
          0.25445889007926553,
          -0.04729849219652077,
          -0.43960002777385715,
          -0.849707362847196,
          -0.022525487964207648,
          0.46002797226071357,
          -0.9094142299732381,
          -0.44381503862804017,
          0.13437372597435224,
          0.6467304506054536,
          0.8500838565205481,
          0.31493265701252876,
          -0.6455351533600491,
          -0.23374706958550692,
          1,
          -0.23886151884023663
         ],
         "y": [
          -0.16450190877695656,
          -0.13427611451685076,
          0.4282206884251941,
          0.8346613966812054,
          0.4291217878556093,
          0.22569829015405615,
          -0.917439887558929,
          0.21065194069754214,
          0.9112354304199723,
          -0.51339178106508,
          -0.9648682275394834,
          -0.7905105839429765,
          -0.0015108016461517942,
          -0.8683514113871467,
          0.9060684970096184,
          -0.7800045956923501,
          -0.4694495021126286,
          0.9193612463876504,
          -0.48275266476711115,
          -0.8888729602462037,
          0.1487682838035914,
          0.9756914664783529
         ]
        },
        {
         "hoverinfo": "text",
         "marker": {
          "color": [
           "#f39c12",
           "#f39c12",
           "#f39c12",
           "#f39c12",
           "#f39c12",
           "#f39c12",
           "#f39c12",
           "#f39c12",
           "#f39c12",
           "#f39c12",
           "#f39c12",
           "#f39c12",
           "#f39c12"
          ],
          "line": {
           "color": "#000",
           "width": 2
          },
          "size": [
           23.675460894331877,
           18.59167373200866,
           22.75055681536833,
           22.75055681536833,
           20.317766166719345,
           18.59167373200866,
           20.317766166719345,
           20.317766166719345,
           23.675460894331877,
           16.158883083359672,
           20.317766166719345,
           22.75055681536833,
           20.317766166719345
          ],
          "symbol": [
           "circle",
           "circle",
           "circle",
           "circle",
           "circle",
           "square",
           "circle",
           "circle",
           "circle",
           "circle",
           "circle",
           "circle",
           "circle"
          ]
         },
         "mode": "markers",
         "name": "Passerelle",
         "text": [
          "<b>CORONA LTD.</b><br>Type: Entity<br>Typologie: Passerelle<br>Pays: Bermuda<br>Degré: 6.0 | Betweenness: 1875.5201",
          "<b>Kowo Limited</b><br>Type: Entity<br>Typologie: Passerelle<br>Pays: Bermuda<br>Degré: 2.0 | Betweenness: 1674.1062",
          "<b>LION CORPORATION LIMITED</b><br>Type: Entity<br>Typologie: Passerelle<br>Pays: Bermuda<br>Degré: 5.0 | Betweenness: 1542.3517",
          "<b>Olivewood Limited</b><br>Type: Entity<br>Typologie: Passerelle<br>Pays: Bermuda<br>Degré: 5.0 | Betweenness: 1445.4651",
          "<b>SOLVEST, LTD.</b><br>Type: Entity<br>Typologie: Passerelle<br>Pays: Bermuda<br>Degré: 3.0 | Betweenness: 1428.2721",
          "<b>Aberystwyth Limited</b><br>Type: Entity<br>Typologie: Passerelle<br>Pays: Cayman Islands<br>Degré: 2.0 | Betweenness: 1356.7657",
          "<b>WOODBRIDGE COMPANY LIMITED</b><br>Type: Entity<br>Typologie: Passerelle<br>Pays: Bermuda<br>Degré: 3.0 | Betweenness: 827.2414",
          "<b>KINGSTON ASSOCIATES, LTD.</b><br>Type: Entity<br>Typologie: Passerelle<br>Pays: Bermuda<br>Degré: 3.0 | Betweenness: 802.8221",
          "<b>Tholu Limited</b><br>Type: Entity<br>Typologie: Passerelle<br>Pays: Bermuda<br>Degré: 6.0 | Betweenness: 710.7070",
          "<b>A.A. LTD.</b><br>Type: Entity<br>Typologie: Passerelle<br>Pays: Bermuda<br>Degré: 1.0 | Betweenness: 672.1040",
          "<b>THL Ltd.</b><br>Type: Entity<br>Typologie: Passerelle<br>Pays: Bermuda<br>Degré: 3.0 | Betweenness: 665.7568",
          "<b>Pure Products Limited</b><br>Type: Entity<br>Typologie: Passerelle<br>Pays: Bermuda<br>Degré: 5.0 | Betweenness: 647.7961",
          "<b>Children's Hospital Integrated Risk Protective Limited</b><br>Type: Entity<br>Typologie: Passerelle<br>Pays: Bermuda<br>Degré: 3.0 | Betweenness: 637.8345"
         ],
         "type": "scatter",
         "x": [
          -0.7521878613788421,
          -0.6022380445573675,
          0.5788504534929091,
          0.053259176169394795,
          -0.6226743642787278,
          -0.8341265484568823,
          0.7520091305916745,
          -0.17736735864735442,
          0.0784938114420924,
          -0.6058103244308563,
          0.861167525835808,
          0.7161007562675114,
          -0.5697277661975857
         ],
         "y": [
          0.08862732129937845,
          0.7523825649194084,
          -0.5581866869049343,
          -0.4187548389804942,
          0.5774388785730181,
          0.5838690650709257,
          0.5221521703426723,
          -0.6760084890351666,
          -0.7908470660815878,
          -0.7791726692068902,
          0.2951237672977851,
          0.7056769294762933,
          -0.11831039438090149
         ]
        }
       ],
       "layout": {
        "annotations": [
         {
          "arrowhead": 2,
          "ax": 20,
          "ay": -20,
          "bgcolor": "white",
          "bordercolor": "#000",
          "borderpad": 4,
          "borderwidth": 1,
          "font": {
           "color": "#000",
           "size": 10
          },
          "showarrow": true,
          "text": "Argyle House; 41a Cedar Avenue; Hamilton HM 12; Bermuda (Architecte)",
          "x": -0.12449472783135179,
          "xref": "x",
          "y": -0.16450190877695656,
          "yref": "y"
         },
         {
          "arrowhead": 2,
          "ax": 20,
          "ay": -20,
          "bgcolor": "white",
          "bordercolor": "#000",
          "borderpad": 4,
          "borderwidth": 1,
          "font": {
           "color": "#000",
           "size": 10
          },
          "showarrow": true,
          "text": "Appleby Services (Bermuda) Ltd. (Architecte)",
          "x": 0.3607828457160205,
          "xref": "x",
          "y": -0.13427611451685076,
          "yref": "y"
         },
         {
          "arrowhead": 2,
          "ax": 20,
          "ay": -20,
          "bgcolor": "white",
          "bordercolor": "#000",
          "borderpad": 4,
          "borderwidth": 1,
          "font": {
           "color": "#000",
           "size": 10
          },
          "showarrow": true,
          "text": "Burns - Michael J (Architecte)",
          "x": -0.31904404063655817,
          "xref": "x",
          "y": 0.4282206884251941,
          "yref": "y"
         },
         {
          "arrowhead": 2,
          "ax": 20,
          "ay": -20,
          "bgcolor": "white",
          "bordercolor": "#000",
          "borderpad": 4,
          "borderwidth": 1,
          "font": {
           "color": "#000",
           "size": 10
          },
          "showarrow": true,
          "text": "Faries - Timothy Carrick (Architecte)",
          "x": -0.08857035639049786,
          "xref": "x",
          "y": 0.8346613966812054,
          "yref": "y"
         },
         {
          "arrowhead": 2,
          "ax": 20,
          "ay": -20,
          "bgcolor": "white",
          "bordercolor": "#000",
          "borderpad": 4,
          "borderwidth": 1,
          "font": {
           "color": "#000",
           "size": 10
          },
          "showarrow": true,
          "text": "Counsell - Timothy J (Architecte)",
          "x": -0.8920181193652627,
          "xref": "x",
          "y": 0.4291217878556093,
          "yref": "y"
         },
         {
          "arrowhead": 2,
          "ax": 20,
          "ay": -20,
          "bgcolor": "white",
          "bordercolor": "#000",
          "borderpad": 4,
          "borderwidth": 1,
          "font": {
           "color": "#000",
           "size": 10
          },
          "showarrow": true,
          "text": "White - F Chesley (Architecte)",
          "x": 0.5598957346349609,
          "xref": "x",
          "y": 0.22569829015405615,
          "yref": "y"
         },
         {
          "arrowhead": 2,
          "ax": 20,
          "ay": -20,
          "bgcolor": "white",
          "bordercolor": "#000",
          "borderpad": 4,
          "borderwidth": 1,
          "font": {
           "color": "#000",
           "size": 10
          },
          "showarrow": true,
          "text": "Robinson - Kenneth E T (Architecte)",
          "x": 0.25445889007926553,
          "xref": "x",
          "y": -0.917439887558929,
          "yref": "y"
         },
         {
          "arrowhead": 2,
          "ax": 20,
          "ay": -20,
          "bgcolor": "white",
          "bordercolor": "#000",
          "borderpad": 4,
          "borderwidth": 1,
          "font": {
           "color": "#000",
           "size": 10
          },
          "showarrow": true,
          "text": "Collis - Judith (Architecte)",
          "x": -0.04729849219652077,
          "xref": "x",
          "y": 0.21065194069754214,
          "yref": "y"
         },
         {
          "arrowhead": 2,
          "ax": 20,
          "ay": -20,
          "bgcolor": "white",
          "bordercolor": "#000",
          "borderpad": 4,
          "borderwidth": 1,
          "font": {
           "color": "#000",
           "size": 10
          },
          "showarrow": true,
          "text": "Morris - A Shaun (Architecte)",
          "x": -0.43960002777385715,
          "xref": "x",
          "y": 0.9112354304199723,
          "yref": "y"
         },
         {
          "arrowhead": 2,
          "ax": 20,
          "ay": -20,
          "bgcolor": "white",
          "bordercolor": "#000",
          "borderpad": 4,
          "borderwidth": 1,
          "font": {
           "color": "#000",
           "size": 10
          },
          "showarrow": true,
          "text": "Keyes - James Michael (Architecte)",
          "x": -0.849707362847196,
          "xref": "x",
          "y": -0.51339178106508,
          "yref": "y"
         }
        ],
        "height": 750,
        "showlegend": true,
        "template": {
         "data": {
          "bar": [
           {
            "error_x": {
             "color": "#2a3f5f"
            },
            "error_y": {
             "color": "#2a3f5f"
            },
            "marker": {
             "line": {
              "color": "#E5ECF6",
              "width": 0.5
             },
             "pattern": {
              "fillmode": "overlay",
              "size": 10,
              "solidity": 0.2
             }
            },
            "type": "bar"
           }
          ],
          "barpolar": [
           {
            "marker": {
             "line": {
              "color": "#E5ECF6",
              "width": 0.5
             },
             "pattern": {
              "fillmode": "overlay",
              "size": 10,
              "solidity": 0.2
             }
            },
            "type": "barpolar"
           }
          ],
          "carpet": [
           {
            "aaxis": {
             "endlinecolor": "#2a3f5f",
             "gridcolor": "white",
             "linecolor": "white",
             "minorgridcolor": "white",
             "startlinecolor": "#2a3f5f"
            },
            "baxis": {
             "endlinecolor": "#2a3f5f",
             "gridcolor": "white",
             "linecolor": "white",
             "minorgridcolor": "white",
             "startlinecolor": "#2a3f5f"
            },
            "type": "carpet"
           }
          ],
          "choropleth": [
           {
            "colorbar": {
             "outlinewidth": 0,
             "ticks": ""
            },
            "type": "choropleth"
           }
          ],
          "contour": [
           {
            "colorbar": {
             "outlinewidth": 0,
             "ticks": ""
            },
            "colorscale": [
             [
              0,
              "#0d0887"
             ],
             [
              0.1111111111111111,
              "#46039f"
             ],
             [
              0.2222222222222222,
              "#7201a8"
             ],
             [
              0.3333333333333333,
              "#9c179e"
             ],
             [
              0.4444444444444444,
              "#bd3786"
             ],
             [
              0.5555555555555556,
              "#d8576b"
             ],
             [
              0.6666666666666666,
              "#ed7953"
             ],
             [
              0.7777777777777778,
              "#fb9f3a"
             ],
             [
              0.8888888888888888,
              "#fdca26"
             ],
             [
              1,
              "#f0f921"
             ]
            ],
            "type": "contour"
           }
          ],
          "contourcarpet": [
           {
            "colorbar": {
             "outlinewidth": 0,
             "ticks": ""
            },
            "type": "contourcarpet"
           }
          ],
          "heatmap": [
           {
            "colorbar": {
             "outlinewidth": 0,
             "ticks": ""
            },
            "colorscale": [
             [
              0,
              "#0d0887"
             ],
             [
              0.1111111111111111,
              "#46039f"
             ],
             [
              0.2222222222222222,
              "#7201a8"
             ],
             [
              0.3333333333333333,
              "#9c179e"
             ],
             [
              0.4444444444444444,
              "#bd3786"
             ],
             [
              0.5555555555555556,
              "#d8576b"
             ],
             [
              0.6666666666666666,
              "#ed7953"
             ],
             [
              0.7777777777777778,
              "#fb9f3a"
             ],
             [
              0.8888888888888888,
              "#fdca26"
             ],
             [
              1,
              "#f0f921"
             ]
            ],
            "type": "heatmap"
           }
          ],
          "histogram": [
           {
            "marker": {
             "pattern": {
              "fillmode": "overlay",
              "size": 10,
              "solidity": 0.2
             }
            },
            "type": "histogram"
           }
          ],
          "histogram2d": [
           {
            "colorbar": {
             "outlinewidth": 0,
             "ticks": ""
            },
            "colorscale": [
             [
              0,
              "#0d0887"
             ],
             [
              0.1111111111111111,
              "#46039f"
             ],
             [
              0.2222222222222222,
              "#7201a8"
             ],
             [
              0.3333333333333333,
              "#9c179e"
             ],
             [
              0.4444444444444444,
              "#bd3786"
             ],
             [
              0.5555555555555556,
              "#d8576b"
             ],
             [
              0.6666666666666666,
              "#ed7953"
             ],
             [
              0.7777777777777778,
              "#fb9f3a"
             ],
             [
              0.8888888888888888,
              "#fdca26"
             ],
             [
              1,
              "#f0f921"
             ]
            ],
            "type": "histogram2d"
           }
          ],
          "histogram2dcontour": [
           {
            "colorbar": {
             "outlinewidth": 0,
             "ticks": ""
            },
            "colorscale": [
             [
              0,
              "#0d0887"
             ],
             [
              0.1111111111111111,
              "#46039f"
             ],
             [
              0.2222222222222222,
              "#7201a8"
             ],
             [
              0.3333333333333333,
              "#9c179e"
             ],
             [
              0.4444444444444444,
              "#bd3786"
             ],
             [
              0.5555555555555556,
              "#d8576b"
             ],
             [
              0.6666666666666666,
              "#ed7953"
             ],
             [
              0.7777777777777778,
              "#fb9f3a"
             ],
             [
              0.8888888888888888,
              "#fdca26"
             ],
             [
              1,
              "#f0f921"
             ]
            ],
            "type": "histogram2dcontour"
           }
          ],
          "mesh3d": [
           {
            "colorbar": {
             "outlinewidth": 0,
             "ticks": ""
            },
            "type": "mesh3d"
           }
          ],
          "parcoords": [
           {
            "line": {
             "colorbar": {
              "outlinewidth": 0,
              "ticks": ""
             }
            },
            "type": "parcoords"
           }
          ],
          "pie": [
           {
            "automargin": true,
            "type": "pie"
           }
          ],
          "scatter": [
           {
            "fillpattern": {
             "fillmode": "overlay",
             "size": 10,
             "solidity": 0.2
            },
            "type": "scatter"
           }
          ],
          "scatter3d": [
           {
            "line": {
             "colorbar": {
              "outlinewidth": 0,
              "ticks": ""
             }
            },
            "marker": {
             "colorbar": {
              "outlinewidth": 0,
              "ticks": ""
             }
            },
            "type": "scatter3d"
           }
          ],
          "scattercarpet": [
           {
            "marker": {
             "colorbar": {
              "outlinewidth": 0,
              "ticks": ""
             }
            },
            "type": "scattercarpet"
           }
          ],
          "scattergeo": [
           {
            "marker": {
             "colorbar": {
              "outlinewidth": 0,
              "ticks": ""
             }
            },
            "type": "scattergeo"
           }
          ],
          "scattergl": [
           {
            "marker": {
             "colorbar": {
              "outlinewidth": 0,
              "ticks": ""
             }
            },
            "type": "scattergl"
           }
          ],
          "scattermap": [
           {
            "marker": {
             "colorbar": {
              "outlinewidth": 0,
              "ticks": ""
             }
            },
            "type": "scattermap"
           }
          ],
          "scattermapbox": [
           {
            "marker": {
             "colorbar": {
              "outlinewidth": 0,
              "ticks": ""
             }
            },
            "type": "scattermapbox"
           }
          ],
          "scatterpolar": [
           {
            "marker": {
             "colorbar": {
              "outlinewidth": 0,
              "ticks": ""
             }
            },
            "type": "scatterpolar"
           }
          ],
          "scatterpolargl": [
           {
            "marker": {
             "colorbar": {
              "outlinewidth": 0,
              "ticks": ""
             }
            },
            "type": "scatterpolargl"
           }
          ],
          "scatterternary": [
           {
            "marker": {
             "colorbar": {
              "outlinewidth": 0,
              "ticks": ""
             }
            },
            "type": "scatterternary"
           }
          ],
          "surface": [
           {
            "colorbar": {
             "outlinewidth": 0,
             "ticks": ""
            },
            "colorscale": [
             [
              0,
              "#0d0887"
             ],
             [
              0.1111111111111111,
              "#46039f"
             ],
             [
              0.2222222222222222,
              "#7201a8"
             ],
             [
              0.3333333333333333,
              "#9c179e"
             ],
             [
              0.4444444444444444,
              "#bd3786"
             ],
             [
              0.5555555555555556,
              "#d8576b"
             ],
             [
              0.6666666666666666,
              "#ed7953"
             ],
             [
              0.7777777777777778,
              "#fb9f3a"
             ],
             [
              0.8888888888888888,
              "#fdca26"
             ],
             [
              1,
              "#f0f921"
             ]
            ],
            "type": "surface"
           }
          ],
          "table": [
           {
            "cells": {
             "fill": {
              "color": "#EBF0F8"
             },
             "line": {
              "color": "white"
             }
            },
            "header": {
             "fill": {
              "color": "#C8D4E3"
             },
             "line": {
              "color": "white"
             }
            },
            "type": "table"
           }
          ]
         },
         "layout": {
          "annotationdefaults": {
           "arrowcolor": "#2a3f5f",
           "arrowhead": 0,
           "arrowwidth": 1
          },
          "autotypenumbers": "strict",
          "coloraxis": {
           "colorbar": {
            "outlinewidth": 0,
            "ticks": ""
           }
          },
          "colorscale": {
           "diverging": [
            [
             0,
             "#8e0152"
            ],
            [
             0.1,
             "#c51b7d"
            ],
            [
             0.2,
             "#de77ae"
            ],
            [
             0.3,
             "#f1b6da"
            ],
            [
             0.4,
             "#fde0ef"
            ],
            [
             0.5,
             "#f7f7f7"
            ],
            [
             0.6,
             "#e6f5d0"
            ],
            [
             0.7,
             "#b8e186"
            ],
            [
             0.8,
             "#7fbc41"
            ],
            [
             0.9,
             "#4d9221"
            ],
            [
             1,
             "#276419"
            ]
           ],
           "sequential": [
            [
             0,
             "#0d0887"
            ],
            [
             0.1111111111111111,
             "#46039f"
            ],
            [
             0.2222222222222222,
             "#7201a8"
            ],
            [
             0.3333333333333333,
             "#9c179e"
            ],
            [
             0.4444444444444444,
             "#bd3786"
            ],
            [
             0.5555555555555556,
             "#d8576b"
            ],
            [
             0.6666666666666666,
             "#ed7953"
            ],
            [
             0.7777777777777778,
             "#fb9f3a"
            ],
            [
             0.8888888888888888,
             "#fdca26"
            ],
            [
             1,
             "#f0f921"
            ]
           ],
           "sequentialminus": [
            [
             0,
             "#0d0887"
            ],
            [
             0.1111111111111111,
             "#46039f"
            ],
            [
             0.2222222222222222,
             "#7201a8"
            ],
            [
             0.3333333333333333,
             "#9c179e"
            ],
            [
             0.4444444444444444,
             "#bd3786"
            ],
            [
             0.5555555555555556,
             "#d8576b"
            ],
            [
             0.6666666666666666,
             "#ed7953"
            ],
            [
             0.7777777777777778,
             "#fb9f3a"
            ],
            [
             0.8888888888888888,
             "#fdca26"
            ],
            [
             1,
             "#f0f921"
            ]
           ]
          },
          "colorway": [
           "#636efa",
           "#EF553B",
           "#00cc96",
           "#ab63fa",
           "#FFA15A",
           "#19d3f3",
           "#FF6692",
           "#B6E880",
           "#FF97FF",
           "#FECB52"
          ],
          "font": {
           "color": "#2a3f5f"
          },
          "geo": {
           "bgcolor": "white",
           "lakecolor": "white",
           "landcolor": "#E5ECF6",
           "showlakes": true,
           "showland": true,
           "subunitcolor": "white"
          },
          "hoverlabel": {
           "align": "left"
          },
          "hovermode": "closest",
          "mapbox": {
           "style": "light"
          },
          "paper_bgcolor": "white",
          "plot_bgcolor": "#E5ECF6",
          "polar": {
           "angularaxis": {
            "gridcolor": "white",
            "linecolor": "white",
            "ticks": ""
           },
           "bgcolor": "#E5ECF6",
           "radialaxis": {
            "gridcolor": "white",
            "linecolor": "white",
            "ticks": ""
           }
          },
          "scene": {
           "xaxis": {
            "backgroundcolor": "#E5ECF6",
            "gridcolor": "white",
            "gridwidth": 2,
            "linecolor": "white",
            "showbackground": true,
            "ticks": "",
            "zerolinecolor": "white"
           },
           "yaxis": {
            "backgroundcolor": "#E5ECF6",
            "gridcolor": "white",
            "gridwidth": 2,
            "linecolor": "white",
            "showbackground": true,
            "ticks": "",
            "zerolinecolor": "white"
           },
           "zaxis": {
            "backgroundcolor": "#E5ECF6",
            "gridcolor": "white",
            "gridwidth": 2,
            "linecolor": "white",
            "showbackground": true,
            "ticks": "",
            "zerolinecolor": "white"
           }
          },
          "shapedefaults": {
           "line": {
            "color": "#2a3f5f"
           }
          },
          "ternary": {
           "aaxis": {
            "gridcolor": "white",
            "linecolor": "white",
            "ticks": ""
           },
           "baxis": {
            "gridcolor": "white",
            "linecolor": "white",
            "ticks": ""
           },
           "bgcolor": "#E5ECF6",
           "caxis": {
            "gridcolor": "white",
            "linecolor": "white",
            "ticks": ""
           }
          },
          "title": {
           "x": 0.05
          },
          "xaxis": {
           "automargin": true,
           "gridcolor": "white",
           "linecolor": "white",
           "ticks": "",
           "title": {
            "standoff": 15
           },
           "zerolinecolor": "white",
           "zerolinewidth": 2
          },
          "yaxis": {
           "automargin": true,
           "gridcolor": "white",
           "linecolor": "white",
           "ticks": "",
           "title": {
            "standoff": 15
           },
           "zerolinecolor": "white",
           "zerolinewidth": 2
          }
         }
        },
        "title": {
         "text": "🌍 Interactions Cayman ↔ Bermuda (Top 35)"
        },
        "width": 1000
       }
      }
     },
     "metadata": {},
     "output_type": "display_data"
    }
   ],
   "source": [
    "import networkx as nx\n",
    "import plotly.graph_objects as go\n",
    "import numpy as np\n",
    "\n",
    "# =====================================================\n",
    "# 1️⃣ Filtrer nœuds Cayman\n",
    "# =====================================================\n",
    "cayman_df = df[df['jurisdiction_description'].str.contains('Cayman', na=False)].copy()\n",
    "cayman_ids = set(cayman_df['id'])\n",
    "\n",
    "# Inclure les hubs principaux (Top 35 Architectes & Passerelles)\n",
    "hub_ids = set(top35[top35['typologie'].isin(['Architecte','Passerelle'])]['id'])\n",
    "G_cayman = G.subgraph(cayman_ids.union(hub_ids)).copy()\n",
    "\n",
    "print(f\"Graphe Cayman ↔ Bermuda : {len(G_cayman.nodes())} nœuds, {len(G_cayman.edges())} arêtes\")\n",
    "\n",
    "# =====================================================\n",
    "# 2️⃣ Layout\n",
    "# =====================================================\n",
    "pos_cayman = nx.spring_layout(G_cayman, k=2, iterations=50, seed=42)\n",
    "\n",
    "# =====================================================\n",
    "# 3️⃣ Arêtes\n",
    "# =====================================================\n",
    "edge_x, edge_y = [], []\n",
    "for u, v in G_cayman.edges():\n",
    "    x0, y0 = pos_cayman[u]\n",
    "    x1, y1 = pos_cayman[v]\n",
    "    edge_x.extend([x0, x1, None])\n",
    "    edge_y.extend([y0, y1, None])\n",
    "\n",
    "edge_trace = go.Scatter(\n",
    "    x=edge_x, y=edge_y,\n",
    "    line=dict(width=0.8,color='rgba(180,180,180,0.4)'),\n",
    "    hoverinfo='none',\n",
    "    mode='lines',\n",
    "    showlegend=False\n",
    ")\n",
    "\n",
    "# =====================================================\n",
    "# 4️⃣ Nœuds avec forme selon Cayman / Bermuda\n",
    "# =====================================================\n",
    "node_traces = []\n",
    "for typ in ['Architecte','Passerelle','Satellite','Intermédiaire secondaire']:\n",
    "    subset = top35[top35['typologie']==typ]\n",
    "    subset = subset[subset['id'].isin(G_cayman.nodes())]\n",
    "    if subset.empty:\n",
    "        continue\n",
    "    node_x, node_y, sizes, colors, symbols, hover_texts = [], [], [], [], [], []\n",
    "    for _, row in subset.iterrows():\n",
    "        nid = row['id']\n",
    "        x, y = pos_cayman[nid]\n",
    "        node_x.append(x)\n",
    "        node_y.append(y)\n",
    "        sizes.append(12 + np.log1p(row['degree'])*6)\n",
    "        colors.append(TYPO_COLORS.get(row['typologie'],\"#7f8c8d\"))\n",
    "        # Différencier Cayman et Bermuda par la forme\n",
    "        symbols.append('square' if 'Cayman' in row['jurisdiction_description'] else 'circle')\n",
    "        hover_texts.append(\n",
    "            f\"<b>{row['name']}</b><br>Type: {row['node_type']}<br>\"\n",
    "            f\"Typologie: {row['typologie']}<br>Pays: {row['jurisdiction_description']}<br>\"\n",
    "            f\"Degré: {row['degree']} | Betweenness: {row['betweenness']:.4f}\"\n",
    "        )\n",
    "    node_traces.append(go.Scatter(\n",
    "        x=node_x, y=node_y,\n",
    "        mode='markers',\n",
    "        marker=dict(size=sizes, color=colors, symbol=symbols, line=dict(width=2,color='#000')),\n",
    "        text=hover_texts,\n",
    "        hoverinfo='text',\n",
    "        name=typ\n",
    "    ))\n",
    "\n",
    "# =====================================================\n",
    "# 5️⃣ Figure\n",
    "# =====================================================\n",
    "fig_cayman = go.Figure(data=[edge_trace]+node_traces)\n",
    "fig_cayman.update_layout(\n",
    "    title=\"🌍 Interactions Cayman ↔ Bermuda (Top 35)\",\n",
    "    width=1000, height=750, showlegend=True\n",
    ")\n",
    "\n",
    "# =====================================================\n",
    "# 6️⃣ Ajouter annotations pour les top nodes avec fond blanc\n",
    "# =====================================================\n",
    "top_nodes = top35[top35['id'].isin(G_cayman.nodes())].nlargest(10, 'betweenness')\n",
    "annotations = []\n",
    "for _, row in top_nodes.iterrows():\n",
    "    nid = row['id']\n",
    "    x, y = pos_cayman[nid]\n",
    "    annotations.append(dict(\n",
    "        x=x,\n",
    "        y=y,\n",
    "        xref=\"x\",\n",
    "        yref=\"y\",\n",
    "        text=f\"{row['name']} ({row['typologie']})\",\n",
    "        showarrow=True,\n",
    "        arrowhead=2,\n",
    "        ax=20,\n",
    "        ay=-20,\n",
    "        font=dict(size=10, color=\"#000\"),\n",
    "        bgcolor=\"white\",       # fond blanc\n",
    "        bordercolor=\"#000\",    # contour noir\n",
    "        borderwidth=1,\n",
    "        borderpad=4\n",
    "    ))\n",
    "\n",
    "fig_cayman.update_layout(annotations=annotations)\n",
    "\n",
    "fig_cayman.show()\n"
   ]
  },
  {
   "cell_type": "code",
   "execution_count": 103,
   "id": "a966b213",
   "metadata": {},
   "outputs": [],
   "source": [
    "fig.write_html(\n",
    "    r\"C:\\Users\\Ashahi\\Desktop\\Graph\\examen\\notebooks\\graphes_notebook1\\graphe_3.html\",\n",
    "    include_plotlyjs='cdn',\n",
    "    full_html=True\n",
    ")\n"
   ]
  },
  {
   "cell_type": "markdown",
   "id": "6c863bd8",
   "metadata": {},
   "source": [
    " DYNAMIQUE CLIENT ↔ FOURNISSEUR (Officers ↔ Entities Appleby)"
   ]
  },
  {
   "cell_type": "code",
   "execution_count": 104,
   "id": "91c7838b",
   "metadata": {},
   "outputs": [
    {
     "name": "stdout",
     "output_type": "stream",
     "text": [
      "📊 Graphe Appleby: 9 nœuds, 13 connexions\n",
      "🚀 Version équilibrée : Assez d'infos mais restant lisible\n",
      "   • 9 nœuds au total\n",
      "   • 4 annotations principales\n",
      "   • Survolez pour tous les détails\n"
     ]
    },
    {
     "data": {
      "application/vnd.plotly.v1+json": {
       "config": {
        "plotlyServerURL": "https://plot.ly"
       },
       "data": [
        {
         "hoverinfo": "none",
         "line": {
          "color": "rgba(120,120,120,0.4)",
          "width": 1
         },
         "mode": "lines",
         "type": "scatter",
         "x": [
          -0.36550857036955975,
          -0.4509173750323211,
          null,
          0.5640106370953029,
          0.060535159704481464,
          null,
          0.5640106370953029,
          0.32542056537007485,
          null,
          0.5640106370953029,
          -0.0028876318016188016,
          null,
          -0.4509173750323211,
          0.21846489468622993,
          null,
          -0.4509173750323211,
          -0.32856771599435036,
          null,
          -0.0028876318016188016,
          0.21846489468622993,
          null,
          -0.0028876318016188016,
          -0.32856771599435036,
          null,
          0.21846489468622993,
          0.32542056537007485,
          null,
          -0.020549963658239065,
          0.060535159704481464,
          null,
          -0.020549963658239065,
          0.32542056537007485,
          null,
          0.32542056537007485,
          -0.32856771599435036,
          null,
          0.060535159704481464,
          -0.32856771599435036,
          null
         ],
         "y": [
          1,
          0.27040927366220535,
          null,
          -0.46350948607167886,
          -0.8166487916569037,
          null,
          -0.46350948607167886,
          -0.17256167214305657,
          null,
          -0.46350948607167886,
          0.18929507794281525,
          null,
          0.27040927366220535,
          0.5157364614023605,
          null,
          0.27040927366220535,
          -0.34552384896726046,
          null,
          0.18929507794281525,
          0.5157364614023605,
          null,
          0.18929507794281525,
          -0.34552384896726046,
          null,
          0.5157364614023605,
          -0.17256167214305657,
          null,
          -0.17719701416848138,
          -0.8166487916569037,
          null,
          -0.17719701416848138,
          -0.17256167214305657,
          null,
          -0.17256167214305657,
          -0.34552384896726046,
          null,
          -0.8166487916569037,
          -0.34552384896726046,
          null
         ]
        },
        {
         "hoverinfo": "text",
         "marker": {
          "color": "#E63946",
          "line": {
           "color": "black",
           "width": 2
          },
          "size": 28,
          "symbol": "diamond"
         },
         "mode": "markers",
         "name": "Appleby (1)",
         "text": [
          "<b>Appleby Services (Bermuda) Ltd.</b><br>Type: Appleby<br>Connexions ici: 4<br>Connexions globales: 425"
         ],
         "type": "scatter",
         "x": [
          -0.32856771599435036
         ],
         "y": [
          -0.34552384896726046
         ]
        },
        {
         "hoverinfo": "text",
         "marker": {
          "color": "#457B9D",
          "line": {
           "color": "black",
           "width": 2
          },
          "size": 22,
          "symbol": "square"
         },
         "mode": "markers",
         "name": "Entités (4)",
         "text": [
          "<b>Appleby Management (Bermuda) Ltd.</b><br>Type: Entités<br>Connexions ici: 4<br>Connexions globales: 19",
          "<b>Appleby (Bermuda) Limited</b><br>Type: Entités<br>Connexions ici: 3<br>Connexions globales: 12",
          "<b>Independent Management Ltd.</b><br>Type: Entités<br>Connexions ici: 3<br>Connexions globales: 11",
          "<b>Tricor Co. Ltd.</b><br>Type: Entités<br>Connexions ici: 3<br>Connexions globales: 11"
         ],
         "type": "scatter",
         "x": [
          0.32542056537007485,
          0.060535159704481464,
          -0.0028876318016188016,
          -0.4509173750323211
         ],
         "y": [
          -0.17256167214305657,
          -0.8166487916569037,
          0.18929507794281525,
          0.27040927366220535
         ]
        },
        {
         "hoverinfo": "text",
         "marker": {
          "color": "#2A9D8F",
          "line": {
           "color": "black",
           "width": 2
          },
          "size": 18,
          "symbol": "circle"
         },
         "mode": "markers",
         "name": "Officers (8)",
         "text": [
          "<b>Campbell - John Douglas</b><br>Type: Officers<br>Connexions ici: 3<br>Connexions globales: 156",
          "<b>Morris - A Shaun</b><br>Type: Officers<br>Connexions ici: 2<br>Connexions globales: 140",
          "<b>Morris - A Shaun</b><br>Type: Officers<br>Connexions ici: 2<br>Connexions globales: 140",
          "<b>Lines - David R</b><br>Type: Officers<br>Connexions ici: 3<br>Connexions globales: 135",
          "<b>Campbell - John Douglas</b><br>Type: Officers<br>Connexions ici: 3<br>Connexions globales: 156",
          "<b>Lines - David R</b><br>Type: Officers<br>Connexions ici: 3<br>Connexions globales: 135",
          "<b>Campbell - John Douglas</b><br>Type: Officers<br>Connexions ici: 3<br>Connexions globales: 156",
          "<b>Ernst & Young Ltd.</b><br>Type: Officers<br>Connexions ici: 1<br>Connexions globales: 129"
         ],
         "type": "scatter",
         "x": [
          0.21846489468622993,
          -0.020549963658239065,
          -0.020549963658239065,
          0.5640106370953029,
          0.21846489468622993,
          0.5640106370953029,
          0.21846489468622993,
          -0.36550857036955975
         ],
         "y": [
          0.5157364614023605,
          -0.17719701416848138,
          -0.17719701416848138,
          -0.46350948607167886,
          0.5157364614023605,
          -0.46350948607167886,
          0.5157364614023605,
          1
         ]
        }
       ],
       "layout": {
        "annotations": [
         {
          "arrowcolor": "#333",
          "arrowhead": 2,
          "arrowwidth": 1.5,
          "ax": 0,
          "ay": 35,
          "bgcolor": "rgba(255,255,255,0.95)",
          "bordercolor": "rgba(0,0,0,0.3)",
          "borderpad": 8,
          "borderwidth": 1,
          "font": {
           "color": "#2c3e50",
           "family": "Arial",
           "size": 11
          },
          "showarrow": true,
          "text": "<b>Appleby Services</b>",
          "x": -0.32856771599435036,
          "xref": "x",
          "y": -0.34552384896726046,
          "yref": "y"
         },
         {
          "arrowcolor": "#333",
          "arrowhead": 2,
          "arrowwidth": 1.5,
          "ax": 0,
          "ay": 35,
          "bgcolor": "rgba(255,255,255,0.95)",
          "bordercolor": "rgba(0,0,0,0.3)",
          "borderpad": 8,
          "borderwidth": 1,
          "font": {
           "color": "#2c3e50",
           "family": "Arial",
           "size": 11
          },
          "showarrow": true,
          "text": "<b>Appleby Managem...</b>",
          "x": 0.32542056537007485,
          "xref": "x",
          "y": -0.17256167214305657,
          "yref": "y"
         },
         {
          "arrowcolor": "#333",
          "arrowhead": 2,
          "arrowwidth": 1.5,
          "ax": 0,
          "ay": 35,
          "bgcolor": "rgba(255,255,255,0.95)",
          "bordercolor": "rgba(0,0,0,0.3)",
          "borderpad": 8,
          "borderwidth": 1,
          "font": {
           "color": "#2c3e50",
           "family": "Arial",
           "size": 11
          },
          "showarrow": true,
          "text": "<b>Appleby (Bermud...</b>",
          "x": 0.060535159704481464,
          "xref": "x",
          "y": -0.8166487916569037,
          "yref": "y"
         },
         {
          "arrowcolor": "#333",
          "arrowhead": 2,
          "arrowwidth": 1.5,
          "ax": 0,
          "ay": -35,
          "bgcolor": "rgba(255,255,255,0.95)",
          "bordercolor": "rgba(0,0,0,0.3)",
          "borderpad": 8,
          "borderwidth": 1,
          "font": {
           "color": "#2c3e50",
           "family": "Arial",
           "size": 11
          },
          "showarrow": true,
          "text": "<b>Independent Man...</b>",
          "x": -0.0028876318016188016,
          "xref": "x",
          "y": 0.18929507794281525,
          "yref": "y"
         }
        ],
        "height": 700,
        "hovermode": "closest",
        "legend": {
         "bgcolor": "rgba(255,255,255,0.9)",
         "bordercolor": "rgba(0,0,0,0.2)",
         "font": {
          "size": 11
         },
         "title": {
          "text": "<b>Types de nœuds</b>"
         },
         "x": 1.02,
         "y": 0.5
        },
        "margin": {
         "b": 30,
         "l": 30,
         "r": 150,
         "t": 80
        },
        "plot_bgcolor": "white",
        "showlegend": true,
        "template": {
         "data": {
          "bar": [
           {
            "error_x": {
             "color": "#2a3f5f"
            },
            "error_y": {
             "color": "#2a3f5f"
            },
            "marker": {
             "line": {
              "color": "#E5ECF6",
              "width": 0.5
             },
             "pattern": {
              "fillmode": "overlay",
              "size": 10,
              "solidity": 0.2
             }
            },
            "type": "bar"
           }
          ],
          "barpolar": [
           {
            "marker": {
             "line": {
              "color": "#E5ECF6",
              "width": 0.5
             },
             "pattern": {
              "fillmode": "overlay",
              "size": 10,
              "solidity": 0.2
             }
            },
            "type": "barpolar"
           }
          ],
          "carpet": [
           {
            "aaxis": {
             "endlinecolor": "#2a3f5f",
             "gridcolor": "white",
             "linecolor": "white",
             "minorgridcolor": "white",
             "startlinecolor": "#2a3f5f"
            },
            "baxis": {
             "endlinecolor": "#2a3f5f",
             "gridcolor": "white",
             "linecolor": "white",
             "minorgridcolor": "white",
             "startlinecolor": "#2a3f5f"
            },
            "type": "carpet"
           }
          ],
          "choropleth": [
           {
            "colorbar": {
             "outlinewidth": 0,
             "ticks": ""
            },
            "type": "choropleth"
           }
          ],
          "contour": [
           {
            "colorbar": {
             "outlinewidth": 0,
             "ticks": ""
            },
            "colorscale": [
             [
              0,
              "#0d0887"
             ],
             [
              0.1111111111111111,
              "#46039f"
             ],
             [
              0.2222222222222222,
              "#7201a8"
             ],
             [
              0.3333333333333333,
              "#9c179e"
             ],
             [
              0.4444444444444444,
              "#bd3786"
             ],
             [
              0.5555555555555556,
              "#d8576b"
             ],
             [
              0.6666666666666666,
              "#ed7953"
             ],
             [
              0.7777777777777778,
              "#fb9f3a"
             ],
             [
              0.8888888888888888,
              "#fdca26"
             ],
             [
              1,
              "#f0f921"
             ]
            ],
            "type": "contour"
           }
          ],
          "contourcarpet": [
           {
            "colorbar": {
             "outlinewidth": 0,
             "ticks": ""
            },
            "type": "contourcarpet"
           }
          ],
          "heatmap": [
           {
            "colorbar": {
             "outlinewidth": 0,
             "ticks": ""
            },
            "colorscale": [
             [
              0,
              "#0d0887"
             ],
             [
              0.1111111111111111,
              "#46039f"
             ],
             [
              0.2222222222222222,
              "#7201a8"
             ],
             [
              0.3333333333333333,
              "#9c179e"
             ],
             [
              0.4444444444444444,
              "#bd3786"
             ],
             [
              0.5555555555555556,
              "#d8576b"
             ],
             [
              0.6666666666666666,
              "#ed7953"
             ],
             [
              0.7777777777777778,
              "#fb9f3a"
             ],
             [
              0.8888888888888888,
              "#fdca26"
             ],
             [
              1,
              "#f0f921"
             ]
            ],
            "type": "heatmap"
           }
          ],
          "histogram": [
           {
            "marker": {
             "pattern": {
              "fillmode": "overlay",
              "size": 10,
              "solidity": 0.2
             }
            },
            "type": "histogram"
           }
          ],
          "histogram2d": [
           {
            "colorbar": {
             "outlinewidth": 0,
             "ticks": ""
            },
            "colorscale": [
             [
              0,
              "#0d0887"
             ],
             [
              0.1111111111111111,
              "#46039f"
             ],
             [
              0.2222222222222222,
              "#7201a8"
             ],
             [
              0.3333333333333333,
              "#9c179e"
             ],
             [
              0.4444444444444444,
              "#bd3786"
             ],
             [
              0.5555555555555556,
              "#d8576b"
             ],
             [
              0.6666666666666666,
              "#ed7953"
             ],
             [
              0.7777777777777778,
              "#fb9f3a"
             ],
             [
              0.8888888888888888,
              "#fdca26"
             ],
             [
              1,
              "#f0f921"
             ]
            ],
            "type": "histogram2d"
           }
          ],
          "histogram2dcontour": [
           {
            "colorbar": {
             "outlinewidth": 0,
             "ticks": ""
            },
            "colorscale": [
             [
              0,
              "#0d0887"
             ],
             [
              0.1111111111111111,
              "#46039f"
             ],
             [
              0.2222222222222222,
              "#7201a8"
             ],
             [
              0.3333333333333333,
              "#9c179e"
             ],
             [
              0.4444444444444444,
              "#bd3786"
             ],
             [
              0.5555555555555556,
              "#d8576b"
             ],
             [
              0.6666666666666666,
              "#ed7953"
             ],
             [
              0.7777777777777778,
              "#fb9f3a"
             ],
             [
              0.8888888888888888,
              "#fdca26"
             ],
             [
              1,
              "#f0f921"
             ]
            ],
            "type": "histogram2dcontour"
           }
          ],
          "mesh3d": [
           {
            "colorbar": {
             "outlinewidth": 0,
             "ticks": ""
            },
            "type": "mesh3d"
           }
          ],
          "parcoords": [
           {
            "line": {
             "colorbar": {
              "outlinewidth": 0,
              "ticks": ""
             }
            },
            "type": "parcoords"
           }
          ],
          "pie": [
           {
            "automargin": true,
            "type": "pie"
           }
          ],
          "scatter": [
           {
            "fillpattern": {
             "fillmode": "overlay",
             "size": 10,
             "solidity": 0.2
            },
            "type": "scatter"
           }
          ],
          "scatter3d": [
           {
            "line": {
             "colorbar": {
              "outlinewidth": 0,
              "ticks": ""
             }
            },
            "marker": {
             "colorbar": {
              "outlinewidth": 0,
              "ticks": ""
             }
            },
            "type": "scatter3d"
           }
          ],
          "scattercarpet": [
           {
            "marker": {
             "colorbar": {
              "outlinewidth": 0,
              "ticks": ""
             }
            },
            "type": "scattercarpet"
           }
          ],
          "scattergeo": [
           {
            "marker": {
             "colorbar": {
              "outlinewidth": 0,
              "ticks": ""
             }
            },
            "type": "scattergeo"
           }
          ],
          "scattergl": [
           {
            "marker": {
             "colorbar": {
              "outlinewidth": 0,
              "ticks": ""
             }
            },
            "type": "scattergl"
           }
          ],
          "scattermap": [
           {
            "marker": {
             "colorbar": {
              "outlinewidth": 0,
              "ticks": ""
             }
            },
            "type": "scattermap"
           }
          ],
          "scattermapbox": [
           {
            "marker": {
             "colorbar": {
              "outlinewidth": 0,
              "ticks": ""
             }
            },
            "type": "scattermapbox"
           }
          ],
          "scatterpolar": [
           {
            "marker": {
             "colorbar": {
              "outlinewidth": 0,
              "ticks": ""
             }
            },
            "type": "scatterpolar"
           }
          ],
          "scatterpolargl": [
           {
            "marker": {
             "colorbar": {
              "outlinewidth": 0,
              "ticks": ""
             }
            },
            "type": "scatterpolargl"
           }
          ],
          "scatterternary": [
           {
            "marker": {
             "colorbar": {
              "outlinewidth": 0,
              "ticks": ""
             }
            },
            "type": "scatterternary"
           }
          ],
          "surface": [
           {
            "colorbar": {
             "outlinewidth": 0,
             "ticks": ""
            },
            "colorscale": [
             [
              0,
              "#0d0887"
             ],
             [
              0.1111111111111111,
              "#46039f"
             ],
             [
              0.2222222222222222,
              "#7201a8"
             ],
             [
              0.3333333333333333,
              "#9c179e"
             ],
             [
              0.4444444444444444,
              "#bd3786"
             ],
             [
              0.5555555555555556,
              "#d8576b"
             ],
             [
              0.6666666666666666,
              "#ed7953"
             ],
             [
              0.7777777777777778,
              "#fb9f3a"
             ],
             [
              0.8888888888888888,
              "#fdca26"
             ],
             [
              1,
              "#f0f921"
             ]
            ],
            "type": "surface"
           }
          ],
          "table": [
           {
            "cells": {
             "fill": {
              "color": "#EBF0F8"
             },
             "line": {
              "color": "white"
             }
            },
            "header": {
             "fill": {
              "color": "#C8D4E3"
             },
             "line": {
              "color": "white"
             }
            },
            "type": "table"
           }
          ]
         },
         "layout": {
          "annotationdefaults": {
           "arrowcolor": "#2a3f5f",
           "arrowhead": 0,
           "arrowwidth": 1
          },
          "autotypenumbers": "strict",
          "coloraxis": {
           "colorbar": {
            "outlinewidth": 0,
            "ticks": ""
           }
          },
          "colorscale": {
           "diverging": [
            [
             0,
             "#8e0152"
            ],
            [
             0.1,
             "#c51b7d"
            ],
            [
             0.2,
             "#de77ae"
            ],
            [
             0.3,
             "#f1b6da"
            ],
            [
             0.4,
             "#fde0ef"
            ],
            [
             0.5,
             "#f7f7f7"
            ],
            [
             0.6,
             "#e6f5d0"
            ],
            [
             0.7,
             "#b8e186"
            ],
            [
             0.8,
             "#7fbc41"
            ],
            [
             0.9,
             "#4d9221"
            ],
            [
             1,
             "#276419"
            ]
           ],
           "sequential": [
            [
             0,
             "#0d0887"
            ],
            [
             0.1111111111111111,
             "#46039f"
            ],
            [
             0.2222222222222222,
             "#7201a8"
            ],
            [
             0.3333333333333333,
             "#9c179e"
            ],
            [
             0.4444444444444444,
             "#bd3786"
            ],
            [
             0.5555555555555556,
             "#d8576b"
            ],
            [
             0.6666666666666666,
             "#ed7953"
            ],
            [
             0.7777777777777778,
             "#fb9f3a"
            ],
            [
             0.8888888888888888,
             "#fdca26"
            ],
            [
             1,
             "#f0f921"
            ]
           ],
           "sequentialminus": [
            [
             0,
             "#0d0887"
            ],
            [
             0.1111111111111111,
             "#46039f"
            ],
            [
             0.2222222222222222,
             "#7201a8"
            ],
            [
             0.3333333333333333,
             "#9c179e"
            ],
            [
             0.4444444444444444,
             "#bd3786"
            ],
            [
             0.5555555555555556,
             "#d8576b"
            ],
            [
             0.6666666666666666,
             "#ed7953"
            ],
            [
             0.7777777777777778,
             "#fb9f3a"
            ],
            [
             0.8888888888888888,
             "#fdca26"
            ],
            [
             1,
             "#f0f921"
            ]
           ]
          },
          "colorway": [
           "#636efa",
           "#EF553B",
           "#00cc96",
           "#ab63fa",
           "#FFA15A",
           "#19d3f3",
           "#FF6692",
           "#B6E880",
           "#FF97FF",
           "#FECB52"
          ],
          "font": {
           "color": "#2a3f5f"
          },
          "geo": {
           "bgcolor": "white",
           "lakecolor": "white",
           "landcolor": "#E5ECF6",
           "showlakes": true,
           "showland": true,
           "subunitcolor": "white"
          },
          "hoverlabel": {
           "align": "left"
          },
          "hovermode": "closest",
          "mapbox": {
           "style": "light"
          },
          "paper_bgcolor": "white",
          "plot_bgcolor": "#E5ECF6",
          "polar": {
           "angularaxis": {
            "gridcolor": "white",
            "linecolor": "white",
            "ticks": ""
           },
           "bgcolor": "#E5ECF6",
           "radialaxis": {
            "gridcolor": "white",
            "linecolor": "white",
            "ticks": ""
           }
          },
          "scene": {
           "xaxis": {
            "backgroundcolor": "#E5ECF6",
            "gridcolor": "white",
            "gridwidth": 2,
            "linecolor": "white",
            "showbackground": true,
            "ticks": "",
            "zerolinecolor": "white"
           },
           "yaxis": {
            "backgroundcolor": "#E5ECF6",
            "gridcolor": "white",
            "gridwidth": 2,
            "linecolor": "white",
            "showbackground": true,
            "ticks": "",
            "zerolinecolor": "white"
           },
           "zaxis": {
            "backgroundcolor": "#E5ECF6",
            "gridcolor": "white",
            "gridwidth": 2,
            "linecolor": "white",
            "showbackground": true,
            "ticks": "",
            "zerolinecolor": "white"
           }
          },
          "shapedefaults": {
           "line": {
            "color": "#2a3f5f"
           }
          },
          "ternary": {
           "aaxis": {
            "gridcolor": "white",
            "linecolor": "white",
            "ticks": ""
           },
           "baxis": {
            "gridcolor": "white",
            "linecolor": "white",
            "ticks": ""
           },
           "bgcolor": "#E5ECF6",
           "caxis": {
            "gridcolor": "white",
            "linecolor": "white",
            "ticks": ""
           }
          },
          "title": {
           "x": 0.05
          },
          "xaxis": {
           "automargin": true,
           "gridcolor": "white",
           "linecolor": "white",
           "ticks": "",
           "title": {
            "standoff": 15
           },
           "zerolinecolor": "white",
           "zerolinewidth": 2
          },
          "yaxis": {
           "automargin": true,
           "gridcolor": "white",
           "linecolor": "white",
           "ticks": "",
           "title": {
            "standoff": 15
           },
           "zerolinecolor": "white",
           "zerolinewidth": 2
          }
         }
        },
        "title": {
         "font": {
          "color": "#2c3e50",
          "size": 16
         },
         "text": "🏢 RÉSEAU APPLEBY<br><span style='font-size:12px; color:#666'>4 entités principales + leurs officers | Survolez pour les détails</span>",
         "x": 0.5,
         "xanchor": "center"
        },
        "width": 1000,
        "xaxis": {
         "showgrid": false,
         "showticklabels": false,
         "zeroline": false
        },
        "yaxis": {
         "showgrid": false,
         "showticklabels": false,
         "zeroline": false
        }
       }
      }
     },
     "metadata": {},
     "output_type": "display_data"
    },
    {
     "name": "stdout",
     "output_type": "stream",
     "text": [
      "✅ Exporté: reseau_appleby_equilibre.html\n"
     ]
    }
   ],
   "source": [
    "# %% --------------------------------------------------\n",
    "# 🎯 Graphe Appleby - VERSION ÉQUILIBRÉE\n",
    "# --------------------------------------------------\n",
    "import networkx as nx\n",
    "import plotly.graph_objects as go\n",
    "\n",
    "# 1️⃣ Détection du nœud Appleby principal\n",
    "appleby_nodes_in_G = [\n",
    "    n for n in G.nodes() \n",
    "    if 'name' in G.nodes[n] and G.nodes[n]['name'] and 'Appleby' in str(G.nodes[n]['name'])\n",
    "]\n",
    "\n",
    "focus_node = max(appleby_nodes_in_G, key=lambda n: G.degree[n])\n",
    "focus_name = G.nodes[focus_node].get('name', focus_node)\n",
    "\n",
    "# 2️⃣ Sélection des entités connectées\n",
    "node_type_attr = 'node_type'\n",
    "direct_entities = [\n",
    "    n for n in G.neighbors(focus_node)\n",
    "    if G.nodes[n].get(node_type_attr, '').lower() == 'entity'\n",
    "]\n",
    "\n",
    "# Prendre les 4 entités les plus connectées\n",
    "direct_entities = sorted(direct_entities, key=lambda n: G.degree[n], reverse=True)[:4]\n",
    "\n",
    "# 3️⃣ Officers liés aux entités\n",
    "officers_linked = []\n",
    "for ent in direct_entities:\n",
    "    officers = [\n",
    "        n for n in G.neighbors(ent)\n",
    "        if G.nodes[n].get(node_type_attr, '').lower() == 'officer'\n",
    "    ][:2]  # 2 officers max par entité\n",
    "    officers_linked.extend(officers)\n",
    "\n",
    "# 4️⃣ Sous-graphe équilibré\n",
    "subset_nodes = {focus_node} | set(direct_entities) | set(officers_linked)\n",
    "H_reduced = G.subgraph(subset_nodes).copy()\n",
    "\n",
    "print(f\"📊 Graphe Appleby: {len(H_reduced.nodes())} nœuds, {len(H_reduced.edges())} connexions\")\n",
    "\n",
    "# 5️⃣ Layout bien espacé\n",
    "pos = nx.spring_layout(H_reduced, k=2, iterations=100, seed=42)\n",
    "\n",
    "# 6️⃣ Arêtes visibles mais discrètes\n",
    "edge_x, edge_y = [], []\n",
    "for src, tgt in H_reduced.edges():\n",
    "    x0, y0 = pos[src]\n",
    "    x1, y1 = pos[tgt]\n",
    "    edge_x += [x0, x1, None]\n",
    "    edge_y += [y0, y1, None]\n",
    "\n",
    "edge_trace = go.Scatter(\n",
    "    x=edge_x, y=edge_y,\n",
    "    line=dict(width=1, color='rgba(120,120,120,0.4)'),\n",
    "    hoverinfo='none',\n",
    "    mode='lines'\n",
    ")\n",
    "\n",
    "# 7️⃣ Nœuds avec bonnes informations\n",
    "traces = []\n",
    "annotations = []\n",
    "\n",
    "categories = [\n",
    "    (\"Appleby\", [focus_node], \"#E63946\", 28, \"diamond\"),\n",
    "    (\"Entités\", direct_entities, \"#457B9D\", 22, \"square\"),\n",
    "    (\"Officers\", officers_linked, \"#2A9D8F\", 18, \"circle\")\n",
    "]\n",
    "\n",
    "for label, nodes_list, color, size, symbol in categories:\n",
    "    if not nodes_list:\n",
    "        continue\n",
    "    x, y, hover_texts = [], [], []\n",
    "    \n",
    "    for n in nodes_list:\n",
    "        nx_pos, ny_pos = pos[n]\n",
    "        x.append(nx_pos)\n",
    "        y.append(ny_pos)\n",
    "        \n",
    "        n_name = H_reduced.nodes[n].get('name', str(n))\n",
    "        n_degree = H_reduced.degree[n]\n",
    "        \n",
    "        # Texte de survol informatif\n",
    "        hover_texts.append(\n",
    "            f\"<b>{n_name}</b><br>\"\n",
    "            f\"Type: {label}<br>\"\n",
    "            f\"Connexions ici: {n_degree}<br>\"\n",
    "            f\"Connexions globales: {G.degree[n]}\"\n",
    "        )\n",
    "    \n",
    "    traces.append(go.Scatter(\n",
    "        x=x, y=y,\n",
    "        mode='markers',\n",
    "        marker=dict(\n",
    "            size=size, \n",
    "            color=color, \n",
    "            symbol=symbol,\n",
    "            line=dict(width=2, color='black')\n",
    "        ),\n",
    "        text=hover_texts,\n",
    "        hoverinfo='text',\n",
    "        name=f\"{label} ({len(nodes_list)})\"\n",
    "    ))\n",
    "\n",
    "# 8️⃣ Annotations pour les nœuds IMPORTANTS seulement\n",
    "important_nodes = [focus_node] + direct_entities[:3]  # Appleby + 3 entités principales\n",
    "\n",
    "for i, n in enumerate(important_nodes):\n",
    "    if n in pos:\n",
    "        x, y = pos[n]\n",
    "        n_name = H_reduced.nodes[n].get('name', str(n))\n",
    "        \n",
    "        # Nom court mais significatif\n",
    "        if n == focus_node:\n",
    "            short_name = \"Appleby Services\"\n",
    "        else:\n",
    "            short_name = n_name.split(';')[0] if ';' in n_name else n_name\n",
    "            short_name = short_name[:15] + \"...\" if len(short_name) > 15 else short_name\n",
    "        \n",
    "        annotations.append(dict(\n",
    "            x=x, y=y, xref=\"x\", yref=\"y\",\n",
    "            text=f\"<b>{short_name}</b>\",\n",
    "            showarrow=True,\n",
    "            arrowhead=2, \n",
    "            arrowwidth=1.5, \n",
    "            arrowcolor=\"#333\",\n",
    "            bgcolor=\"rgba(255,255,255,0.95)\",\n",
    "            bordercolor=\"rgba(0,0,0,0.3)\", \n",
    "            borderwidth=1, \n",
    "            borderpad=8,\n",
    "            font=dict(size=11, color=\"#2c3e50\", family=\"Arial\"),\n",
    "            ax=0, \n",
    "            ay=-35 if y > 0 else 35  # Flèches vers l'extérieur\n",
    "        ))\n",
    "\n",
    "# 9️⃣ Figure ÉQUILIBRÉE\n",
    "fig = go.Figure(data=[edge_trace] + traces)\n",
    "\n",
    "fig.update_layout(\n",
    "    title=dict(\n",
    "        text=f\"🏢 RÉSEAU {focus_name.split()[0].upper()}<br>\"\n",
    "             \"<span style='font-size:12px; color:#666'>\"\n",
    "             \"4 entités principales + leurs officers | Survolez pour les détails\"\n",
    "             \"</span>\",\n",
    "        x=0.5, \n",
    "        xanchor=\"center\",\n",
    "        font=dict(size=16, color=\"#2c3e50\")\n",
    "    ),\n",
    "    showlegend=True,\n",
    "    legend=dict(\n",
    "        title=\"<b>Types de nœuds</b>\",\n",
    "        bgcolor=\"rgba(255,255,255,0.9)\",\n",
    "        bordercolor=\"rgba(0,0,0,0.2)\",\n",
    "        font=dict(size=11),\n",
    "        x=1.02,\n",
    "        y=0.5\n",
    "    ),\n",
    "    hovermode='closest',\n",
    "    margin=dict(b=30, l=30, r=150, t=80),\n",
    "    xaxis=dict(showgrid=False, zeroline=False, showticklabels=False),\n",
    "    yaxis=dict(showgrid=False, zeroline=False, showticklabels=False),\n",
    "    plot_bgcolor=\"white\",\n",
    "    width=1000,\n",
    "    height=700,\n",
    "    annotations=annotations\n",
    ")\n",
    "\n",
    "print(\"🚀 Version équilibrée : Assez d'infos mais restant lisible\")\n",
    "print(f\"   • {len(H_reduced.nodes())} nœuds au total\")\n",
    "print(f\"   • 4 annotations principales\")\n",
    "print(f\"   • Survolez pour tous les détails\")\n",
    "fig.show()\n",
    "\n",
    "# 🔟 EXPORT\n",
    "html_filename = \"reseau_appleby_equilibre.html\"\n",
    "fig.write_html(html_filename, include_plotlyjs=True, auto_open=False)\n",
    "print(f\"✅ Exporté: {html_filename}\")"
   ]
  },
  {
   "cell_type": "code",
   "execution_count": 105,
   "id": "53a132d2",
   "metadata": {},
   "outputs": [],
   "source": [
    "fig.write_html(\n",
    "    r\"C:\\Users\\Ashahi\\Desktop\\Graph\\examen\\notebooks\\graphes_notebook1\\graphe_4.html\",\n",
    "    include_plotlyjs='cdn',\n",
    "    full_html=True\n",
    ")\n"
   ]
  }
 ],
 "metadata": {
  "kernelspec": {
   "display_name": ".env",
   "language": "python",
   "name": "python3"
  },
  "language_info": {
   "codemirror_mode": {
    "name": "ipython",
    "version": 3
   },
   "file_extension": ".py",
   "mimetype": "text/x-python",
   "name": "python",
   "nbconvert_exporter": "python",
   "pygments_lexer": "ipython3",
   "version": "3.11.0"
  }
 },
 "nbformat": 4,
 "nbformat_minor": 5
}
