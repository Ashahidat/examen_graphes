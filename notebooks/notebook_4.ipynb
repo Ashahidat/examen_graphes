{
 "cells": [
  {
   "cell_type": "markdown",
   "id": "8a6487f8",
   "metadata": {},
   "source": [
    "#  UNIVERS 3 – LES ADMINISTRATEURS (PRÊTE-NOMS)"
   ]
  },
  {
   "cell_type": "code",
   "execution_count": 50,
   "id": "5f195f53",
   "metadata": {},
   "outputs": [
    {
     "name": "stdout",
     "output_type": "stream",
     "text": [
      "🥇 UNIVERS 3 – ANALYSE DES ADMINISTRATEURS ET PRÊTE-NOMS\n",
      "============================================================\n"
     ]
    }
   ],
   "source": [
    "print(\"🥇 UNIVERS 3 – ANALYSE DES ADMINISTRATEURS ET PRÊTE-NOMS\")\n",
    "print(\"=\" * 60)\n"
   ]
  },
  {
   "cell_type": "markdown",
   "id": "6362669d",
   "metadata": {},
   "source": [
    "## IMPORTS ET CONFIGURATION"
   ]
  },
  {
   "cell_type": "code",
   "execution_count": 51,
   "id": "64dd7d14",
   "metadata": {},
   "outputs": [
    {
     "name": "stdout",
     "output_type": "stream",
     "text": [
      "✅ Connexion Neo4j établie\n"
     ]
    }
   ],
   "source": [
    "import pandas as pd\n",
    "import networkx as nx\n",
    "import plotly.graph_objects as go\n",
    "import plotly.express as px\n",
    "from neo4j import GraphDatabase, basic_auth\n",
    "import numpy as np\n",
    "from collections import Counter\n",
    "from node2vec import Node2Vec\n",
    "from gensim.models import Word2Vec\n",
    "import matplotlib.pyplot as plt\n",
    "from sklearn.manifold import TSNE\n",
    "from sklearn.cluster import KMeans\n",
    "\n",
    "# Chemins des fichiers\n",
    "nodes_path = r\"C:\\Users\\Ashahi\\Desktop\\Graph\\note3\\subgraphs_narratifs\\sousgraphe_3_officers_nodes.csv\"\n",
    "edges_path = r\"C:\\Users\\Ashahi\\Desktop\\Graph\\note3\\subgraphs_narratifs\\sousgraphe_3_officers_edges.csv\"\n",
    "\n",
    "# Configuration Neo4j\n",
    "URI = \"bolt://localhost:7687\"\n",
    "USER = \"neo4j\"\n",
    "PASSWORD = \"555555555\"\n",
    "\n",
    "driver = GraphDatabase.driver(URI, auth=basic_auth(USER, PASSWORD))\n",
    "print(\"✅ Connexion Neo4j établie\")"
   ]
  },
  {
   "cell_type": "markdown",
   "id": "861d7bbe",
   "metadata": {},
   "source": [
    "## INGESTION DES DONNÉES DANS NEO4J "
   ]
  },
  {
   "cell_type": "code",
   "execution_count": 52,
   "id": "f19231af",
   "metadata": {},
   "outputs": [
    {
     "name": "stdout",
     "output_type": "stream",
     "text": [
      "🚀 Ingestion des données administrateurs...\n",
      "🧹 Base nettoyée\n",
      "✅ 700 nœuds administrateurs importés\n",
      "✅ 3279 relations administrateurs importées\n"
     ]
    }
   ],
   "source": [
    "def execute_cypher(tx, query, params=None):\n",
    "    \"\"\"Wrapper pour exécuter Cypher\"\"\"\n",
    "    if params is None:\n",
    "        result = tx.run(query)\n",
    "    else:\n",
    "        result = tx.run(query, **params)\n",
    "    return [record for record in result]\n",
    "\n",
    "def setup_neo4j_univers3(driver, nodes_path, edges_path):\n",
    "    with driver.session() as session:\n",
    "        # Nettoyage\n",
    "        session.execute_write(execute_cypher, \"MATCH (n) DETACH DELETE n\")\n",
    "        print(\"🧹 Base nettoyée\")\n",
    "        \n",
    "        # Index\n",
    "        session.execute_write(execute_cypher, \"CREATE INDEX officer_id_index IF NOT EXISTS FOR (n:Officer) ON (n.node_id)\")\n",
    "        \n",
    "        # Import des nœuds\n",
    "        nodes_df = pd.read_csv(nodes_path, low_memory=False).fillna('')\n",
    "        node_id_col = next((c for c in nodes_df.columns if c.lower() in (\"id\", \"node_id\", \"node\")), nodes_df.columns[0])\n",
    "        node_params = nodes_df.rename(columns={node_id_col: 'node_id'}).to_dict('records')\n",
    "        \n",
    "        create_nodes_query = \"\"\"\n",
    "        UNWIND $props_list AS props\n",
    "        MERGE (n:Officer {node_id: toString(props.node_id)})\n",
    "        SET n += apoc.map.clean(props, ['node_id'], [''])\n",
    "        \"\"\"\n",
    "        session.execute_write(execute_cypher, create_nodes_query, {\"props_list\": node_params})\n",
    "        print(f\"✅ {len(nodes_df)} nœuds administrateurs importés\")\n",
    "        \n",
    "        # Import des arêtes\n",
    "        edges_df = pd.read_csv(edges_path, low_memory=False).fillna('')\n",
    "        src_col = next((c for c in edges_df.columns if c.lower() in (\"source\", \"from\", \"node_id_start\")), edges_df.columns[0])\n",
    "        tgt_col = next((c for c in edges_df.columns if c.lower() in (\"target\", \"to\", \"node_id_end\")), edges_df.columns[1])\n",
    "        edge_params = edges_df.rename(columns={src_col: 'source_id', tgt_col: 'target_id'}).to_dict('records')\n",
    "        \n",
    "        create_edges_query = \"\"\"\n",
    "        UNWIND $props_list AS props\n",
    "        MATCH (a:Officer {node_id: toString(props.source_id)})\n",
    "        MATCH (b:Officer {node_id: toString(props.target_id)})\n",
    "        MERGE (a)-[r:RELATES_TO]->(b)\n",
    "        SET r += apoc.map.clean(props, ['source_id', 'target_id'], [''])\n",
    "        \"\"\"\n",
    "        session.execute_write(execute_cypher, create_edges_query, {\"props_list\": edge_params})\n",
    "        print(f\"✅ {len(edges_df)} relations administrateurs importées\")\n",
    "\n",
    "print(\"🚀 Ingestion des données administrateurs...\")\n",
    "setup_neo4j_univers3(driver, nodes_path, edges_path)"
   ]
  },
  {
   "cell_type": "markdown",
   "id": "a5134740",
   "metadata": {},
   "source": [
    "## CALCUL DES CENTRALITÉS"
   ]
  },
  {
   "cell_type": "code",
   "execution_count": 53,
   "id": "da45e77e",
   "metadata": {},
   "outputs": [
    {
     "name": "stderr",
     "output_type": "stream",
     "text": [
      "Received notification from DBMS server: {severity: WARNING} {code: Neo.ClientNotification.Statement.FeatureDeprecationWarning} {category: DEPRECATION} {title: This feature is deprecated and will be removed in future versions.} {description: The query used a deprecated field from a procedure. ('schema' returned by 'gds.graph.drop' is deprecated.)} {position: line: 1, column: 1, offset: 0} for query: \"CALL gds.graph.drop('officersGraph', false)\"\n",
      "Received notification from DBMS server: {severity: WARNING} {code: Neo.ClientNotification.Statement.FeatureDeprecationWarning} {category: DEPRECATION} {title: This feature is deprecated and will be removed in future versions.} {description: The query used a deprecated field from a procedure. ('schema' returned by 'gds.graph.drop' is deprecated.)} {position: line: 1, column: 1, offset: 0} for query: \"CALL gds.graph.drop('officersGraph')\"\n"
     ]
    },
    {
     "name": "stdout",
     "output_type": "stream",
     "text": [
      "🎯 Calcul des centralités des administrateurs...\n",
      "✅ Graphe officersGraph projeté\n",
      "✅ Degree Centrality calculée\n",
      "✅ Betweenness Centrality calculée\n"
     ]
    }
   ],
   "source": [
    "def calculate_officer_centrality(driver):\n",
    "    with driver.session() as session:\n",
    "        # Supprimer graphe existant\n",
    "        try:\n",
    "            session.execute_write(execute_cypher, \"CALL gds.graph.drop('officersGraph', false)\")\n",
    "        except:\n",
    "            pass\n",
    "        \n",
    "        # Créer le graphe projeté\n",
    "        session.execute_write(execute_cypher, \"\"\"\n",
    "        CALL gds.graph.project('officersGraph', 'Officer', 'RELATES_TO')\n",
    "        \"\"\")\n",
    "        print(\"✅ Graphe officersGraph projeté\")\n",
    "        \n",
    "        # Degree Centrality\n",
    "        session.execute_write(execute_cypher, \"\"\"\n",
    "        CALL gds.degree.write('officersGraph', {writeProperty: 'degree'})\n",
    "        YIELD nodePropertiesWritten\n",
    "        \"\"\")\n",
    "        print(\"✅ Degree Centrality calculée\")\n",
    "        \n",
    "        # Betweenness Centrality\n",
    "        session.execute_write(execute_cypher, \"\"\"\n",
    "        CALL gds.betweenness.write('officersGraph', {\n",
    "            writeProperty: 'betweenness', \n",
    "            concurrency: 4\n",
    "        })\n",
    "        YIELD nodePropertiesWritten\n",
    "        \"\"\")\n",
    "        print(\"✅ Betweenness Centrality calculée\")\n",
    "        \n",
    "        # Nettoyage\n",
    "        session.execute_write(execute_cypher, \"CALL gds.graph.drop('officersGraph')\")\n",
    "\n",
    "print(\"🎯 Calcul des centralités des administrateurs...\")\n",
    "calculate_officer_centrality(driver)\n"
   ]
  },
  {
   "cell_type": "markdown",
   "id": "9d99648c",
   "metadata": {},
   "source": [
    "## EXTRACTION ET INSPECTION DES DONNÉES"
   ]
  },
  {
   "cell_type": "code",
   "execution_count": 54,
   "id": "b3a6af7e",
   "metadata": {},
   "outputs": [
    {
     "name": "stdout",
     "output_type": "stream",
     "text": [
      "🔍 Extraction des données administrateurs...\n",
      "✅ Graphe administrateurs construit: 676 nœuds, 3279 arêtes\n"
     ]
    }
   ],
   "source": [
    "def extract_officers_data(driver):\n",
    "    \"\"\"Extraire les données administrateurs depuis Neo4j\"\"\"\n",
    "    query = \"\"\"\n",
    "    MATCH (o:Officer)\n",
    "    RETURN \n",
    "        toString(o.node_id) AS id,\n",
    "        o.name AS name,\n",
    "        o.node_type AS node_type,\n",
    "        o.jurisdiction_description AS jurisdiction_description,\n",
    "        o.countries AS countries,\n",
    "        o.degree AS degree,\n",
    "        o.betweenness AS betweenness\n",
    "    ORDER BY o.betweenness DESC\n",
    "    \"\"\"\n",
    "    \n",
    "    with driver.session() as session:\n",
    "        result = session.run(query)\n",
    "        df = pd.DataFrame([dict(record) for record in result])\n",
    "    \n",
    "    return df\n",
    "\n",
    "def extract_officers_graph(driver):\n",
    "    \"\"\"Extraire la structure complète du graphe\"\"\"\n",
    "    nodes_query = \"\"\"\n",
    "    MATCH (o:Officer)\n",
    "    RETURN toString(o.node_id) AS id, o.name AS name, o.degree AS degree, o.betweenness AS betweenness\n",
    "    \"\"\"\n",
    "    \n",
    "    edges_query = \"\"\"\n",
    "    MATCH (a:Officer)-[r:RELATES_TO]->(b:Officer)\n",
    "    RETURN toString(a.node_id) AS source, toString(b.node_id) AS target\n",
    "    \"\"\"\n",
    "    \n",
    "    with driver.session() as session:\n",
    "        nodes_df = pd.DataFrame([dict(record) for record in session.run(nodes_query)])\n",
    "        edges_df = pd.DataFrame([dict(record) for record in session.run(edges_query)])\n",
    "    \n",
    "    return nodes_df, edges_df\n",
    "\n",
    "print(\"🔍 Extraction des données administrateurs...\")\n",
    "officers_df = extract_officers_data(driver)\n",
    "nodes_df, edges_df = extract_officers_graph(driver)\n",
    "\n",
    "# Construction du graphe NetworkX\n",
    "G_officers = nx.from_pandas_edgelist(edges_df, source='source', target='target')\n",
    "\n",
    "# Ajout des attributs\n",
    "nodes_dict = nodes_df.set_index('id').to_dict('index')\n",
    "for node_id, attrs in nodes_dict.items():\n",
    "    if node_id in G_officers.nodes():\n",
    "        for attr_name, attr_value in attrs.items():\n",
    "            G_officers.nodes[node_id][attr_name] = attr_value\n",
    "\n",
    "print(f\"✅ Graphe administrateurs construit: {G_officers.number_of_nodes()} nœuds, {G_officers.number_of_edges()} arêtes\")"
   ]
  },
  {
   "cell_type": "markdown",
   "id": "1675a2f6",
   "metadata": {},
   "source": [
    "## INSPECTION ET DIAGNOSTIC DES DONNÉES"
   ]
  },
  {
   "cell_type": "code",
   "execution_count": 55,
   "id": "50a53c4d",
   "metadata": {},
   "outputs": [
    {
     "name": "stdout",
     "output_type": "stream",
     "text": [
      "\n",
      "🔍 DIAGNOSTIC DU RÉSEAU DES ADMINISTRATEURS\n",
      "==================================================\n",
      "📊 STATISTIQUES DE BASE:\n",
      "• Administrateurs: 700\n",
      "• Relations: 3279\n",
      "• Densité du réseau: 0.014372\n"
     ]
    }
   ],
   "source": [
    "print(\"\\n🔍 DIAGNOSTIC DU RÉSEAU DES ADMINISTRATEURS\")\n",
    "print(\"=\" * 50)\n",
    "\n",
    "print(f\"📊 STATISTIQUES DE BASE:\")\n",
    "print(f\"• Administrateurs: {len(officers_df)}\")\n",
    "print(f\"• Relations: {len(edges_df)}\")\n",
    "print(f\"• Densité du réseau: {nx.density(G_officers):.6f}\")"
   ]
  },
  {
   "cell_type": "code",
   "execution_count": 56,
   "id": "a0e0343d",
   "metadata": {},
   "outputs": [
    {
     "name": "stdout",
     "output_type": "stream",
     "text": [
      "\n",
      "🏷️ TYPES DE NŒUDS:\n",
      "• Entity: 642\n",
      "• Intermediary: 29\n",
      "• Officer: 19\n",
      "• Address: 10\n"
     ]
    }
   ],
   "source": [
    "print(f\"\\n🏷️ TYPES DE NŒUDS:\")\n",
    "node_types = officers_df['node_type'].value_counts()\n",
    "for typ, count in node_types.items():\n",
    "    print(f\"• {typ}: {count}\")"
   ]
  },
  {
   "cell_type": "code",
   "execution_count": 57,
   "id": "dceb9035",
   "metadata": {},
   "outputs": [
    {
     "name": "stdout",
     "output_type": "stream",
     "text": [
      "\n",
      "🌍 DISTRIBUTION GÉOGRAPHIQUE (Top 10):\n",
      "• British Virgin Islands: 633\n",
      "• Cayman Islands: 8\n",
      "• Samoa: 1\n"
     ]
    }
   ],
   "source": [
    "print(f\"\\n🌍 DISTRIBUTION GÉOGRAPHIQUE (Top 10):\")\n",
    "jurisdictions = officers_df['jurisdiction_description'].value_counts().head(10)\n",
    "for jur, count in jurisdictions.items():\n",
    "    print(f\"• {jur}: {count}\")"
   ]
  },
  {
   "cell_type": "code",
   "execution_count": 58,
   "id": "1c8c9727",
   "metadata": {},
   "outputs": [
    {
     "name": "stdout",
     "output_type": "stream",
     "text": [
      "\n",
      "📈 CENTRALITÉ DES ADMINISTRATEURS:\n",
      "• Degré moyen: 4.7\n",
      "• Degré max: 485.0\n",
      "• Betweenness moyen: 220.642857\n",
      "• Betweenness max: 48915.351490\n"
     ]
    }
   ],
   "source": [
    "print(f\"\\n📈 CENTRALITÉ DES ADMINISTRATEURS:\")\n",
    "print(f\"• Degré moyen: {officers_df['degree'].mean():.1f}\")\n",
    "print(f\"• Degré max: {officers_df['degree'].max()}\")\n",
    "print(f\"• Betweenness moyen: {officers_df['betweenness'].mean():.6f}\")\n",
    "print(f\"• Betweenness max: {officers_df['betweenness'].max():.6f}\")"
   ]
  },
  {
   "cell_type": "code",
   "execution_count": 59,
   "id": "e4109800",
   "metadata": {},
   "outputs": [
    {
     "data": {
      "application/vnd.plotly.v1+json": {
       "config": {
        "plotlyServerURL": "https://plot.ly"
       },
       "data": [
        {
         "bingroup": "x",
         "hovertemplate": "Nombre de connexions=%{x}<br>count=%{y}<extra></extra>",
         "legendgroup": "",
         "marker": {
          "color": "#636efa",
          "pattern": {
           "shape": ""
          }
         },
         "name": "",
         "nbinsx": 50,
         "orientation": "v",
         "showlegend": false,
         "type": "histogram",
         "x": {
          "bdata": "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",
          "dtype": "f8"
         },
         "xaxis": "x",
         "yaxis": "y"
        }
       ],
       "layout": {
        "barmode": "relative",
        "legend": {
         "tracegroupgap": 0
        },
        "template": {
         "data": {
          "bar": [
           {
            "error_x": {
             "color": "#2a3f5f"
            },
            "error_y": {
             "color": "#2a3f5f"
            },
            "marker": {
             "line": {
              "color": "#E5ECF6",
              "width": 0.5
             },
             "pattern": {
              "fillmode": "overlay",
              "size": 10,
              "solidity": 0.2
             }
            },
            "type": "bar"
           }
          ],
          "barpolar": [
           {
            "marker": {
             "line": {
              "color": "#E5ECF6",
              "width": 0.5
             },
             "pattern": {
              "fillmode": "overlay",
              "size": 10,
              "solidity": 0.2
             }
            },
            "type": "barpolar"
           }
          ],
          "carpet": [
           {
            "aaxis": {
             "endlinecolor": "#2a3f5f",
             "gridcolor": "white",
             "linecolor": "white",
             "minorgridcolor": "white",
             "startlinecolor": "#2a3f5f"
            },
            "baxis": {
             "endlinecolor": "#2a3f5f",
             "gridcolor": "white",
             "linecolor": "white",
             "minorgridcolor": "white",
             "startlinecolor": "#2a3f5f"
            },
            "type": "carpet"
           }
          ],
          "choropleth": [
           {
            "colorbar": {
             "outlinewidth": 0,
             "ticks": ""
            },
            "type": "choropleth"
           }
          ],
          "contour": [
           {
            "colorbar": {
             "outlinewidth": 0,
             "ticks": ""
            },
            "colorscale": [
             [
              0,
              "#0d0887"
             ],
             [
              0.1111111111111111,
              "#46039f"
             ],
             [
              0.2222222222222222,
              "#7201a8"
             ],
             [
              0.3333333333333333,
              "#9c179e"
             ],
             [
              0.4444444444444444,
              "#bd3786"
             ],
             [
              0.5555555555555556,
              "#d8576b"
             ],
             [
              0.6666666666666666,
              "#ed7953"
             ],
             [
              0.7777777777777778,
              "#fb9f3a"
             ],
             [
              0.8888888888888888,
              "#fdca26"
             ],
             [
              1,
              "#f0f921"
             ]
            ],
            "type": "contour"
           }
          ],
          "contourcarpet": [
           {
            "colorbar": {
             "outlinewidth": 0,
             "ticks": ""
            },
            "type": "contourcarpet"
           }
          ],
          "heatmap": [
           {
            "colorbar": {
             "outlinewidth": 0,
             "ticks": ""
            },
            "colorscale": [
             [
              0,
              "#0d0887"
             ],
             [
              0.1111111111111111,
              "#46039f"
             ],
             [
              0.2222222222222222,
              "#7201a8"
             ],
             [
              0.3333333333333333,
              "#9c179e"
             ],
             [
              0.4444444444444444,
              "#bd3786"
             ],
             [
              0.5555555555555556,
              "#d8576b"
             ],
             [
              0.6666666666666666,
              "#ed7953"
             ],
             [
              0.7777777777777778,
              "#fb9f3a"
             ],
             [
              0.8888888888888888,
              "#fdca26"
             ],
             [
              1,
              "#f0f921"
             ]
            ],
            "type": "heatmap"
           }
          ],
          "histogram": [
           {
            "marker": {
             "pattern": {
              "fillmode": "overlay",
              "size": 10,
              "solidity": 0.2
             }
            },
            "type": "histogram"
           }
          ],
          "histogram2d": [
           {
            "colorbar": {
             "outlinewidth": 0,
             "ticks": ""
            },
            "colorscale": [
             [
              0,
              "#0d0887"
             ],
             [
              0.1111111111111111,
              "#46039f"
             ],
             [
              0.2222222222222222,
              "#7201a8"
             ],
             [
              0.3333333333333333,
              "#9c179e"
             ],
             [
              0.4444444444444444,
              "#bd3786"
             ],
             [
              0.5555555555555556,
              "#d8576b"
             ],
             [
              0.6666666666666666,
              "#ed7953"
             ],
             [
              0.7777777777777778,
              "#fb9f3a"
             ],
             [
              0.8888888888888888,
              "#fdca26"
             ],
             [
              1,
              "#f0f921"
             ]
            ],
            "type": "histogram2d"
           }
          ],
          "histogram2dcontour": [
           {
            "colorbar": {
             "outlinewidth": 0,
             "ticks": ""
            },
            "colorscale": [
             [
              0,
              "#0d0887"
             ],
             [
              0.1111111111111111,
              "#46039f"
             ],
             [
              0.2222222222222222,
              "#7201a8"
             ],
             [
              0.3333333333333333,
              "#9c179e"
             ],
             [
              0.4444444444444444,
              "#bd3786"
             ],
             [
              0.5555555555555556,
              "#d8576b"
             ],
             [
              0.6666666666666666,
              "#ed7953"
             ],
             [
              0.7777777777777778,
              "#fb9f3a"
             ],
             [
              0.8888888888888888,
              "#fdca26"
             ],
             [
              1,
              "#f0f921"
             ]
            ],
            "type": "histogram2dcontour"
           }
          ],
          "mesh3d": [
           {
            "colorbar": {
             "outlinewidth": 0,
             "ticks": ""
            },
            "type": "mesh3d"
           }
          ],
          "parcoords": [
           {
            "line": {
             "colorbar": {
              "outlinewidth": 0,
              "ticks": ""
             }
            },
            "type": "parcoords"
           }
          ],
          "pie": [
           {
            "automargin": true,
            "type": "pie"
           }
          ],
          "scatter": [
           {
            "fillpattern": {
             "fillmode": "overlay",
             "size": 10,
             "solidity": 0.2
            },
            "type": "scatter"
           }
          ],
          "scatter3d": [
           {
            "line": {
             "colorbar": {
              "outlinewidth": 0,
              "ticks": ""
             }
            },
            "marker": {
             "colorbar": {
              "outlinewidth": 0,
              "ticks": ""
             }
            },
            "type": "scatter3d"
           }
          ],
          "scattercarpet": [
           {
            "marker": {
             "colorbar": {
              "outlinewidth": 0,
              "ticks": ""
             }
            },
            "type": "scattercarpet"
           }
          ],
          "scattergeo": [
           {
            "marker": {
             "colorbar": {
              "outlinewidth": 0,
              "ticks": ""
             }
            },
            "type": "scattergeo"
           }
          ],
          "scattergl": [
           {
            "marker": {
             "colorbar": {
              "outlinewidth": 0,
              "ticks": ""
             }
            },
            "type": "scattergl"
           }
          ],
          "scattermap": [
           {
            "marker": {
             "colorbar": {
              "outlinewidth": 0,
              "ticks": ""
             }
            },
            "type": "scattermap"
           }
          ],
          "scattermapbox": [
           {
            "marker": {
             "colorbar": {
              "outlinewidth": 0,
              "ticks": ""
             }
            },
            "type": "scattermapbox"
           }
          ],
          "scatterpolar": [
           {
            "marker": {
             "colorbar": {
              "outlinewidth": 0,
              "ticks": ""
             }
            },
            "type": "scatterpolar"
           }
          ],
          "scatterpolargl": [
           {
            "marker": {
             "colorbar": {
              "outlinewidth": 0,
              "ticks": ""
             }
            },
            "type": "scatterpolargl"
           }
          ],
          "scatterternary": [
           {
            "marker": {
             "colorbar": {
              "outlinewidth": 0,
              "ticks": ""
             }
            },
            "type": "scatterternary"
           }
          ],
          "surface": [
           {
            "colorbar": {
             "outlinewidth": 0,
             "ticks": ""
            },
            "colorscale": [
             [
              0,
              "#0d0887"
             ],
             [
              0.1111111111111111,
              "#46039f"
             ],
             [
              0.2222222222222222,
              "#7201a8"
             ],
             [
              0.3333333333333333,
              "#9c179e"
             ],
             [
              0.4444444444444444,
              "#bd3786"
             ],
             [
              0.5555555555555556,
              "#d8576b"
             ],
             [
              0.6666666666666666,
              "#ed7953"
             ],
             [
              0.7777777777777778,
              "#fb9f3a"
             ],
             [
              0.8888888888888888,
              "#fdca26"
             ],
             [
              1,
              "#f0f921"
             ]
            ],
            "type": "surface"
           }
          ],
          "table": [
           {
            "cells": {
             "fill": {
              "color": "#EBF0F8"
             },
             "line": {
              "color": "white"
             }
            },
            "header": {
             "fill": {
              "color": "#C8D4E3"
             },
             "line": {
              "color": "white"
             }
            },
            "type": "table"
           }
          ]
         },
         "layout": {
          "annotationdefaults": {
           "arrowcolor": "#2a3f5f",
           "arrowhead": 0,
           "arrowwidth": 1
          },
          "autotypenumbers": "strict",
          "coloraxis": {
           "colorbar": {
            "outlinewidth": 0,
            "ticks": ""
           }
          },
          "colorscale": {
           "diverging": [
            [
             0,
             "#8e0152"
            ],
            [
             0.1,
             "#c51b7d"
            ],
            [
             0.2,
             "#de77ae"
            ],
            [
             0.3,
             "#f1b6da"
            ],
            [
             0.4,
             "#fde0ef"
            ],
            [
             0.5,
             "#f7f7f7"
            ],
            [
             0.6,
             "#e6f5d0"
            ],
            [
             0.7,
             "#b8e186"
            ],
            [
             0.8,
             "#7fbc41"
            ],
            [
             0.9,
             "#4d9221"
            ],
            [
             1,
             "#276419"
            ]
           ],
           "sequential": [
            [
             0,
             "#0d0887"
            ],
            [
             0.1111111111111111,
             "#46039f"
            ],
            [
             0.2222222222222222,
             "#7201a8"
            ],
            [
             0.3333333333333333,
             "#9c179e"
            ],
            [
             0.4444444444444444,
             "#bd3786"
            ],
            [
             0.5555555555555556,
             "#d8576b"
            ],
            [
             0.6666666666666666,
             "#ed7953"
            ],
            [
             0.7777777777777778,
             "#fb9f3a"
            ],
            [
             0.8888888888888888,
             "#fdca26"
            ],
            [
             1,
             "#f0f921"
            ]
           ],
           "sequentialminus": [
            [
             0,
             "#0d0887"
            ],
            [
             0.1111111111111111,
             "#46039f"
            ],
            [
             0.2222222222222222,
             "#7201a8"
            ],
            [
             0.3333333333333333,
             "#9c179e"
            ],
            [
             0.4444444444444444,
             "#bd3786"
            ],
            [
             0.5555555555555556,
             "#d8576b"
            ],
            [
             0.6666666666666666,
             "#ed7953"
            ],
            [
             0.7777777777777778,
             "#fb9f3a"
            ],
            [
             0.8888888888888888,
             "#fdca26"
            ],
            [
             1,
             "#f0f921"
            ]
           ]
          },
          "colorway": [
           "#636efa",
           "#EF553B",
           "#00cc96",
           "#ab63fa",
           "#FFA15A",
           "#19d3f3",
           "#FF6692",
           "#B6E880",
           "#FF97FF",
           "#FECB52"
          ],
          "font": {
           "color": "#2a3f5f"
          },
          "geo": {
           "bgcolor": "white",
           "lakecolor": "white",
           "landcolor": "#E5ECF6",
           "showlakes": true,
           "showland": true,
           "subunitcolor": "white"
          },
          "hoverlabel": {
           "align": "left"
          },
          "hovermode": "closest",
          "mapbox": {
           "style": "light"
          },
          "paper_bgcolor": "white",
          "plot_bgcolor": "#E5ECF6",
          "polar": {
           "angularaxis": {
            "gridcolor": "white",
            "linecolor": "white",
            "ticks": ""
           },
           "bgcolor": "#E5ECF6",
           "radialaxis": {
            "gridcolor": "white",
            "linecolor": "white",
            "ticks": ""
           }
          },
          "scene": {
           "xaxis": {
            "backgroundcolor": "#E5ECF6",
            "gridcolor": "white",
            "gridwidth": 2,
            "linecolor": "white",
            "showbackground": true,
            "ticks": "",
            "zerolinecolor": "white"
           },
           "yaxis": {
            "backgroundcolor": "#E5ECF6",
            "gridcolor": "white",
            "gridwidth": 2,
            "linecolor": "white",
            "showbackground": true,
            "ticks": "",
            "zerolinecolor": "white"
           },
           "zaxis": {
            "backgroundcolor": "#E5ECF6",
            "gridcolor": "white",
            "gridwidth": 2,
            "linecolor": "white",
            "showbackground": true,
            "ticks": "",
            "zerolinecolor": "white"
           }
          },
          "shapedefaults": {
           "line": {
            "color": "#2a3f5f"
           }
          },
          "ternary": {
           "aaxis": {
            "gridcolor": "white",
            "linecolor": "white",
            "ticks": ""
           },
           "baxis": {
            "gridcolor": "white",
            "linecolor": "white",
            "ticks": ""
           },
           "bgcolor": "#E5ECF6",
           "caxis": {
            "gridcolor": "white",
            "linecolor": "white",
            "ticks": ""
           }
          },
          "title": {
           "x": 0.05
          },
          "xaxis": {
           "automargin": true,
           "gridcolor": "white",
           "linecolor": "white",
           "ticks": "",
           "title": {
            "standoff": 15
           },
           "zerolinecolor": "white",
           "zerolinewidth": 2
          },
          "yaxis": {
           "automargin": true,
           "gridcolor": "white",
           "linecolor": "white",
           "ticks": "",
           "title": {
            "standoff": 15
           },
           "zerolinecolor": "white",
           "zerolinewidth": 2
          }
         }
        },
        "title": {
         "text": "Distribution du Degré des Administrateurs"
        },
        "xaxis": {
         "anchor": "y",
         "domain": [
          0,
          1
         ],
         "title": {
          "text": "Nombre de connexions"
         }
        },
        "yaxis": {
         "anchor": "x",
         "domain": [
          0,
          1
         ],
         "title": {
          "text": "count"
         }
        }
       }
      }
     },
     "metadata": {},
     "output_type": "display_data"
    }
   ],
   "source": [
    "# Visualisation de la distribution des degrés\n",
    "fig = px.histogram(officers_df, x='degree', nbins=50, \n",
    "                   title='Distribution du Degré des Administrateurs',\n",
    "                   labels={'degree': 'Nombre de connexions', 'count': 'Nombre d\\'administrateurs'})\n",
    "fig.show()\n",
    "\n"
   ]
  },
  {
   "cell_type": "code",
   "execution_count": 60,
   "id": "ab5c158a",
   "metadata": {},
   "outputs": [
    {
     "name": "stdout",
     "output_type": "stream",
     "text": [
      "🧾 officers_df_clean créé: types standardisés\n",
      "id                           object\n",
      "name                         object\n",
      "node_type                    object\n",
      "jurisdiction_description     object\n",
      "countries                    object\n",
      "degree                        int32\n",
      "betweenness                 float64\n",
      "dtype: object\n",
      "🏆 top_officers défini (20 éléments) — Top 20 par betweenness\n",
      "✅ Graphe administrateurs construit: 700 nœuds, 3279 arêtes\n"
     ]
    }
   ],
   "source": [
    "# ---------------------------\n",
    "# Nettoyage & variables manquantes (patch)\n",
    "# ---------------------------\n",
    "\n",
    "# Assurer que les ids dans nodes/edges sont des chaînes (cohérence)\n",
    "nodes_df['id'] = nodes_df['id'].astype(str)\n",
    "edges_df['source'] = edges_df['source'].astype(str)\n",
    "edges_df['target'] = edges_df['target'].astype(str)\n",
    "\n",
    "# Nettoyage général et types\n",
    "# Créer officers_df_clean pour usages ultérieurs (export, top, heatmap)\n",
    "officers_df_clean = officers_df.copy()\n",
    "\n",
    "# Remplacer NaN par valeurs par défaut\n",
    "officers_df_clean['name'] = officers_df_clean['name'].fillna('')\n",
    "# degree -> entier (si possible), sinon 0\n",
    "officers_df_clean['degree'] = pd.to_numeric(officers_df_clean['degree'], errors='coerce').fillna(0).astype(int)\n",
    "# betweenness -> float\n",
    "officers_df_clean['betweenness'] = pd.to_numeric(officers_df_clean['betweenness'], errors='coerce').fillna(0.0).astype(float)\n",
    "officers_df_clean['jurisdiction_description'] = officers_df_clean.get('jurisdiction_description', '').fillna('')\n",
    "\n",
    "print(\"🧾 officers_df_clean créé: types standardisés\")\n",
    "print(officers_df_clean.dtypes)\n",
    "\n",
    "# Définir top_officers (utilisé plusieurs fois)\n",
    "TOP_K = 20\n",
    "if 'betweenness' in officers_df_clean.columns:\n",
    "    top_officers = officers_df_clean.nlargest(TOP_K, 'betweenness').reset_index(drop=True)\n",
    "else:\n",
    "    top_officers = officers_df_clean.head(TOP_K).reset_index(drop=True)\n",
    "    print(\"⚠️ 'betweenness' absent — top_officers pris au premier ordre du DataFrame\")\n",
    "\n",
    "print(f\"🏆 top_officers défini ({len(top_officers)} éléments) — Top {TOP_K} par betweenness\")\n",
    "\n",
    "# (Re)construire le graphe NetworkX de façon robuste avec des noeuds garantis en string\n",
    "G_officers = nx.from_pandas_edgelist(edges_df, source='source', target='target', create_using=nx.Graph())\n",
    "\n",
    "# Ajouter (ou mettre à jour) attributs depuis nodes_df / officers_df_clean\n",
    "# Priorité: officers_df_clean (qui contient degree/betweenness normalisés)\n",
    "nodes_dict = officers_df_clean.set_index('id').to_dict('index')\n",
    "for node_id, attrs in nodes_dict.items():\n",
    "    if node_id not in G_officers.nodes():\n",
    "        # ajouter le noeud même s'il n'a pas d'edge — utile pour les administrateurs isolés\n",
    "        G_officers.add_node(node_id)\n",
    "    for attr_name, attr_value in attrs.items():\n",
    "        G_officers.nodes[node_id][attr_name] = attr_value\n",
    "\n",
    "print(f\"✅ Graphe administrateurs construit: {G_officers.number_of_nodes()} nœuds, {G_officers.number_of_edges()} arêtes\")\n",
    "\n",
    "# Sécurité: si top_officers est utilisé plus bas et que certains ids ne figurent pas dans le graphe,\n",
    "# on alerte mais on continue.\n",
    "missing_in_graph = [nid for nid in top_officers['id'].astype(str).tolist() if nid not in G_officers.nodes()]\n",
    "if missing_in_graph:\n",
    "    print(f\"⚠️ {len(missing_in_graph)} top_officers n'ont pas d'entrée dans G_officers (IDs retirés/absents) — exemples: {missing_in_graph[:5]}\")\n"
   ]
  },
  {
   "cell_type": "code",
   "execution_count": 61,
   "id": "bf968f88",
   "metadata": {},
   "outputs": [
    {
     "name": "stdout",
     "output_type": "stream",
     "text": [
      "\n",
      "🏆 TOP 20 ADMINISTRATEURS LES PLUS CENTRAUX:\n",
      "--------------------------------------------------------------------------------\n",
      " 1.                                               Degré: 248 Betweenness: 48915.351490\n",
      " 2. Portcullis TrustNet (BVI) Limited             Degré: 185 Betweenness: 37828.359334\n",
      " 3. Execorp Limited                               Degré: 485 Betweenness: 27506.798276\n",
      " 4. UBS AG, Singapore                             Degré: 244 Betweenness: 17203.150000\n",
      " 5. Sharecorp Limited                             Degré:  58 Betweenness: 14971.779160\n",
      " 6. Acticorp Limited                              Degré:  39 Betweenness: 2009.942937\n",
      " 7. Directcorp Limited                            Degré:   8 Betweenness: 611.472727\n",
      " 8. FORTUNE SPREAD INVESTMENT LIMITED             Degré:   4 Betweenness: 397.000000\n",
      " 9. SPITFIRE TRADING COMPANY LIMITED              Degré:   3 Betweenness: 386.588402\n",
      "10. KIKI HOLDING (PTC) LIMITED                    Degré:   2 Betweenness: 348.451065\n",
      "11. BLACK PEARL TRADING COMPANY LIMITED           Degré:   3 Betweenness: 321.576339\n",
      "12. Orient Group Inc.                             Degré:   3 Betweenness: 260.626263\n",
      "13. International Environmental Management, ...   Degré:   4 Betweenness: 232.652251\n",
      "14. IP ASSETS MANAGEMENT CORP.                    Degré:   3 Betweenness: 232.649859\n",
      "15. CENTURY GLOBAL SELECTIONS FUND INC.           Degré:   5 Betweenness: 197.296715\n",
      "16. Credit Suisse, Singapore                      Degré:  22 Betweenness: 189.966667\n",
      "17. Azure Dene Limited                            Degré:   2 Betweenness: 136.009089\n",
      "18. LEADING-TECH GROUP LIMITED                    Degré:   2 Betweenness: 126.947159\n",
      "19. BEYOND MILLENNIUM CORPORATION                 Degré:   2 Betweenness: 126.947159\n",
      "20. EVER PLUS GROUP LIMITED                       Degré:   1 Betweenness: 119.482197\n"
     ]
    }
   ],
   "source": [
    "# Version simplifiée et robuste pour l'affichage du Top 20\n",
    "print(f\"\\n🏆 TOP 20 ADMINISTRATEURS LES PLUS CENTRAUX:\")\n",
    "print(\"-\" * 80)\n",
    "\n",
    "for i, row in top_officers.iterrows():\n",
    "    name = str(row['name'])[:40] + \"...\" if len(str(row['name'])) > 40 else str(row['name'])\n",
    "    degree = int(row['degree'])  # Conversion garantie en int\n",
    "    betweenness = float(row['betweenness'])  # Conversion garantie en float\n",
    "    \n",
    "    # Formatage simple et robuste\n",
    "    print(f\"{i+1:2d}. {name:<45} Degré: {degree:3d} Betweenness: {betweenness:8.6f}\")"
   ]
  },
  {
   "cell_type": "markdown",
   "id": "7bae8e53",
   "metadata": {},
   "source": [
    "## NODE2VEC - EMBEDDINGS DES ADMINISTRATEURS"
   ]
  },
  {
   "cell_type": "code",
   "execution_count": 62,
   "id": "8cd9dfa9",
   "metadata": {},
   "outputs": [
    {
     "name": "stdout",
     "output_type": "stream",
     "text": [
      "\n",
      "🔮 NODE2VEC - ANALYSE DES EMBEDDINGS\n",
      "========================================\n",
      "🎯 Entraînement des embeddings Node2Vec...\n"
     ]
    },
    {
     "name": "stderr",
     "output_type": "stream",
     "text": [
      "Computing transition probabilities: 100%|██████████| 700/700 [00:17<00:00, 40.02it/s]\n"
     ]
    },
    {
     "name": "stdout",
     "output_type": "stream",
     "text": [
      "✅ Modèle Node2Vec entraîné\n",
      "✅ Embeddings extraits pour 700 nœuds\n"
     ]
    }
   ],
   "source": [
    "print(\"\\n🔮 NODE2VEC - ANALYSE DES EMBEDDINGS\")\n",
    "print(\"=\" * 40)\n",
    "\n",
    "# Configuration Node2Vec\n",
    "print(\"🎯 Entraînement des embeddings Node2Vec...\")\n",
    "node2vec = Node2Vec(G_officers, \n",
    "                    dimensions=64,      # Dimension des embeddings\n",
    "                    walk_length=30,     # Longueur des walks\n",
    "                    num_walks=200,      # Nombre de walks par nœud\n",
    "                    workers=2,          # Parallelisation\n",
    "                    p=1,                # Paramètre de retour\n",
    "                    q=1)                # Paramètre de exploration\n",
    "\n",
    "# Entraînement du modèle\n",
    "model = node2vec.fit(window=10, min_count=1, batch_words=4)\n",
    "print(\"✅ Modèle Node2Vec entraîné\")\n",
    "\n",
    "# Fonction pour obtenir les embeddings\n",
    "def get_node_embeddings(model, graph):\n",
    "    \"\"\"Extraire les embeddings pour tous les nœuds\"\"\"\n",
    "    embeddings = {}\n",
    "    for node in graph.nodes():\n",
    "        if str(node) in model.wv:\n",
    "            embeddings[node] = model.wv[str(node)]\n",
    "    return embeddings\n",
    "\n",
    "# Extraction des embeddings\n",
    "embeddings = get_node_embeddings(model, G_officers)\n",
    "print(f\"✅ Embeddings extraits pour {len(embeddings)} nœuds\")"
   ]
  },
  {
   "cell_type": "markdown",
   "id": "0ef52b11",
   "metadata": {},
   "source": [
    "## ANALYSE DE SIMILARITÉ ET CLUSTERING"
   ]
  },
  {
   "cell_type": "code",
   "execution_count": 63,
   "id": "31b7bfd2",
   "metadata": {},
   "outputs": [
    {
     "name": "stdout",
     "output_type": "stream",
     "text": [
      "🎯 ANALYSE DES SIMILARITÉS ENTRE ADMINISTRATEURS\n",
      "==================================================\n",
      "🔍 Administrateurs similaires à: \n",
      "  1. Portcullis TrustNet (BVI) Limited... (similarité: 0.972, degré: 185)\n",
      "  2. Sharecorp Limited... (similarité: 0.882, degré: 58)\n",
      "  3. ... (similarité: 0.763, degré: 0)\n",
      "🔍 Administrateurs similaires à: Portcullis TrustNet (BVI) Limited\n",
      "  1. ... (similarité: 0.972, degré: 248)\n",
      "  2. Sharecorp Limited... (similarité: 0.884, degré: 58)\n",
      "  3. Execorp Limited... (similarité: 0.774, degré: 485)\n",
      "🔍 Administrateurs similaires à: Execorp Limited\n",
      "  1. Sharecorp Limited... (similarité: 0.822, degré: 58)\n",
      "  2. Portcullis TrustNet (BVI) Limited... (similarité: 0.774, degré: 185)\n",
      "  3. ... (similarité: 0.761, degré: 248)\n",
      "\n",
      "✅ Analyse de similarité terminée sans erreur.\n"
     ]
    }
   ],
   "source": [
    "# ==========================================================\n",
    "# 🎯 ANALYSE DES SIMILARITÉS ENTRE ADMINISTRATEURS (corrigée)\n",
    "# ==========================================================\n",
    "\n",
    "print(\"🎯 ANALYSE DES SIMILARITÉS ENTRE ADMINISTRATEURS\")\n",
    "print(\"==================================================\")\n",
    "\n",
    "# Exemple : top 3 administrateurs du modèle node2vec\n",
    "for idx, row in top_officers.head(3).iterrows():\n",
    "    officer_id = str(row['id'])\n",
    "    officer_name = row.get('name', 'N/A')\n",
    "\n",
    "    print(f\"🔍 Administrateurs similaires à: {officer_name}\")\n",
    "\n",
    "    # Calcul des similarités à d'autres administrateurs\n",
    "    similar_officers = []\n",
    "    for other_id in G_officers.nodes():\n",
    "        if other_id == officer_id:\n",
    "            continue\n",
    "        try:\n",
    "            similarity = model.wv.similarity(officer_id, other_id)\n",
    "        except KeyError:\n",
    "            # si un noeud n'a pas d'embedding\n",
    "            continue\n",
    "        similar_officers.append((other_id, similarity))\n",
    "\n",
    "    # Trier par similarité décroissante\n",
    "    similar_officers = sorted(similar_officers, key=lambda x: x[1], reverse=True)[:3]\n",
    "\n",
    "    # Afficher les top similaires avec infos\n",
    "    for i, (other_id, similarity) in enumerate(similar_officers):\n",
    "        officer_info = officers_df_clean[officers_df_clean['id'].astype(str) == str(other_id)]\n",
    "\n",
    "        if officer_info.empty:\n",
    "            print(f\"  ⚠️ Aucune info trouvée pour l’ID {other_id} (probablement hors du top_officers)\")\n",
    "            continue\n",
    "\n",
    "        name = officer_info.iloc[0].get('name', 'Inconnu')\n",
    "        degree = officer_info.iloc[0].get('degree', 'N/A')\n",
    "\n",
    "        print(f\"  {i+1}. {name[:40]}... (similarité: {similarity:.3f}, degré: {degree})\")\n",
    "\n",
    "print(\"\\n✅ Analyse de similarité terminée sans erreur.\")\n"
   ]
  },
  {
   "cell_type": "markdown",
   "id": "203d399e",
   "metadata": {},
   "source": [
    "## VISUALISATION T-SNE DES EMBEDDINGS"
   ]
  },
  {
   "cell_type": "code",
   "execution_count": 64,
   "id": "18b11126",
   "metadata": {},
   "outputs": [
    {
     "name": "stdout",
     "output_type": "stream",
     "text": [
      "\n",
      "🎨 VISUALISATION T-SNE DES EMBEDDINGS\n",
      "========================================\n"
     ]
    },
    {
     "data": {
      "application/vnd.plotly.v1+json": {
       "config": {
        "plotlyServerURL": "https://plot.ly"
       },
       "data": [
        {
         "customdata": [
          [
           "Appleby Trust (Cayman) Ltd.",
           9,
           0
          ],
          [
           "Clifton House; 75 Fort Street; Grand Cayman KY1-1108; Cayman Islands",
           11,
           2.2857142857142856
          ],
          [
           "Island Romance Holidays Ltd.",
           3,
           0.5714285714285714
          ],
          [
           "Ready-Made Registrations Limited",
           8,
           0
          ],
          [
           "COURTESY INVESTMENT LIMITED",
           4,
           38.79638486513484
          ],
          [
           "Execorp Limited",
           485,
           27506.79827586198
          ],
          [
           "Triumvirate Capital Inc.",
           4,
           0.01604366028708134
          ],
          [
           "Arrow-In Worldwide Ltd",
           4,
           0.40086618170691013
          ],
          [
           "Exquisite Concepts Services Limited",
           5,
           0.4113924974963838
          ],
          [
           "Faber Crest Holdings Ltd",
           4,
           0.40086618170691013
          ],
          [
           "Freehold Assets Overseas Limited",
           5,
           0.4113924974963838
          ],
          [
           "Park Avenue Group Corporation",
           4,
           0.01604366028708134
          ],
          [
           "ART SENSE DEVELOPMENT LIMITED",
           4,
           4.382440421420677
          ],
          [
           "Central Avenue Consultants Limited",
           5,
           0.4113924974963838
          ],
          [
           "PRICENET ENTERPRISES LIMITED",
           5,
           2.971790786723861
          ],
          [
           "Pepperton Limited",
           4,
           0.40086618170691013
          ],
          [
           "Loranza Universal Ltd",
           4,
           0.40086618170691013
          ],
          [
           "Positive Energy Group Corporation",
           4,
           0.01604366028708134
          ],
          [
           "Grand Realm Holdings Ltd",
           4,
           0.40086618170691013
          ],
          [
           "Medicore Consultants Limited",
           4,
           0.40086618170691013
          ],
          [
           "Caius Heritage Ltd",
           4,
           0.40086618170691013
          ],
          [
           "AlphaVista Group Limited",
           5,
           0.4113924974963838
          ],
          [
           "CROWNMARK INTERNATIONAL LIMITED",
           4,
           0.01604366028708134
          ],
          [
           "PC (NAD) International Ltd",
           4,
           0.40086618170691013
          ],
          [
           "Springrose Pacific Corporation",
           4,
           0.01604366028708134
          ],
          [
           "Bridge Point Universal Ltd",
           4,
           0.40086618170691013
          ],
          [
           "RMD Capital Inc.",
           4,
           0.40086618170691013
          ],
          [
           "GOLDEN NET INTERNATIONAL CO. INC.",
           4,
           2.9612644709343874
          ],
          [
           "Blastwell Universal Holdings Ltd",
           4,
           0.01604366028708134
          ],
          [
           "SUN MODE INVESTMENT LIMITED",
           4,
           38.79638486513484
          ],
          [
           "Cadillac Consultants Limited",
           4,
           0.01604366028708134
          ],
          [
           "KING CROWN GROUP LIMITED",
           4,
           2.9612644709343874
          ],
          [
           "Davis Bay Enterprise Ltd",
           4,
           0.40086618170691013
          ],
          [
           "Rotto Universal Ltd",
           4,
           0.40086618170691013
          ],
          [
           "Lytton Enterprise Ltd",
           4,
           0.40086618170691013
          ],
          [
           "Holmead Worldwide Ltd",
           4,
           0.40086618170691013
          ],
          [
           "UP BRIGHT ENTERPRISES LIMITED",
           4,
           2.9612644709343874
          ],
          [
           "Mystical International Worldwide Ltd",
           4,
           0.40086618170691013
          ],
          [
           "GAINS KEEPER INVESTMENT INC.",
           5,
           2.971790786723861
          ],
          [
           "Unbeatable Ventures Inc.",
           4,
           0.01604366028708134
          ],
          [
           "Aspires Inc.",
           5,
           0.4113924974963838
          ],
          [
           "Snow Bright Ventures Ltd",
           5,
           0.4113924974963838
          ],
          [
           "DREAMTIME DEVELOPMENT LIMITED",
           5,
           14.93271032695373
          ],
          [
           "Prestige View Corporation",
           4,
           0.40086618170691013
          ],
          [
           "Noble Link Assets Ltd",
           4,
           0.40086618170691013
          ],
          [
           "CITROEN CAPITAL LTD",
           4,
           0.40086618170691013
          ],
          [
           "PARIS HILTON GROUP LTD",
           4,
           0.01604366028708134
          ],
          [
           "Amber Point Resources Inc.",
           4,
           0.4090001529987761
          ],
          [
           "Fidelia International Ltd",
           4,
           0.40086618170691013
          ],
          [
           "Confederate (BVI) Group Ltd.",
           4,
           4.382440421420677
          ],
          [
           "World Vision Capital Incorporated",
           4,
           0.40086618170691013
          ],
          [
           "GREENPULSE CORPORATION",
           4,
           0.01604366028708134
          ],
          [
           "ROCK DISTANT PTE LTD",
           5,
           0.4113924974963838
          ],
          [
           "CLEAR BEARINGS LIMITED",
           5,
           0.4113924974963838
          ],
          [
           "WINSET CONSULTANTS LIMITED",
           4,
           4.382440421420677
          ],
          [
           "Global Index Investments Incorporated",
           4,
           9.116628455608703
          ],
          [
           "Presage Pte Limited",
           5,
           0.4113924974963838
          ],
          [
           "BlueTrack Management Limited",
           4,
           0.01604366028708134
          ],
          [
           "High 5 Worldwide Ltd",
           4,
           0.40086618170691013
          ],
          [
           "ViewGlory Investments Ltd",
           4,
           0.01604366028708134
          ],
          [
           "D'Banyan International Ltd",
           4,
           0.4090001529987761
          ],
          [
           "Seaview Capital Ventures Ltd",
           5,
           0.4113924974963838
          ],
          [
           "Mosaic World Lighting Ltd",
           4,
           12.291231630211888
          ],
          [
           "GB Interiors & Fitouts Limited",
           4,
           0.01604366028708134
          ],
          [
           "Kingscote Overseas Ltd",
           4,
           0.40086618170691013
          ],
          [
           "Buton Resources International Limited",
           4,
           0.40086618170691013
          ],
          [
           "Brookeview Offshore Inc.",
           4,
           0.40086618170691013
          ],
          [
           "Atlantique Offshore Incorporated",
           4,
           0.01604366028708134
          ],
          [
           "Maxi Shine Holdings Ltd",
           5,
           0.4113924974963838
          ],
          [
           "A-Project Capital Ltd",
           4,
           0.40086618170691013
          ],
          [
           "Keen Challenge Limited",
           5,
           0.4113924974963838
          ],
          [
           "Eden Point Worldwide Inc.",
           4,
           0.40086618170691013
          ],
          [
           "Busfield Ventures Limited",
           4,
           0.01604366028708134
          ],
          [
           "Blue Central Capital Ltd",
           4,
           0.01604366028708134
          ],
          [
           "Sheer City Holdings Ltd",
           4,
           0.40086618170691013
          ],
          [
           "Emerald Assets Overseas Inc.",
           4,
           9.116628455608703
          ],
          [
           "BRUNSWICK INTERNATIONAL GROUP INC.",
           4,
           2.9612644709343874
          ],
          [
           "Montana View International Ltd",
           5,
           0
          ],
          [
           "Credit Suisse, Singapore",
           22,
           189.96666666666664
          ],
          [
           "Power Focus Enterprise Inc.",
           5,
           0
          ],
          [
           "Cornerstone Projects Ltd",
           5,
           0
          ],
          [
           "Premiere Classique International Ltd",
           5,
           0
          ],
          [
           "Net Value Development Inc.",
           5,
           0
          ],
          [
           "Breeze Sailing Offshore Limited",
           5,
           0
          ],
          [
           "Scotts 8 Development Limited",
           5,
           0
          ],
          [
           "Good Prospect Financial Inc.",
           5,
           9.127154771398176
          ],
          [
           "Aight Inc.",
           4,
           9.116628455608703
          ],
          [
           "Victory Harvest Investment Ltd",
           4,
           9.116628455608703
          ],
          [
           "Glass Gear Investments Ltd",
           4,
           9.116628455608703
          ],
          [
           "Scenic Experience Inc.",
           4,
           9.116628455608703
          ],
          [
           "Northern Hub Capital Ltd",
           4,
           9.116628455608703
          ],
          [
           "Picmonte Corporation",
           4,
           9.116628455608703
          ],
          [
           "Jo-Le Assets Corporation",
           5,
           12.686580467421194
          ],
          [
           "Secorp Limited",
           7,
           0
          ],
          [
           "TRANS-COMMERCIAL HOLDINGS LTD.",
           4,
           84.32034632034632
          ],
          [
           "E-Partners Worldwide Ltd",
           5,
           0
          ],
          [
           "UBS AG, Singapore",
           244,
           17203.15
          ],
          [
           "First Edge Capital Corporation",
           5,
           0
          ],
          [
           "Power of Gold Corporation",
           6,
           0
          ],
          [
           "Palma Premium Ltd",
           5,
           0
          ],
          [
           "FINECORP INVESTMENT HOLDINGS LTD",
           5,
           0
          ],
          [
           "Brixbance Universal Ltd",
           6,
           0
          ],
          [
           "Xtra-Cap Ltd",
           5,
           0
          ],
          [
           "Canary City International Ltd",
           5,
           0
          ],
          [
           "Coranilius Corporation",
           5,
           0
          ],
          [
           "Redcroft Holdings Limited",
           5,
           0
          ],
          [
           "Infini Investment Ltd",
           5,
           0
          ],
          [
           "Trinity Capital International Limited",
           5,
           0
          ],
          [
           "Ninetyeight Holdings Limited",
           5,
           0
          ],
          [
           "Ichiban Professionals Inc.",
           4,
           0
          ],
          [
           "MERC LOGISTICS LIMITED",
           5,
           0
          ],
          [
           "Iron Gate Universal Ltd",
           4,
           0
          ],
          [
           "Armilin Capital Ltd",
           5,
           0
          ],
          [
           "Quest Heights Limited",
           5,
           0
          ],
          [
           "Energy Resources Financial Ltd",
           5,
           0
          ],
          [
           "BOWLER ENTERPRISES LIMITED",
           6,
           0
          ],
          [
           "D'LLOYD HOLDINGS  LIMITED",
           5,
           0
          ],
          [
           "Golden Charm Universal Ltd",
           5,
           0
          ],
          [
           "Infinite Brilliance Inc.",
           5,
           0
          ],
          [
           "Innovating Comtech Enterprises Ltd",
           5,
           0
          ],
          [
           "Sarrasine Overseas Holdings Ltd",
           5,
           0
          ],
          [
           "Presario Trading Inc.",
           5,
           0
          ],
          [
           "VALUEPRO INVESTMENTS LTD",
           5,
           0
          ],
          [
           "Sky High Trading Development Limited",
           5,
           0
          ],
          [
           "Coral Heights Investments Holding Ltd",
           5,
           0
          ],
          [
           "Notting Hill Holdings Offshore Group Limited",
           5,
           0
          ],
          [
           "Quartz International Group Limited",
           5,
           0
          ],
          [
           "Armoric Management Pte Ltd",
           5,
           0
          ],
          [
           "STARMIX GROUP LIMITED",
           6,
           0
          ],
          [
           "Equity Stock Inc.",
           5,
           0
          ],
          [
           "AssetTerm Corporation",
           6,
           0
          ],
          [
           "TORRENCE MANAGEMENT LTD",
           5,
           0
          ],
          [
           "Beyond Dreams Corp.",
           5,
           0
          ],
          [
           "Edinborough International Ventures Ltd",
           5,
           0
          ],
          [
           "Poetic Capital Limited",
           5,
           0
          ],
          [
           "Kings Technology Enterprises Ltd",
           5,
           0
          ],
          [
           "Lines Xchange Ltd",
           5,
           0
          ],
          [
           "ENERGISER GROUP CORPORATION",
           5,
           0
          ],
          [
           "Trilogy Worldwide Offshore Limited",
           5,
           0
          ],
          [
           "On-Track Capital Ltd",
           5,
           0
          ],
          [
           "TWIN CITY ENTERPRISES LTD",
           5,
           0
          ],
          [
           "REGALIA TRADING INC.",
           5,
           0
          ],
          [
           "Philadelphia Investment & Trading Ltd",
           5,
           0
          ],
          [
           "VISIONCREEK OVERSEAS LIMITED",
           5,
           0
          ],
          [
           "River Edge Worldwide Inc.",
           5,
           0
          ],
          [
           "Esquire Group Limited",
           6,
           0
          ],
          [
           "FAME KING HOLDINGS LIMITED",
           5,
           0
          ],
          [
           "EQUATORIAL ASSETS GROUP INC.",
           6,
           0
          ],
          [
           "Granville Delight Inc.",
           5,
           0
          ],
          [
           "Chevron Management Ltd",
           6,
           0
          ],
          [
           "Indelberg Petroleum Ltd",
           5,
           0
          ],
          [
           "Crystal Panache Co. Limited",
           5,
           0
          ],
          [
           "SIH HOLDING CO LIMITED",
           5,
           0
          ],
          [
           "Rizt Company Ltd",
           5,
           0
          ],
          [
           "Star Glory Investments Management Ltd",
           5,
           0
          ],
          [
           "Victorian Beauty Incorporated",
           5,
           0
          ],
          [
           "Pan-Ocean Overseas Ltd",
           4,
           0.40086618170691013
          ],
          [
           "First Salute International Corporation",
           4,
           0.40086618170691013
          ],
          [
           "Fountain Global Ltd",
           4,
           0.40086618170691013
          ],
          [
           "MATTSTEEL COMMUNICATIONS LTD",
           4,
           0.40086618170691013
          ],
          [
           "Gain Prosperity Limited",
           5,
           0.4113924974963838
          ],
          [
           "ROSARA S.B. LTD",
           4,
           0.40086618170691013
          ],
          [
           "Prime Select International Corporation",
           4,
           0.40086618170691013
          ],
          [
           "Star Fire Pacific Ltd",
           4,
           0.40086618170691013
          ],
          [
           "Queensberry Worldwide Corporation",
           4,
           0.40086618170691013
          ],
          [
           "Grand Beaufort Investments Ltd",
           4,
           0.40086618170691013
          ],
          [
           "Sharington Holdings Ltd.",
           4,
           0.40086618170691013
          ],
          [
           "UPTON DEVELOPMENT SERVICES INC.",
           4,
           0.40086618170691013
          ],
          [
           "Diamond Technical Services Ltd",
           4,
           0.40086618170691013
          ],
          [
           "Blakeston International Universal Inc",
           4,
           0.40086618170691013
          ],
          [
           "PEARL CAPITAL VENTURES INC.",
           4,
           0.40086618170691013
          ],
          [
           "Hibbertia Trading Company Limited",
           4,
           0.40086618170691013
          ],
          [
           "Marco Universal Limited",
           4,
           0.40086618170691013
          ],
          [
           "Longreach Properties Limited",
           4,
           0.40086618170691013
          ],
          [
           "OSKA International Group Limited",
           4,
           0.40086618170691013
          ],
          [
           "Rich Blessing Venture Limited",
           4,
           0.40086618170691013
          ],
          [
           "Iron Rhapsody Limited",
           4,
           0.40086618170691013
          ],
          [
           "Noble Garland Inc.",
           4,
           0.40086618170691013
          ],
          [
           "Supremecy Investments Ltd",
           4,
           0.40086618170691013
          ],
          [
           "Sephora Offshore Trading Ltd",
           4,
           0.40086618170691013
          ],
          [
           "Starcrest International Group Ltd",
           4,
           0.40086618170691013
          ],
          [
           "Velocity Trading Worldwide Limited",
           4,
           0.40086618170691013
          ],
          [
           "Flying Knight Capital Ltd",
           4,
           0.40086618170691013
          ],
          [
           "GRAND BEST (ASIA PACIFIC) LIMITED",
           5,
           0.4113924974963838
          ],
          [
           "Orient Bulk Line Limited",
           4,
           0.40086618170691013
          ],
          [
           "BARCELONA ASSETS INC.",
           5,
           0.4113924974963838
          ],
          [
           "Shining Returns Investment Inc.",
           4,
           0.40086618170691013
          ],
          [
           "Ledbury Assets Ltd",
           4,
           0.40086618170691013
          ],
          [
           "Maisonave Enterprise Ltd",
           4,
           0.40086618170691013
          ],
          [
           "Red Cliff International Ltd",
           4,
           0.40086618170691013
          ],
          [
           "Purple Charme Group Limited",
           5,
           0
          ],
          [
           "Rising Reaps International Limited",
           4,
           0.40086618170691013
          ],
          [
           "Sheaffer Holdings Ltd",
           4,
           0.40086618170691013
          ],
          [
           "Parade Flair Limited",
           4,
           0.40086618170691013
          ],
          [
           "Springwood Universal Ltd",
           4,
           0.40086618170691013
          ],
          [
           "BRILLIANCE SUCCESS WORLDWIDE CORPORATION",
           4,
           0.40086618170691013
          ],
          [
           "Glittering Snow International Ltd",
           4,
           0.40086618170691013
          ],
          [
           "Grandeur Wind Trading Limited",
           4,
           0.40086618170691013
          ],
          [
           "Richmen Capital Limited",
           4,
           0.40086618170691013
          ],
          [
           "Tropics Offshore Holding Inc.",
           4,
           0.40086618170691013
          ],
          [
           "Azonic Limited",
           4,
           0.40086618170691013
          ],
          [
           "PowellTown Enterprise Ltd",
           3,
           0.8779804990983553
          ],
          [
           "Premier Plus Assets Inc.",
           3,
           0.8779804990983553
          ],
          [
           "Reid Services Limited - Cayman",
           2,
           10
          ],
          [
           "Richmond Corporation",
           3,
           0.5714285714285714
          ],
          [
           "Hillbrook Corporation",
           3,
           0.5714285714285714
          ],
          [
           "Asolo Corporation",
           3,
           0.5714285714285714
          ],
          [
           "A. C. I. Limited",
           3,
           0.5714285714285714
          ],
          [
           "CAGIDAW PROPERTIES LTD.",
           3,
           0.5714285714285714
          ],
          [
           "Myattsfield Corporation",
           3,
           19.961008749788785
          ],
          [
           "Glory Win Investments Ltd",
           3,
           19.961008749788785
          ],
          [
           "Maximize Riches Incorporated",
           3,
           0.8779804990983553
          ],
          [
           "Lucida Worldwide Inc.",
           3,
           0.8779804990983553
          ],
          [
           "BestOne Universal Ltd",
           3,
           0.8779804990983553
          ],
          [
           "Modesto Group Limited",
           4,
           0.01604366028708134
          ],
          [
           "Fresh Formula Inc.",
           4,
           0.01604366028708134
          ],
          [
           "West Carleton Limited",
           4,
           0.01604366028708134
          ],
          [
           "Charlottetown Corporation",
           4,
           0.01604366028708134
          ],
          [
           "Global Finance Worldwide Limited",
           3,
           0.8779804990983553
          ],
          [
           "Gold Reflection Ltd",
           3,
           0.8779804990983553
          ],
          [
           "One Tree Corporation",
           3,
           0.8779804990983553
          ],
          [
           "Mantolli Holdings Ltd",
           4,
           0.01604366028708134
          ],
          [
           "Goodwood Overseas Investments Inc.",
           3,
           19.961008749788785
          ],
          [
           "SYNERGY TECHNOLOGY LTD",
           3,
           0.8779804990983553
          ],
          [
           "Rotherham Pte Limited",
           4,
           1.052498017609833
          ],
          [
           "Snowscapes International Ltd",
           3,
           0.8779804990983553
          ],
          [
           "Nashville Capital Ventures Inc.",
           4,
           1.052498017609833
          ],
          [
           "Kovan (Asia Pacific) Pte Ltd",
           4,
           0.01604366028708134
          ],
          [
           "UXBRIDGE INTERNATIONAL LIMITED",
           3,
           0.8779804990983553
          ],
          [
           "PricewaterhouseCoopers Ltd.",
           7,
           8.708333333333332
          ],
          [
           "KINGTO WORLDWIDE LIMITED",
           4,
           46.37551196366985
          ],
          [
           "Portcullis TrustNet (Samoa) Limited",
           1,
           0
          ],
          [
           "Orient Group Inc.",
           3,
           260.6262626262623
          ],
          [
           "AustraAsia Capital Limited",
           3,
           0.8779804990983553
          ],
          [
           "Clear Water Universal Inc.",
           3,
           0.8779804990983553
          ],
          [
           "Mottisfont International Ltd",
           3,
           0.8779804990983553
          ],
          [
           "Azzion Holdings Ltd",
           3,
           0.8779804990983553
          ],
          [
           "Harmonious Cheer Holdings Ltd",
           4,
           1.052498017609833
          ],
          [
           "INNOPILOT TECHNOLOGY LIMITED",
           3,
           0.8779804990983553
          ],
          [
           "EVERTECH INNOVATION LIMITED",
           3,
           0.8779804990983553
          ],
          [
           "Appleby Services (Cayman) Limited",
           1,
           3
          ],
          [
           "EVERICH HOLDINGS TRADING LTD.",
           4,
           0.13051734449760766
          ],
          [
           "Morvan Specialist Ltd",
           3,
           0.8779804990983553
          ],
          [
           "DYNAMIC INTERNATIONAL TECHNOLOGIES LIMITED",
           3,
           0.8779804990983553
          ],
          [
           "RAINBOW STATESMAN LIMITED",
           3,
           58.13862721708112
          ],
          [
           "OVERCOME HOLDINGS LIMITED",
           4,
           4.382440421420677
          ],
          [
           "Network Founders Inc.",
           3,
           0.8779804990983553
          ],
          [
           "Added Benefit Investments Ltd",
           3,
           0.8779804990983553
          ],
          [
           "Diverse Network Inc.",
           3,
           0.8779804990983553
          ],
          [
           "Messiah Holding Ltd",
           3,
           0.8779804990983553
          ],
          [
           "Berlington Worldwide Ltd",
           3,
           0.8779804990983553
          ],
          [
           "Wildwood Worldwide Ltd",
           3,
           0.8779804990983553
          ],
          [
           "ART GRACE TRADING LIMITED",
           5,
           2.971790786723861
          ],
          [
           "Oriental Bloome Inc.",
           3,
           0.8779804990983553
          ],
          [
           "Autumn  Breeze Enterprise Ltd",
           3,
           0.8779804990983553
          ],
          [
           "MID-OCEAN INTERNATIONAL LIMITED",
           3,
           58.13862721708112
          ],
          [
           "Silver Clouds Management Ltd",
           3,
           0.8779804990983553
          ],
          [
           "Pristine Sand Corporation",
           3,
           0.8779804990983553
          ],
          [
           "BCIC Internasional Ltd",
           4,
           0.13051734449760766
          ],
          [
           "Latitude Securities Ltd",
           4,
           0.01604366028708134
          ],
          [
           "Wimbledon Assets Ltd",
           4,
           0.01604366028708134
          ],
          [
           "Perfect Wealth Synergy Corp.",
           3,
           0.8779804990983553
          ],
          [
           "Financial Pilot Limited",
           3,
           0.8779804990983553
          ],
          [
           "Chrysler Asset Ventures Ltd",
           4,
           1.052498017609833
          ],
          [
           "Basque Capital Assets Ltd",
           3,
           0.8779804990983553
          ],
          [
           "United Properties Enterprise Inc.",
           4,
           1.052498017609833
          ],
          [
           "Paradis International Limited",
           3,
           0.8779804990983553
          ],
          [
           "Clifton Universal Ltd",
           4,
           1.052498017609833
          ],
          [
           "Peacock Grace Corporation",
           3,
           19.961008749788785
          ],
          [
           "Asia Lead Finance Ltd",
           3,
           0.8779804990983553
          ],
          [
           "MERIT FULL TRADING GROUP LIMITED",
           4,
           38.79638486513484
          ],
          [
           "I P Avenue Ltd",
           3,
           0.8779804990983553
          ],
          [
           "UNION CONCEPT TRADING LIMITED",
           4,
           38.79638486513484
          ],
          [
           "Sunlite Finance Limited",
           4,
           0.01604366028708134
          ],
          [
           "Asia Star International Investment Limited",
           3,
           0.8779804990983553
          ],
          [
           "TradeVentures Capital Inc.",
           3,
           0.8779804990983553
          ],
          [
           "Shining Star Investment Overseas Limited",
           3,
           19.961008749788785
          ],
          [
           "Blooming Access Corporation",
           3,
           0.8779804990983553
          ],
          [
           "Shippingstop Dot Com Limited",
           3,
           0.8779804990983553
          ],
          [
           "Directcorp Limited ",
           8,
           611.4727272727266
          ],
          [
           "CENTURY GLOBAL SELECTIONS FUND INC.",
           5,
           197.29671474358986
          ],
          [
           "JADE TIGER LIMITED",
           4,
           84.46320346320347
          ],
          [
           "Nine Dragons Universal Ltd",
           3,
           19.961008749788785
          ],
          [
           "Venture Investment Management Group Co. Ltd.",
           4,
           2.9612644709343874
          ],
          [
           "Grandole Worldwide Ltd",
           3,
           0.8779804990983553
          ],
          [
           "Glorious Glory Overseas Ltd",
           3,
           19.961008749788785
          ],
          [
           "Swisslink Investments Group Limited",
           4,
           0.01604366028708134
          ],
          [
           "LEGITIMATE HOUR INTERNATIONAL LIMITED",
           4,
           38.79638486513484
          ],
          [
           "Potential Maximization Inc.",
           3,
           0.8779804990983553
          ],
          [
           "Desirable Result Corporation",
           3,
           0.8779804990983553
          ],
          [
           "Picasso Co. Offshore Limited",
           4,
           1.052498017609833
          ],
          [
           "Renowned Navigator Ltd",
           3,
           0.8779804990983553
          ],
          [
           "Bouncing High Capital Ltd",
           3,
           0.8779804990983553
          ],
          [
           "Vibrant Creative Limited",
           3,
           0.8779804990983553
          ],
          [
           "Silver Concept Limited",
           3,
           0.8779804990983553
          ],
          [
           "ALPHA OMEGA OFFSHORE LIMITED",
           3,
           0.8779804990983553
          ],
          [
           "Optical Orbits Inc.",
           4,
           1.052498017609833
          ],
          [
           "FORECAST INVESTMENT GROUP LIMITED",
           3,
           0.8779804990983553
          ],
          [
           "StartPoint Holdings Ltd",
           3,
           0.8779804990983553
          ],
          [
           "Blusea Ltd",
           3,
           19.961008749788785
          ],
          [
           "EB Finance Co., Ltd.",
           4,
           4.382440421420677
          ],
          [
           "BEST DRAGON ENTERPRISES LIMITED",
           3,
           19.961008749788785
          ],
          [
           "MULTI ARROW SERVICES LIMITED",
           4,
           38.79638486513484
          ],
          [
           "BRILLIANT GROUP SERVICES INC.",
           3,
           0.8779804990983553
          ],
          [
           "Connection Axis Limited",
           3,
           0.8779804990983553
          ],
          [
           "Senior Wealth Management Limited",
           3,
           0.8779804990983553
          ],
          [
           "Bourbon International Services Ltd",
           3,
           19.961008749788785
          ],
          [
           "Throssell Capital Inc.",
           3,
           0.8779804990983553
          ],
          [
           "Capital Advisory Services Ltd",
           3,
           0.8779804990983553
          ],
          [
           "KING REGENT MANAGEMENT LIMITED",
           5,
           2.971790786723861
          ],
          [
           "SPITFIRE TRADING COMPANY LIMITED",
           3,
           386.58840187590147
          ],
          [
           "BLACK PEARL TRADING COMPANY LIMITED",
           3,
           321.5763392857137
          ],
          [
           "Canon's Court; 22 Victoria Street; Hamilton; HM 12; Bermuda",
           2,
           0
          ],
          [
           "Aberystwyth Limited",
           0,
           0
          ],
          [
           "Argyle House; 41a Cedar Avenue; Hamilton HM 12; Bermuda",
           2,
           0
          ],
          [
           "Alabama Assets Ltd",
           4,
           1.052498017609833
          ],
          [
           "PEARL ELITE ASSET MANAGEMENT LIMITED",
           4,
           2.9612644709343874
          ],
          [
           "Knowall International Ltd",
           3,
           0.8779804990983553
          ],
          [
           "MASTER STEP TRADING LIMITED",
           4,
           2.9612644709343874
          ],
          [
           "Great White Investments Ltd",
           3,
           0.8779804990983553
          ],
          [
           "MANIFOLD RETURNS LIMITED",
           4,
           0.01604366028708134
          ],
          [
           "Harvest Gold Holding Ltd",
           3,
           0.8779804990983553
          ],
          [
           "GOLDVEST FINANCE GROUP LIMITED",
           3,
           0.8779804990983553
          ],
          [
           "Guinness Vita Universal Ltd",
           3,
           0.8779804990983553
          ],
          [
           "BlueBell Express Limited",
           4,
           1.052498017609833
          ],
          [
           "Charlize Universal Ltd",
           3,
           0.8779804990983553
          ],
          [
           "Ocean Quest Ventures, Inc.",
           3,
           0.8779804990983553
          ],
          [
           "Orchid Green Limited",
           4,
           0.01604366028708134
          ],
          [
           "MAGIC MIRROR INVESTMENT LIMITED",
           4,
           2.9612644709343874
          ],
          [
           "Inland Capital Ventures Ltd",
           4,
           0.01604366028708134
          ],
          [
           "Ace Platform Limited",
           4,
           1.052498017609833
          ],
          [
           "AQUARIUS BLUE LIMITED",
           3,
           19.961008749788785
          ],
          [
           "DRAGON PEARL GROUP INC.",
           3,
           0.8779804990983553
          ],
          [
           "BRAUFFEL FINANCE LIMITED",
           4,
           0.01604366028708134
          ],
          [
           "SAMSONITE CAPITAL LIMITED",
           4,
           0.01604366028708134
          ],
          [
           "Northern Gulf Petroleum Ltd",
           4,
           0.01604366028708134
          ],
          [
           "BORNEO POWERS LIMITED",
           4,
           0.01604366028708134
          ],
          [
           "GOYEN INVESTMENTS LTD",
           3,
           0.8779804990983553
          ],
          [
           "PAN-ASIA INT'L RESOURCES CORP.",
           3,
           0.8779804990983553
          ],
          [
           "MASTER ADVISORY SERVICES LTD.",
           4,
           12.291231630211888
          ],
          [
           "ACES VENTURE CO., INC.",
           3,
           0.8779804990983553
          ],
          [
           "PELICAN CAPITAL VENTURES INC.",
           4,
           0.01604366028708134
          ],
          [
           "Network Line International Ltd",
           4,
           2.007943278254683
          ],
          [
           "BRANZ OFFSHORE INC.",
           3,
           0.8779804990983553
          ],
          [
           "Ellington Finance Ltd",
           3,
           0.8779804990983553
          ],
          [
           "LIBRA VISION TECHNOLOGY LIMITED",
           4,
           12.291231630211888
          ],
          [
           "Grow Top Holding Limited",
           3,
           0.8779804990983553
          ],
          [
           null,
           248,
           48915.351490136505
          ],
          [
           "Financial Intelligence Limited",
           5,
           0
          ],
          [
           "PRECISION FAITH TRADING LIMITED",
           5,
           0
          ],
          [
           "ASCENT ENERGY HOLDINGS LIMITED",
           5,
           0
          ],
          [
           "BILLION SOW INTERNATIONAL LIMITED",
           5,
           0
          ],
          [
           "Stapley Universal Ltd",
           5,
           0
          ],
          [
           "Oxford Union Ltd.",
           5,
           0
          ],
          [
           "MILLION EAGLE CONSULTANTS LIMITED",
           5,
           0
          ],
          [
           "Formidable Holdings Overseas Limited",
           5,
           0
          ],
          [
           "TW INTERNATIONAL HOLDING (BVI) CO., LTD.",
           4,
           0
          ],
          [
           "CYBER BAY GROUP INC.",
           4,
           0
          ],
          [
           "WEALTH PLANNER LIMITED",
           4,
           0
          ],
          [
           "MEDIA FEATURES GROUP LIMITED",
           4,
           0
          ],
          [
           "Auric Capital Partners Inc",
           5,
           0
          ],
          [
           "ZIP HOLDINGS LIMITED",
           4,
           0
          ],
          [
           "STANDARD TRACKER GROUP INC.",
           4,
           0
          ],
          [
           "Courlande Investments Ltd",
           5,
           0
          ],
          [
           "Racecourse Investments Ltd",
           5,
           0
          ],
          [
           "ENERGY RIDER TRADING CORPORATION",
           5,
           0
          ],
          [
           "BLOOM RICH GROUP LIMITED",
           5,
           0
          ],
          [
           "ZIP TRADING LIMITED",
           4,
           0
          ],
          [
           "FINE FANCY MANAGEMENT LIMITED",
           5,
           0
          ],
          [
           "MILEAGE TRACK HOLDINGS INC.",
           4,
           0
          ],
          [
           "Class8 Assets Inc.",
           5,
           0
          ],
          [
           "Regional Services Overseas Ltd",
           5,
           0
          ],
          [
           "SUN TALENT TRADING LIMITED",
           5,
           0
          ],
          [
           "TOPCOME MANAGEMENT LIMITED",
           5,
           0
          ],
          [
           "COMMON WEALTH VENTURES CORPORATION",
           5,
           0
          ],
          [
           "LEAD FANCY ENTERPRISES LIMITED",
           5,
           0
          ],
          [
           "DYNAMIC TITLE INVESTMENT LIMITED",
           6,
           0
          ],
          [
           "SCORE HONOUR INTERNATIONAL (PTC) LIMITED",
           5,
           0
          ],
          [
           "GLORIOUS VICTORY TRADING LIMITED",
           5,
           0
          ],
          [
           "CAPITAL BLOOM DEVELOPMENT LIMITED",
           5,
           0
          ],
          [
           "GOLDEN FULL CONSULTANTS LIMITED",
           5,
           0
          ],
          [
           "ETERNAL STANDARD HOLDINGS LIMITED",
           5,
           0
          ],
          [
           "CHEER BEAUTY HOLDINGS LIMITED",
           5,
           0
          ],
          [
           "ALL BURGET ENTERPRISES LIMITED",
           5,
           0
          ],
          [
           "WISE SOURCE SKY LIMITED",
           5,
           0
          ],
          [
           "ONWARD SUCCESS TECHNOLOGY LIMITED",
           6,
           0
          ],
          [
           "BRIGHT STRONG HOLDINGS LIMITED",
           5,
           0
          ],
          [
           "MAGICAL JOURNEY DEVELOPMENT LIMITED",
           5,
           0
          ],
          [
           "Ever Racing Investments Ltd",
           5,
           0
          ],
          [
           "YIP SHING CONSULTANTS LIMITED",
           5,
           0
          ],
          [
           "SKY MEDIA GROUP LIMITED",
           5,
           0
          ],
          [
           "Scarlet Amore Corporation",
           5,
           0
          ],
          [
           "Prior King Investments Holding Ltd",
           4,
           0.01604366028708134
          ],
          [
           "Excellent Microtech Investment International Limited",
           4,
           12.291231630211888
          ],
          [
           "TRIUMPH PLANET INDUSTRIAL LIMITED",
           4,
           12.291231630211888
          ],
          [
           "SMART WORLD DEVELOPMENT LIMITED",
           5,
           2.971790786723861
          ],
          [
           "GEYSER HOLDINGS LIMITED",
           4,
           4.382440421420677
          ],
          [
           "GLOBAL PEAK HOLDINGS LIMITED",
           4,
           46.37551196366985
          ],
          [
           "BONUS PARTNER DEVELOPMENT LIMITED",
           4,
           46.39155562395693
          ],
          [
           "FULL PEARL ENTERPRISES LIMITED",
           4,
           12.291231630211888
          ],
          [
           "TIGERMOTH INVESTMENTS LTD",
           4,
           0.13051734449760766
          ],
          [
           "PROSPER MARKET ENTERPRISES LIMITED",
           5,
           0
          ],
          [
           "Beckingsdale Limited",
           4,
           0.01604366028708134
          ],
          [
           "Grattanville Limited",
           4,
           0.01604366028708134
          ],
          [
           "ACTIVE GAIN DEVELOPMENT LIMITED",
           5,
           0
          ],
          [
           "VERTICAL PROFIT GROUP LIMITED",
           5,
           4.392966737210151
          ],
          [
           "WIN AGAIN INTERNATIONAL LIMITED",
           5,
           0
          ],
          [
           "OMNI SMART LIMITED",
           4,
           2.9612644709343874
          ],
          [
           "SPREAD WHOLE DEVELOPMENT LIMITED",
           5,
           0
          ],
          [
           "Capital Premiums Ltd",
           4,
           2.9612644709343874
          ],
          [
           "Belgrade Ventures Ltd",
           4,
           0.01604366028708134
          ],
          [
           "NART WAVE ENTERPRISES LIMITED",
           4,
           0.01604366028708134
          ],
          [
           "Ultimate Assets Ltd",
           2,
           0.31480195707519665
          ],
          [
           "Whitfill Capital Ltd",
           2,
           0.31480195707519665
          ],
          [
           "Grand City Group Holding Ltd",
           2,
           0.31480195707519665
          ],
          [
           "Studio B International Ltd",
           2,
           0.31480195707519665
          ],
          [
           "YATSENKO INTERNATIONAL LIMITED",
           3,
           36.524122903155565
          ],
          [
           "Captain Universe Limited",
           3,
           0.4893194755866746
          ],
          [
           "Jupiter Assets Investments Inc.",
           3,
           0.4893194755866746
          ],
          [
           "KCT Investments Inc.",
           2,
           0.31480195707519665
          ],
          [
           "Mega Concepts Group Incorporated",
           2,
           0.31480195707519665
          ],
          [
           "Merlot Pacific Corporation",
           3,
           0.01604366028708134
          ],
          [
           "Sky Investments Worldwide Ltd",
           2,
           0.31480195707519665
          ],
          [
           "Century Cup Limited",
           3,
           0.4893194755866746
          ],
          [
           "SECURE NICHE CORPORATION",
           2,
           0.31480195707519665
          ],
          [
           "ThreeLine Assets Ltd",
           2,
           0.31480195707519665
          ],
          [
           null,
           5,
           17.374242424242425
          ],
          [
           "WESTPAC INVESTMENTS SERVICES LTD",
           3,
           36.5159889318637
          ],
          [
           "Frankston International Ltd",
           2,
           0.31480195707519665
          ],
          [
           "HI-ACE INVESTMENT CORPORATION",
           2,
           0.31480195707519665
          ],
          [
           "MERRICKS HOLDING UNIVERSAL S.A.",
           2,
           0.31480195707519665
          ],
          [
           "GlobalStep Enterprise Ltd",
           3,
           0.4893194755866746
          ],
          [
           "FORTUNE SPREAD INVESTMENT LIMITED",
           4,
           397
          ],
          [
           "Summerfrost Ltd",
           2,
           0.31480195707519665
          ],
          [
           "IP ASSETS MANAGEMENT CORP.",
           3,
           232.6498587792042
          ],
          [
           "Forth Water Corporation",
           2,
           0.31480195707519665
          ],
          [
           "Rafflesia Offshore Worldwide Limited",
           2,
           0.31480195707519665
          ],
          [
           "RegentVilla Worldwide Inc.",
           2,
           0.31480195707519665
          ],
          [
           "International Environmental Management, Inc.",
           4,
           232.6522511237018
          ],
          [
           "The Foliage Worldwide Limited",
           2,
           0.31480195707519665
          ],
          [
           "LUMINA SQUARE LIMITED",
           3,
           0.01604366028708134
          ],
          [
           "City Park Capital Ltd",
           2,
           0.31480195707519665
          ],
          [
           "Red Wonders Pte Limited",
           3,
           0.4893194755866746
          ],
          [
           "POWELL INTERNATIONAL INC.",
           2,
           0.31480195707519665
          ],
          [
           "ROCK MAGMA LIMITED",
           2,
           8.805591611408252
          ],
          [
           "L3 Holdings Ltd",
           2,
           0.31480195707519665
          ],
          [
           "BAWKER LTD",
           2,
           0.31480195707519665
          ],
          [
           "PEARL BRIGHT GROUP LIMITED",
           3,
           36.5159889318637
          ],
          [
           "PalmView Investments Overseas Ltd",
           2,
           0.31480195707519665
          ],
          [
           "Boutique Offshore Limited",
           2,
           0.31480195707519665
          ],
          [
           "Keyes - James Michael",
           0,
           0
          ],
          [
           "Incubus Investments Ltd",
           3,
           0.01604366028708134
          ],
          [
           "Azure Dene Limited",
           2,
           136.00908877306873
          ],
          [
           "KIKI HOLDING (PTC) LIMITED",
           2,
           348.45106536372947
          ],
          [
           "Supreme Arena Limited",
           3,
           0.01604366028708134
          ],
          [
           "IDEAL HOLDING CORPORATION",
           2,
           0.31480195707519665
          ],
          [
           "DRAGON CITY INVESTMENT GROUP LTD",
           2,
           0.31480195707519665
          ],
          [
           "WINNING DREAMS LIMITED",
           3,
           0.01604366028708134
          ],
          [
           "Caribell Enterprises Inc.",
           2,
           17.585036655595854
          ],
          [
           "Asimina Holdings Inc.",
           2,
           0.31480195707519665
          ],
          [
           "Masterlogic Consultancy Inc.",
           3,
           0.01604366028708134
          ],
          [
           "SILVER JUMBO TRADING LIMITED",
           3,
           16.477643190143183
          ],
          [
           "Great Legacy Holdings Ltd",
           2,
           0.31480195707519665
          ],
          [
           "ELEGANCE PROFIT HOLDINGS LIMITED",
           3,
           51.068917790369625
          ],
          [
           "Green Class Capital Ltd",
           2,
           0.31480195707519665
          ],
          [
           "GreenNexus Asset Capital Ltd",
           2,
           0.31480195707519665
          ],
          [
           "Infobytes Ltd",
           2,
           0.31480195707519665
          ],
          [
           "Tri-fold Investments Ltd",
           2,
           0.31480195707519665
          ],
          [
           "Speedworks Holding Group Ltd",
           2,
           0.31480195707519665
          ],
          [
           "Dragon Ltd.",
           1,
           2.2857142857142856
          ],
          [
           "Anglo-Capital Invest Limited",
           3,
           0.01604366028708134
          ],
          [
           "COMPANY DIRECTORS LTD.",
           0,
           0
          ],
          [
           "COMPANY SECRETARIES LTD.",
           0,
           0
          ],
          [
           "Marvel Land Holdings Ltd",
           2,
           0.31480195707519665
          ],
          [
           "Offshore Business Consultant (HK) Ltd.",
           6,
           13.349999999999996
          ],
          [
           "Tangerine Square Limited",
           3,
           0.4893194755866746
          ],
          [
           "Energia Resources International Ltd.",
           2,
           7.855627695068876
          ],
          [
           "Portcullis TrustNet (BVI) Limited",
           185,
           37828.35933430864
          ],
          [
           "Pastel Harvest Limited",
           2,
           11.270374605377217
          ],
          [
           "Bizworks International Ltd",
           1,
           0.09585708686573825
          ],
          [
           "Distinctive Idea Incorporated",
           2,
           11.270374605377217
          ],
          [
           "Global Serve Capital Ltd",
           1,
           0.09585708686573825
          ],
          [
           "Mesmeric Charm Ltd",
           2,
           20.508284933201235
          ],
          [
           "EuroAsia Shipping Services Ltd",
           1,
           0.09585708686573825
          ],
          [
           "AWESOME DRAGON LIMITED",
           2,
           54.79755925537029
          ],
          [
           "Bright City Group Corporation",
           2,
           11.270374605377217
          ],
          [
           "Heritage Pacific Holding Inc.",
           1,
           0.09585708686573825
          ],
          [
           "Inditex International Limited",
           1,
           0.09585708686573825
          ],
          [
           "LEADING-TECH GROUP LIMITED",
           2,
           126.94715862336864
          ],
          [
           "Phoenix Pacific International Investment Ltd",
           1,
           0.09585708686573825
          ],
          [
           "V-ZUAL INTERNATIONAL INC.",
           1,
           0.09585708686573825
          ],
          [
           "Acticorp Limited",
           39,
           2009.9429372597308
          ],
          [
           "Purple Aura Corporation",
           1,
           0.09585708686573825
          ],
          [
           "DBS Corporate Services (HK) Ltd",
           2,
           1.5666666666666667
          ],
          [
           "Silverworks Capital Ventures Inc.",
           1,
           0.09585708686573825
          ],
          [
           "Owen Green Limited",
           1,
           2.022223738446505
          ],
          [
           "Touche Management Ltd",
           1,
           0.09585708686573825
          ],
          [
           "Dragon Power Capital Ltd",
           1,
           0.09585708686573825
          ],
          [
           "MAXHERO INDUSTRIAL LIMITED",
           1,
           15.769831393948891
          ],
          [
           "Gold Mint Offshore Limited",
           1,
           1.4194603789893112
          ],
          [
           "Precise Circle Limited",
           1,
           0.09585708686573825
          ],
          [
           "Wellmade Inc.",
           1,
           2.022223738446505
          ],
          [
           "Roseberg Enterprises Group Ltd",
           1,
           0.09585708686573825
          ],
          [
           "Towering Prestige Inc.",
           1,
           0.09585708686573825
          ],
          [
           "BAYFRONT HOLDINGS GROUP LTD",
           1,
           0.09585708686573825
          ],
          [
           "BEYOND MILLENNIUM CORPORATION",
           2,
           126.94715862336864
          ],
          [
           "Ritz Paragon Limited",
           1,
           0.09585708686573825
          ],
          [
           "Southern Dragon Limited",
           1,
           0.09585708686573825
          ],
          [
           "Awesome Treasures Limited",
           1,
           2.0657368809467287
          ],
          [
           "Ventura Ace Ltd",
           1,
           2.0681292254443364
          ],
          [
           "Indefinite Inspiration Ltd",
           1,
           0.09585708686573825
          ],
          [
           "Terra International Group Ltd",
           1,
           0.09585708686573825
          ],
          [
           "Lariat Holdings Limited",
           1,
           0.09585708686573825
          ],
          [
           "Hotham Holdings Limited",
           1,
           0.09585708686573825
          ],
          [
           "BILLION CONCEPT MANAGEMENT LIMITED",
           1,
           2.022223738446505
          ],
          [
           "PO Box 887 GT; Clifton House; 75 Fort Street; George Town; Grand Cayman; Cayman Islands",
           0,
           0
          ],
          [
           "Ravencrest International Ltd",
           1,
           2.0681292254443364
          ],
          [
           "Blue Pacific Worldwide Inc.",
           1,
           0.09585708686573825
          ],
          [
           "GENIUS ADVANCE INDUSTRIAL LIMITED",
           2,
           87.87504233718329
          ],
          [
           null,
           7,
           54.39945355191258
          ],
          [
           "Constantine Holdings Financial Limited",
           1,
           0.09585708686573825
          ],
          [
           "Goliath Trading Limited",
           1,
           0.09585708686573825
          ],
          [
           "Brilliance Jewels Corporation",
           1,
           2.022223738446505
          ],
          [
           "Portcullis TrustNet (Samoa) Limited",
           0,
           0
          ],
          [
           "Deloitte & Touche-China Practice Group (T040) ????????",
           2,
           4.449999999999999
          ],
          [
           "Quavant Holdings Ltd",
           1,
           0.09585708686573825
          ],
          [
           "Blue Sea Holding Properties Limited",
           1,
           0.09585708686573825
          ],
          [
           "MILLION STARS GROUP LIMITED",
           1,
           14.558148321179383
          ],
          [
           "I Management Services Inc.",
           2,
           20.508284933201235
          ],
          [
           "Sunny Blossom Inc.",
           1,
           0.09585708686573825
          ],
          [
           "KINSUN INTERNATIONAL TRADING COMPANY LIMITED",
           1,
           15.769831393948891
          ],
          [
           "Spring Action Holdings Ltd",
           1,
           3.3893401730703014
          ],
          [
           "Asia Capital Advice Corporation",
           1,
           0.09585708686573825
          ],
          [
           "EXCELLENT OFFSHORE VENTURE INC.",
           1,
           0.09585708686573825
          ],
          [
           "Trustcorp Limited",
           4,
           13.648484848484848
          ],
          [
           "Equity Trust (Samoa) Limited",
           1,
           0
          ],
          [
           null,
           0,
           0
          ],
          [
           "BOUNTI HARVEST CORPORATION",
           1,
           0.09585708686573825
          ],
          [
           "JE-MAI CO. LTD",
           1,
           0.09585708686573825
          ],
          [
           "SUPER LANE TRADING LIMITED",
           1,
           14.558148321179383
          ],
          [
           "Bizlink Network Incorporated",
           1,
           0.09585708686573825
          ],
          [
           "SUMMERVILLE PACIFIC INC.",
           1,
           0.09585708686573825
          ],
          [
           "GOODWIN OFFSHORE GROUP LIMITED",
           1,
           0.09585708686573825
          ],
          [
           "JULEP RETURNS LIMITED",
           1,
           2.0657368809467287
          ],
          [
           "Yellow Dyson Investments Ltd",
           1,
           2.022223738446505
          ],
          [
           "SHARON LAND HOLDINGS LIMITED",
           1,
           2.022223738446505
          ],
          [
           "GRADE ONE LIMITED",
           1,
           0.09585708686573825
          ],
          [
           "Prime Trilogy Limited",
           1,
           0.09585708686573825
          ],
          [
           "Trac Capital Group Ltd",
           2,
           20.508284933201235
          ],
          [
           "AA Cornerstone Ltd",
           1,
           0.09585708686573825
          ],
          [
           "HOLLY MOUNTAIN INC.",
           1,
           1.4194603789893112
          ],
          [
           "STAR TOWER VENTURES INC.",
           1,
           0.09585708686573825
          ],
          [
           "Southern Symphony Ltd",
           1,
           0.09585708686573825
          ],
          [
           "New Heights Capital Ltd",
           1,
           2.022223738446505
          ],
          [
           "PT Wadah Tegar Indonesia Inc.",
           1,
           1.4194603789893112
          ],
          [
           "SEAQUEST TRADING CORPORATION",
           0,
           0
          ],
          [
           "Rosewood & K Asset Management Corp.",
           0,
           0
          ],
          [
           "Purple Hues Services Ltd",
           1,
           2.0681292254443364
          ],
          [
           "Blundell Equities Worldwide Inc.",
           1,
           0.09585708686573825
          ],
          [
           "Barkly International Limited",
           1,
           0.09585708686573825
          ],
          [
           "Tall Poppies Group Limited",
           1,
           0.09585708686573825
          ],
          [
           "EVER PLUS GROUP LIMITED",
           1,
           119.48219686671996
          ],
          [
           "GOLDBUSH DESIGN LIMITED",
           1,
           4.763879012996516
          ],
          [
           "Moon Mist Enterprise Limited",
           1,
           0.09585708686573825
          ],
          [
           "Synthesis Asset Management Ltd",
           1,
           0.09585708686573825
          ],
          [
           "Crossley Hill Corporation",
           1,
           0.09585708686573825
          ],
          [
           "One Alliance Limited",
           1,
           0.09585708686573825
          ],
          [
           "Blue Oasis Group Corporation",
           1,
           0.09585708686573825
          ],
          [
           "City Harbour Investments Ltd",
           1,
           0.09585708686573825
          ],
          [
           "GLOBAL FORD INTERNATIONAL LIMITED",
           0,
           0
          ],
          [
           "Famous Landmark Incorporated",
           1,
           0.09585708686573825
          ],
          [
           "Billington Investments Overseas Ltd",
           1,
           2.0657368809467287
          ],
          [
           "Sihan Commercial Co Ltd",
           1,
           0.09585708686573825
          ],
          [
           "Crowne Park Enterprise Ltd",
           1,
           0.09585708686573825
          ],
          [
           "StarJet Capital Inc.",
           1,
           0.09585708686573825
          ],
          [
           "Prudentia Holding Ltd",
           1,
           0.09585708686573825
          ],
          [
           "World Vision Worldwide Incorporated",
           1,
           0.09585708686573825
          ],
          [
           "MACRO VENTURE HOLDINGS INC.",
           1,
           1.4194603789893112
          ],
          [
           "Red Maple Holdings Limited",
           1,
           0.09585708686573825
          ],
          [
           "Orange Leaf Overseas Ltd",
           1,
           2.022223738446505
          ],
          [
           "AWESOME DRAGON HOLDINGS LIMITED",
           2,
           87.87504233718329
          ],
          [
           "Accenture International Limited",
           1,
           0.09585708686573825
          ],
          [
           "Advantage Business Management Ltd",
           1,
           0.09585708686573825
          ],
          [
           "Sherper Limited",
           2,
           6.4573437315372795
          ],
          [
           "UBS AG (HK)",
           3,
           108.3659277504105
          ],
          [
           "HY Far East International Limited",
           1,
           39.39018148492538
          ],
          [
           "Great Fortune Ventures Ltd",
           1,
           0.09585708686573825
          ],
          [
           "COMFORT BREEZE INTERNATIONAL CO. LTD",
           1,
           0.09585708686573825
          ],
          [
           "Avan Enterprise Ltd",
           1,
           0.09585708686573825
          ],
          [
           "Star Offshore Trading Inc",
           1,
           0.09585708686573825
          ],
          [
           "Rich Century Pte Ltd",
           1,
           0.09585708686573825
          ],
          [
           "JOIN TARGET INDUSTRIAL LIMITED",
           1,
           41.36006127900636
          ],
          [
           "BILLION APEX DEVELOPMENT LIMITED",
           1,
           39.39018148492538
          ],
          [
           "Best of Luck Enterprises Ltd",
           1,
           0.09585708686573825
          ],
          [
           "BIG UNIVERSE GROUP LIMITED",
           1,
           15.769831393948891
          ],
          [
           "Penisula International Ltd",
           1,
           0.09585708686573825
          ],
          [
           "TOP SHIELD FINANCE LIMITED",
           0,
           0
          ],
          [
           "Sentinel Industry Inc.",
           1,
           0.09585708686573825
          ],
          [
           "Dongara Overseas Holding Inc.",
           1,
           0.09585708686573825
          ],
          [
           "Ocean Pines Venture Inc.",
           1,
           2.0681292254443364
          ],
          [
           "Blue Ginger Enterprises Ltd",
           1,
           0.09585708686573825
          ],
          [
           "Fantasy Media Ltd.",
           1,
           0.09585708686573825
          ],
          [
           "Universal Energy and Finance Ltd.",
           1,
           2.022223738446505
          ],
          [
           "COMMERCE SPIRIT LIMITED",
           1,
           14.558148321179383
          ],
          [
           "Commit Ventures Ltd",
           1,
           2.0681292254443364
          ],
          [
           "ZENITHAL POWER LIMITED",
           1,
           2.022223738446505
          ],
          [
           "Whitesands Overseas Inc",
           1,
           0.09585708686573825
          ],
          [
           "Atlantic Worldwide Group Ltd",
           1,
           0.09585708686573825
          ],
          [
           "Metaphor Enterprise Ltd",
           1,
           0.09585708686573825
          ],
          [
           "LUCKY FAITH DEVELOPMENT LIMITED",
           0,
           0
          ],
          [
           "JAD OFFSHORE CO., LTD.",
           1,
           14.558148321179383
          ],
          [
           "TEXTAGEN TRADING LIMITED",
           1,
           0.09585708686573825
          ],
          [
           "Spectacular Results Investment Inc.",
           1,
           0.09585708686573825
          ],
          [
           "Sharecorp Limited",
           58,
           14971.779159847452
          ],
          [
           "Golden Harvest Pte Limited",
           0,
           0
          ],
          [
           "Peach Glow Holding Ltd",
           0,
           0
          ],
          [
           "Dale Wood Universal Ltd",
           0,
           0
          ],
          [
           "Profit Surge International Limited",
           0,
           0
          ],
          [
           "Viviana Pte Ltd",
           0,
           0
          ],
          [
           "Solid Premier Pte Ltd",
           0,
           0
          ],
          [
           "Legacy Power Inc.",
           0,
           0
          ],
          [
           "Red Cherry Worldwide Inc.",
           0,
           0
          ],
          [
           "Richmill Investments Ltd",
           0,
           0
          ],
          [
           "INFINITY WORLDWIDE INVESTMENT INC",
           0,
           0
          ],
          [
           "AxisInvest Corporation",
           0,
           0
          ],
          [
           "Rising Flag Worldwide Ltd",
           0,
           0
          ],
          [
           "MaxWealth Worldwide Services Limited",
           0,
           0
          ],
          [
           "VIRTUAL TECHNOLOGY INTERNATIONAL LIMITED",
           0,
           0
          ],
          [
           "KEEN MARK HOLDINGS LIMITED",
           0,
           0
          ],
          [
           "VENTEX SERVICES LIMITED",
           0,
           0
          ],
          [
           "Elite Achiever International Limited",
           0,
           0
          ],
          [
           "AceFind International Ltd",
           0,
           0
          ],
          [
           "Garrowmont Enterprise Ltd",
           0,
           0
          ],
          [
           "Emerald Heights Universal Limited",
           0,
           0
          ],
          [
           "Apollo Bay Investments Ltd",
           0,
           0
          ],
          [
           "Investment Services Group Inc.",
           0,
           0
          ],
          [
           "Maximar Capital Ventures Inc.",
           0,
           0
          ],
          [
           "Leading-Star Offshore Limited",
           0,
           0
          ],
          [
           "Zion Heights Universal Holdings Ltd",
           0,
           0
          ],
          [
           "Olympus Investment Worldwide Ltd",
           0,
           0
          ],
          [
           "GlassBox Enterprise Ltd",
           0,
           0
          ],
          [
           "SennCapital International Ltd",
           0,
           0
          ],
          [
           "Barracuda Group Corporation",
           0,
           0
          ],
          [
           "Sovereign Hill Investments Ltd",
           0,
           0
          ],
          [
           "Eden Peak Overseas Ltd",
           0,
           0
          ],
          [
           "Quarry Universal Limited",
           0,
           0
          ],
          [
           "KINGUNITED DEVELOPMENT LIMITED",
           0,
           0
          ],
          [
           "Bernique Property Holding Pte Ltd",
           0,
           0
          ],
          [
           "PeakStar Ltd",
           0,
           0
          ],
          [
           "MARADON INVESTMENTS LIMITED",
           0,
           0
          ],
          [
           "Aseanic Securities Overses Inc.",
           0,
           0
          ],
          [
           "SHIVA INVESTMENTS OVERSEAS LIMITED",
           0,
           0
          ],
          [
           "ROCKET GENERATIONS INC.",
           0,
           0
          ],
          [
           "Rosehill Offshore Ltd",
           0,
           0
          ],
          [
           "Rustic Charm Overseas Limited",
           0,
           0
          ],
          [
           "Victory Point Offshore Ltd",
           0,
           0
          ],
          [
           "Sunny Paradise Trading Inc.",
           0,
           0
          ],
          [
           "Xtreme High Returns Inc.",
           0,
           0
          ],
          [
           "DOUBLETON OFFSHORE LIMITED",
           0,
           0
          ],
          [
           "DuoVent Enterprises Ltd",
           0,
           0
          ],
          [
           "NEUWAY VENTURES LIMITED",
           0,
           0
          ],
          [
           "Aavanti Investments Ltd",
           0,
           0
          ],
          [
           "Ganesha Enterprise Ltd",
           0,
           0
          ],
          [
           "YW Capital Limited",
           0,
           0
          ],
          [
           "PAN MERIT GROUP LIMITED",
           0,
           0
          ],
          [
           "R & K Consultants Limited (Taichung)",
           1,
           0
          ],
          [
           "Capital Max Investments Ltd",
           0,
           0
          ],
          [
           "Key Biz Incorporated",
           0,
           0
          ],
          [
           "FOUR CITY VENTURES INC.",
           0,
           0
          ],
          [
           "Asset Based Limited",
           0,
           0
          ],
          [
           "HOPE BASE INDUSTRIAL LIMITED",
           0,
           0
          ],
          [
           "Double Bay Trading Limited",
           0,
           0
          ],
          [
           "Archmony International Ltd",
           0,
           0
          ],
          [
           "Amoco Corporation",
           0,
           0
          ],
          [
           "Peroni Finance Ltd",
           0,
           0
          ],
          [
           "JUNYA LIMITED",
           0,
           0
          ],
          [
           "TOPWORLD REGISTRATIONS LTD.",
           0,
           0
          ],
          [
           "AUDINA TREUHAND AG",
           0,
           0
          ],
          [
           "Jayla Place; Wickhams Cay 1; Road Town; Tortola; British Virgin Islands",
           0,
           0
          ],
          [
           "MOSSACK FONSECA & CO. CZ, S.R.O",
           0,
           0
          ],
          [
           "MOSSACK FONSECA & CO. (SINGAPORE) PTE LTD.",
           0,
           0
          ],
          [
           "OMNI MANAGEMENT CONSULTANCY FZE",
           0,
           0
          ],
          [
           "Standard Directors Ltd.",
           0,
           0
          ],
          [
           "CORPORATE MANAGEMENT SERVICES LIMITED",
           0,
           0
          ],
          [
           "MOSSFON MANAGERS LTD.",
           0,
           0
          ],
          [
           "HORIZON INVESTMENT SA",
           0,
           0
          ],
          [
           "EST SA",
           0,
           0
          ],
          [
           "BOND & COMPANY",
           0,
           0
          ],
          [
           "MOSSACK FONSECA & CO. (THAILAND) LTD.",
           0,
           0
          ],
          [
           "OFFSHORE BUSINESS CONSULTANT (INT'L) LIMITED",
           0,
           0
          ],
          [
           "ORION HOUSE SERVICES (HK) LIMITED",
           0,
           0
          ],
          [
           "PRIME CORPORATE SOLUTIONS SARL",
           0,
           0
          ],
          [
           "RAPID MANAGEMENT SERVICES COMPANY",
           0,
           0
          ],
          [
           "NetIncorp.com Corporation",
           0,
           0
          ],
          [
           "MOSSFON SUBSCRIBERS LTD.",
           0,
           0
          ],
          [
           "MOSSACK FONSECA & CO. (U.K.) LIMITED",
           0,
           0
          ],
          [
           null,
           0,
           0
          ],
          [
           "MOSSACK FONSECA & CO.",
           0,
           0
          ],
          [
           "WANG MIN",
           0,
           0
          ],
          [
           "Unitrust Corporate Services Ltd.",
           0,
           0
          ]
         ],
         "hovertemplate": "x=%{x}<br>y=%{y}<br>name=%{customdata[0]}<br>degree=%{customdata[1]}<br>betweenness=%{customdata[2]}<br>Cluster=%{marker.color}<extra></extra>",
         "legendgroup": "",
         "marker": {
          "color": {
           "bdata": "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",
           "dtype": "i4"
          },
          "coloraxis": "coloraxis",
          "line": {
           "color": "DarkSlateGrey",
           "width": 1
          },
          "size": 8,
          "symbol": "circle"
         },
         "mode": "markers",
         "name": "",
         "orientation": "v",
         "showlegend": false,
         "type": "scatter",
         "x": {
          "bdata": "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",
          "dtype": "f4"
         },
         "xaxis": "x",
         "y": {
          "bdata": "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",
          "dtype": "f4"
         },
         "yaxis": "y"
        }
       ],
       "layout": {
        "coloraxis": {
         "colorbar": {
          "title": {
           "text": "Cluster"
          }
         },
         "colorscale": [
          [
           0,
           "#0d0887"
          ],
          [
           0.1111111111111111,
           "#46039f"
          ],
          [
           0.2222222222222222,
           "#7201a8"
          ],
          [
           0.3333333333333333,
           "#9c179e"
          ],
          [
           0.4444444444444444,
           "#bd3786"
          ],
          [
           0.5555555555555556,
           "#d8576b"
          ],
          [
           0.6666666666666666,
           "#ed7953"
          ],
          [
           0.7777777777777778,
           "#fb9f3a"
          ],
          [
           0.8888888888888888,
           "#fdca26"
          ],
          [
           1,
           "#f0f921"
          ]
         ]
        },
        "legend": {
         "tracegroupgap": 0
        },
        "template": {
         "data": {
          "bar": [
           {
            "error_x": {
             "color": "#2a3f5f"
            },
            "error_y": {
             "color": "#2a3f5f"
            },
            "marker": {
             "line": {
              "color": "#E5ECF6",
              "width": 0.5
             },
             "pattern": {
              "fillmode": "overlay",
              "size": 10,
              "solidity": 0.2
             }
            },
            "type": "bar"
           }
          ],
          "barpolar": [
           {
            "marker": {
             "line": {
              "color": "#E5ECF6",
              "width": 0.5
             },
             "pattern": {
              "fillmode": "overlay",
              "size": 10,
              "solidity": 0.2
             }
            },
            "type": "barpolar"
           }
          ],
          "carpet": [
           {
            "aaxis": {
             "endlinecolor": "#2a3f5f",
             "gridcolor": "white",
             "linecolor": "white",
             "minorgridcolor": "white",
             "startlinecolor": "#2a3f5f"
            },
            "baxis": {
             "endlinecolor": "#2a3f5f",
             "gridcolor": "white",
             "linecolor": "white",
             "minorgridcolor": "white",
             "startlinecolor": "#2a3f5f"
            },
            "type": "carpet"
           }
          ],
          "choropleth": [
           {
            "colorbar": {
             "outlinewidth": 0,
             "ticks": ""
            },
            "type": "choropleth"
           }
          ],
          "contour": [
           {
            "colorbar": {
             "outlinewidth": 0,
             "ticks": ""
            },
            "colorscale": [
             [
              0,
              "#0d0887"
             ],
             [
              0.1111111111111111,
              "#46039f"
             ],
             [
              0.2222222222222222,
              "#7201a8"
             ],
             [
              0.3333333333333333,
              "#9c179e"
             ],
             [
              0.4444444444444444,
              "#bd3786"
             ],
             [
              0.5555555555555556,
              "#d8576b"
             ],
             [
              0.6666666666666666,
              "#ed7953"
             ],
             [
              0.7777777777777778,
              "#fb9f3a"
             ],
             [
              0.8888888888888888,
              "#fdca26"
             ],
             [
              1,
              "#f0f921"
             ]
            ],
            "type": "contour"
           }
          ],
          "contourcarpet": [
           {
            "colorbar": {
             "outlinewidth": 0,
             "ticks": ""
            },
            "type": "contourcarpet"
           }
          ],
          "heatmap": [
           {
            "colorbar": {
             "outlinewidth": 0,
             "ticks": ""
            },
            "colorscale": [
             [
              0,
              "#0d0887"
             ],
             [
              0.1111111111111111,
              "#46039f"
             ],
             [
              0.2222222222222222,
              "#7201a8"
             ],
             [
              0.3333333333333333,
              "#9c179e"
             ],
             [
              0.4444444444444444,
              "#bd3786"
             ],
             [
              0.5555555555555556,
              "#d8576b"
             ],
             [
              0.6666666666666666,
              "#ed7953"
             ],
             [
              0.7777777777777778,
              "#fb9f3a"
             ],
             [
              0.8888888888888888,
              "#fdca26"
             ],
             [
              1,
              "#f0f921"
             ]
            ],
            "type": "heatmap"
           }
          ],
          "histogram": [
           {
            "marker": {
             "pattern": {
              "fillmode": "overlay",
              "size": 10,
              "solidity": 0.2
             }
            },
            "type": "histogram"
           }
          ],
          "histogram2d": [
           {
            "colorbar": {
             "outlinewidth": 0,
             "ticks": ""
            },
            "colorscale": [
             [
              0,
              "#0d0887"
             ],
             [
              0.1111111111111111,
              "#46039f"
             ],
             [
              0.2222222222222222,
              "#7201a8"
             ],
             [
              0.3333333333333333,
              "#9c179e"
             ],
             [
              0.4444444444444444,
              "#bd3786"
             ],
             [
              0.5555555555555556,
              "#d8576b"
             ],
             [
              0.6666666666666666,
              "#ed7953"
             ],
             [
              0.7777777777777778,
              "#fb9f3a"
             ],
             [
              0.8888888888888888,
              "#fdca26"
             ],
             [
              1,
              "#f0f921"
             ]
            ],
            "type": "histogram2d"
           }
          ],
          "histogram2dcontour": [
           {
            "colorbar": {
             "outlinewidth": 0,
             "ticks": ""
            },
            "colorscale": [
             [
              0,
              "#0d0887"
             ],
             [
              0.1111111111111111,
              "#46039f"
             ],
             [
              0.2222222222222222,
              "#7201a8"
             ],
             [
              0.3333333333333333,
              "#9c179e"
             ],
             [
              0.4444444444444444,
              "#bd3786"
             ],
             [
              0.5555555555555556,
              "#d8576b"
             ],
             [
              0.6666666666666666,
              "#ed7953"
             ],
             [
              0.7777777777777778,
              "#fb9f3a"
             ],
             [
              0.8888888888888888,
              "#fdca26"
             ],
             [
              1,
              "#f0f921"
             ]
            ],
            "type": "histogram2dcontour"
           }
          ],
          "mesh3d": [
           {
            "colorbar": {
             "outlinewidth": 0,
             "ticks": ""
            },
            "type": "mesh3d"
           }
          ],
          "parcoords": [
           {
            "line": {
             "colorbar": {
              "outlinewidth": 0,
              "ticks": ""
             }
            },
            "type": "parcoords"
           }
          ],
          "pie": [
           {
            "automargin": true,
            "type": "pie"
           }
          ],
          "scatter": [
           {
            "fillpattern": {
             "fillmode": "overlay",
             "size": 10,
             "solidity": 0.2
            },
            "type": "scatter"
           }
          ],
          "scatter3d": [
           {
            "line": {
             "colorbar": {
              "outlinewidth": 0,
              "ticks": ""
             }
            },
            "marker": {
             "colorbar": {
              "outlinewidth": 0,
              "ticks": ""
             }
            },
            "type": "scatter3d"
           }
          ],
          "scattercarpet": [
           {
            "marker": {
             "colorbar": {
              "outlinewidth": 0,
              "ticks": ""
             }
            },
            "type": "scattercarpet"
           }
          ],
          "scattergeo": [
           {
            "marker": {
             "colorbar": {
              "outlinewidth": 0,
              "ticks": ""
             }
            },
            "type": "scattergeo"
           }
          ],
          "scattergl": [
           {
            "marker": {
             "colorbar": {
              "outlinewidth": 0,
              "ticks": ""
             }
            },
            "type": "scattergl"
           }
          ],
          "scattermap": [
           {
            "marker": {
             "colorbar": {
              "outlinewidth": 0,
              "ticks": ""
             }
            },
            "type": "scattermap"
           }
          ],
          "scattermapbox": [
           {
            "marker": {
             "colorbar": {
              "outlinewidth": 0,
              "ticks": ""
             }
            },
            "type": "scattermapbox"
           }
          ],
          "scatterpolar": [
           {
            "marker": {
             "colorbar": {
              "outlinewidth": 0,
              "ticks": ""
             }
            },
            "type": "scatterpolar"
           }
          ],
          "scatterpolargl": [
           {
            "marker": {
             "colorbar": {
              "outlinewidth": 0,
              "ticks": ""
             }
            },
            "type": "scatterpolargl"
           }
          ],
          "scatterternary": [
           {
            "marker": {
             "colorbar": {
              "outlinewidth": 0,
              "ticks": ""
             }
            },
            "type": "scatterternary"
           }
          ],
          "surface": [
           {
            "colorbar": {
             "outlinewidth": 0,
             "ticks": ""
            },
            "colorscale": [
             [
              0,
              "#0d0887"
             ],
             [
              0.1111111111111111,
              "#46039f"
             ],
             [
              0.2222222222222222,
              "#7201a8"
             ],
             [
              0.3333333333333333,
              "#9c179e"
             ],
             [
              0.4444444444444444,
              "#bd3786"
             ],
             [
              0.5555555555555556,
              "#d8576b"
             ],
             [
              0.6666666666666666,
              "#ed7953"
             ],
             [
              0.7777777777777778,
              "#fb9f3a"
             ],
             [
              0.8888888888888888,
              "#fdca26"
             ],
             [
              1,
              "#f0f921"
             ]
            ],
            "type": "surface"
           }
          ],
          "table": [
           {
            "cells": {
             "fill": {
              "color": "#EBF0F8"
             },
             "line": {
              "color": "white"
             }
            },
            "header": {
             "fill": {
              "color": "#C8D4E3"
             },
             "line": {
              "color": "white"
             }
            },
            "type": "table"
           }
          ]
         },
         "layout": {
          "annotationdefaults": {
           "arrowcolor": "#2a3f5f",
           "arrowhead": 0,
           "arrowwidth": 1
          },
          "autotypenumbers": "strict",
          "coloraxis": {
           "colorbar": {
            "outlinewidth": 0,
            "ticks": ""
           }
          },
          "colorscale": {
           "diverging": [
            [
             0,
             "#8e0152"
            ],
            [
             0.1,
             "#c51b7d"
            ],
            [
             0.2,
             "#de77ae"
            ],
            [
             0.3,
             "#f1b6da"
            ],
            [
             0.4,
             "#fde0ef"
            ],
            [
             0.5,
             "#f7f7f7"
            ],
            [
             0.6,
             "#e6f5d0"
            ],
            [
             0.7,
             "#b8e186"
            ],
            [
             0.8,
             "#7fbc41"
            ],
            [
             0.9,
             "#4d9221"
            ],
            [
             1,
             "#276419"
            ]
           ],
           "sequential": [
            [
             0,
             "#0d0887"
            ],
            [
             0.1111111111111111,
             "#46039f"
            ],
            [
             0.2222222222222222,
             "#7201a8"
            ],
            [
             0.3333333333333333,
             "#9c179e"
            ],
            [
             0.4444444444444444,
             "#bd3786"
            ],
            [
             0.5555555555555556,
             "#d8576b"
            ],
            [
             0.6666666666666666,
             "#ed7953"
            ],
            [
             0.7777777777777778,
             "#fb9f3a"
            ],
            [
             0.8888888888888888,
             "#fdca26"
            ],
            [
             1,
             "#f0f921"
            ]
           ],
           "sequentialminus": [
            [
             0,
             "#0d0887"
            ],
            [
             0.1111111111111111,
             "#46039f"
            ],
            [
             0.2222222222222222,
             "#7201a8"
            ],
            [
             0.3333333333333333,
             "#9c179e"
            ],
            [
             0.4444444444444444,
             "#bd3786"
            ],
            [
             0.5555555555555556,
             "#d8576b"
            ],
            [
             0.6666666666666666,
             "#ed7953"
            ],
            [
             0.7777777777777778,
             "#fb9f3a"
            ],
            [
             0.8888888888888888,
             "#fdca26"
            ],
            [
             1,
             "#f0f921"
            ]
           ]
          },
          "colorway": [
           "#636efa",
           "#EF553B",
           "#00cc96",
           "#ab63fa",
           "#FFA15A",
           "#19d3f3",
           "#FF6692",
           "#B6E880",
           "#FF97FF",
           "#FECB52"
          ],
          "font": {
           "color": "#2a3f5f"
          },
          "geo": {
           "bgcolor": "white",
           "lakecolor": "white",
           "landcolor": "#E5ECF6",
           "showlakes": true,
           "showland": true,
           "subunitcolor": "white"
          },
          "hoverlabel": {
           "align": "left"
          },
          "hovermode": "closest",
          "mapbox": {
           "style": "light"
          },
          "paper_bgcolor": "white",
          "plot_bgcolor": "#E5ECF6",
          "polar": {
           "angularaxis": {
            "gridcolor": "white",
            "linecolor": "white",
            "ticks": ""
           },
           "bgcolor": "#E5ECF6",
           "radialaxis": {
            "gridcolor": "white",
            "linecolor": "white",
            "ticks": ""
           }
          },
          "scene": {
           "xaxis": {
            "backgroundcolor": "#E5ECF6",
            "gridcolor": "white",
            "gridwidth": 2,
            "linecolor": "white",
            "showbackground": true,
            "ticks": "",
            "zerolinecolor": "white"
           },
           "yaxis": {
            "backgroundcolor": "#E5ECF6",
            "gridcolor": "white",
            "gridwidth": 2,
            "linecolor": "white",
            "showbackground": true,
            "ticks": "",
            "zerolinecolor": "white"
           },
           "zaxis": {
            "backgroundcolor": "#E5ECF6",
            "gridcolor": "white",
            "gridwidth": 2,
            "linecolor": "white",
            "showbackground": true,
            "ticks": "",
            "zerolinecolor": "white"
           }
          },
          "shapedefaults": {
           "line": {
            "color": "#2a3f5f"
           }
          },
          "ternary": {
           "aaxis": {
            "gridcolor": "white",
            "linecolor": "white",
            "ticks": ""
           },
           "baxis": {
            "gridcolor": "white",
            "linecolor": "white",
            "ticks": ""
           },
           "bgcolor": "#E5ECF6",
           "caxis": {
            "gridcolor": "white",
            "linecolor": "white",
            "ticks": ""
           }
          },
          "title": {
           "x": 0.05
          },
          "xaxis": {
           "automargin": true,
           "gridcolor": "white",
           "linecolor": "white",
           "ticks": "",
           "title": {
            "standoff": 15
           },
           "zerolinecolor": "white",
           "zerolinewidth": 2
          },
          "yaxis": {
           "automargin": true,
           "gridcolor": "white",
           "linecolor": "white",
           "ticks": "",
           "title": {
            "standoff": 15
           },
           "zerolinecolor": "white",
           "zerolinewidth": 2
          }
         }
        },
        "title": {
         "text": "Visualisation T-SNE des Administrateurs par Similarité Structurelle"
        },
        "xaxis": {
         "anchor": "y",
         "domain": [
          0,
          1
         ],
         "title": {
          "text": "x"
         }
        },
        "yaxis": {
         "anchor": "x",
         "domain": [
          0,
          1
         ],
         "title": {
          "text": "y"
         }
        }
       }
      }
     },
     "metadata": {},
     "output_type": "display_data"
    }
   ],
   "source": [
    "print(\"\\n🎨 VISUALISATION T-SNE DES EMBEDDINGS\")\n",
    "print(\"=\" * 40)\n",
    "\n",
    "if len(embeddings) > 10:\n",
    "    # Réduction de dimension avec t-SNE\n",
    "    tsne = TSNE(n_components=2, random_state=42, perplexity=min(30, len(embeddings)-1))\n",
    "    embeddings_2d = tsne.fit_transform(embedding_matrix)\n",
    "    \n",
    "    # Création du DataFrame pour visualisation\n",
    "    viz_df = pd.DataFrame({\n",
    "        'x': embeddings_2d[:, 0],\n",
    "        'y': embeddings_2d[:, 1],\n",
    "        'cluster': clusters,\n",
    "        'node_id': node_ids\n",
    "    })\n",
    "    \n",
    "    # Fusion avec les données des administrateurs\n",
    "    viz_df = viz_df.merge(officers_df[['id', 'name', 'degree', 'betweenness']], \n",
    "                         left_on='node_id', right_on='id', how='left')\n",
    "    \n",
    "    # Visualisation Plotly\n",
    "    fig = px.scatter(viz_df, x='x', y='y', color='cluster',\n",
    "                     hover_data=['name', 'degree', 'betweenness'],\n",
    "                     title='Visualisation T-SNE des Administrateurs par Similarité Structurelle',\n",
    "                     labels={'cluster': 'Cluster'})\n",
    "    \n",
    "    fig.update_traces(marker=dict(size=8, line=dict(width=1, color='DarkSlateGrey')),\n",
    "                      selector=dict(mode='markers'))\n",
    "    \n",
    "    fig.show()"
   ]
  },
  {
   "cell_type": "code",
   "execution_count": 65,
   "id": "cfd771df",
   "metadata": {},
   "outputs": [],
   "source": [
    "fig.write_html(\n",
    "    r\"C:\\Users\\Ashahi\\Desktop\\Graph\\examen\\notebooks\\graphes_notebook2\\graphe_1.html\",\n",
    "    include_plotlyjs='cdn',\n",
    "    full_html=True\n",
    ")"
   ]
  },
  {
   "cell_type": "markdown",
   "id": "e8fbcde3",
   "metadata": {},
   "source": [
    "Cette visualisation T-SNE montre que les administrateurs se regroupent en **plusieurs clusters distincts**, indiquant des **profils structurels similaires à l’intérieur de chaque groupe** (rôles, positions ou connexions comparables dans le réseau), tandis que la **séparation nette entre les clusters** traduit des **différences marquées de structure ou de fonction** entre ces groupes.\n"
   ]
  },
  {
   "cell_type": "markdown",
   "id": "e3a3e221",
   "metadata": {},
   "source": [
    "## VISUALISATION DU RÉSEAU DES ADMINISTRATEURS"
   ]
  },
  {
   "cell_type": "code",
   "execution_count": 66,
   "id": "28f49976",
   "metadata": {},
   "outputs": [
    {
     "name": "stdout",
     "output_type": "stream",
     "text": [
      "\n",
      "🔥 MATRICE DES CONNEXIONS ENTRE CLUSTERS\n",
      "=============================================\n",
      "🔍 Analyse de 5 clusters\n",
      "✅ 3279 connexions analysées\n",
      "🔗 972 connexions inter-clusters (29.6%)\n"
     ]
    }
   ],
   "source": [
    "print(\"\\n🔥 MATRICE DES CONNEXIONS ENTRE CLUSTERS\")\n",
    "print(\"=\" * 45)\n",
    "\n",
    "# =====================================================\n",
    "# 1️⃣ CALCUL DE LA MATRICE DE CONNEXION\n",
    "# =====================================================\n",
    "\n",
    "# S'assurer que viz_df existe et a les clusters\n",
    "if 'viz_df' not in locals():\n",
    "    print(\"❌ viz_df non trouvé, création depuis les embeddings...\")\n",
    "    # Recréer viz_df si nécessaire (code de votre T-SNE)\n",
    "    embedding_matrix = np.array(list(embeddings.values()))\n",
    "    node_ids = list(embeddings.keys())\n",
    "    \n",
    "    tsne = TSNE(n_components=2, random_state=42, perplexity=min(30, len(embeddings)-1))\n",
    "    embeddings_2d = tsne.fit_transform(embedding_matrix)\n",
    "    \n",
    "    kmeans = KMeans(n_clusters=5, random_state=42)\n",
    "    clusters = kmeans.fit_predict(embedding_matrix)\n",
    "    \n",
    "    viz_df = pd.DataFrame({\n",
    "        'x': embeddings_2d[:, 0],\n",
    "        'y': embeddings_2d[:, 1],\n",
    "        'cluster': clusters,\n",
    "        'node_id': node_ids\n",
    "    }).merge(officers_df[['id', 'name', 'degree', 'betweenness']], \n",
    "             left_on='node_id', right_on='id', how='left')\n",
    "\n",
    "# Obtenir la liste des clusters\n",
    "cluster_ids = sorted(viz_df['cluster'].unique())\n",
    "print(f\"🔍 Analyse de {len(cluster_ids)} clusters\")\n",
    "\n",
    "# Initialiser la matrice de connexion\n",
    "connection_matrix = np.zeros((len(cluster_ids), len(cluster_ids)))\n",
    "\n",
    "# Compter les connexions entre clusters\n",
    "total_connections = 0\n",
    "inter_cluster_connections = 0\n",
    "\n",
    "for edge in G_officers.edges():\n",
    "    node1, node2 = edge\n",
    "    \n",
    "    # Vérifier si les deux nœuds sont dans viz_df\n",
    "    node1_in_viz = node1 in viz_df['node_id'].values\n",
    "    node2_in_viz = node2 in viz_df['node_id'].values\n",
    "    \n",
    "    if node1_in_viz and node2_in_viz:\n",
    "        cluster1 = viz_df[viz_df['node_id'] == node1]['cluster'].iloc[0]\n",
    "        cluster2 = viz_df[viz_df['node_id'] == node2]['cluster'].iloc[0]\n",
    "        \n",
    "        i = cluster_ids.index(cluster1)\n",
    "        j = cluster_ids.index(cluster2)\n",
    "        \n",
    "        connection_matrix[i][j] += 1\n",
    "        total_connections += 1\n",
    "        \n",
    "        if cluster1 != cluster2:\n",
    "            inter_cluster_connections += 1\n",
    "\n",
    "print(f\"✅ {total_connections} connexions analysées\")\n",
    "print(f\"🔗 {inter_cluster_connections} connexions inter-clusters ({inter_cluster_connections/max(1, total_connections)*100:.1f}%)\")\n"
   ]
  },
  {
   "cell_type": "code",
   "execution_count": 67,
   "id": "8921d6a2",
   "metadata": {},
   "outputs": [],
   "source": [
    "# =====================================================\n",
    "# 2️⃣ CRÉATION DE LA MATRICE SYMÉTRIQUE\n",
    "# =====================================================\n",
    "\n",
    "# Rendre la matrice symétrique pour une meilleure visualisation\n",
    "symmetric_matrix = connection_matrix + connection_matrix.T\n",
    "np.fill_diagonal(symmetric_matrix, symmetric_matrix.diagonal() / 2)  # Éviter le double comptage"
   ]
  },
  {
   "cell_type": "code",
   "execution_count": 68,
   "id": "137f258a",
   "metadata": {},
   "outputs": [
    {
     "data": {
      "application/vnd.plotly.v1+json": {
       "config": {
        "plotlyServerURL": "https://plot.ly"
       },
       "data": [
        {
         "colorscale": [
          [
           0,
           "rgb(247,251,255)"
          ],
          [
           0.125,
           "rgb(222,235,247)"
          ],
          [
           0.25,
           "rgb(198,219,239)"
          ],
          [
           0.375,
           "rgb(158,202,225)"
          ],
          [
           0.5,
           "rgb(107,174,214)"
          ],
          [
           0.625,
           "rgb(66,146,198)"
          ],
          [
           0.75,
           "rgb(33,113,181)"
          ],
          [
           0.875,
           "rgb(8,81,156)"
          ],
          [
           1,
           "rgb(8,48,107)"
          ]
         ],
         "hoverongaps": false,
         "hovertemplate": "De: <b>%{y}</b><br>Vers: <b>%{x}</b><br>Connexions: <b>%{z}</b><br><extra></extra>",
         "text": {
          "bdata": "IgAAAAAAAAAGAAAAIwAAAAIAAAAAAAAALwAAAAAAAAAAAAAAAAAAAAYAAAAAAAAA+gAAADcDAAAGAAAAIwAAAAAAAAA3AwAAkwcAAGQAAAACAAAAAAAAAAYAAABkAAAAJQAAAA==",
          "dtype": "i4",
          "shape": "5, 5"
         },
         "textfont": {
          "color": "black",
          "size": 14
         },
         "texttemplate": "%{text}",
         "type": "heatmap",
         "x": [
          "Cluster 0",
          "Cluster 1",
          "Cluster 2",
          "Cluster 3",
          "Cluster 4"
         ],
         "y": [
          "Cluster 0",
          "Cluster 1",
          "Cluster 2",
          "Cluster 3",
          "Cluster 4"
         ],
         "z": {
          "bdata": "AAAAAAAAQUAAAAAAAAAAAAAAAAAAABhAAAAAAACAQUAAAAAAAAAAQAAAAAAAAAAAAAAAAACAR0AAAAAAAAAAAAAAAAAAAAAAAAAAAAAAAAAAAAAAAAAYQAAAAAAAAAAAAAAAAABAb0AAAAAAALiJQAAAAAAAABhAAAAAAACAQUAAAAAAAAAAAAAAAAAAuIlAAAAAAABMnkAAAAAAAABZQAAAAAAAAABAAAAAAAAAAAAAAAAAAAAYQAAAAAAAAFlAAAAAAACAQkA=",
          "dtype": "f8",
          "shape": "5, 5"
         }
        }
       ],
       "layout": {
        "font": {
         "size": 12
        },
        "height": 650,
        "template": {
         "data": {
          "bar": [
           {
            "error_x": {
             "color": "#2a3f5f"
            },
            "error_y": {
             "color": "#2a3f5f"
            },
            "marker": {
             "line": {
              "color": "#E5ECF6",
              "width": 0.5
             },
             "pattern": {
              "fillmode": "overlay",
              "size": 10,
              "solidity": 0.2
             }
            },
            "type": "bar"
           }
          ],
          "barpolar": [
           {
            "marker": {
             "line": {
              "color": "#E5ECF6",
              "width": 0.5
             },
             "pattern": {
              "fillmode": "overlay",
              "size": 10,
              "solidity": 0.2
             }
            },
            "type": "barpolar"
           }
          ],
          "carpet": [
           {
            "aaxis": {
             "endlinecolor": "#2a3f5f",
             "gridcolor": "white",
             "linecolor": "white",
             "minorgridcolor": "white",
             "startlinecolor": "#2a3f5f"
            },
            "baxis": {
             "endlinecolor": "#2a3f5f",
             "gridcolor": "white",
             "linecolor": "white",
             "minorgridcolor": "white",
             "startlinecolor": "#2a3f5f"
            },
            "type": "carpet"
           }
          ],
          "choropleth": [
           {
            "colorbar": {
             "outlinewidth": 0,
             "ticks": ""
            },
            "type": "choropleth"
           }
          ],
          "contour": [
           {
            "colorbar": {
             "outlinewidth": 0,
             "ticks": ""
            },
            "colorscale": [
             [
              0,
              "#0d0887"
             ],
             [
              0.1111111111111111,
              "#46039f"
             ],
             [
              0.2222222222222222,
              "#7201a8"
             ],
             [
              0.3333333333333333,
              "#9c179e"
             ],
             [
              0.4444444444444444,
              "#bd3786"
             ],
             [
              0.5555555555555556,
              "#d8576b"
             ],
             [
              0.6666666666666666,
              "#ed7953"
             ],
             [
              0.7777777777777778,
              "#fb9f3a"
             ],
             [
              0.8888888888888888,
              "#fdca26"
             ],
             [
              1,
              "#f0f921"
             ]
            ],
            "type": "contour"
           }
          ],
          "contourcarpet": [
           {
            "colorbar": {
             "outlinewidth": 0,
             "ticks": ""
            },
            "type": "contourcarpet"
           }
          ],
          "heatmap": [
           {
            "colorbar": {
             "outlinewidth": 0,
             "ticks": ""
            },
            "colorscale": [
             [
              0,
              "#0d0887"
             ],
             [
              0.1111111111111111,
              "#46039f"
             ],
             [
              0.2222222222222222,
              "#7201a8"
             ],
             [
              0.3333333333333333,
              "#9c179e"
             ],
             [
              0.4444444444444444,
              "#bd3786"
             ],
             [
              0.5555555555555556,
              "#d8576b"
             ],
             [
              0.6666666666666666,
              "#ed7953"
             ],
             [
              0.7777777777777778,
              "#fb9f3a"
             ],
             [
              0.8888888888888888,
              "#fdca26"
             ],
             [
              1,
              "#f0f921"
             ]
            ],
            "type": "heatmap"
           }
          ],
          "histogram": [
           {
            "marker": {
             "pattern": {
              "fillmode": "overlay",
              "size": 10,
              "solidity": 0.2
             }
            },
            "type": "histogram"
           }
          ],
          "histogram2d": [
           {
            "colorbar": {
             "outlinewidth": 0,
             "ticks": ""
            },
            "colorscale": [
             [
              0,
              "#0d0887"
             ],
             [
              0.1111111111111111,
              "#46039f"
             ],
             [
              0.2222222222222222,
              "#7201a8"
             ],
             [
              0.3333333333333333,
              "#9c179e"
             ],
             [
              0.4444444444444444,
              "#bd3786"
             ],
             [
              0.5555555555555556,
              "#d8576b"
             ],
             [
              0.6666666666666666,
              "#ed7953"
             ],
             [
              0.7777777777777778,
              "#fb9f3a"
             ],
             [
              0.8888888888888888,
              "#fdca26"
             ],
             [
              1,
              "#f0f921"
             ]
            ],
            "type": "histogram2d"
           }
          ],
          "histogram2dcontour": [
           {
            "colorbar": {
             "outlinewidth": 0,
             "ticks": ""
            },
            "colorscale": [
             [
              0,
              "#0d0887"
             ],
             [
              0.1111111111111111,
              "#46039f"
             ],
             [
              0.2222222222222222,
              "#7201a8"
             ],
             [
              0.3333333333333333,
              "#9c179e"
             ],
             [
              0.4444444444444444,
              "#bd3786"
             ],
             [
              0.5555555555555556,
              "#d8576b"
             ],
             [
              0.6666666666666666,
              "#ed7953"
             ],
             [
              0.7777777777777778,
              "#fb9f3a"
             ],
             [
              0.8888888888888888,
              "#fdca26"
             ],
             [
              1,
              "#f0f921"
             ]
            ],
            "type": "histogram2dcontour"
           }
          ],
          "mesh3d": [
           {
            "colorbar": {
             "outlinewidth": 0,
             "ticks": ""
            },
            "type": "mesh3d"
           }
          ],
          "parcoords": [
           {
            "line": {
             "colorbar": {
              "outlinewidth": 0,
              "ticks": ""
             }
            },
            "type": "parcoords"
           }
          ],
          "pie": [
           {
            "automargin": true,
            "type": "pie"
           }
          ],
          "scatter": [
           {
            "fillpattern": {
             "fillmode": "overlay",
             "size": 10,
             "solidity": 0.2
            },
            "type": "scatter"
           }
          ],
          "scatter3d": [
           {
            "line": {
             "colorbar": {
              "outlinewidth": 0,
              "ticks": ""
             }
            },
            "marker": {
             "colorbar": {
              "outlinewidth": 0,
              "ticks": ""
             }
            },
            "type": "scatter3d"
           }
          ],
          "scattercarpet": [
           {
            "marker": {
             "colorbar": {
              "outlinewidth": 0,
              "ticks": ""
             }
            },
            "type": "scattercarpet"
           }
          ],
          "scattergeo": [
           {
            "marker": {
             "colorbar": {
              "outlinewidth": 0,
              "ticks": ""
             }
            },
            "type": "scattergeo"
           }
          ],
          "scattergl": [
           {
            "marker": {
             "colorbar": {
              "outlinewidth": 0,
              "ticks": ""
             }
            },
            "type": "scattergl"
           }
          ],
          "scattermap": [
           {
            "marker": {
             "colorbar": {
              "outlinewidth": 0,
              "ticks": ""
             }
            },
            "type": "scattermap"
           }
          ],
          "scattermapbox": [
           {
            "marker": {
             "colorbar": {
              "outlinewidth": 0,
              "ticks": ""
             }
            },
            "type": "scattermapbox"
           }
          ],
          "scatterpolar": [
           {
            "marker": {
             "colorbar": {
              "outlinewidth": 0,
              "ticks": ""
             }
            },
            "type": "scatterpolar"
           }
          ],
          "scatterpolargl": [
           {
            "marker": {
             "colorbar": {
              "outlinewidth": 0,
              "ticks": ""
             }
            },
            "type": "scatterpolargl"
           }
          ],
          "scatterternary": [
           {
            "marker": {
             "colorbar": {
              "outlinewidth": 0,
              "ticks": ""
             }
            },
            "type": "scatterternary"
           }
          ],
          "surface": [
           {
            "colorbar": {
             "outlinewidth": 0,
             "ticks": ""
            },
            "colorscale": [
             [
              0,
              "#0d0887"
             ],
             [
              0.1111111111111111,
              "#46039f"
             ],
             [
              0.2222222222222222,
              "#7201a8"
             ],
             [
              0.3333333333333333,
              "#9c179e"
             ],
             [
              0.4444444444444444,
              "#bd3786"
             ],
             [
              0.5555555555555556,
              "#d8576b"
             ],
             [
              0.6666666666666666,
              "#ed7953"
             ],
             [
              0.7777777777777778,
              "#fb9f3a"
             ],
             [
              0.8888888888888888,
              "#fdca26"
             ],
             [
              1,
              "#f0f921"
             ]
            ],
            "type": "surface"
           }
          ],
          "table": [
           {
            "cells": {
             "fill": {
              "color": "#EBF0F8"
             },
             "line": {
              "color": "white"
             }
            },
            "header": {
             "fill": {
              "color": "#C8D4E3"
             },
             "line": {
              "color": "white"
             }
            },
            "type": "table"
           }
          ]
         },
         "layout": {
          "annotationdefaults": {
           "arrowcolor": "#2a3f5f",
           "arrowhead": 0,
           "arrowwidth": 1
          },
          "autotypenumbers": "strict",
          "coloraxis": {
           "colorbar": {
            "outlinewidth": 0,
            "ticks": ""
           }
          },
          "colorscale": {
           "diverging": [
            [
             0,
             "#8e0152"
            ],
            [
             0.1,
             "#c51b7d"
            ],
            [
             0.2,
             "#de77ae"
            ],
            [
             0.3,
             "#f1b6da"
            ],
            [
             0.4,
             "#fde0ef"
            ],
            [
             0.5,
             "#f7f7f7"
            ],
            [
             0.6,
             "#e6f5d0"
            ],
            [
             0.7,
             "#b8e186"
            ],
            [
             0.8,
             "#7fbc41"
            ],
            [
             0.9,
             "#4d9221"
            ],
            [
             1,
             "#276419"
            ]
           ],
           "sequential": [
            [
             0,
             "#0d0887"
            ],
            [
             0.1111111111111111,
             "#46039f"
            ],
            [
             0.2222222222222222,
             "#7201a8"
            ],
            [
             0.3333333333333333,
             "#9c179e"
            ],
            [
             0.4444444444444444,
             "#bd3786"
            ],
            [
             0.5555555555555556,
             "#d8576b"
            ],
            [
             0.6666666666666666,
             "#ed7953"
            ],
            [
             0.7777777777777778,
             "#fb9f3a"
            ],
            [
             0.8888888888888888,
             "#fdca26"
            ],
            [
             1,
             "#f0f921"
            ]
           ],
           "sequentialminus": [
            [
             0,
             "#0d0887"
            ],
            [
             0.1111111111111111,
             "#46039f"
            ],
            [
             0.2222222222222222,
             "#7201a8"
            ],
            [
             0.3333333333333333,
             "#9c179e"
            ],
            [
             0.4444444444444444,
             "#bd3786"
            ],
            [
             0.5555555555555556,
             "#d8576b"
            ],
            [
             0.6666666666666666,
             "#ed7953"
            ],
            [
             0.7777777777777778,
             "#fb9f3a"
            ],
            [
             0.8888888888888888,
             "#fdca26"
            ],
            [
             1,
             "#f0f921"
            ]
           ]
          },
          "colorway": [
           "#636efa",
           "#EF553B",
           "#00cc96",
           "#ab63fa",
           "#FFA15A",
           "#19d3f3",
           "#FF6692",
           "#B6E880",
           "#FF97FF",
           "#FECB52"
          ],
          "font": {
           "color": "#2a3f5f"
          },
          "geo": {
           "bgcolor": "white",
           "lakecolor": "white",
           "landcolor": "#E5ECF6",
           "showlakes": true,
           "showland": true,
           "subunitcolor": "white"
          },
          "hoverlabel": {
           "align": "left"
          },
          "hovermode": "closest",
          "mapbox": {
           "style": "light"
          },
          "paper_bgcolor": "white",
          "plot_bgcolor": "#E5ECF6",
          "polar": {
           "angularaxis": {
            "gridcolor": "white",
            "linecolor": "white",
            "ticks": ""
           },
           "bgcolor": "#E5ECF6",
           "radialaxis": {
            "gridcolor": "white",
            "linecolor": "white",
            "ticks": ""
           }
          },
          "scene": {
           "xaxis": {
            "backgroundcolor": "#E5ECF6",
            "gridcolor": "white",
            "gridwidth": 2,
            "linecolor": "white",
            "showbackground": true,
            "ticks": "",
            "zerolinecolor": "white"
           },
           "yaxis": {
            "backgroundcolor": "#E5ECF6",
            "gridcolor": "white",
            "gridwidth": 2,
            "linecolor": "white",
            "showbackground": true,
            "ticks": "",
            "zerolinecolor": "white"
           },
           "zaxis": {
            "backgroundcolor": "#E5ECF6",
            "gridcolor": "white",
            "gridwidth": 2,
            "linecolor": "white",
            "showbackground": true,
            "ticks": "",
            "zerolinecolor": "white"
           }
          },
          "shapedefaults": {
           "line": {
            "color": "#2a3f5f"
           }
          },
          "ternary": {
           "aaxis": {
            "gridcolor": "white",
            "linecolor": "white",
            "ticks": ""
           },
           "baxis": {
            "gridcolor": "white",
            "linecolor": "white",
            "ticks": ""
           },
           "bgcolor": "#E5ECF6",
           "caxis": {
            "gridcolor": "white",
            "linecolor": "white",
            "ticks": ""
           }
          },
          "title": {
           "x": 0.05
          },
          "xaxis": {
           "automargin": true,
           "gridcolor": "white",
           "linecolor": "white",
           "ticks": "",
           "title": {
            "standoff": 15
           },
           "zerolinecolor": "white",
           "zerolinewidth": 2
          },
          "yaxis": {
           "automargin": true,
           "gridcolor": "white",
           "linecolor": "white",
           "ticks": "",
           "title": {
            "standoff": 15
           },
           "zerolinecolor": "white",
           "zerolinewidth": 2
          }
         }
        },
        "title": {
         "text": "🔗 MATRICE DES CONNEXIONS ENTRE CLUSTERS<br><span style='font-size:12px; color:#666'>Nombre de liens entre les clusters d'administrateurs</span>"
        },
        "width": 700,
        "xaxis": {
         "title": {
          "text": "Cluster cible"
         }
        },
        "yaxis": {
         "title": {
          "text": "Cluster source"
         }
        }
       }
      }
     },
     "metadata": {},
     "output_type": "display_data"
    }
   ],
   "source": [
    "# =====================================================\n",
    "# 3️⃣ VISUALISATION HEATMAP AVANCÉE\n",
    "# =====================================================\n",
    "\n",
    "fig_heatmap = go.Figure(data=go.Heatmap(\n",
    "    z=symmetric_matrix,\n",
    "    x=[f'Cluster {c}' for c in cluster_ids],\n",
    "    y=[f'Cluster {c}' for c in cluster_ids],\n",
    "    colorscale='Blues',\n",
    "    hoverongaps=False,\n",
    "    text=symmetric_matrix.astype(int),\n",
    "    texttemplate=\"%{text}\",\n",
    "    textfont={\"size\": 14, \"color\": \"black\"},\n",
    "    hovertemplate=(\n",
    "        \"De: <b>%{y}</b><br>\"\n",
    "        \"Vers: <b>%{x}</b><br>\"\n",
    "        \"Connexions: <b>%{z}</b><br>\"\n",
    "        \"<extra></extra>\"\n",
    "    )\n",
    "))\n",
    "\n",
    "fig_heatmap.update_layout(\n",
    "    title=\"🔗 MATRICE DES CONNEXIONS ENTRE CLUSTERS<br>\"\n",
    "          \"<span style='font-size:12px; color:#666'>Nombre de liens entre les clusters d'administrateurs</span>\",\n",
    "    width=700,\n",
    "    height=650,\n",
    "    xaxis=dict(title=\"Cluster cible\"),\n",
    "    yaxis=dict(title=\"Cluster source\"),\n",
    "    font=dict(size=12)\n",
    ")\n",
    "\n",
    "fig_heatmap.show()\n"
   ]
  },
  {
   "cell_type": "code",
   "execution_count": 69,
   "id": "b21b973a",
   "metadata": {},
   "outputs": [],
   "source": [
    "fig.write_html(\n",
    "    r\"C:\\Users\\Ashahi\\Desktop\\Graph\\examen\\notebooks\\graphes_notebook2\\graphe_2.html\",\n",
    "    include_plotlyjs='cdn',\n",
    "    full_html=True\n",
    ")"
   ]
  },
  {
   "cell_type": "code",
   "execution_count": 70,
   "id": "8cb442b4",
   "metadata": {},
   "outputs": [
    {
     "name": "stdout",
     "output_type": "stream",
     "text": [
      "\n",
      "📊 ANALYSE DE LA MATRICE DE CONNEXION:\n",
      "• Cluster le plus connecté vers l'extérieur: Cluster 3 (958 liens)\n",
      "• Cluster le plus connecté depuis l'extérieur: Cluster 3 (958 liens)\n",
      "• Densité des connexions inter-clusters: 97.200\n"
     ]
    }
   ],
   "source": [
    "# =====================================================\n",
    "# 4️⃣ ANALYSE DES RÉSULTATS\n",
    "# =====================================================\n",
    "\n",
    "print(f\"\\n📊 ANALYSE DE LA MATRICE DE CONNEXION:\")\n",
    "\n",
    "# Cluster le plus connecté vers l'extérieur\n",
    "outgoing_connections = symmetric_matrix.sum(axis=1) - np.diag(symmetric_matrix)\n",
    "most_connected_out = cluster_ids[np.argmax(outgoing_connections)]\n",
    "print(f\"• Cluster le plus connecté vers l'extérieur: Cluster {most_connected_out} ({outgoing_connections.max():.0f} liens)\")\n",
    "\n",
    "# Cluster le plus connecté depuis l'extérieur  \n",
    "incoming_connections = symmetric_matrix.sum(axis=0) - np.diag(symmetric_matrix)\n",
    "most_connected_in = cluster_ids[np.argmax(incoming_connections)]\n",
    "print(f\"• Cluster le plus connecté depuis l'extérieur: Cluster {most_connected_in} ({incoming_connections.max():.0f} liens)\")\n",
    "\n",
    "# Densité des connexions inter-clusters\n",
    "total_possible_inter = len(cluster_ids) * (len(cluster_ids) - 1)\n",
    "actual_inter = np.sum(symmetric_matrix) - np.sum(np.diag(symmetric_matrix))\n",
    "inter_cluster_density = actual_inter / total_possible_inter if total_possible_inter > 0 else 0\n",
    "print(f\"• Densité des connexions inter-clusters: {inter_cluster_density:.3f}\")"
   ]
  },
  {
   "cell_type": "code",
   "execution_count": 71,
   "id": "6aebdbca",
   "metadata": {},
   "outputs": [
    {
     "name": "stdout",
     "output_type": "stream",
     "text": [
      "\n",
      "🔄 GRAPHE DES CONNEXIONS ENTRE CLUSTERS:\n",
      "========================================\n"
     ]
    },
    {
     "data": {
      "application/vnd.plotly.v1+json": {
       "config": {
        "plotlyServerURL": "https://plot.ly"
       },
       "data": [
        {
         "hoverinfo": "none",
         "mode": "text",
         "showlegend": false,
         "text": [
          "6"
         ],
         "textfont": {
          "color": "red",
          "size": 12
         },
         "type": "scatter",
         "x": [
          -0.28082484277985154
         ],
         "y": [
          0.014390980812031336
         ]
        },
        {
         "hoverinfo": "none",
         "mode": "text",
         "showlegend": false,
         "text": [
          "35"
         ],
         "textfont": {
          "color": "red",
          "size": 12
         },
         "type": "scatter",
         "x": [
          -0.2798578847565627
         ],
         "y": [
          0.0011891290777618071
         ]
        },
        {
         "hoverinfo": "none",
         "mode": "text",
         "showlegend": false,
         "text": [
          "2"
         ],
         "textfont": {
          "color": "red",
          "size": 12
         },
         "type": "scatter",
         "x": [
          -0.2581356121197398
         ],
         "y": [
          -0.015358161203108671
         ]
        },
        {
         "hoverinfo": "none",
         "mode": "text",
         "showlegend": false,
         "text": [
          "823"
         ],
         "textfont": {
          "color": "red",
          "size": 12
         },
         "type": "scatter",
         "x": [
          -0.24186438788026013
         ],
         "y": [
          0.024130274417268303
         ]
        },
        {
         "hoverinfo": "none",
         "mode": "text",
         "showlegend": false,
         "text": [
          "6"
         ],
         "textfont": {
          "color": "red",
          "size": 12
         },
         "type": "scatter",
         "x": [
          -0.22014211524343724
         ],
         "y": [
          0.007582984136397823
         ]
        },
        {
         "hoverinfo": "none",
         "mode": "text",
         "showlegend": false,
         "text": [
          "100"
         ],
         "textfont": {
          "color": "red",
          "size": 12
         },
         "type": "scatter",
         "x": [
          -0.2191751572201484
         ],
         "y": [
          -0.005618867597871707
         ]
        },
        {
         "hoverinfo": "none",
         "line": {
          "color": "gray",
          "width": 2
         },
         "mode": "lines",
         "showlegend": false,
         "type": "scatter",
         "x": [
          -0.3188183396561541,
          -0.24283134590354896,
          null,
          -0.3188183396561541,
          -0.2408974298569713,
          null,
          -0.3188183396561541,
          -0.1974528845833255,
          null,
          -0.24283134590354896,
          -0.2408974298569713,
          null,
          -0.24283134590354896,
          -0.1974528845833255,
          null,
          -0.2408974298569713,
          -0.1974528845833255,
          null
         ],
         "y": [
          -0.008550164527475158,
          0.03733212615153783,
          null,
          -0.008550164527475158,
          0.010928422682998772,
          null,
          -0.008550164527475158,
          -0.022166157878742185,
          null,
          0.03733212615153783,
          0.010928422682998772,
          null,
          0.03733212615153783,
          -0.022166157878742185,
          null,
          0.010928422682998772,
          -0.022166157878742185,
          null
         ]
        },
        {
         "hoverinfo": "text",
         "hovertext": [
          "Cluster 0<br>20 membres",
          "Cluster 1<br>20 membres",
          "Cluster 2<br>208 membres",
          "Cluster 3<br>422 membres",
          "Cluster 4<br>30 membres"
         ],
         "marker": {
          "color": [
           0,
           1,
           2,
           3,
           4
          ],
          "colorscale": [
           [
            0,
            "#440154"
           ],
           [
            0.1111111111111111,
            "#482878"
           ],
           [
            0.2222222222222222,
            "#3e4989"
           ],
           [
            0.3333333333333333,
            "#31688e"
           ],
           [
            0.4444444444444444,
            "#26828e"
           ],
           [
            0.5555555555555556,
            "#1f9e89"
           ],
           [
            0.6666666666666666,
            "#35b779"
           ],
           [
            0.7777777777777778,
            "#6ece58"
           ],
           [
            0.8888888888888888,
            "#b5de2b"
           ],
           [
            1,
            "#fde725"
           ]
          ],
          "line": {
           "color": "white",
           "width": 2
          },
          "size": [
           60,
           60,
           436,
           864,
           80
          ]
         },
         "mode": "markers+text",
         "showlegend": false,
         "text": [
          "Cluster 0",
          "Cluster 1",
          "Cluster 2",
          "Cluster 3",
          "Cluster 4"
         ],
         "textposition": "middle center",
         "type": "scatter",
         "x": [
          -0.3188183396561541,
          1,
          -0.24283134590354896,
          -0.2408974298569713,
          -0.1974528845833255
         ],
         "y": [
          -0.008550164527475158,
          -0.017544226428319366,
          0.03733212615153783,
          0.010928422682998772,
          -0.022166157878742185
         ]
        }
       ],
       "layout": {
        "height": 600,
        "showlegend": false,
        "template": {
         "data": {
          "bar": [
           {
            "error_x": {
             "color": "#2a3f5f"
            },
            "error_y": {
             "color": "#2a3f5f"
            },
            "marker": {
             "line": {
              "color": "#E5ECF6",
              "width": 0.5
             },
             "pattern": {
              "fillmode": "overlay",
              "size": 10,
              "solidity": 0.2
             }
            },
            "type": "bar"
           }
          ],
          "barpolar": [
           {
            "marker": {
             "line": {
              "color": "#E5ECF6",
              "width": 0.5
             },
             "pattern": {
              "fillmode": "overlay",
              "size": 10,
              "solidity": 0.2
             }
            },
            "type": "barpolar"
           }
          ],
          "carpet": [
           {
            "aaxis": {
             "endlinecolor": "#2a3f5f",
             "gridcolor": "white",
             "linecolor": "white",
             "minorgridcolor": "white",
             "startlinecolor": "#2a3f5f"
            },
            "baxis": {
             "endlinecolor": "#2a3f5f",
             "gridcolor": "white",
             "linecolor": "white",
             "minorgridcolor": "white",
             "startlinecolor": "#2a3f5f"
            },
            "type": "carpet"
           }
          ],
          "choropleth": [
           {
            "colorbar": {
             "outlinewidth": 0,
             "ticks": ""
            },
            "type": "choropleth"
           }
          ],
          "contour": [
           {
            "colorbar": {
             "outlinewidth": 0,
             "ticks": ""
            },
            "colorscale": [
             [
              0,
              "#0d0887"
             ],
             [
              0.1111111111111111,
              "#46039f"
             ],
             [
              0.2222222222222222,
              "#7201a8"
             ],
             [
              0.3333333333333333,
              "#9c179e"
             ],
             [
              0.4444444444444444,
              "#bd3786"
             ],
             [
              0.5555555555555556,
              "#d8576b"
             ],
             [
              0.6666666666666666,
              "#ed7953"
             ],
             [
              0.7777777777777778,
              "#fb9f3a"
             ],
             [
              0.8888888888888888,
              "#fdca26"
             ],
             [
              1,
              "#f0f921"
             ]
            ],
            "type": "contour"
           }
          ],
          "contourcarpet": [
           {
            "colorbar": {
             "outlinewidth": 0,
             "ticks": ""
            },
            "type": "contourcarpet"
           }
          ],
          "heatmap": [
           {
            "colorbar": {
             "outlinewidth": 0,
             "ticks": ""
            },
            "colorscale": [
             [
              0,
              "#0d0887"
             ],
             [
              0.1111111111111111,
              "#46039f"
             ],
             [
              0.2222222222222222,
              "#7201a8"
             ],
             [
              0.3333333333333333,
              "#9c179e"
             ],
             [
              0.4444444444444444,
              "#bd3786"
             ],
             [
              0.5555555555555556,
              "#d8576b"
             ],
             [
              0.6666666666666666,
              "#ed7953"
             ],
             [
              0.7777777777777778,
              "#fb9f3a"
             ],
             [
              0.8888888888888888,
              "#fdca26"
             ],
             [
              1,
              "#f0f921"
             ]
            ],
            "type": "heatmap"
           }
          ],
          "histogram": [
           {
            "marker": {
             "pattern": {
              "fillmode": "overlay",
              "size": 10,
              "solidity": 0.2
             }
            },
            "type": "histogram"
           }
          ],
          "histogram2d": [
           {
            "colorbar": {
             "outlinewidth": 0,
             "ticks": ""
            },
            "colorscale": [
             [
              0,
              "#0d0887"
             ],
             [
              0.1111111111111111,
              "#46039f"
             ],
             [
              0.2222222222222222,
              "#7201a8"
             ],
             [
              0.3333333333333333,
              "#9c179e"
             ],
             [
              0.4444444444444444,
              "#bd3786"
             ],
             [
              0.5555555555555556,
              "#d8576b"
             ],
             [
              0.6666666666666666,
              "#ed7953"
             ],
             [
              0.7777777777777778,
              "#fb9f3a"
             ],
             [
              0.8888888888888888,
              "#fdca26"
             ],
             [
              1,
              "#f0f921"
             ]
            ],
            "type": "histogram2d"
           }
          ],
          "histogram2dcontour": [
           {
            "colorbar": {
             "outlinewidth": 0,
             "ticks": ""
            },
            "colorscale": [
             [
              0,
              "#0d0887"
             ],
             [
              0.1111111111111111,
              "#46039f"
             ],
             [
              0.2222222222222222,
              "#7201a8"
             ],
             [
              0.3333333333333333,
              "#9c179e"
             ],
             [
              0.4444444444444444,
              "#bd3786"
             ],
             [
              0.5555555555555556,
              "#d8576b"
             ],
             [
              0.6666666666666666,
              "#ed7953"
             ],
             [
              0.7777777777777778,
              "#fb9f3a"
             ],
             [
              0.8888888888888888,
              "#fdca26"
             ],
             [
              1,
              "#f0f921"
             ]
            ],
            "type": "histogram2dcontour"
           }
          ],
          "mesh3d": [
           {
            "colorbar": {
             "outlinewidth": 0,
             "ticks": ""
            },
            "type": "mesh3d"
           }
          ],
          "parcoords": [
           {
            "line": {
             "colorbar": {
              "outlinewidth": 0,
              "ticks": ""
             }
            },
            "type": "parcoords"
           }
          ],
          "pie": [
           {
            "automargin": true,
            "type": "pie"
           }
          ],
          "scatter": [
           {
            "fillpattern": {
             "fillmode": "overlay",
             "size": 10,
             "solidity": 0.2
            },
            "type": "scatter"
           }
          ],
          "scatter3d": [
           {
            "line": {
             "colorbar": {
              "outlinewidth": 0,
              "ticks": ""
             }
            },
            "marker": {
             "colorbar": {
              "outlinewidth": 0,
              "ticks": ""
             }
            },
            "type": "scatter3d"
           }
          ],
          "scattercarpet": [
           {
            "marker": {
             "colorbar": {
              "outlinewidth": 0,
              "ticks": ""
             }
            },
            "type": "scattercarpet"
           }
          ],
          "scattergeo": [
           {
            "marker": {
             "colorbar": {
              "outlinewidth": 0,
              "ticks": ""
             }
            },
            "type": "scattergeo"
           }
          ],
          "scattergl": [
           {
            "marker": {
             "colorbar": {
              "outlinewidth": 0,
              "ticks": ""
             }
            },
            "type": "scattergl"
           }
          ],
          "scattermap": [
           {
            "marker": {
             "colorbar": {
              "outlinewidth": 0,
              "ticks": ""
             }
            },
            "type": "scattermap"
           }
          ],
          "scattermapbox": [
           {
            "marker": {
             "colorbar": {
              "outlinewidth": 0,
              "ticks": ""
             }
            },
            "type": "scattermapbox"
           }
          ],
          "scatterpolar": [
           {
            "marker": {
             "colorbar": {
              "outlinewidth": 0,
              "ticks": ""
             }
            },
            "type": "scatterpolar"
           }
          ],
          "scatterpolargl": [
           {
            "marker": {
             "colorbar": {
              "outlinewidth": 0,
              "ticks": ""
             }
            },
            "type": "scatterpolargl"
           }
          ],
          "scatterternary": [
           {
            "marker": {
             "colorbar": {
              "outlinewidth": 0,
              "ticks": ""
             }
            },
            "type": "scatterternary"
           }
          ],
          "surface": [
           {
            "colorbar": {
             "outlinewidth": 0,
             "ticks": ""
            },
            "colorscale": [
             [
              0,
              "#0d0887"
             ],
             [
              0.1111111111111111,
              "#46039f"
             ],
             [
              0.2222222222222222,
              "#7201a8"
             ],
             [
              0.3333333333333333,
              "#9c179e"
             ],
             [
              0.4444444444444444,
              "#bd3786"
             ],
             [
              0.5555555555555556,
              "#d8576b"
             ],
             [
              0.6666666666666666,
              "#ed7953"
             ],
             [
              0.7777777777777778,
              "#fb9f3a"
             ],
             [
              0.8888888888888888,
              "#fdca26"
             ],
             [
              1,
              "#f0f921"
             ]
            ],
            "type": "surface"
           }
          ],
          "table": [
           {
            "cells": {
             "fill": {
              "color": "#EBF0F8"
             },
             "line": {
              "color": "white"
             }
            },
            "header": {
             "fill": {
              "color": "#C8D4E3"
             },
             "line": {
              "color": "white"
             }
            },
            "type": "table"
           }
          ]
         },
         "layout": {
          "annotationdefaults": {
           "arrowcolor": "#2a3f5f",
           "arrowhead": 0,
           "arrowwidth": 1
          },
          "autotypenumbers": "strict",
          "coloraxis": {
           "colorbar": {
            "outlinewidth": 0,
            "ticks": ""
           }
          },
          "colorscale": {
           "diverging": [
            [
             0,
             "#8e0152"
            ],
            [
             0.1,
             "#c51b7d"
            ],
            [
             0.2,
             "#de77ae"
            ],
            [
             0.3,
             "#f1b6da"
            ],
            [
             0.4,
             "#fde0ef"
            ],
            [
             0.5,
             "#f7f7f7"
            ],
            [
             0.6,
             "#e6f5d0"
            ],
            [
             0.7,
             "#b8e186"
            ],
            [
             0.8,
             "#7fbc41"
            ],
            [
             0.9,
             "#4d9221"
            ],
            [
             1,
             "#276419"
            ]
           ],
           "sequential": [
            [
             0,
             "#0d0887"
            ],
            [
             0.1111111111111111,
             "#46039f"
            ],
            [
             0.2222222222222222,
             "#7201a8"
            ],
            [
             0.3333333333333333,
             "#9c179e"
            ],
            [
             0.4444444444444444,
             "#bd3786"
            ],
            [
             0.5555555555555556,
             "#d8576b"
            ],
            [
             0.6666666666666666,
             "#ed7953"
            ],
            [
             0.7777777777777778,
             "#fb9f3a"
            ],
            [
             0.8888888888888888,
             "#fdca26"
            ],
            [
             1,
             "#f0f921"
            ]
           ],
           "sequentialminus": [
            [
             0,
             "#0d0887"
            ],
            [
             0.1111111111111111,
             "#46039f"
            ],
            [
             0.2222222222222222,
             "#7201a8"
            ],
            [
             0.3333333333333333,
             "#9c179e"
            ],
            [
             0.4444444444444444,
             "#bd3786"
            ],
            [
             0.5555555555555556,
             "#d8576b"
            ],
            [
             0.6666666666666666,
             "#ed7953"
            ],
            [
             0.7777777777777778,
             "#fb9f3a"
            ],
            [
             0.8888888888888888,
             "#fdca26"
            ],
            [
             1,
             "#f0f921"
            ]
           ]
          },
          "colorway": [
           "#636efa",
           "#EF553B",
           "#00cc96",
           "#ab63fa",
           "#FFA15A",
           "#19d3f3",
           "#FF6692",
           "#B6E880",
           "#FF97FF",
           "#FECB52"
          ],
          "font": {
           "color": "#2a3f5f"
          },
          "geo": {
           "bgcolor": "white",
           "lakecolor": "white",
           "landcolor": "#E5ECF6",
           "showlakes": true,
           "showland": true,
           "subunitcolor": "white"
          },
          "hoverlabel": {
           "align": "left"
          },
          "hovermode": "closest",
          "mapbox": {
           "style": "light"
          },
          "paper_bgcolor": "white",
          "plot_bgcolor": "#E5ECF6",
          "polar": {
           "angularaxis": {
            "gridcolor": "white",
            "linecolor": "white",
            "ticks": ""
           },
           "bgcolor": "#E5ECF6",
           "radialaxis": {
            "gridcolor": "white",
            "linecolor": "white",
            "ticks": ""
           }
          },
          "scene": {
           "xaxis": {
            "backgroundcolor": "#E5ECF6",
            "gridcolor": "white",
            "gridwidth": 2,
            "linecolor": "white",
            "showbackground": true,
            "ticks": "",
            "zerolinecolor": "white"
           },
           "yaxis": {
            "backgroundcolor": "#E5ECF6",
            "gridcolor": "white",
            "gridwidth": 2,
            "linecolor": "white",
            "showbackground": true,
            "ticks": "",
            "zerolinecolor": "white"
           },
           "zaxis": {
            "backgroundcolor": "#E5ECF6",
            "gridcolor": "white",
            "gridwidth": 2,
            "linecolor": "white",
            "showbackground": true,
            "ticks": "",
            "zerolinecolor": "white"
           }
          },
          "shapedefaults": {
           "line": {
            "color": "#2a3f5f"
           }
          },
          "ternary": {
           "aaxis": {
            "gridcolor": "white",
            "linecolor": "white",
            "ticks": ""
           },
           "baxis": {
            "gridcolor": "white",
            "linecolor": "white",
            "ticks": ""
           },
           "bgcolor": "#E5ECF6",
           "caxis": {
            "gridcolor": "white",
            "linecolor": "white",
            "ticks": ""
           }
          },
          "title": {
           "x": 0.05
          },
          "xaxis": {
           "automargin": true,
           "gridcolor": "white",
           "linecolor": "white",
           "ticks": "",
           "title": {
            "standoff": 15
           },
           "zerolinecolor": "white",
           "zerolinewidth": 2
          },
          "yaxis": {
           "automargin": true,
           "gridcolor": "white",
           "linecolor": "white",
           "ticks": "",
           "title": {
            "standoff": 15
           },
           "zerolinecolor": "white",
           "zerolinewidth": 2
          }
         }
        },
        "title": {
         "text": "🔄 RÉSEAU DES CONNEXIONS ENTRE CLUSTERS<br><span style='font-size:12px; color:#666'>Taille = Nombre de membres • Texte rouge = Nombre de liens</span>"
        },
        "width": 800,
        "xaxis": {
         "showgrid": false,
         "showticklabels": false,
         "zeroline": false
        },
        "yaxis": {
         "showgrid": false,
         "showticklabels": false,
         "zeroline": false
        }
       }
      }
     },
     "metadata": {},
     "output_type": "display_data"
    }
   ],
   "source": [
    "# =====================================================\n",
    "# 5️⃣ VISUALISATION COMPLÉMENTAIRE - GRAPHE DES CONNEXIONS\n",
    "# =====================================================\n",
    "\n",
    "print(f\"\\n🔄 GRAPHE DES CONNEXIONS ENTRE CLUSTERS:\")\n",
    "print(\"=\" * 40)\n",
    "\n",
    "# Créer un graphe où les nœuds sont les clusters\n",
    "G_cluster = nx.Graph()\n",
    "\n",
    "# Ajouter les clusters comme nœuds\n",
    "for cluster in cluster_ids:\n",
    "    cluster_size = len(viz_df[viz_df['cluster'] == cluster])\n",
    "    G_cluster.add_node(cluster, size=cluster_size)\n",
    "\n",
    "# Ajouter les arêtes entre clusters (poids = nombre de connexions)\n",
    "for i, cluster1 in enumerate(cluster_ids):\n",
    "    for j, cluster2 in enumerate(cluster_ids):\n",
    "        if i < j and symmetric_matrix[i][j] > 0:  # Éviter les doublons\n",
    "            G_cluster.add_edge(cluster1, cluster2, weight=symmetric_matrix[i][j])\n",
    "\n",
    "# Visualisation du graphe des clusters\n",
    "pos_cluster = nx.spring_layout(G_cluster, seed=42)\n",
    "\n",
    "fig_cluster_network = go.Figure()\n",
    "\n",
    "# Arêtes entre clusters\n",
    "edge_x, edge_y = [], []\n",
    "for edge in G_cluster.edges():\n",
    "    x0, y0 = pos_cluster[edge[0]]\n",
    "    x1, y1 = pos_cluster[edge[1]]\n",
    "    edge_x.extend([x0, x1, None])\n",
    "    edge_y.extend([y0, y1, None])\n",
    "    \n",
    "    # Ajouter une trace pour le poids de l'arête\n",
    "    fig_cluster_network.add_trace(go.Scatter(\n",
    "        x=[(x0+x1)/2], y=[(y0+y1)/2],\n",
    "        mode='text',\n",
    "        text=[f\"{G_cluster.edges[edge]['weight']:.0f}\"],\n",
    "        textfont=dict(size=12, color='red'),\n",
    "        showlegend=False,\n",
    "        hoverinfo='none'\n",
    "    ))\n",
    "\n",
    "fig_cluster_network.add_trace(go.Scatter(\n",
    "    x=edge_x, y=edge_y,\n",
    "    line=dict(width=2, color='gray'),\n",
    "    hoverinfo='none',\n",
    "    mode='lines',\n",
    "    showlegend=False\n",
    "))\n",
    "\n",
    "# Nœuds (clusters)\n",
    "node_x, node_y, node_sizes, node_text = [], [], [], []\n",
    "for cluster in cluster_ids:\n",
    "    x, y = pos_cluster[cluster]\n",
    "    node_x.append(x)\n",
    "    node_y.append(y)\n",
    "    \n",
    "    cluster_size = len(viz_df[viz_df['cluster'] == cluster])\n",
    "    node_sizes.append(20 + cluster_size * 2)\n",
    "    \n",
    "    node_text.append(f\"Cluster {cluster}<br>{cluster_size} membres\")\n",
    "\n",
    "fig_cluster_network.add_trace(go.Scatter(\n",
    "    x=node_x, y=node_y,\n",
    "    mode='markers+text',\n",
    "    marker=dict(\n",
    "        size=node_sizes,\n",
    "        color=cluster_ids,\n",
    "        colorscale='Viridis',\n",
    "        line=dict(width=2, color='white')\n",
    "    ),\n",
    "    text=[f\"Cluster {c}\" for c in cluster_ids],\n",
    "    textposition=\"middle center\",\n",
    "    hovertext=node_text,\n",
    "    hoverinfo='text',\n",
    "    showlegend=False\n",
    "))\n",
    "\n",
    "fig_cluster_network.update_layout(\n",
    "    title=\"🔄 RÉSEAU DES CONNEXIONS ENTRE CLUSTERS<br>\"\n",
    "          \"<span style='font-size:12px; color:#666'>Taille = Nombre de membres • Texte rouge = Nombre de liens</span>\",\n",
    "    width=800,\n",
    "    height=600,\n",
    "    showlegend=False,\n",
    "    xaxis=dict(showgrid=False, zeroline=False, showticklabels=False),\n",
    "    yaxis=dict(showgrid=False, zeroline=False, showticklabels=False)\n",
    ")\n",
    "\n",
    "fig_cluster_network.show()"
   ]
  },
  {
   "cell_type": "code",
   "execution_count": 72,
   "id": "73b392c7",
   "metadata": {},
   "outputs": [],
   "source": [
    "fig.write_html(\n",
    "    r\"C:\\Users\\Ashahi\\Desktop\\Graph\\examen\\notebooks\\graphes_notebook2\\graphe_3.html\",\n",
    "    include_plotlyjs='cdn',\n",
    "    full_html=True\n",
    ")"
   ]
  },
  {
   "cell_type": "code",
   "execution_count": 73,
   "id": "08ffa8f3",
   "metadata": {},
   "outputs": [
    {
     "name": "stdout",
     "output_type": "stream",
     "text": [
      "\n",
      "🌐 VISUALISATION PAR CENTRALITÉ (sans clustering)\n",
      "=============================================\n",
      "• Réseau visualisé: 30 administrateurs\n",
      "• Connexions: 84\n"
     ]
    },
    {
     "data": {
      "application/vnd.plotly.v1+json": {
       "config": {
        "plotlyServerURL": "https://plot.ly"
       },
       "data": [
        {
         "hoverinfo": "none",
         "line": {
          "color": "rgba(150, 150, 150, 0.4)",
          "width": 1
         },
         "mode": "lines",
         "showlegend": false,
         "type": "scatter",
         "x": [
          -0.0481514152807044,
          0.23673677920773087,
          null,
          -0.0481514152807044,
          -0.14136491041797286,
          null,
          -0.0481514152807044,
          -0.7197047900072286,
          null,
          -0.0481514152807044,
          0.6649033535675836,
          null,
          -0.0481514152807044,
          -0.19276722878098335,
          null,
          -0.6423880035984014,
          -0.6885671080732453,
          null,
          -0.6423880035984014,
          0.23673677920773087,
          null,
          -0.6423880035984014,
          -0.14136491041797286,
          null,
          -0.6423880035984014,
          0.6649033535675836,
          null,
          -0.6423880035984014,
          -0.7197047900072286,
          null,
          -0.9628395422836606,
          0.23673677920773087,
          null,
          -0.9628395422836606,
          -0.7197047900072286,
          null,
          -0.9628395422836606,
          -0.14136491041797286,
          null,
          -0.9628395422836606,
          0.6649033535675836,
          null,
          -0.9628395422836606,
          -0.19276722878098335,
          null,
          0.5335978904589102,
          -0.6885671080732453,
          null,
          0.5335978904589102,
          0.23673677920773087,
          null,
          0.5335978904589102,
          -0.14136491041797286,
          null,
          -0.6885671080732453,
          -0.43653346570413387,
          null,
          -0.6885671080732453,
          0.7275616297951776,
          null,
          -0.6885671080732453,
          -0.9590203605977005,
          null,
          -0.6885671080732453,
          -0.45848646088915435,
          null,
          -0.6885671080732453,
          0.2110895627557567,
          null,
          0.8290175571361735,
          0.23673677920773087,
          null,
          0.8290175571361735,
          -0.14136491041797286,
          null,
          0.8290175571361735,
          -0.47360616599454913,
          null,
          0.8290175571361735,
          -0.8180490853367779,
          null,
          -0.47360616599454913,
          0.23673677920773087,
          null,
          -0.47360616599454913,
          0.41398100135372234,
          null,
          -0.47360616599454913,
          0.8963529238317227,
          null,
          0.41398100135372234,
          0.23673677920773087,
          null,
          0.41398100135372234,
          -0.14136491041797286,
          null,
          0.41398100135372234,
          -0.19276722878098335,
          null,
          0.6649033535675836,
          0.38186212693199667,
          null,
          0.6649033535675836,
          0.994169133376096,
          null,
          0.6649033535675836,
          0.8320829801207172,
          null,
          -0.14136491041797286,
          0.8807064415632758,
          null,
          -0.14136491041797286,
          -0.0021483156820815445,
          null,
          -0.14136491041797286,
          -0.9590203605977005,
          null,
          -0.14136491041797286,
          -0.45848646088915435,
          null,
          -0.14136491041797286,
          0.23673677920773087,
          null,
          -0.14136491041797286,
          0.38186212693199667,
          null,
          -0.14136491041797286,
          0.2110895627557567,
          null,
          -0.14136491041797286,
          -0.928665037132888,
          null,
          -0.14136491041797286,
          0.994169133376096,
          null,
          -0.14136491041797286,
          0.7275616297951776,
          null,
          -0.14136491041797286,
          0.8963529238317227,
          null,
          -0.14136491041797286,
          0.8320829801207172,
          null,
          -0.14136491041797286,
          -0.9626586258216006,
          null,
          -0.14136491041797286,
          -0.2827311553347183,
          null,
          -0.9590203605977005,
          0.23673677920773087,
          null,
          0.2110895627557567,
          0.23673677920773087,
          null,
          0.2110895627557567,
          -0.7197047900072286,
          null,
          0.2110895627557567,
          -0.19276722878098335,
          null,
          0.23673677920773087,
          0.8807064415632758,
          null,
          0.23673677920773087,
          -0.0021483156820815445,
          null,
          0.23673677920773087,
          -0.45848646088915435,
          null,
          0.23673677920773087,
          -0.7197047900072286,
          null,
          0.23673677920773087,
          0.7275616297951776,
          null,
          0.23673677920773087,
          0.38186212693199667,
          null,
          0.23673677920773087,
          -0.928665037132888,
          null,
          0.23673677920773087,
          0.994169133376096,
          null,
          0.23673677920773087,
          0.8963529238317227,
          null,
          0.23673677920773087,
          0.8320829801207172,
          null,
          0.23673677920773087,
          -0.9626586258216006,
          null,
          0.23673677920773087,
          -0.2827311553347183,
          null,
          0.23673677920773087,
          -0.19276722878098335,
          null,
          -0.45848646088915435,
          -0.7197047900072286,
          null,
          0.8807064415632758,
          -0.7197047900072286,
          null,
          -0.19276722878098335,
          0.994169133376096,
          null,
          -0.19276722878098335,
          0.8963529238317227,
          null,
          -0.19276722878098335,
          0.8320829801207172,
          null,
          -0.19276722878098335,
          -0.9626586258216006,
          null,
          -0.19276722878098335,
          -0.2827311553347183,
          null,
          -0.9626586258216006,
          -0.7197047900072286,
          null,
          -0.9626586258216006,
          -0.8180490853367779,
          null,
          -0.7197047900072286,
          -0.0021483156820815445,
          null,
          -0.7197047900072286,
          0.38186212693199667,
          null,
          -0.7197047900072286,
          -0.928665037132888,
          null,
          -0.7197047900072286,
          0.994169133376096,
          null,
          -0.7197047900072286,
          0.8320829801207172,
          null,
          -0.7197047900072286,
          -0.2827311553347183,
          null,
          -0.2827311553347183,
          -0.8180490853367779,
          null,
          0.7275616297951776,
          -0.8180490853367779,
          null
         ],
         "y": [
          0.971856814382881,
          -0.19690245081927088,
          null,
          0.971856814382881,
          -0.15582604979857084,
          null,
          0.971856814382881,
          0.43425980348254145,
          null,
          0.971856814382881,
          -0.7313958433610663,
          null,
          0.971856814382881,
          -0.9127307141946877,
          null,
          -0.7835858787541605,
          0.7374651200030751,
          null,
          -0.7835858787541605,
          -0.19690245081927088,
          null,
          -0.7835858787541605,
          -0.15582604979857084,
          null,
          -0.7835858787541605,
          -0.7313958433610663,
          null,
          -0.7835858787541605,
          0.43425980348254145,
          null,
          0.23666736437832925,
          -0.19690245081927088,
          null,
          0.23666736437832925,
          0.43425980348254145,
          null,
          0.23666736437832925,
          -0.15582604979857084,
          null,
          0.23666736437832925,
          -0.7313958433610663,
          null,
          0.23666736437832925,
          -0.9127307141946877,
          null,
          0.7645584939527605,
          0.7374651200030751,
          null,
          0.7645584939527605,
          -0.19690245081927088,
          null,
          0.7645584939527605,
          -0.15582604979857084,
          null,
          0.7374651200030751,
          -0.905399015782299,
          null,
          0.7374651200030751,
          0.6949145321845215,
          null,
          0.7374651200030751,
          0.04188918985823401,
          null,
          0.7374651200030751,
          0.879605355340122,
          null,
          0.7374651200030751,
          -1,
          null,
          -0.5574131440160056,
          -0.19690245081927088,
          null,
          -0.5574131440160056,
          -0.15582604979857084,
          null,
          -0.5574131440160056,
          0.3933687073052562,
          null,
          -0.5574131440160056,
          -0.5985303353364012,
          null,
          0.3933687073052562,
          -0.19690245081927088,
          null,
          0.3933687073052562,
          -0.8691465863494473,
          null,
          0.3933687073052562,
          -0.3303226329950361,
          null,
          -0.8691465863494473,
          -0.19690245081927088,
          null,
          -0.8691465863494473,
          -0.15582604979857084,
          null,
          -0.8691465863494473,
          -0.9127307141946877,
          null,
          -0.7313958433610663,
          0.893461990856211,
          null,
          -0.7313958433610663,
          0.11879164866461484,
          null,
          -0.7313958433610663,
          0.23362963699007816,
          null,
          -0.15582604979857084,
          0.48836712844857405,
          null,
          -0.15582604979857084,
          -0.992674977508027,
          null,
          -0.15582604979857084,
          0.04188918985823401,
          null,
          -0.15582604979857084,
          0.879605355340122,
          null,
          -0.15582604979857084,
          -0.19690245081927088,
          null,
          -0.15582604979857084,
          0.893461990856211,
          null,
          -0.15582604979857084,
          -1,
          null,
          -0.15582604979857084,
          -0.3859110987920878,
          null,
          -0.15582604979857084,
          0.11879164866461484,
          null,
          -0.15582604979857084,
          0.6949145321845215,
          null,
          -0.15582604979857084,
          -0.3303226329950361,
          null,
          -0.15582604979857084,
          0.23362963699007816,
          null,
          -0.15582604979857084,
          -0.18268410817611933,
          null,
          -0.15582604979857084,
          0.8808453515850795,
          null,
          0.04188918985823401,
          -0.19690245081927088,
          null,
          -1,
          -0.19690245081927088,
          null,
          -1,
          0.43425980348254145,
          null,
          -1,
          -0.9127307141946877,
          null,
          -0.19690245081927088,
          0.48836712844857405,
          null,
          -0.19690245081927088,
          -0.992674977508027,
          null,
          -0.19690245081927088,
          0.879605355340122,
          null,
          -0.19690245081927088,
          0.43425980348254145,
          null,
          -0.19690245081927088,
          0.6949145321845215,
          null,
          -0.19690245081927088,
          0.893461990856211,
          null,
          -0.19690245081927088,
          -0.3859110987920878,
          null,
          -0.19690245081927088,
          0.11879164866461484,
          null,
          -0.19690245081927088,
          -0.3303226329950361,
          null,
          -0.19690245081927088,
          0.23362963699007816,
          null,
          -0.19690245081927088,
          -0.18268410817611933,
          null,
          -0.19690245081927088,
          0.8808453515850795,
          null,
          -0.19690245081927088,
          -0.9127307141946877,
          null,
          0.879605355340122,
          0.43425980348254145,
          null,
          0.48836712844857405,
          0.43425980348254145,
          null,
          -0.9127307141946877,
          0.11879164866461484,
          null,
          -0.9127307141946877,
          -0.3303226329950361,
          null,
          -0.9127307141946877,
          0.23362963699007816,
          null,
          -0.9127307141946877,
          -0.18268410817611933,
          null,
          -0.9127307141946877,
          0.8808453515850795,
          null,
          -0.18268410817611933,
          0.43425980348254145,
          null,
          -0.18268410817611933,
          -0.5985303353364012,
          null,
          0.43425980348254145,
          -0.992674977508027,
          null,
          0.43425980348254145,
          0.893461990856211,
          null,
          0.43425980348254145,
          -0.3859110987920878,
          null,
          0.43425980348254145,
          0.11879164866461484,
          null,
          0.43425980348254145,
          0.23362963699007816,
          null,
          0.43425980348254145,
          0.8808453515850795,
          null,
          0.8808453515850795,
          -0.5985303353364012,
          null,
          0.6949145321845215,
          -0.5985303353364012,
          null
         ]
        },
        {
         "hoverinfo": "text",
         "hovertemplate": "%{text}<extra></extra>",
         "marker": {
          "color": [
           126.94715862336864,
           189.96666666666664,
           197.29671474358986,
           232.6522511237018,
           84.32034632034632,
           611.4727272727266,
           119.48219686671996,
           260.6262626262623,
           2009.9429372597308,
           397,
           54.39945355191258,
           37828.35933430864,
           17203.15,
           386.58840187590147,
           136.00908877306873,
           48915.351490136505,
           321.5763392857137,
           58.13862721708112,
           14971.779159847452,
           54.79755925537029,
           87.87504233718329,
           27506.79827586198,
           87.87504233718329,
           126.94715862336864,
           58.13862721708112,
           51.068917790369625,
           84.46320346320347,
           232.6498587792042,
           108.3659277504105,
           348.45106536372947
          ],
          "colorbar": {
           "title": {
            "text": "Betweenness"
           }
          },
          "colorscale": [
           [
            0,
            "#440154"
           ],
           [
            0.1111111111111111,
            "#482878"
           ],
           [
            0.2222222222222222,
            "#3e4989"
           ],
           [
            0.3333333333333333,
            "#31688e"
           ],
           [
            0.4444444444444444,
            "#26828e"
           ],
           [
            0.5555555555555556,
            "#1f9e89"
           ],
           [
            0.6666666666666666,
            "#35b779"
           ],
           [
            0.7777777777777778,
            "#6ece58"
           ],
           [
            0.8888888888888888,
            "#b5de2b"
           ],
           [
            1,
            "#fde725"
           ]
          ],
          "line": {
           "color": "white",
           "width": 2
          },
          "showscale": true,
          "size": [
           20.49306144334055,
           30.67747107964575,
           23.958797346140273,
           23.0471895621705,
           23.0471895621705,
           25.9861228866811,
           18.465735902799725,
           21.931471805599454,
           33.44439727056968,
           23.0471895621705,
           25.39720770839918,
           41.12873336856601,
           42.50629105272364,
           21.931471805599454,
           20.49306144334055,
           42.58726448232353,
           21.931471805599454,
           21.931471805599454,
           35.3876872195286,
           20.49306144334055,
           20.49306144334055,
           45.93104311950247,
           20.49306144334055,
           20.49306144334055,
           21.931471805599454,
           21.931471805599454,
           23.0471895621705,
           21.931471805599454,
           21.931471805599454,
           20.49306144334055
          ]
         },
         "mode": "markers",
         "text": [
          "<b>LEADING-TECH GROUP LIMITED</b><br>Degré: 2.0<br>Betweenness: 126.9472<br>Pays: British Virgin Islands",
          "<b>Credit Suisse, Singapore</b><br>Degré: 22.0<br>Betweenness: 189.9667<br>Pays: None",
          "<b>CENTURY GLOBAL SELECTIONS FUND INC.</b><br>Degré: 5.0<br>Betweenness: 197.2967<br>Pays: British Virgin Islands",
          "<b>International Environmental Management, Inc.</b><br>Degré: 4.0<br>Betweenness: 232.6523<br>Pays: British Virgin Islands",
          "<b>TRANS-COMMERCIAL HOLDINGS LTD.</b><br>Degré: 4.0<br>Betweenness: 84.3203<br>Pays: British Virgin Islands",
          "<b>Directcorp Limited </b><br>Degré: 8.0<br>Betweenness: 611.4727<br>Pays: None",
          "<b>EVER PLUS GROUP LIMITED</b><br>Degré: 1.0<br>Betweenness: 119.4822<br>Pays: British Virgin Islands",
          "<b>Orient Group Inc.</b><br>Degré: 3.0<br>Betweenness: 260.6263<br>Pays: Samoa",
          "<b>Acticorp Limited</b><br>Degré: 39.0<br>Betweenness: 2009.9429<br>Pays: None",
          "<b>FORTUNE SPREAD INVESTMENT LIMITED</b><br>Degré: 4.0<br>Betweenness: 397.0000<br>Pays: British Virgin Islands",
          "<b>None</b><br>Degré: 7.0<br>Betweenness: 54.3995<br>Pays: None",
          "<b>Portcullis TrustNet (BVI) Limited</b><br>Degré: 185.0<br>Betweenness: 37828.3593<br>Pays: None",
          "<b>UBS AG, Singapore</b><br>Degré: 244.0<br>Betweenness: 17203.1500<br>Pays: None",
          "<b>SPITFIRE TRADING COMPANY LIMITED</b><br>Degré: 3.0<br>Betweenness: 386.5884<br>Pays: British Virgin Islands",
          "<b>Azure Dene Limited</b><br>Degré: 2.0<br>Betweenness: 136.0091<br>Pays: British Virgin Islands",
          "<b>None</b><br>Degré: 248.0<br>Betweenness: 48915.3515<br>Pays: None",
          "<b>BLACK PEARL TRADING COMPANY LIMITED</b><br>Degré: 3.0<br>Betweenness: 321.5763<br>Pays: British Virgin Islands",
          "<b>RAINBOW STATESMAN LIMITED</b><br>Degré: 3.0<br>Betweenness: 58.1386<br>Pays: British Virgin Islands",
          "<b>Sharecorp Limited</b><br>Degré: 58.0<br>Betweenness: 14971.7792<br>Pays: None",
          "<b>AWESOME DRAGON LIMITED</b><br>Degré: 2.0<br>Betweenness: 54.7976<br>Pays: British Virgin Islands",
          "<b>GENIUS ADVANCE INDUSTRIAL LIMITED</b><br>Degré: 2.0<br>Betweenness: 87.8750<br>Pays: British Virgin Islands",
          "<b>Execorp Limited</b><br>Degré: 485.0<br>Betweenness: 27506.7983<br>Pays: None",
          "<b>AWESOME DRAGON HOLDINGS LIMITED</b><br>Degré: 2.0<br>Betweenness: 87.8750<br>Pays: British Virgin Islands",
          "<b>BEYOND MILLENNIUM CORPORATION</b><br>Degré: 2.0<br>Betweenness: 126.9472<br>Pays: British Virgin Islands",
          "<b>MID-OCEAN INTERNATIONAL LIMITED</b><br>Degré: 3.0<br>Betweenness: 58.1386<br>Pays: British Virgin Islands",
          "<b>ELEGANCE PROFIT HOLDINGS LIMITED</b><br>Degré: 3.0<br>Betweenness: 51.0689<br>Pays: British Virgin Islands",
          "<b>JADE TIGER LIMITED</b><br>Degré: 4.0<br>Betweenness: 84.4632<br>Pays: British Virgin Islands",
          "<b>IP ASSETS MANAGEMENT CORP.</b><br>Degré: 3.0<br>Betweenness: 232.6499<br>Pays: British Virgin Islands",
          "<b>UBS AG (HK)</b><br>Degré: 3.0<br>Betweenness: 108.3659<br>Pays: None",
          "<b>KIKI HOLDING (PTC) LIMITED</b><br>Degré: 2.0<br>Betweenness: 348.4511<br>Pays: British Virgin Islands"
         ],
         "type": "scatter",
         "x": [
          -0.0481514152807044,
          0.9498715889260387,
          -0.6423880035984014,
          -0.9628395422836606,
          0.5335978904589102,
          -0.6885671080732453,
          0.8290175571361735,
          -0.43653346570413387,
          -0.47360616599454913,
          0.41398100135372234,
          0.6649033535675836,
          -0.14136491041797286,
          0.16574870191089808,
          -0.9590203605977005,
          0.2110895627557567,
          0.23673677920773087,
          -0.45848646088915435,
          0.8807064415632758,
          -0.19276722878098335,
          0.8963529238317227,
          -0.9626586258216006,
          -0.7197047900072286,
          -0.2827311553347183,
          0.8320829801207172,
          -0.0021483156820815445,
          0.994169133376096,
          0.7275616297951776,
          0.38186212693199667,
          -0.8180490853367779,
          -0.928665037132888
         ],
         "y": [
          0.971856814382881,
          -0.09253466933709646,
          -0.7835858787541605,
          0.23666736437832925,
          0.7645584939527605,
          0.7374651200030751,
          -0.5574131440160056,
          -0.905399015782299,
          0.3933687073052562,
          -0.8691465863494473,
          -0.7313958433610663,
          -0.15582604979857084,
          0.925376367787997,
          0.04188918985823401,
          -1,
          -0.19690245081927088,
          0.879605355340122,
          0.48836712844857405,
          -0.9127307141946877,
          -0.3303226329950361,
          -0.18268410817611933,
          0.43425980348254145,
          0.8808453515850795,
          0.23362963699007816,
          -0.992674977508027,
          0.11879164866461484,
          0.6949145321845215,
          0.893461990856211,
          -0.5985303353364012,
          -0.3859110987920878
         ]
        }
       ],
       "layout": {
        "height": 800,
        "hovermode": "closest",
        "showlegend": false,
        "template": {
         "data": {
          "bar": [
           {
            "error_x": {
             "color": "#2a3f5f"
            },
            "error_y": {
             "color": "#2a3f5f"
            },
            "marker": {
             "line": {
              "color": "#E5ECF6",
              "width": 0.5
             },
             "pattern": {
              "fillmode": "overlay",
              "size": 10,
              "solidity": 0.2
             }
            },
            "type": "bar"
           }
          ],
          "barpolar": [
           {
            "marker": {
             "line": {
              "color": "#E5ECF6",
              "width": 0.5
             },
             "pattern": {
              "fillmode": "overlay",
              "size": 10,
              "solidity": 0.2
             }
            },
            "type": "barpolar"
           }
          ],
          "carpet": [
           {
            "aaxis": {
             "endlinecolor": "#2a3f5f",
             "gridcolor": "white",
             "linecolor": "white",
             "minorgridcolor": "white",
             "startlinecolor": "#2a3f5f"
            },
            "baxis": {
             "endlinecolor": "#2a3f5f",
             "gridcolor": "white",
             "linecolor": "white",
             "minorgridcolor": "white",
             "startlinecolor": "#2a3f5f"
            },
            "type": "carpet"
           }
          ],
          "choropleth": [
           {
            "colorbar": {
             "outlinewidth": 0,
             "ticks": ""
            },
            "type": "choropleth"
           }
          ],
          "contour": [
           {
            "colorbar": {
             "outlinewidth": 0,
             "ticks": ""
            },
            "colorscale": [
             [
              0,
              "#0d0887"
             ],
             [
              0.1111111111111111,
              "#46039f"
             ],
             [
              0.2222222222222222,
              "#7201a8"
             ],
             [
              0.3333333333333333,
              "#9c179e"
             ],
             [
              0.4444444444444444,
              "#bd3786"
             ],
             [
              0.5555555555555556,
              "#d8576b"
             ],
             [
              0.6666666666666666,
              "#ed7953"
             ],
             [
              0.7777777777777778,
              "#fb9f3a"
             ],
             [
              0.8888888888888888,
              "#fdca26"
             ],
             [
              1,
              "#f0f921"
             ]
            ],
            "type": "contour"
           }
          ],
          "contourcarpet": [
           {
            "colorbar": {
             "outlinewidth": 0,
             "ticks": ""
            },
            "type": "contourcarpet"
           }
          ],
          "heatmap": [
           {
            "colorbar": {
             "outlinewidth": 0,
             "ticks": ""
            },
            "colorscale": [
             [
              0,
              "#0d0887"
             ],
             [
              0.1111111111111111,
              "#46039f"
             ],
             [
              0.2222222222222222,
              "#7201a8"
             ],
             [
              0.3333333333333333,
              "#9c179e"
             ],
             [
              0.4444444444444444,
              "#bd3786"
             ],
             [
              0.5555555555555556,
              "#d8576b"
             ],
             [
              0.6666666666666666,
              "#ed7953"
             ],
             [
              0.7777777777777778,
              "#fb9f3a"
             ],
             [
              0.8888888888888888,
              "#fdca26"
             ],
             [
              1,
              "#f0f921"
             ]
            ],
            "type": "heatmap"
           }
          ],
          "histogram": [
           {
            "marker": {
             "pattern": {
              "fillmode": "overlay",
              "size": 10,
              "solidity": 0.2
             }
            },
            "type": "histogram"
           }
          ],
          "histogram2d": [
           {
            "colorbar": {
             "outlinewidth": 0,
             "ticks": ""
            },
            "colorscale": [
             [
              0,
              "#0d0887"
             ],
             [
              0.1111111111111111,
              "#46039f"
             ],
             [
              0.2222222222222222,
              "#7201a8"
             ],
             [
              0.3333333333333333,
              "#9c179e"
             ],
             [
              0.4444444444444444,
              "#bd3786"
             ],
             [
              0.5555555555555556,
              "#d8576b"
             ],
             [
              0.6666666666666666,
              "#ed7953"
             ],
             [
              0.7777777777777778,
              "#fb9f3a"
             ],
             [
              0.8888888888888888,
              "#fdca26"
             ],
             [
              1,
              "#f0f921"
             ]
            ],
            "type": "histogram2d"
           }
          ],
          "histogram2dcontour": [
           {
            "colorbar": {
             "outlinewidth": 0,
             "ticks": ""
            },
            "colorscale": [
             [
              0,
              "#0d0887"
             ],
             [
              0.1111111111111111,
              "#46039f"
             ],
             [
              0.2222222222222222,
              "#7201a8"
             ],
             [
              0.3333333333333333,
              "#9c179e"
             ],
             [
              0.4444444444444444,
              "#bd3786"
             ],
             [
              0.5555555555555556,
              "#d8576b"
             ],
             [
              0.6666666666666666,
              "#ed7953"
             ],
             [
              0.7777777777777778,
              "#fb9f3a"
             ],
             [
              0.8888888888888888,
              "#fdca26"
             ],
             [
              1,
              "#f0f921"
             ]
            ],
            "type": "histogram2dcontour"
           }
          ],
          "mesh3d": [
           {
            "colorbar": {
             "outlinewidth": 0,
             "ticks": ""
            },
            "type": "mesh3d"
           }
          ],
          "parcoords": [
           {
            "line": {
             "colorbar": {
              "outlinewidth": 0,
              "ticks": ""
             }
            },
            "type": "parcoords"
           }
          ],
          "pie": [
           {
            "automargin": true,
            "type": "pie"
           }
          ],
          "scatter": [
           {
            "fillpattern": {
             "fillmode": "overlay",
             "size": 10,
             "solidity": 0.2
            },
            "type": "scatter"
           }
          ],
          "scatter3d": [
           {
            "line": {
             "colorbar": {
              "outlinewidth": 0,
              "ticks": ""
             }
            },
            "marker": {
             "colorbar": {
              "outlinewidth": 0,
              "ticks": ""
             }
            },
            "type": "scatter3d"
           }
          ],
          "scattercarpet": [
           {
            "marker": {
             "colorbar": {
              "outlinewidth": 0,
              "ticks": ""
             }
            },
            "type": "scattercarpet"
           }
          ],
          "scattergeo": [
           {
            "marker": {
             "colorbar": {
              "outlinewidth": 0,
              "ticks": ""
             }
            },
            "type": "scattergeo"
           }
          ],
          "scattergl": [
           {
            "marker": {
             "colorbar": {
              "outlinewidth": 0,
              "ticks": ""
             }
            },
            "type": "scattergl"
           }
          ],
          "scattermap": [
           {
            "marker": {
             "colorbar": {
              "outlinewidth": 0,
              "ticks": ""
             }
            },
            "type": "scattermap"
           }
          ],
          "scattermapbox": [
           {
            "marker": {
             "colorbar": {
              "outlinewidth": 0,
              "ticks": ""
             }
            },
            "type": "scattermapbox"
           }
          ],
          "scatterpolar": [
           {
            "marker": {
             "colorbar": {
              "outlinewidth": 0,
              "ticks": ""
             }
            },
            "type": "scatterpolar"
           }
          ],
          "scatterpolargl": [
           {
            "marker": {
             "colorbar": {
              "outlinewidth": 0,
              "ticks": ""
             }
            },
            "type": "scatterpolargl"
           }
          ],
          "scatterternary": [
           {
            "marker": {
             "colorbar": {
              "outlinewidth": 0,
              "ticks": ""
             }
            },
            "type": "scatterternary"
           }
          ],
          "surface": [
           {
            "colorbar": {
             "outlinewidth": 0,
             "ticks": ""
            },
            "colorscale": [
             [
              0,
              "#0d0887"
             ],
             [
              0.1111111111111111,
              "#46039f"
             ],
             [
              0.2222222222222222,
              "#7201a8"
             ],
             [
              0.3333333333333333,
              "#9c179e"
             ],
             [
              0.4444444444444444,
              "#bd3786"
             ],
             [
              0.5555555555555556,
              "#d8576b"
             ],
             [
              0.6666666666666666,
              "#ed7953"
             ],
             [
              0.7777777777777778,
              "#fb9f3a"
             ],
             [
              0.8888888888888888,
              "#fdca26"
             ],
             [
              1,
              "#f0f921"
             ]
            ],
            "type": "surface"
           }
          ],
          "table": [
           {
            "cells": {
             "fill": {
              "color": "#EBF0F8"
             },
             "line": {
              "color": "white"
             }
            },
            "header": {
             "fill": {
              "color": "#C8D4E3"
             },
             "line": {
              "color": "white"
             }
            },
            "type": "table"
           }
          ]
         },
         "layout": {
          "annotationdefaults": {
           "arrowcolor": "#2a3f5f",
           "arrowhead": 0,
           "arrowwidth": 1
          },
          "autotypenumbers": "strict",
          "coloraxis": {
           "colorbar": {
            "outlinewidth": 0,
            "ticks": ""
           }
          },
          "colorscale": {
           "diverging": [
            [
             0,
             "#8e0152"
            ],
            [
             0.1,
             "#c51b7d"
            ],
            [
             0.2,
             "#de77ae"
            ],
            [
             0.3,
             "#f1b6da"
            ],
            [
             0.4,
             "#fde0ef"
            ],
            [
             0.5,
             "#f7f7f7"
            ],
            [
             0.6,
             "#e6f5d0"
            ],
            [
             0.7,
             "#b8e186"
            ],
            [
             0.8,
             "#7fbc41"
            ],
            [
             0.9,
             "#4d9221"
            ],
            [
             1,
             "#276419"
            ]
           ],
           "sequential": [
            [
             0,
             "#0d0887"
            ],
            [
             0.1111111111111111,
             "#46039f"
            ],
            [
             0.2222222222222222,
             "#7201a8"
            ],
            [
             0.3333333333333333,
             "#9c179e"
            ],
            [
             0.4444444444444444,
             "#bd3786"
            ],
            [
             0.5555555555555556,
             "#d8576b"
            ],
            [
             0.6666666666666666,
             "#ed7953"
            ],
            [
             0.7777777777777778,
             "#fb9f3a"
            ],
            [
             0.8888888888888888,
             "#fdca26"
            ],
            [
             1,
             "#f0f921"
            ]
           ],
           "sequentialminus": [
            [
             0,
             "#0d0887"
            ],
            [
             0.1111111111111111,
             "#46039f"
            ],
            [
             0.2222222222222222,
             "#7201a8"
            ],
            [
             0.3333333333333333,
             "#9c179e"
            ],
            [
             0.4444444444444444,
             "#bd3786"
            ],
            [
             0.5555555555555556,
             "#d8576b"
            ],
            [
             0.6666666666666666,
             "#ed7953"
            ],
            [
             0.7777777777777778,
             "#fb9f3a"
            ],
            [
             0.8888888888888888,
             "#fdca26"
            ],
            [
             1,
             "#f0f921"
            ]
           ]
          },
          "colorway": [
           "#636efa",
           "#EF553B",
           "#00cc96",
           "#ab63fa",
           "#FFA15A",
           "#19d3f3",
           "#FF6692",
           "#B6E880",
           "#FF97FF",
           "#FECB52"
          ],
          "font": {
           "color": "#2a3f5f"
          },
          "geo": {
           "bgcolor": "white",
           "lakecolor": "white",
           "landcolor": "#E5ECF6",
           "showlakes": true,
           "showland": true,
           "subunitcolor": "white"
          },
          "hoverlabel": {
           "align": "left"
          },
          "hovermode": "closest",
          "mapbox": {
           "style": "light"
          },
          "paper_bgcolor": "white",
          "plot_bgcolor": "#E5ECF6",
          "polar": {
           "angularaxis": {
            "gridcolor": "white",
            "linecolor": "white",
            "ticks": ""
           },
           "bgcolor": "#E5ECF6",
           "radialaxis": {
            "gridcolor": "white",
            "linecolor": "white",
            "ticks": ""
           }
          },
          "scene": {
           "xaxis": {
            "backgroundcolor": "#E5ECF6",
            "gridcolor": "white",
            "gridwidth": 2,
            "linecolor": "white",
            "showbackground": true,
            "ticks": "",
            "zerolinecolor": "white"
           },
           "yaxis": {
            "backgroundcolor": "#E5ECF6",
            "gridcolor": "white",
            "gridwidth": 2,
            "linecolor": "white",
            "showbackground": true,
            "ticks": "",
            "zerolinecolor": "white"
           },
           "zaxis": {
            "backgroundcolor": "#E5ECF6",
            "gridcolor": "white",
            "gridwidth": 2,
            "linecolor": "white",
            "showbackground": true,
            "ticks": "",
            "zerolinecolor": "white"
           }
          },
          "shapedefaults": {
           "line": {
            "color": "#2a3f5f"
           }
          },
          "ternary": {
           "aaxis": {
            "gridcolor": "white",
            "linecolor": "white",
            "ticks": ""
           },
           "baxis": {
            "gridcolor": "white",
            "linecolor": "white",
            "ticks": ""
           },
           "bgcolor": "#E5ECF6",
           "caxis": {
            "gridcolor": "white",
            "linecolor": "white",
            "ticks": ""
           }
          },
          "title": {
           "x": 0.05
          },
          "xaxis": {
           "automargin": true,
           "gridcolor": "white",
           "linecolor": "white",
           "ticks": "",
           "title": {
            "standoff": 15
           },
           "zerolinecolor": "white",
           "zerolinewidth": 2
          },
          "yaxis": {
           "automargin": true,
           "gridcolor": "white",
           "linecolor": "white",
           "ticks": "",
           "title": {
            "standoff": 15
           },
           "zerolinecolor": "white",
           "zerolinewidth": 2
          }
         }
        },
        "title": {
         "text": "🥇 TOP 30 ADMINISTRATEURS PAR CENTRALITÉ<br><span style='font-size:12px; color:#666'>Couleur = Betweenness • Taille = Degré</span>"
        },
        "width": 1000
       }
      }
     },
     "metadata": {},
     "output_type": "display_data"
    }
   ],
   "source": [
    "print(\"\\n🌐 VISUALISATION PAR CENTRALITÉ (sans clustering)\")\n",
    "print(\"=\" * 45)\n",
    "\n",
    "# Prendre moins de nœuds pour mieux voir (30 au lieu de 100)\n",
    "top_officer_ids = set(officers_df.nlargest(30, 'betweenness')['id'])\n",
    "G_top_officers = G_officers.subgraph(top_officer_ids).copy()\n",
    "\n",
    "print(f\"• Réseau visualisé: {len(G_top_officers)} administrateurs\")\n",
    "print(f\"• Connexions: {G_top_officers.number_of_edges()}\")\n",
    "\n",
    "# Layout avec plus d'espace\n",
    "pos = nx.spring_layout(G_top_officers, k=5, iterations=100, seed=42)  # k=5 pour plus d'espace\n",
    "\n",
    "# Arêtes\n",
    "edge_x, edge_y = [], []\n",
    "for edge in G_top_officers.edges():\n",
    "    x0, y0 = pos[edge[0]]\n",
    "    x1, y1 = pos[edge[1]]\n",
    "    edge_x.extend([x0, x1, None])\n",
    "    edge_y.extend([y0, y1, None])\n",
    "\n",
    "edge_trace = go.Scatter(\n",
    "    x=edge_x, y=edge_y,\n",
    "    line=dict(width=1, color='rgba(150, 150, 150, 0.4)'),\n",
    "    hoverinfo='none',\n",
    "    mode='lines',\n",
    "    showlegend=False\n",
    ")\n",
    "\n",
    "# Nœuds avec couleur par betweenness (au lieu de cluster)\n",
    "node_x, node_y, colors, sizes, hover_texts = [], [], [], [], []\n",
    "\n",
    "for node in G_top_officers.nodes():\n",
    "    x, y = pos[node]\n",
    "    node_x.append(x)\n",
    "    node_y.append(y)\n",
    "    \n",
    "    # Données de l'administrateur\n",
    "    officer_data = officers_df[officers_df['id'] == node].iloc[0]\n",
    "    \n",
    "    # Couleur par betweenness (plus intéressant qu'un seul cluster)\n",
    "    betweenness = officer_data['betweenness']\n",
    "    colors.append(betweenness)\n",
    "    \n",
    "    # Taille par degree\n",
    "    degree = officer_data['degree']\n",
    "    sizes.append(15 + np.log1p(degree) * 5)  # Scaling logarithmique\n",
    "    \n",
    "    # Texte hover\n",
    "    hover_text = (\n",
    "        f\"<b>{officer_data['name']}</b><br>\"\n",
    "        f\"Degré: {degree}<br>\"\n",
    "        f\"Betweenness: {betweenness:.4f}<br>\"\n",
    "        f\"Pays: {officer_data.get('jurisdiction_description', 'N/A')}\"\n",
    "    )\n",
    "    hover_texts.append(hover_text)\n",
    "\n",
    "node_trace = go.Scatter(\n",
    "    x=node_x, y=node_y,\n",
    "    mode='markers',\n",
    "    marker=dict(\n",
    "        size=sizes,\n",
    "        color=colors,\n",
    "        colorscale='Viridis',\n",
    "        showscale=True,\n",
    "        colorbar=dict(title=\"Betweenness\"),\n",
    "        line=dict(width=2, color='white')\n",
    "    ),\n",
    "    text=hover_texts,\n",
    "    hoverinfo='text',\n",
    "    hovertemplate='%{text}<extra></extra>'\n",
    ")\n",
    "\n",
    "fig_network = go.Figure(data=[edge_trace, node_trace])\n",
    "fig_network.update_layout(\n",
    "    title=\"🥇 TOP 30 ADMINISTRATEURS PAR CENTRALITÉ<br>\"\n",
    "          \"<span style='font-size:12px; color:#666'>Couleur = Betweenness • Taille = Degré</span>\",\n",
    "    width=1000,\n",
    "    height=800,\n",
    "    showlegend=False,\n",
    "    hovermode='closest'\n",
    ")\n",
    "\n",
    "fig_network.show()"
   ]
  },
  {
   "cell_type": "code",
   "execution_count": 74,
   "id": "b179fc38",
   "metadata": {},
   "outputs": [],
   "source": [
    "fig.write_html(\n",
    "    r\"C:\\Users\\Ashahi\\Desktop\\Graph\\examen\\notebooks\\graphes_notebook2\\graphe_4.html\",\n",
    "    include_plotlyjs='cdn',\n",
    "    full_html=True\n",
    ")"
   ]
  },
  {
   "cell_type": "code",
   "execution_count": 75,
   "id": "5488db5d",
   "metadata": {},
   "outputs": [
    {
     "name": "stdout",
     "output_type": "stream",
     "text": [
      "\n",
      "🌐 VISUALISATION AVEC CLUSTERS MANUELS\n",
      "========================================\n"
     ]
    }
   ],
   "source": [
    "print(\"\\n🌐 VISUALISATION AVEC CLUSTERS MANUELS\")\n",
    "print(\"=\" * 40)\n",
    "\n",
    "# Créer des clusters simples basés sur le degree\n",
    "officers_df['simple_cluster'] = pd.cut(officers_df['degree'], \n",
    "                                      bins=3, \n",
    "                                      labels=[0, 1, 2])\n",
    "\n",
    "top_officer_ids = set(officers_df.nlargest(30, 'betweenness')['id'])\n",
    "G_top_officers = G_officers.subgraph(top_officer_ids).copy()\n",
    "\n",
    "# Layout\n",
    "pos = nx.spring_layout(G_top_officers, k=5, iterations=100, seed=42)\n",
    "\n",
    "# Même code pour les arêtes...\n",
    "\n",
    "# Nœuds avec clusters manuels\n",
    "node_x, node_y, colors, sizes, hover_texts = [], [], [], [], []\n",
    "\n",
    "for node in G_top_officers.nodes():\n",
    "    x, y = pos[node]\n",
    "    node_x.append(x)\n",
    "    node_y.append(y)\n",
    "    \n",
    "    officer_data = officers_df[officers_df['id'] == node].iloc[0]\n",
    "    \n",
    "    # Couleur par cluster manuel\n",
    "    cluster = officer_data['simple_cluster']\n",
    "    colors.append(cluster)\n",
    "    \n",
    "    betweenness = officer_data['betweenness']\n",
    "    sizes.append(15 + betweenness * 800)\n",
    "    \n",
    "    hover_text = (\n",
    "        f\"<b>{officer_data['name']}</b><br>\"\n",
    "        f\"Cluster (par degré): {cluster}<br>\"\n",
    "        f\"Degré: {officer_data['degree']}<br>\"\n",
    "        f\"Betweenness: {betweenness:.4f}\"\n",
    "    )\n",
    "    hover_texts.append(hover_text)\n",
    "\n",
    "# Reste du code identique..."
   ]
  },
  {
   "cell_type": "code",
   "execution_count": 76,
   "id": "1242940e",
   "metadata": {},
   "outputs": [
    {
     "name": "stdout",
     "output_type": "stream",
     "text": [
      "\n",
      "🔥 CARTE THERMIQUE DES SIMILARITÉS ENTRE ADMINISTRATEURS\n",
      "=======================================================\n"
     ]
    },
    {
     "data": {
      "application/vnd.plotly.v1+json": {
       "config": {
        "plotlyServerURL": "https://plot.ly"
       },
       "data": [
        {
         "colorscale": [
          [
           0,
           "#440154"
          ],
          [
           0.1111111111111111,
           "#482878"
          ],
          [
           0.2222222222222222,
           "#3e4989"
          ],
          [
           0.3333333333333333,
           "#31688e"
          ],
          [
           0.4444444444444444,
           "#26828e"
          ],
          [
           0.5555555555555556,
           "#1f9e89"
          ],
          [
           0.6666666666666666,
           "#35b779"
          ],
          [
           0.7777777777777778,
           "#6ece58"
          ],
          [
           0.8888888888888888,
           "#b5de2b"
          ],
          [
           1,
           "#fde725"
          ]
         ],
         "hoverongaps": false,
         "hovertemplate": "Similarité entre<br>%{y} et<br>%{x}: %{z:.3f}<extra></extra>",
         "type": "heatmap",
         "x": [
          "",
          "Portcullis TrustNet ...",
          "Execorp Limited",
          "UBS AG, Singapore",
          "Sharecorp Limited",
          "Acticorp Limited",
          "Directcorp Limited ",
          "FORTUNE SPREAD INVES...",
          "SPITFIRE TRADING COM...",
          "KIKI HOLDING (PTC) L...",
          "BLACK PEARL TRADING ...",
          "Orient Group Inc.",
          "International Enviro...",
          "IP ASSETS MANAGEMENT...",
          "CENTURY GLOBAL SELEC..."
         ],
         "y": [
          "",
          "Portcullis TrustNet ...",
          "Execorp Limited",
          "UBS AG, Singapore",
          "Sharecorp Limited",
          "Acticorp Limited",
          "Directcorp Limited ",
          "FORTUNE SPREAD INVES...",
          "SPITFIRE TRADING COM...",
          "KIKI HOLDING (PTC) L...",
          "BLACK PEARL TRADING ...",
          "Orient Group Inc.",
          "International Enviro...",
          "IP ASSETS MANAGEMENT...",
          "CENTURY GLOBAL SELEC..."
         ],
         "z": {
          "bdata": "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",
          "dtype": "f8",
          "shape": "15, 15"
         }
        }
       ],
       "layout": {
        "height": 800,
        "template": {
         "data": {
          "bar": [
           {
            "error_x": {
             "color": "#2a3f5f"
            },
            "error_y": {
             "color": "#2a3f5f"
            },
            "marker": {
             "line": {
              "color": "#E5ECF6",
              "width": 0.5
             },
             "pattern": {
              "fillmode": "overlay",
              "size": 10,
              "solidity": 0.2
             }
            },
            "type": "bar"
           }
          ],
          "barpolar": [
           {
            "marker": {
             "line": {
              "color": "#E5ECF6",
              "width": 0.5
             },
             "pattern": {
              "fillmode": "overlay",
              "size": 10,
              "solidity": 0.2
             }
            },
            "type": "barpolar"
           }
          ],
          "carpet": [
           {
            "aaxis": {
             "endlinecolor": "#2a3f5f",
             "gridcolor": "white",
             "linecolor": "white",
             "minorgridcolor": "white",
             "startlinecolor": "#2a3f5f"
            },
            "baxis": {
             "endlinecolor": "#2a3f5f",
             "gridcolor": "white",
             "linecolor": "white",
             "minorgridcolor": "white",
             "startlinecolor": "#2a3f5f"
            },
            "type": "carpet"
           }
          ],
          "choropleth": [
           {
            "colorbar": {
             "outlinewidth": 0,
             "ticks": ""
            },
            "type": "choropleth"
           }
          ],
          "contour": [
           {
            "colorbar": {
             "outlinewidth": 0,
             "ticks": ""
            },
            "colorscale": [
             [
              0,
              "#0d0887"
             ],
             [
              0.1111111111111111,
              "#46039f"
             ],
             [
              0.2222222222222222,
              "#7201a8"
             ],
             [
              0.3333333333333333,
              "#9c179e"
             ],
             [
              0.4444444444444444,
              "#bd3786"
             ],
             [
              0.5555555555555556,
              "#d8576b"
             ],
             [
              0.6666666666666666,
              "#ed7953"
             ],
             [
              0.7777777777777778,
              "#fb9f3a"
             ],
             [
              0.8888888888888888,
              "#fdca26"
             ],
             [
              1,
              "#f0f921"
             ]
            ],
            "type": "contour"
           }
          ],
          "contourcarpet": [
           {
            "colorbar": {
             "outlinewidth": 0,
             "ticks": ""
            },
            "type": "contourcarpet"
           }
          ],
          "heatmap": [
           {
            "colorbar": {
             "outlinewidth": 0,
             "ticks": ""
            },
            "colorscale": [
             [
              0,
              "#0d0887"
             ],
             [
              0.1111111111111111,
              "#46039f"
             ],
             [
              0.2222222222222222,
              "#7201a8"
             ],
             [
              0.3333333333333333,
              "#9c179e"
             ],
             [
              0.4444444444444444,
              "#bd3786"
             ],
             [
              0.5555555555555556,
              "#d8576b"
             ],
             [
              0.6666666666666666,
              "#ed7953"
             ],
             [
              0.7777777777777778,
              "#fb9f3a"
             ],
             [
              0.8888888888888888,
              "#fdca26"
             ],
             [
              1,
              "#f0f921"
             ]
            ],
            "type": "heatmap"
           }
          ],
          "histogram": [
           {
            "marker": {
             "pattern": {
              "fillmode": "overlay",
              "size": 10,
              "solidity": 0.2
             }
            },
            "type": "histogram"
           }
          ],
          "histogram2d": [
           {
            "colorbar": {
             "outlinewidth": 0,
             "ticks": ""
            },
            "colorscale": [
             [
              0,
              "#0d0887"
             ],
             [
              0.1111111111111111,
              "#46039f"
             ],
             [
              0.2222222222222222,
              "#7201a8"
             ],
             [
              0.3333333333333333,
              "#9c179e"
             ],
             [
              0.4444444444444444,
              "#bd3786"
             ],
             [
              0.5555555555555556,
              "#d8576b"
             ],
             [
              0.6666666666666666,
              "#ed7953"
             ],
             [
              0.7777777777777778,
              "#fb9f3a"
             ],
             [
              0.8888888888888888,
              "#fdca26"
             ],
             [
              1,
              "#f0f921"
             ]
            ],
            "type": "histogram2d"
           }
          ],
          "histogram2dcontour": [
           {
            "colorbar": {
             "outlinewidth": 0,
             "ticks": ""
            },
            "colorscale": [
             [
              0,
              "#0d0887"
             ],
             [
              0.1111111111111111,
              "#46039f"
             ],
             [
              0.2222222222222222,
              "#7201a8"
             ],
             [
              0.3333333333333333,
              "#9c179e"
             ],
             [
              0.4444444444444444,
              "#bd3786"
             ],
             [
              0.5555555555555556,
              "#d8576b"
             ],
             [
              0.6666666666666666,
              "#ed7953"
             ],
             [
              0.7777777777777778,
              "#fb9f3a"
             ],
             [
              0.8888888888888888,
              "#fdca26"
             ],
             [
              1,
              "#f0f921"
             ]
            ],
            "type": "histogram2dcontour"
           }
          ],
          "mesh3d": [
           {
            "colorbar": {
             "outlinewidth": 0,
             "ticks": ""
            },
            "type": "mesh3d"
           }
          ],
          "parcoords": [
           {
            "line": {
             "colorbar": {
              "outlinewidth": 0,
              "ticks": ""
             }
            },
            "type": "parcoords"
           }
          ],
          "pie": [
           {
            "automargin": true,
            "type": "pie"
           }
          ],
          "scatter": [
           {
            "fillpattern": {
             "fillmode": "overlay",
             "size": 10,
             "solidity": 0.2
            },
            "type": "scatter"
           }
          ],
          "scatter3d": [
           {
            "line": {
             "colorbar": {
              "outlinewidth": 0,
              "ticks": ""
             }
            },
            "marker": {
             "colorbar": {
              "outlinewidth": 0,
              "ticks": ""
             }
            },
            "type": "scatter3d"
           }
          ],
          "scattercarpet": [
           {
            "marker": {
             "colorbar": {
              "outlinewidth": 0,
              "ticks": ""
             }
            },
            "type": "scattercarpet"
           }
          ],
          "scattergeo": [
           {
            "marker": {
             "colorbar": {
              "outlinewidth": 0,
              "ticks": ""
             }
            },
            "type": "scattergeo"
           }
          ],
          "scattergl": [
           {
            "marker": {
             "colorbar": {
              "outlinewidth": 0,
              "ticks": ""
             }
            },
            "type": "scattergl"
           }
          ],
          "scattermap": [
           {
            "marker": {
             "colorbar": {
              "outlinewidth": 0,
              "ticks": ""
             }
            },
            "type": "scattermap"
           }
          ],
          "scattermapbox": [
           {
            "marker": {
             "colorbar": {
              "outlinewidth": 0,
              "ticks": ""
             }
            },
            "type": "scattermapbox"
           }
          ],
          "scatterpolar": [
           {
            "marker": {
             "colorbar": {
              "outlinewidth": 0,
              "ticks": ""
             }
            },
            "type": "scatterpolar"
           }
          ],
          "scatterpolargl": [
           {
            "marker": {
             "colorbar": {
              "outlinewidth": 0,
              "ticks": ""
             }
            },
            "type": "scatterpolargl"
           }
          ],
          "scatterternary": [
           {
            "marker": {
             "colorbar": {
              "outlinewidth": 0,
              "ticks": ""
             }
            },
            "type": "scatterternary"
           }
          ],
          "surface": [
           {
            "colorbar": {
             "outlinewidth": 0,
             "ticks": ""
            },
            "colorscale": [
             [
              0,
              "#0d0887"
             ],
             [
              0.1111111111111111,
              "#46039f"
             ],
             [
              0.2222222222222222,
              "#7201a8"
             ],
             [
              0.3333333333333333,
              "#9c179e"
             ],
             [
              0.4444444444444444,
              "#bd3786"
             ],
             [
              0.5555555555555556,
              "#d8576b"
             ],
             [
              0.6666666666666666,
              "#ed7953"
             ],
             [
              0.7777777777777778,
              "#fb9f3a"
             ],
             [
              0.8888888888888888,
              "#fdca26"
             ],
             [
              1,
              "#f0f921"
             ]
            ],
            "type": "surface"
           }
          ],
          "table": [
           {
            "cells": {
             "fill": {
              "color": "#EBF0F8"
             },
             "line": {
              "color": "white"
             }
            },
            "header": {
             "fill": {
              "color": "#C8D4E3"
             },
             "line": {
              "color": "white"
             }
            },
            "type": "table"
           }
          ]
         },
         "layout": {
          "annotationdefaults": {
           "arrowcolor": "#2a3f5f",
           "arrowhead": 0,
           "arrowwidth": 1
          },
          "autotypenumbers": "strict",
          "coloraxis": {
           "colorbar": {
            "outlinewidth": 0,
            "ticks": ""
           }
          },
          "colorscale": {
           "diverging": [
            [
             0,
             "#8e0152"
            ],
            [
             0.1,
             "#c51b7d"
            ],
            [
             0.2,
             "#de77ae"
            ],
            [
             0.3,
             "#f1b6da"
            ],
            [
             0.4,
             "#fde0ef"
            ],
            [
             0.5,
             "#f7f7f7"
            ],
            [
             0.6,
             "#e6f5d0"
            ],
            [
             0.7,
             "#b8e186"
            ],
            [
             0.8,
             "#7fbc41"
            ],
            [
             0.9,
             "#4d9221"
            ],
            [
             1,
             "#276419"
            ]
           ],
           "sequential": [
            [
             0,
             "#0d0887"
            ],
            [
             0.1111111111111111,
             "#46039f"
            ],
            [
             0.2222222222222222,
             "#7201a8"
            ],
            [
             0.3333333333333333,
             "#9c179e"
            ],
            [
             0.4444444444444444,
             "#bd3786"
            ],
            [
             0.5555555555555556,
             "#d8576b"
            ],
            [
             0.6666666666666666,
             "#ed7953"
            ],
            [
             0.7777777777777778,
             "#fb9f3a"
            ],
            [
             0.8888888888888888,
             "#fdca26"
            ],
            [
             1,
             "#f0f921"
            ]
           ],
           "sequentialminus": [
            [
             0,
             "#0d0887"
            ],
            [
             0.1111111111111111,
             "#46039f"
            ],
            [
             0.2222222222222222,
             "#7201a8"
            ],
            [
             0.3333333333333333,
             "#9c179e"
            ],
            [
             0.4444444444444444,
             "#bd3786"
            ],
            [
             0.5555555555555556,
             "#d8576b"
            ],
            [
             0.6666666666666666,
             "#ed7953"
            ],
            [
             0.7777777777777778,
             "#fb9f3a"
            ],
            [
             0.8888888888888888,
             "#fdca26"
            ],
            [
             1,
             "#f0f921"
            ]
           ]
          },
          "colorway": [
           "#636efa",
           "#EF553B",
           "#00cc96",
           "#ab63fa",
           "#FFA15A",
           "#19d3f3",
           "#FF6692",
           "#B6E880",
           "#FF97FF",
           "#FECB52"
          ],
          "font": {
           "color": "#2a3f5f"
          },
          "geo": {
           "bgcolor": "white",
           "lakecolor": "white",
           "landcolor": "#E5ECF6",
           "showlakes": true,
           "showland": true,
           "subunitcolor": "white"
          },
          "hoverlabel": {
           "align": "left"
          },
          "hovermode": "closest",
          "mapbox": {
           "style": "light"
          },
          "paper_bgcolor": "white",
          "plot_bgcolor": "#E5ECF6",
          "polar": {
           "angularaxis": {
            "gridcolor": "white",
            "linecolor": "white",
            "ticks": ""
           },
           "bgcolor": "#E5ECF6",
           "radialaxis": {
            "gridcolor": "white",
            "linecolor": "white",
            "ticks": ""
           }
          },
          "scene": {
           "xaxis": {
            "backgroundcolor": "#E5ECF6",
            "gridcolor": "white",
            "gridwidth": 2,
            "linecolor": "white",
            "showbackground": true,
            "ticks": "",
            "zerolinecolor": "white"
           },
           "yaxis": {
            "backgroundcolor": "#E5ECF6",
            "gridcolor": "white",
            "gridwidth": 2,
            "linecolor": "white",
            "showbackground": true,
            "ticks": "",
            "zerolinecolor": "white"
           },
           "zaxis": {
            "backgroundcolor": "#E5ECF6",
            "gridcolor": "white",
            "gridwidth": 2,
            "linecolor": "white",
            "showbackground": true,
            "ticks": "",
            "zerolinecolor": "white"
           }
          },
          "shapedefaults": {
           "line": {
            "color": "#2a3f5f"
           }
          },
          "ternary": {
           "aaxis": {
            "gridcolor": "white",
            "linecolor": "white",
            "ticks": ""
           },
           "baxis": {
            "gridcolor": "white",
            "linecolor": "white",
            "ticks": ""
           },
           "bgcolor": "#E5ECF6",
           "caxis": {
            "gridcolor": "white",
            "linecolor": "white",
            "ticks": ""
           }
          },
          "title": {
           "x": 0.05
          },
          "xaxis": {
           "automargin": true,
           "gridcolor": "white",
           "linecolor": "white",
           "ticks": "",
           "title": {
            "standoff": 15
           },
           "zerolinecolor": "white",
           "zerolinewidth": 2
          },
          "yaxis": {
           "automargin": true,
           "gridcolor": "white",
           "linecolor": "white",
           "ticks": "",
           "title": {
            "standoff": 15
           },
           "zerolinecolor": "white",
           "zerolinewidth": 2
          }
         }
        },
        "title": {
         "text": "🔥 SIMILARITÉS ENTRE LES TOP 15 ADMINISTRATEURS<br><span style='font-size:12px; color:#666'>Basé sur les embeddings Node2Vec</span>"
        },
        "width": 800,
        "xaxis": {
         "tickangle": 45
        },
        "yaxis": {
         "tickangle": 0
        }
       }
      }
     },
     "metadata": {},
     "output_type": "display_data"
    }
   ],
   "source": [
    "print(\"\\n🔥 CARTE THERMIQUE DES SIMILARITÉS ENTRE ADMINISTRATEURS\")\n",
    "print(\"=\" * 55)\n",
    "\n",
    "# Matrice de similarité pour les top 15 administrateurs\n",
    "top_15_ids = officers_df_clean.nlargest(15, 'betweenness')['id'].tolist()\n",
    "similarity_matrix = np.zeros((len(top_15_ids), len(top_15_ids)))\n",
    "\n",
    "# Remplir la matrice de similarité\n",
    "for i, node1 in enumerate(top_15_ids):\n",
    "    for j, node2 in enumerate(top_15_ids):\n",
    "        if i == j:\n",
    "            similarity_matrix[i][j] = 1.0\n",
    "        elif str(node1) in model.wv and str(node2) in model.wv:\n",
    "            similarity_matrix[i][j] = model.wv.similarity(str(node1), str(node2))\n",
    "        else:\n",
    "            similarity_matrix[i][j] = 0.0\n",
    "\n",
    "# Noms pour les axes\n",
    "names = []\n",
    "for node_id in top_15_ids:\n",
    "    name = officers_df_clean[officers_df_clean['id'] == node_id]['name'].iloc[0]\n",
    "    names.append(str(name)[:20] + \"...\" if len(str(name)) > 20 else str(name))\n",
    "\n",
    "# Carte thermique\n",
    "fig_heatmap = go.Figure(data=go.Heatmap(\n",
    "    z=similarity_matrix,\n",
    "    x=names,\n",
    "    y=names,\n",
    "    colorscale='Viridis',\n",
    "    hoverongaps=False,\n",
    "    hovertemplate='Similarité entre<br>%{y} et<br>%{x}: %{z:.3f}<extra></extra>'\n",
    "))\n",
    "\n",
    "fig_heatmap.update_layout(\n",
    "    title=\"🔥 SIMILARITÉS ENTRE LES TOP 15 ADMINISTRATEURS<br>\"\n",
    "          \"<span style='font-size:12px; color:#666'>Basé sur les embeddings Node2Vec</span>\",\n",
    "    width=800,\n",
    "    height=800,\n",
    "    xaxis=dict(tickangle=45),\n",
    "    yaxis=dict(tickangle=0)\n",
    ")\n",
    "\n",
    "fig_heatmap.show()"
   ]
  },
  {
   "cell_type": "code",
   "execution_count": 77,
   "id": "77faed46",
   "metadata": {},
   "outputs": [],
   "source": [
    "fig.write_html(\n",
    "    r\"C:\\Users\\Ashahi\\Desktop\\Graph\\examen\\notebooks\\graphes_notebook2\\graphe_5.html\",\n",
    "    include_plotlyjs='cdn',\n",
    "    full_html=True\n",
    ")"
   ]
  }
 ],
 "metadata": {
  "kernelspec": {
   "display_name": ".env",
   "language": "python",
   "name": "python3"
  },
  "language_info": {
   "codemirror_mode": {
    "name": "ipython",
    "version": 3
   },
   "file_extension": ".py",
   "mimetype": "text/x-python",
   "name": "python",
   "nbconvert_exporter": "python",
   "pygments_lexer": "ipython3",
   "version": "3.11.0"
  }
 },
 "nbformat": 4,
 "nbformat_minor": 5
}
