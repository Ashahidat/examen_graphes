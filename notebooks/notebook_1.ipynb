{
 "cells": [
  {
   "cell_type": "markdown",
   "id": "a15e93f6",
   "metadata": {},
   "source": [
    "## Introduction & Context"
   ]
  },
  {
   "cell_type": "markdown",
   "id": "154c6b86",
   "metadata": {},
   "source": [
    "This notebook provides a brief introduction to the ICIJ Offshore Leaks Database (commonly known through the Panama Papers). \n",
    "It describes the main data files, node types, and relationships, outlines the strategy for targeted extractions, and introduces the metagraph, a high-level overview of the network, to prepare the reader for detailed network analysis and visualization."
   ]
  },
  {
   "cell_type": "markdown",
   "id": "6d63a6db",
   "metadata": {},
   "source": [
    "### Background"
   ]
  },
  {
   "cell_type": "markdown",
   "id": "3f061f49",
   "metadata": {},
   "source": [
    "The Panama Papers (2016) are one of the largest financial leaks in history, \n",
    "revealing millions of documents exposing offshore companies, intermediaries, and individuals involved in tax evasion or hidden asset structures."
   ]
  },
  {
   "cell_type": "markdown",
   "id": "e1da62ce",
   "metadata": {},
   "source": [
    "## Data structure"
   ]
  },
  {
   "cell_type": "markdown",
   "id": "1211d68c",
   "metadata": {},
   "source": [
    "Each CSV file represents a different node type, and one file defines relationships between them."
   ]
  },
  {
   "cell_type": "markdown",
   "id": "a478afcf",
   "metadata": {},
   "source": [
    "### Quick preview of the files"
   ]
  },
  {
   "cell_type": "markdown",
   "id": "2916c516",
   "metadata": {},
   "source": [
    "#### Entities "
   ]
  },
  {
   "cell_type": "markdown",
   "id": "6c5d44e4",
   "metadata": {},
   "source": [
    "Entities represent offshore legal structures and companies registered in various jurisdictions."
   ]
  },
  {
   "cell_type": "code",
   "execution_count": 25,
   "id": "d007ffa0",
   "metadata": {},
   "outputs": [
    {
     "name": "stderr",
     "output_type": "stream",
     "text": [
      "C:\\Users\\Ashahi\\AppData\\Local\\Temp\\ipykernel_3288\\1522325528.py:3: DtypeWarning: Columns (2,3,6,7,10,11,12,13,14,15,16,17,20) have mixed types. Specify dtype option on import or set low_memory=False.\n",
      "  entities = pd.read_csv(base_path + \"nodes-entities.csv\")\n"
     ]
    }
   ],
   "source": [
    "import pandas as pd\n",
    "base_path = \"../Dataset/\"\n",
    "entities = pd.read_csv(base_path + \"nodes-entities.csv\")"
   ]
  },
  {
   "cell_type": "code",
   "execution_count": 26,
   "id": "9a246b32",
   "metadata": {},
   "outputs": [
    {
     "data": {
      "text/html": [
       "<div>\n",
       "<style scoped>\n",
       "    .dataframe tbody tr th:only-of-type {\n",
       "        vertical-align: middle;\n",
       "    }\n",
       "\n",
       "    .dataframe tbody tr th {\n",
       "        vertical-align: top;\n",
       "    }\n",
       "\n",
       "    .dataframe thead th {\n",
       "        text-align: right;\n",
       "    }\n",
       "</style>\n",
       "<table border=\"1\" class=\"dataframe\">\n",
       "  <thead>\n",
       "    <tr style=\"text-align: right;\">\n",
       "      <th></th>\n",
       "      <th>node_id</th>\n",
       "      <th>name</th>\n",
       "      <th>original_name</th>\n",
       "      <th>former_name</th>\n",
       "      <th>jurisdiction</th>\n",
       "      <th>jurisdiction_description</th>\n",
       "      <th>company_type</th>\n",
       "      <th>address</th>\n",
       "      <th>internal_id</th>\n",
       "      <th>incorporation_date</th>\n",
       "      <th>...</th>\n",
       "      <th>struck_off_date</th>\n",
       "      <th>dorm_date</th>\n",
       "      <th>status</th>\n",
       "      <th>service_provider</th>\n",
       "      <th>ibcRUC</th>\n",
       "      <th>country_codes</th>\n",
       "      <th>countries</th>\n",
       "      <th>sourceID</th>\n",
       "      <th>valid_until</th>\n",
       "      <th>note</th>\n",
       "    </tr>\n",
       "  </thead>\n",
       "  <tbody>\n",
       "    <tr>\n",
       "      <th>0</th>\n",
       "      <td>10000001</td>\n",
       "      <td>TIANSHENG INDUSTRY AND TRADING CO., LTD.</td>\n",
       "      <td>TIANSHENG INDUSTRY AND TRADING CO., LTD.</td>\n",
       "      <td>NaN</td>\n",
       "      <td>SAM</td>\n",
       "      <td>Samoa</td>\n",
       "      <td>NaN</td>\n",
       "      <td>ORION HOUSE SERVICES (HK) LIMITED ROOM 1401; 1...</td>\n",
       "      <td>1001256.0</td>\n",
       "      <td>23-MAR-2006</td>\n",
       "      <td>...</td>\n",
       "      <td>15-FEB-2013</td>\n",
       "      <td>NaN</td>\n",
       "      <td>Defaulted</td>\n",
       "      <td>Mossack Fonseca</td>\n",
       "      <td>25221</td>\n",
       "      <td>HKG</td>\n",
       "      <td>Hong Kong</td>\n",
       "      <td>Panama Papers</td>\n",
       "      <td>The Panama Papers data is current through 2015</td>\n",
       "      <td>NaN</td>\n",
       "    </tr>\n",
       "    <tr>\n",
       "      <th>1</th>\n",
       "      <td>10000002</td>\n",
       "      <td>NINGBO SUNRISE ENTERPRISES UNITED CO., LTD.</td>\n",
       "      <td>NINGBO SUNRISE ENTERPRISES UNITED CO., LTD.</td>\n",
       "      <td>NaN</td>\n",
       "      <td>SAM</td>\n",
       "      <td>Samoa</td>\n",
       "      <td>NaN</td>\n",
       "      <td>ORION HOUSE SERVICES (HK) LIMITED ROOM 1401; 1...</td>\n",
       "      <td>1001263.0</td>\n",
       "      <td>27-MAR-2006</td>\n",
       "      <td>...</td>\n",
       "      <td>15-FEB-2014</td>\n",
       "      <td>NaN</td>\n",
       "      <td>Defaulted</td>\n",
       "      <td>Mossack Fonseca</td>\n",
       "      <td>25249</td>\n",
       "      <td>HKG</td>\n",
       "      <td>Hong Kong</td>\n",
       "      <td>Panama Papers</td>\n",
       "      <td>The Panama Papers data is current through 2015</td>\n",
       "      <td>NaN</td>\n",
       "    </tr>\n",
       "    <tr>\n",
       "      <th>2</th>\n",
       "      <td>10000003</td>\n",
       "      <td>HOTFOCUS CO., LTD.</td>\n",
       "      <td>HOTFOCUS CO., LTD.</td>\n",
       "      <td>NaN</td>\n",
       "      <td>SAM</td>\n",
       "      <td>Samoa</td>\n",
       "      <td>NaN</td>\n",
       "      <td>ORION HOUSE SERVICES (HK) LIMITED ROOM 1401; 1...</td>\n",
       "      <td>1000896.0</td>\n",
       "      <td>10-JAN-2006</td>\n",
       "      <td>...</td>\n",
       "      <td>15-FEB-2012</td>\n",
       "      <td>NaN</td>\n",
       "      <td>Defaulted</td>\n",
       "      <td>Mossack Fonseca</td>\n",
       "      <td>24138</td>\n",
       "      <td>HKG</td>\n",
       "      <td>Hong Kong</td>\n",
       "      <td>Panama Papers</td>\n",
       "      <td>The Panama Papers data is current through 2015</td>\n",
       "      <td>NaN</td>\n",
       "    </tr>\n",
       "  </tbody>\n",
       "</table>\n",
       "<p>3 rows × 21 columns</p>\n",
       "</div>"
      ],
      "text/plain": [
       "    node_id                                         name  \\\n",
       "0  10000001     TIANSHENG INDUSTRY AND TRADING CO., LTD.   \n",
       "1  10000002  NINGBO SUNRISE ENTERPRISES UNITED CO., LTD.   \n",
       "2  10000003                           HOTFOCUS CO., LTD.   \n",
       "\n",
       "                                 original_name former_name jurisdiction  \\\n",
       "0     TIANSHENG INDUSTRY AND TRADING CO., LTD.         NaN          SAM   \n",
       "1  NINGBO SUNRISE ENTERPRISES UNITED CO., LTD.         NaN          SAM   \n",
       "2                           HOTFOCUS CO., LTD.         NaN          SAM   \n",
       "\n",
       "  jurisdiction_description company_type  \\\n",
       "0                    Samoa          NaN   \n",
       "1                    Samoa          NaN   \n",
       "2                    Samoa          NaN   \n",
       "\n",
       "                                             address  internal_id  \\\n",
       "0  ORION HOUSE SERVICES (HK) LIMITED ROOM 1401; 1...    1001256.0   \n",
       "1  ORION HOUSE SERVICES (HK) LIMITED ROOM 1401; 1...    1001263.0   \n",
       "2  ORION HOUSE SERVICES (HK) LIMITED ROOM 1401; 1...    1000896.0   \n",
       "\n",
       "  incorporation_date  ... struck_off_date dorm_date     status  \\\n",
       "0        23-MAR-2006  ...     15-FEB-2013       NaN  Defaulted   \n",
       "1        27-MAR-2006  ...     15-FEB-2014       NaN  Defaulted   \n",
       "2        10-JAN-2006  ...     15-FEB-2012       NaN  Defaulted   \n",
       "\n",
       "  service_provider ibcRUC country_codes  countries       sourceID  \\\n",
       "0  Mossack Fonseca  25221           HKG  Hong Kong  Panama Papers   \n",
       "1  Mossack Fonseca  25249           HKG  Hong Kong  Panama Papers   \n",
       "2  Mossack Fonseca  24138           HKG  Hong Kong  Panama Papers   \n",
       "\n",
       "                                      valid_until note  \n",
       "0  The Panama Papers data is current through 2015  NaN  \n",
       "1  The Panama Papers data is current through 2015  NaN  \n",
       "2  The Panama Papers data is current through 2015  NaN  \n",
       "\n",
       "[3 rows x 21 columns]"
      ]
     },
     "execution_count": 26,
     "metadata": {},
     "output_type": "execute_result"
    }
   ],
   "source": [
    "entities.head(3)"
   ]
  },
  {
   "cell_type": "code",
   "execution_count": 27,
   "id": "b67c902e",
   "metadata": {},
   "outputs": [
    {
     "name": "stdout",
     "output_type": "stream",
     "text": [
      "814344\n"
     ]
    }
   ],
   "source": [
    "print(len(entities))"
   ]
  },
  {
   "cell_type": "markdown",
   "id": "4645d968",
   "metadata": {},
   "source": [
    "#### Officers "
   ]
  },
  {
   "cell_type": "markdown",
   "id": "bcd583a1",
   "metadata": {},
   "source": [
    "Officers are individuals related to the entities."
   ]
  },
  {
   "cell_type": "code",
   "execution_count": 28,
   "id": "30c25821",
   "metadata": {},
   "outputs": [
    {
     "data": {
      "text/html": [
       "<div>\n",
       "<style scoped>\n",
       "    .dataframe tbody tr th:only-of-type {\n",
       "        vertical-align: middle;\n",
       "    }\n",
       "\n",
       "    .dataframe tbody tr th {\n",
       "        vertical-align: top;\n",
       "    }\n",
       "\n",
       "    .dataframe thead th {\n",
       "        text-align: right;\n",
       "    }\n",
       "</style>\n",
       "<table border=\"1\" class=\"dataframe\">\n",
       "  <thead>\n",
       "    <tr style=\"text-align: right;\">\n",
       "      <th></th>\n",
       "      <th>node_id</th>\n",
       "      <th>name</th>\n",
       "      <th>countries</th>\n",
       "      <th>country_codes</th>\n",
       "      <th>sourceID</th>\n",
       "      <th>valid_until</th>\n",
       "      <th>note</th>\n",
       "    </tr>\n",
       "  </thead>\n",
       "  <tbody>\n",
       "    <tr>\n",
       "      <th>0</th>\n",
       "      <td>12000001</td>\n",
       "      <td>KIM SOO IN</td>\n",
       "      <td>South Korea</td>\n",
       "      <td>KOR</td>\n",
       "      <td>Panama Papers</td>\n",
       "      <td>The Panama Papers data is current through 2015</td>\n",
       "      <td>NaN</td>\n",
       "    </tr>\n",
       "    <tr>\n",
       "      <th>1</th>\n",
       "      <td>12000002</td>\n",
       "      <td>Tian Yuan</td>\n",
       "      <td>China</td>\n",
       "      <td>CHN</td>\n",
       "      <td>Panama Papers</td>\n",
       "      <td>The Panama Papers data is current through 2015</td>\n",
       "      <td>NaN</td>\n",
       "    </tr>\n",
       "    <tr>\n",
       "      <th>2</th>\n",
       "      <td>12000003</td>\n",
       "      <td>GREGORY JOHN SOLOMON</td>\n",
       "      <td>Australia</td>\n",
       "      <td>AUS</td>\n",
       "      <td>Panama Papers</td>\n",
       "      <td>The Panama Papers data is current through 2015</td>\n",
       "      <td>NaN</td>\n",
       "    </tr>\n",
       "  </tbody>\n",
       "</table>\n",
       "</div>"
      ],
      "text/plain": [
       "    node_id                  name    countries country_codes       sourceID  \\\n",
       "0  12000001            KIM SOO IN  South Korea           KOR  Panama Papers   \n",
       "1  12000002             Tian Yuan        China           CHN  Panama Papers   \n",
       "2  12000003  GREGORY JOHN SOLOMON    Australia           AUS  Panama Papers   \n",
       "\n",
       "                                      valid_until note  \n",
       "0  The Panama Papers data is current through 2015  NaN  \n",
       "1  The Panama Papers data is current through 2015  NaN  \n",
       "2  The Panama Papers data is current through 2015  NaN  "
      ]
     },
     "execution_count": 28,
     "metadata": {},
     "output_type": "execute_result"
    }
   ],
   "source": [
    "officers = pd.read_csv(base_path + \"nodes-officers.csv\")\n",
    "\n",
    "officers.head(3)\n"
   ]
  },
  {
   "cell_type": "code",
   "execution_count": 29,
   "id": "f8e99311",
   "metadata": {},
   "outputs": [
    {
     "name": "stdout",
     "output_type": "stream",
     "text": [
      "771315\n"
     ]
    }
   ],
   "source": [
    "print(len(officers))"
   ]
  },
  {
   "cell_type": "markdown",
   "id": "7fe67c9a",
   "metadata": {},
   "source": [
    "#### Intermediaries "
   ]
  },
  {
   "cell_type": "markdown",
   "id": "a29cf8e6",
   "metadata": {},
   "source": [
    " Intermediaries law firms, agents, or service providers."
   ]
  },
  {
   "cell_type": "code",
   "execution_count": 30,
   "id": "47b2834c",
   "metadata": {},
   "outputs": [
    {
     "data": {
      "text/html": [
       "<div>\n",
       "<style scoped>\n",
       "    .dataframe tbody tr th:only-of-type {\n",
       "        vertical-align: middle;\n",
       "    }\n",
       "\n",
       "    .dataframe tbody tr th {\n",
       "        vertical-align: top;\n",
       "    }\n",
       "\n",
       "    .dataframe thead th {\n",
       "        text-align: right;\n",
       "    }\n",
       "</style>\n",
       "<table border=\"1\" class=\"dataframe\">\n",
       "  <thead>\n",
       "    <tr style=\"text-align: right;\">\n",
       "      <th></th>\n",
       "      <th>node_id</th>\n",
       "      <th>name</th>\n",
       "      <th>status</th>\n",
       "      <th>internal_id</th>\n",
       "      <th>address</th>\n",
       "      <th>countries</th>\n",
       "      <th>country_codes</th>\n",
       "      <th>sourceID</th>\n",
       "      <th>valid_until</th>\n",
       "      <th>note</th>\n",
       "    </tr>\n",
       "  </thead>\n",
       "  <tbody>\n",
       "    <tr>\n",
       "      <th>0</th>\n",
       "      <td>11000001</td>\n",
       "      <td>MICHAEL PAPAGEORGE, MR.</td>\n",
       "      <td>ACTIVE</td>\n",
       "      <td>10001</td>\n",
       "      <td>MICHAEL PAPAGEORGE; MR. 106 NICHOLSON STREET B...</td>\n",
       "      <td>South Africa</td>\n",
       "      <td>ZAF</td>\n",
       "      <td>Panama Papers</td>\n",
       "      <td>The Panama Papers  data is current through 2015</td>\n",
       "      <td>NaN</td>\n",
       "    </tr>\n",
       "    <tr>\n",
       "      <th>1</th>\n",
       "      <td>11000002</td>\n",
       "      <td>CORFIDUCIA ANSTALT</td>\n",
       "      <td>ACTIVE</td>\n",
       "      <td>10004</td>\n",
       "      <td>NaN</td>\n",
       "      <td>Liechtenstein</td>\n",
       "      <td>LIE</td>\n",
       "      <td>Panama Papers</td>\n",
       "      <td>The Panama Papers  data is current through 2015</td>\n",
       "      <td>NaN</td>\n",
       "    </tr>\n",
       "    <tr>\n",
       "      <th>2</th>\n",
       "      <td>11000003</td>\n",
       "      <td>DAVID, RONALD</td>\n",
       "      <td>SUSPENDED</td>\n",
       "      <td>10014</td>\n",
       "      <td>NaN</td>\n",
       "      <td>Monaco</td>\n",
       "      <td>MCO</td>\n",
       "      <td>Panama Papers</td>\n",
       "      <td>The Panama Papers  data is current through 2015</td>\n",
       "      <td>NaN</td>\n",
       "    </tr>\n",
       "  </tbody>\n",
       "</table>\n",
       "</div>"
      ],
      "text/plain": [
       "    node_id                     name     status internal_id  \\\n",
       "0  11000001  MICHAEL PAPAGEORGE, MR.     ACTIVE       10001   \n",
       "1  11000002       CORFIDUCIA ANSTALT     ACTIVE       10004   \n",
       "2  11000003            DAVID, RONALD  SUSPENDED       10014   \n",
       "\n",
       "                                             address      countries  \\\n",
       "0  MICHAEL PAPAGEORGE; MR. 106 NICHOLSON STREET B...   South Africa   \n",
       "1                                                NaN  Liechtenstein   \n",
       "2                                                NaN         Monaco   \n",
       "\n",
       "  country_codes       sourceID  \\\n",
       "0           ZAF  Panama Papers   \n",
       "1           LIE  Panama Papers   \n",
       "2           MCO  Panama Papers   \n",
       "\n",
       "                                       valid_until note  \n",
       "0  The Panama Papers  data is current through 2015  NaN  \n",
       "1  The Panama Papers  data is current through 2015  NaN  \n",
       "2  The Panama Papers  data is current through 2015  NaN  "
      ]
     },
     "execution_count": 30,
     "metadata": {},
     "output_type": "execute_result"
    }
   ],
   "source": [
    "intermediaries = pd.read_csv(base_path + \"nodes-intermediaries.csv\")\n",
    "intermediaries.head(3)"
   ]
  },
  {
   "cell_type": "code",
   "execution_count": 31,
   "id": "907366bf",
   "metadata": {},
   "outputs": [
    {
     "name": "stdout",
     "output_type": "stream",
     "text": [
      "25629\n"
     ]
    }
   ],
   "source": [
    "print(len(intermediaries))"
   ]
  },
  {
   "cell_type": "markdown",
   "id": "47df7c82",
   "metadata": {},
   "source": [
    "#### Addresses "
   ]
  },
  {
   "cell_type": "markdown",
   "id": "869f3eb2",
   "metadata": {},
   "source": [
    "Addresses are physical locations linked to entities and intermediaries."
   ]
  },
  {
   "cell_type": "code",
   "execution_count": 32,
   "id": "ff4d52de",
   "metadata": {},
   "outputs": [
    {
     "data": {
      "text/html": [
       "<div>\n",
       "<style scoped>\n",
       "    .dataframe tbody tr th:only-of-type {\n",
       "        vertical-align: middle;\n",
       "    }\n",
       "\n",
       "    .dataframe tbody tr th {\n",
       "        vertical-align: top;\n",
       "    }\n",
       "\n",
       "    .dataframe thead th {\n",
       "        text-align: right;\n",
       "    }\n",
       "</style>\n",
       "<table border=\"1\" class=\"dataframe\">\n",
       "  <thead>\n",
       "    <tr style=\"text-align: right;\">\n",
       "      <th></th>\n",
       "      <th>node_id</th>\n",
       "      <th>address</th>\n",
       "      <th>name</th>\n",
       "      <th>countries</th>\n",
       "      <th>country_codes</th>\n",
       "      <th>sourceID</th>\n",
       "      <th>valid_until</th>\n",
       "      <th>note</th>\n",
       "    </tr>\n",
       "  </thead>\n",
       "  <tbody>\n",
       "    <tr>\n",
       "      <th>0</th>\n",
       "      <td>24000001</td>\n",
       "      <td>ANNEX FREDERICK &amp; SHIRLEY STS, P.O. BOX N-4805...</td>\n",
       "      <td>NaN</td>\n",
       "      <td>Bahamas</td>\n",
       "      <td>BHS</td>\n",
       "      <td>Bahamas Leaks</td>\n",
       "      <td>The Bahamas Leaks data is current through earl...</td>\n",
       "      <td>NaN</td>\n",
       "    </tr>\n",
       "    <tr>\n",
       "      <th>1</th>\n",
       "      <td>24000002</td>\n",
       "      <td>SUITE E-2,UNION COURT BUILDING, P.O. BOX N-818...</td>\n",
       "      <td>NaN</td>\n",
       "      <td>Bahamas</td>\n",
       "      <td>BHS</td>\n",
       "      <td>Bahamas Leaks</td>\n",
       "      <td>The Bahamas Leaks data is current through earl...</td>\n",
       "      <td>NaN</td>\n",
       "    </tr>\n",
       "    <tr>\n",
       "      <th>2</th>\n",
       "      <td>24000003</td>\n",
       "      <td>LYFORD CAY HOUSE, LYFORD CAY, P.O. BOX N-7785,...</td>\n",
       "      <td>NaN</td>\n",
       "      <td>Bahamas</td>\n",
       "      <td>BHS</td>\n",
       "      <td>Bahamas Leaks</td>\n",
       "      <td>The Bahamas Leaks data is current through earl...</td>\n",
       "      <td>NaN</td>\n",
       "    </tr>\n",
       "  </tbody>\n",
       "</table>\n",
       "</div>"
      ],
      "text/plain": [
       "    node_id                                            address name countries  \\\n",
       "0  24000001  ANNEX FREDERICK & SHIRLEY STS, P.O. BOX N-4805...  NaN   Bahamas   \n",
       "1  24000002  SUITE E-2,UNION COURT BUILDING, P.O. BOX N-818...  NaN   Bahamas   \n",
       "2  24000003  LYFORD CAY HOUSE, LYFORD CAY, P.O. BOX N-7785,...  NaN   Bahamas   \n",
       "\n",
       "  country_codes       sourceID  \\\n",
       "0           BHS  Bahamas Leaks   \n",
       "1           BHS  Bahamas Leaks   \n",
       "2           BHS  Bahamas Leaks   \n",
       "\n",
       "                                         valid_until note  \n",
       "0  The Bahamas Leaks data is current through earl...  NaN  \n",
       "1  The Bahamas Leaks data is current through earl...  NaN  \n",
       "2  The Bahamas Leaks data is current through earl...  NaN  "
      ]
     },
     "execution_count": 32,
     "metadata": {},
     "output_type": "execute_result"
    }
   ],
   "source": [
    "addresses  = pd.read_csv(base_path + \"nodes-addresses.csv\")\n",
    "addresses.head(3)"
   ]
  },
  {
   "cell_type": "code",
   "execution_count": 33,
   "id": "68a23864",
   "metadata": {},
   "outputs": [
    {
     "name": "stdout",
     "output_type": "stream",
     "text": [
      "402246\n"
     ]
    }
   ],
   "source": [
    "print(len(addresses))"
   ]
  },
  {
   "cell_type": "markdown",
   "id": "e681166f",
   "metadata": {},
   "source": [
    "#### Others "
   ]
  },
  {
   "cell_type": "markdown",
   "id": "4f5f5df9",
   "metadata": {},
   "source": [
    "Others are additional registry data (e.g., Paradise Papers)."
   ]
  },
  {
   "cell_type": "code",
   "execution_count": 34,
   "id": "e6d6716a",
   "metadata": {},
   "outputs": [
    {
     "data": {
      "text/html": [
       "<div>\n",
       "<style scoped>\n",
       "    .dataframe tbody tr th:only-of-type {\n",
       "        vertical-align: middle;\n",
       "    }\n",
       "\n",
       "    .dataframe tbody tr th {\n",
       "        vertical-align: top;\n",
       "    }\n",
       "\n",
       "    .dataframe thead th {\n",
       "        text-align: right;\n",
       "    }\n",
       "</style>\n",
       "<table border=\"1\" class=\"dataframe\">\n",
       "  <thead>\n",
       "    <tr style=\"text-align: right;\">\n",
       "      <th></th>\n",
       "      <th>node_id</th>\n",
       "      <th>name</th>\n",
       "      <th>type</th>\n",
       "      <th>incorporation_date</th>\n",
       "      <th>struck_off_date</th>\n",
       "      <th>closed_date</th>\n",
       "      <th>jurisdiction</th>\n",
       "      <th>jurisdiction_description</th>\n",
       "      <th>countries</th>\n",
       "      <th>country_codes</th>\n",
       "      <th>sourceID</th>\n",
       "      <th>valid_until</th>\n",
       "      <th>note</th>\n",
       "    </tr>\n",
       "  </thead>\n",
       "  <tbody>\n",
       "    <tr>\n",
       "      <th>0</th>\n",
       "      <td>85004929</td>\n",
       "      <td>ANTAM ENTERPRISES N.V.</td>\n",
       "      <td>LIMITED LIABILITY COMPANY</td>\n",
       "      <td>18-MAY-1983</td>\n",
       "      <td>NaN</td>\n",
       "      <td>28-NOV-2012</td>\n",
       "      <td>AW</td>\n",
       "      <td>Aruba</td>\n",
       "      <td>NaN</td>\n",
       "      <td>NaN</td>\n",
       "      <td>Paradise Papers - Aruba corporate registry</td>\n",
       "      <td>Aruba corporate registry data is current throu...</td>\n",
       "      <td>Closed date stands for Cancelled date.</td>\n",
       "    </tr>\n",
       "    <tr>\n",
       "      <th>1</th>\n",
       "      <td>85008443</td>\n",
       "      <td>DEVIATION N.V.</td>\n",
       "      <td>LIMITED LIABILITY COMPANY</td>\n",
       "      <td>28-JUN-1989</td>\n",
       "      <td>31-DEC-2002</td>\n",
       "      <td>NaN</td>\n",
       "      <td>AW</td>\n",
       "      <td>Aruba</td>\n",
       "      <td>NaN</td>\n",
       "      <td>NaN</td>\n",
       "      <td>Paradise Papers - Aruba corporate registry</td>\n",
       "      <td>Aruba corporate registry data is current throu...</td>\n",
       "      <td>NaN</td>\n",
       "    </tr>\n",
       "    <tr>\n",
       "      <th>2</th>\n",
       "      <td>85008517</td>\n",
       "      <td>ARIAZI N.V.</td>\n",
       "      <td>LIMITED LIABILITY COMPANY</td>\n",
       "      <td>19-JUL-1989</td>\n",
       "      <td>NaN</td>\n",
       "      <td>19-MAY-2004</td>\n",
       "      <td>AW</td>\n",
       "      <td>Aruba</td>\n",
       "      <td>NaN</td>\n",
       "      <td>NaN</td>\n",
       "      <td>Paradise Papers - Aruba corporate registry</td>\n",
       "      <td>Aruba corporate registry data is current throu...</td>\n",
       "      <td>Closed date stands for Cancelled date.</td>\n",
       "    </tr>\n",
       "  </tbody>\n",
       "</table>\n",
       "</div>"
      ],
      "text/plain": [
       "    node_id                    name                       type  \\\n",
       "0  85004929  ANTAM ENTERPRISES N.V.  LIMITED LIABILITY COMPANY   \n",
       "1  85008443          DEVIATION N.V.  LIMITED LIABILITY COMPANY   \n",
       "2  85008517             ARIAZI N.V.  LIMITED LIABILITY COMPANY   \n",
       "\n",
       "  incorporation_date struck_off_date  closed_date jurisdiction  \\\n",
       "0        18-MAY-1983             NaN  28-NOV-2012           AW   \n",
       "1        28-JUN-1989     31-DEC-2002          NaN           AW   \n",
       "2        19-JUL-1989             NaN  19-MAY-2004           AW   \n",
       "\n",
       "  jurisdiction_description countries country_codes  \\\n",
       "0                    Aruba       NaN           NaN   \n",
       "1                    Aruba       NaN           NaN   \n",
       "2                    Aruba       NaN           NaN   \n",
       "\n",
       "                                     sourceID  \\\n",
       "0  Paradise Papers - Aruba corporate registry   \n",
       "1  Paradise Papers - Aruba corporate registry   \n",
       "2  Paradise Papers - Aruba corporate registry   \n",
       "\n",
       "                                         valid_until  \\\n",
       "0  Aruba corporate registry data is current throu...   \n",
       "1  Aruba corporate registry data is current throu...   \n",
       "2  Aruba corporate registry data is current throu...   \n",
       "\n",
       "                                     note  \n",
       "0  Closed date stands for Cancelled date.  \n",
       "1                                     NaN  \n",
       "2  Closed date stands for Cancelled date.  "
      ]
     },
     "execution_count": 34,
     "metadata": {},
     "output_type": "execute_result"
    }
   ],
   "source": [
    "others  = pd.read_csv(base_path + \"nodes-others.csv\")\n",
    "others.head(3)\n"
   ]
  },
  {
   "cell_type": "code",
   "execution_count": 35,
   "id": "e2500944",
   "metadata": {},
   "outputs": [
    {
     "name": "stdout",
     "output_type": "stream",
     "text": [
      "2989\n"
     ]
    }
   ],
   "source": [
    "print(len(others))"
   ]
  },
  {
   "cell_type": "markdown",
   "id": "bcfbfd47",
   "metadata": {},
   "source": [
    "#### Relationships"
   ]
  },
  {
   "cell_type": "code",
   "execution_count": 36,
   "id": "e4414eb7",
   "metadata": {},
   "outputs": [
    {
     "name": "stderr",
     "output_type": "stream",
     "text": [
      "C:\\Users\\Ashahi\\AppData\\Local\\Temp\\ipykernel_3288\\45963469.py:1: DtypeWarning: Columns (4,5,6,7) have mixed types. Specify dtype option on import or set low_memory=False.\n",
      "  relationships  = pd.read_csv(base_path + \"relationships.csv\")\n"
     ]
    }
   ],
   "source": [
    "relationships  = pd.read_csv(base_path + \"relationships.csv\")"
   ]
  },
  {
   "cell_type": "code",
   "execution_count": 37,
   "id": "d34cbf84",
   "metadata": {},
   "outputs": [
    {
     "name": "stdout",
     "output_type": "stream",
     "text": [
      "3339267\n"
     ]
    }
   ],
   "source": [
    "print(len(relationships))"
   ]
  },
  {
   "cell_type": "code",
   "execution_count": 38,
   "id": "4e9ded17",
   "metadata": {},
   "outputs": [
    {
     "data": {
      "text/html": [
       "<div>\n",
       "<style scoped>\n",
       "    .dataframe tbody tr th:only-of-type {\n",
       "        vertical-align: middle;\n",
       "    }\n",
       "\n",
       "    .dataframe tbody tr th {\n",
       "        vertical-align: top;\n",
       "    }\n",
       "\n",
       "    .dataframe thead th {\n",
       "        text-align: right;\n",
       "    }\n",
       "</style>\n",
       "<table border=\"1\" class=\"dataframe\">\n",
       "  <thead>\n",
       "    <tr style=\"text-align: right;\">\n",
       "      <th></th>\n",
       "      <th>Relation type</th>\n",
       "      <th>Count</th>\n",
       "    </tr>\n",
       "  </thead>\n",
       "  <tbody>\n",
       "    <tr>\n",
       "      <th>0</th>\n",
       "      <td>officer_of</td>\n",
       "      <td>1720357</td>\n",
       "    </tr>\n",
       "    <tr>\n",
       "      <th>1</th>\n",
       "      <td>registered_address</td>\n",
       "      <td>832721</td>\n",
       "    </tr>\n",
       "    <tr>\n",
       "      <th>2</th>\n",
       "      <td>intermediary_of</td>\n",
       "      <td>598546</td>\n",
       "    </tr>\n",
       "    <tr>\n",
       "      <th>3</th>\n",
       "      <td>same_name_as</td>\n",
       "      <td>104170</td>\n",
       "    </tr>\n",
       "    <tr>\n",
       "      <th>4</th>\n",
       "      <td>similar</td>\n",
       "      <td>46761</td>\n",
       "    </tr>\n",
       "    <tr>\n",
       "      <th>5</th>\n",
       "      <td>same_company_as</td>\n",
       "      <td>15523</td>\n",
       "    </tr>\n",
       "    <tr>\n",
       "      <th>6</th>\n",
       "      <td>connected_to</td>\n",
       "      <td>12145</td>\n",
       "    </tr>\n",
       "    <tr>\n",
       "      <th>7</th>\n",
       "      <td>same_as</td>\n",
       "      <td>4272</td>\n",
       "    </tr>\n",
       "    <tr>\n",
       "      <th>8</th>\n",
       "      <td>same_id_as</td>\n",
       "      <td>3120</td>\n",
       "    </tr>\n",
       "    <tr>\n",
       "      <th>9</th>\n",
       "      <td>underlying</td>\n",
       "      <td>1308</td>\n",
       "    </tr>\n",
       "  </tbody>\n",
       "</table>\n",
       "</div>"
      ],
      "text/plain": [
       "        Relation type    Count\n",
       "0          officer_of  1720357\n",
       "1  registered_address   832721\n",
       "2     intermediary_of   598546\n",
       "3        same_name_as   104170\n",
       "4             similar    46761\n",
       "5     same_company_as    15523\n",
       "6        connected_to    12145\n",
       "7             same_as     4272\n",
       "8          same_id_as     3120\n",
       "9          underlying     1308"
      ]
     },
     "metadata": {},
     "output_type": "display_data"
    }
   ],
   "source": [
    "rel_types = relationships[\"rel_type\"].value_counts().reset_index()\n",
    "rel_types.columns = [\"Relation type\", \"Count\"]\n",
    "display(rel_types.head(10))"
   ]
  },
  {
   "cell_type": "markdown",
   "id": "b217cff9",
   "metadata": {},
   "source": [
    "The most common relationship types include:\n",
    "\n",
    "- officer_of connects a person to a company  \n",
    "- registered_address links an entity to an address  \n",
    "- intermediary_of links a service provider to an offshore company"
   ]
  },
  {
   "cell_type": "markdown",
   "id": "9fdec609",
   "metadata": {},
   "source": [
    "## NEXT STEPS"
   ]
  },
  {
   "cell_type": "markdown",
   "id": "05cdfb99",
   "metadata": {},
   "source": [
    "### Metagraph"
   ]
  },
  {
   "cell_type": "markdown",
   "id": "42a70d65",
   "metadata": {},
   "source": [
    "The metagraph below summarizes the main node types and relationships in the Panama Papers network."
   ]
  },
  {
   "attachments": {
    "unnamed.png": {
     "image/png": "[encoded data removed]"
    }
   },
   "cell_type": "markdown",
   "id": "80a34a31",
   "metadata": {},
   "source": [
    "![unnamed.png](attachment:unnamed.png)"
   ]
  },
  {
   "cell_type": "markdown",
   "id": "896a4740",
   "metadata": {},
   "source": [
    "### Data Volume & Extraction Strategy"
   ]
  },
  {
   "cell_type": "markdown",
   "id": "6891ed0f",
   "metadata": {},
   "source": [
    "The Panama Papers network contains millions of nodes and relationships, making full-scale analysis impractical.\n",
    "Instead of random sampling, we later will perform targeted extractions around pivotal and highly connected nodes to focus on the most meaningful structural patterns."
   ]
  }
 ],
 "metadata": {
  "kernelspec": {
   "display_name": ".env",
   "language": "python",
   "name": "python3"
  },
  "language_info": {
   "codemirror_mode": {
    "name": "ipython",
    "version": 3
   },
   "file_extension": ".py",
   "mimetype": "text/x-python",
   "name": "python",
   "nbconvert_exporter": "python",
   "pygments_lexer": "ipython3",
   "version": "3.11.0"
  }
 },
 "nbformat": 4,
 "nbformat_minor": 5
}
